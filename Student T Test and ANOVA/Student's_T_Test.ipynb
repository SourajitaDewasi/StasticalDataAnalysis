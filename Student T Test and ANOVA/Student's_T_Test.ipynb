{
  "nbformat": 4,
  "nbformat_minor": 0,
  "metadata": {
    "colab": {
      "name": "191000050_Student's T Test.ipynb",
      "provenance": [],
      "collapsed_sections": []
    },
    "kernelspec": {
      "name": "python3",
      "display_name": "Python 3"
    },
    "language_info": {
      "name": "python"
    }
  },
  "cells": [
    {
      "cell_type": "markdown",
      "metadata": {
        "id": "THoTAPrr7tL0"
      },
      "source": [
        "## T Test\n",
        "Inferential stastic used to determine if there between the means of two groups/distribution.\n",
        "\n",
        "It's of two types: \n",
        "1. One-sampled T-test - The test will tell us whether the means of the sample and the population are different.\n",
        "2. Two-sampled T-test - The test compares the means of two independent groups in order to determine whether their associated population means are different.\n",
        "\n"
      ]
    },
    {
      "cell_type": "markdown",
      "metadata": {
        "id": "JmITrevw9Dqm"
      },
      "source": [
        "**ONE SAMPLED T-TEST**"
      ]
    },
    {
      "cell_type": "code",
      "metadata": {
        "id": "G0neUgT2joDm"
      },
      "source": [
        "from numpy.random import seed\n",
        "from numpy.random import randn\n",
        "#Suppose a society 1 of people with the following ages are listed.\n",
        "seed(1)\n",
        "ages1 = 0.5 * randn(100) + 25"
      ],
      "execution_count": null,
      "outputs": []
    },
    {
      "cell_type": "code",
      "metadata": {
        "colab": {
          "base_uri": "https://localhost:8080/"
        },
        "id": "majEFTlYjzmf",
        "outputId": "9c826b89-4b09-4949-a0f9-72df0f756976"
      },
      "source": [
        "#The size of population:\n",
        "#The number of people in society 1:\n",
        "len(ages1)"
      ],
      "execution_count": null,
      "outputs": [
        {
          "output_type": "execute_result",
          "data": {
            "text/plain": [
              "46"
            ]
          },
          "metadata": {
            "tags": []
          },
          "execution_count": 227
        }
      ]
    },
    {
      "cell_type": "code",
      "metadata": {
        "colab": {
          "base_uri": "https://localhost:8080/"
        },
        "id": "dd0srircApeH",
        "outputId": "6da1d6ca-2d2e-491f-c668-661716f091c9"
      },
      "source": [
        "#Checking if the ages1 population is Gaussian or not\n",
        "from scipy.stats import normaltest\n",
        "stat, p=normaltest(ages1)\n",
        "alpha=0.1\n",
        "if p>alpha:\n",
        "  print(\"Slope is Gaussian\")\n",
        "else:\n",
        "  print(\"Slope is not Gaussian\")"
      ],
      "execution_count": null,
      "outputs": [
        {
          "output_type": "stream",
          "text": [
            "Slope is Gaussian\n"
          ],
          "name": "stdout"
        }
      ]
    },
    {
      "cell_type": "code",
      "metadata": {
        "colab": {
          "base_uri": "https://localhost:8080/"
        },
        "id": "KRauHruRj5ni",
        "outputId": "f0c9c3b2-46c0-4d8d-871c-797c82d989a0"
      },
      "source": [
        "#Finding mean of the ages in society 1. This is also the population mean of society 1\n",
        "import numpy as np\n",
        "ages1_mean=np.mean(ages1)\n",
        "ages1_mean"
      ],
      "execution_count": null,
      "outputs": [
        {
          "output_type": "execute_result",
          "data": {
            "text/plain": [
              "25.030291426037852"
            ]
          },
          "metadata": {
            "tags": []
          },
          "execution_count": 5
        }
      ]
    },
    {
      "cell_type": "code",
      "metadata": {
        "colab": {
          "base_uri": "https://localhost:8080/"
        },
        "id": "OZFgMt0ykMZC",
        "outputId": "600b9b70-af0c-42a4-e12b-c269572ec803"
      },
      "source": [
        "#Considering a sample of the population with n=15 in society 1\n",
        "sample_size=15\n",
        "ages1_sample=np.random.choice(ages1,sample_size)\n",
        "ages1_sample"
      ],
      "execution_count": null,
      "outputs": [
        {
          "output_type": "execute_result",
          "data": {
            "text/plain": [
              "array([24.57739718, 24.73591412, 25.09914986, 25.20502582, 25.06007948,\n",
              "       24.89555288, 24.65641365, 24.86605596, 25.2933116 , 25.0932807 ,\n",
              "       24.80162324, 24.86605596, 25.21174718, 25.15781747, 25.15951955])"
            ]
          },
          "metadata": {
            "tags": []
          },
          "execution_count": 6
        }
      ]
    },
    {
      "cell_type": "code",
      "metadata": {
        "id": "44IbN8RrlLV0"
      },
      "source": [
        "from scipy.stats import ttest_1samp\n",
        "#Null Hypothesis: The sample mean of ages in society 1 is equal to population mean in society 1\n",
        "#Alternate Hypothesis: The sample mean of ages is different from population mean of ages"
      ],
      "execution_count": null,
      "outputs": []
    },
    {
      "cell_type": "code",
      "metadata": {
        "colab": {
          "base_uri": "https://localhost:8080/"
        },
        "id": "oVYl_Hu8lYs-",
        "outputId": "f2fe4943-9b88-430a-d394-e26d4ea3871e"
      },
      "source": [
        "#We are comparing the sample of ages1 with the mean of population of ages1\n",
        "ttest_1samp,p_value=ttest_1samp(ages1_sample, ages1_mean)\n",
        "print(p_value)"
      ],
      "execution_count": null,
      "outputs": [
        {
          "output_type": "stream",
          "text": [
            "0.3827441716604686\n"
          ],
          "name": "stdout"
        }
      ]
    },
    {
      "cell_type": "markdown",
      "metadata": {
        "id": "gSsLysL4qw2j"
      },
      "source": [
        "If the resulting p-value is less than alpha, then the difference between both observations is statistically significant, and the null hypothesis is rejected.\n",
        "\n"
      ]
    },
    {
      "cell_type": "markdown",
      "metadata": {
        "id": "tOZl8H9HpryD"
      },
      "source": [
        "The level of significance or alpha is the probability of incorrectly concluding that the null hypothesis is false. The significance value used in a one-tailed test is either 1%, 5% or 10% usually. We are considering all these cases."
      ]
    },
    {
      "cell_type": "code",
      "metadata": {
        "colab": {
          "base_uri": "https://localhost:8080/"
        },
        "id": "LGafNjaPmLjq",
        "outputId": "d70cfb5d-458a-4d83-8573-692196a7c537"
      },
      "source": [
        "# Interpretating with alpha=0.05. Case 1: n=15 and alpha=0.05\n",
        "alpha = 0.05\n",
        "if p_value < alpha:    # alpha value is 0.05 or 5%\n",
        "    print(\"We are rejecting null hypothesis. Reject H0\")\n",
        "else:\n",
        "    print(\"We are accepting null hypothesis. Accept H0\")"
      ],
      "execution_count": null,
      "outputs": [
        {
          "output_type": "stream",
          "text": [
            "We are accepting null hypothesis. Accept H0\n"
          ],
          "name": "stdout"
        }
      ]
    },
    {
      "cell_type": "markdown",
      "metadata": {
        "id": "lGEVjSqFqfCL"
      },
      "source": [
        "When alpha-value = 0.05, or 5%, we can be 95% confident that the population mean is equal to the sample mean. We will therefore accept H0 and support the claim that the sample mean is equal to poulation mean. The p-value is 0.38 while alpha value is 0.05."
      ]
    },
    {
      "cell_type": "code",
      "metadata": {
        "colab": {
          "base_uri": "https://localhost:8080/"
        },
        "id": "kY8FTjPTm8aa",
        "outputId": "cb51f596-8e7e-4a6a-b47f-04501d2bcef8"
      },
      "source": [
        "# Interpretating with alpha=0.01. Case 2: n=15 and alpha=0.01 \n",
        "alpha = 0.01\n",
        "if p_value < alpha:    # alpha value is 0.01 or 1%\n",
        "    print(\"We are rejecting null hypothesis. Reject H0\")\n",
        "else:\n",
        "    print(\"We are accepting null hypothesis. Accept H0\")"
      ],
      "execution_count": null,
      "outputs": [
        {
          "output_type": "stream",
          "text": [
            "We are accepting null hypothesis. Accept H0\n"
          ],
          "name": "stdout"
        }
      ]
    },
    {
      "cell_type": "markdown",
      "metadata": {
        "id": "jTugo1Ourz9U"
      },
      "source": [
        "When alpha-value = 0.01, or 1%, we can be 99% confident that the population mean is equal to the sample mean. We will therefore accept H0 and support the claim that the sample mean is equal to poulation mean. There is still 1% chance that our claim is false. And H1 that is the sample mean is not actually equal to population mean but that chance is really low. This is actually the slim tail part which has 0.005 on both sides of the graph since this is a doubled-tail T test. The p-value is 0.38 while alpha value is 0.01."
      ]
    },
    {
      "cell_type": "code",
      "metadata": {
        "colab": {
          "base_uri": "https://localhost:8080/"
        },
        "id": "9kOo0Q7CnAaa",
        "outputId": "34fce8f2-1c7d-4712-aa5e-68a532d4d50e"
      },
      "source": [
        "# Interpretating with alpha=0.1. Case 3: n=15 and alpha=0.1\n",
        "alpha = 0.10\n",
        "if p_value < alpha:    # alpha value is 0.10 or 10%\n",
        "    print(\"We are rejecting null hypothesis. Reject H0\")\n",
        "else:\n",
        "    print(\"We are accepting null hypothesis. Accept H0\")"
      ],
      "execution_count": null,
      "outputs": [
        {
          "output_type": "stream",
          "text": [
            "We are accepting null hypothesis. Accept H0\n"
          ],
          "name": "stdout"
        }
      ]
    },
    {
      "cell_type": "markdown",
      "metadata": {
        "id": "mASQ57r1r7AQ"
      },
      "source": [
        "When alpha-value = 0.1, or 10%, we can be 90% sure that the population mean is equal to the sample mean. We will therefore accept H0 and support the claim that the sample mean is equal to poulation mean. The p-value is 0.38 while alpha value is 0.1."
      ]
    },
    {
      "cell_type": "code",
      "metadata": {
        "colab": {
          "base_uri": "https://localhost:8080/"
        },
        "id": "lv0pCNRHzpLa",
        "outputId": "de4afb81-e7fa-44c4-a9d5-ff1505c62054"
      },
      "source": [
        "#Considering a sample of the population with n=35 in society 1\n",
        "sample_size=35\n",
        "ages1_sample=np.random.choice(ages1,sample_size)\n",
        "ages1_sample"
      ],
      "execution_count": null,
      "outputs": [
        {
          "output_type": "execute_result",
          "data": {
            "text/plain": [
              "array([25.34901602, 24.65641365, 25.15951955, 25.09914986, 25.41398732,\n",
              "       25.15008516, 25.38100559, 24.55618552, 25.24425907, 25.20502582,\n",
              "       25.45042797, 24.44969041, 25.02540388, 24.45005437, 24.65416962,\n",
              "       25.09257821, 25.56688472, 25.29140761, 24.93855489, 24.66466886,\n",
              "       24.61939655, 25.34901602, 24.82532864, 26.05012757, 24.62280103,\n",
              "       24.66437693, 24.65641365, 25.29140761, 25.75990841, 25.45042797,\n",
              "       25.20502582, 25.21174718, 25.82990109, 26.05012757, 23.84923065])"
            ]
          },
          "metadata": {
            "tags": []
          },
          "execution_count": 13
        }
      ]
    },
    {
      "cell_type": "code",
      "metadata": {
        "colab": {
          "base_uri": "https://localhost:8080/"
        },
        "id": "mg0wIdD8z4hK",
        "outputId": "ac038d72-761e-4311-a6b5-c55a662208c0"
      },
      "source": [
        "from scipy.stats import ttest_1samp\n",
        "#Null Hypothesis: The sample mean of ages in society 1 is equal to population mean in society 1\n",
        "#Alternate Hypothesis: The sample mean of ages is different from population mean of ages\n",
        "\n",
        "#We are comparing the sample of ages1 with the mean of population of ages1.\n",
        "#Instead of taking the given population mean, let's have a variation and take an assumed population mean ages2_mean=45.\n",
        "ages2_mean=45\n",
        "ttest_1samp,p_value=ttest_1samp(ages1_sample, ages2_mean)\n",
        "print(p_value)"
      ],
      "execution_count": null,
      "outputs": [
        {
          "output_type": "stream",
          "text": [
            "9.688161152711421e-57\n"
          ],
          "name": "stdout"
        }
      ]
    },
    {
      "cell_type": "markdown",
      "metadata": {
        "id": "4GkpWmIa0bLg"
      },
      "source": [
        "If the resulting p-value is less than 5%, then the difference between both observations is statistically significant, and the null hypothesis is rejected. "
      ]
    },
    {
      "cell_type": "markdown",
      "metadata": {
        "id": "V4HVb14j0k3u"
      },
      "source": [
        "The level of significance or alpha is the probability of incorrectly concluding that the null hypothesis is false. The significance value used in a one-tailed test is either 1%, 5% or 10% usually. We are considering all these cases."
      ]
    },
    {
      "cell_type": "code",
      "metadata": {
        "colab": {
          "base_uri": "https://localhost:8080/"
        },
        "id": "hJpoukc70kjS",
        "outputId": "21f32f91-a10b-4bcd-d72f-f4affcb2f8fc"
      },
      "source": [
        "# Interpretating with alpha=0.05. Case 4: n=35 and alpha=0.05.\n",
        "# We here took a different assumed mean and not the actual population mean to study the variation.\n",
        "alpha = 0.05\n",
        "if p_value < alpha:    # alpha value is 0.05 or 5%\n",
        "    print(\"We are rejecting null hypothesis. Reject H0\")\n",
        "else:\n",
        "    print(\"We are accepting null hypothesis. Accept H0\")"
      ],
      "execution_count": null,
      "outputs": [
        {
          "output_type": "stream",
          "text": [
            "We are rejecting null hypothesis. Reject H0\n"
          ],
          "name": "stdout"
        }
      ]
    },
    {
      "cell_type": "markdown",
      "metadata": {
        "id": "Kj_b0EI71_fH"
      },
      "source": [
        "When alpha-value = 0.05, or 5%, we can be 95% confident that the population mean is not equal to the sample mean. We will therefore reject H0 and support the claim that the sample mean is not equal to the assumed poulation mean. "
      ]
    },
    {
      "cell_type": "code",
      "metadata": {
        "colab": {
          "base_uri": "https://localhost:8080/"
        },
        "id": "saDQvPQW0aTZ",
        "outputId": "5f4d56c2-a343-4fce-df99-a03fca511586"
      },
      "source": [
        "# Interpretating with alpha=0.01. Case 6: n=35 and alpha=0.01.\n",
        "# We here took a different assumed mean and not the actual population mean to study the variation.\n",
        "alpha = 0.01\n",
        "if p_value < alpha:    # alpha value is 0.01 or 1%\n",
        "    print(\"We are rejecting null hypothesis. Reject H0\")\n",
        "else:\n",
        "    print(\"We are accepting null hypothesis. Accept H0\") "
      ],
      "execution_count": null,
      "outputs": [
        {
          "output_type": "stream",
          "text": [
            "We are rejecting null hypothesis. Reject H0\n"
          ],
          "name": "stdout"
        }
      ]
    },
    {
      "cell_type": "markdown",
      "metadata": {
        "id": "naQps8iu2G42"
      },
      "source": [
        "When alpha-value = 0.01, or 1%, we can be 99% confident that the population mean is not equal to the sample mean. We will therefore reject H0 and support the claim that the sample mean is not equal to the assumed poulation mean. "
      ]
    },
    {
      "cell_type": "code",
      "metadata": {
        "colab": {
          "base_uri": "https://localhost:8080/"
        },
        "id": "n7wXzUKh0_3s",
        "outputId": "a4d3aa1f-9f1a-4f85-8d55-dfbbb5308f8e"
      },
      "source": [
        "# Interpretating with alpha=0.10. Case 5: n=35 and alpha=0.1.\n",
        "# We here took a different assumed mean and not the actual population mean to study the variation.\n",
        "alpha = 0.10\n",
        "if p_value < alpha:    # alpha value is 0.10 or 10%\n",
        "    print(\"We are rejecting null hypothesis. Reject H0\")\n",
        "else:\n",
        "    print(\"We are accepting null hypothesis. Accept H0\") "
      ],
      "execution_count": null,
      "outputs": [
        {
          "output_type": "stream",
          "text": [
            "We are rejecting null hypothesis. Reject H0\n"
          ],
          "name": "stdout"
        }
      ]
    },
    {
      "cell_type": "markdown",
      "metadata": {
        "id": "8mWfE8kE2KGr"
      },
      "source": [
        "When alpha-value = 0.1, or 10%, we can be 90% confident that the population mean is not equal to the sample mean. We will therefore reject H0 and support the claim that the sample mean is not equal to the assumed poulation mean. "
      ]
    },
    {
      "cell_type": "markdown",
      "metadata": {
        "id": "Mdf1A1XVj5CR"
      },
      "source": [
        "**TWO SAMPLED T-TEST**"
      ]
    },
    {
      "cell_type": "code",
      "metadata": {
        "id": "ybViTKa388hr"
      },
      "source": [
        "#Suppose two societies of people with the following ages listed."
      ],
      "execution_count": null,
      "outputs": []
    },
    {
      "cell_type": "code",
      "metadata": {
        "id": "y2-FteQi7suG"
      },
      "source": [
        "from numpy.random import seed\n",
        "from numpy.random import randn"
      ],
      "execution_count": null,
      "outputs": []
    },
    {
      "cell_type": "code",
      "metadata": {
        "id": "fTihM-p4_QKS"
      },
      "source": [
        "#seed the random number generator\n",
        "seed(1)\n",
        "# generate two independent samples\n",
        "ages1 = 0.5 * randn(100) + 25\n",
        "ages2 = 0.5 * randn(90) + 28"
      ],
      "execution_count": null,
      "outputs": []
    },
    {
      "cell_type": "code",
      "metadata": {
        "colab": {
          "base_uri": "https://localhost:8080/"
        },
        "id": "319fy7pA4L4t",
        "outputId": "b3f99066-6a41-4b1c-b882-b29b3533d153"
      },
      "source": [
        "#The number of people in society1:\n",
        "len(ages1)"
      ],
      "execution_count": null,
      "outputs": [
        {
          "output_type": "execute_result",
          "data": {
            "text/plain": [
              "100"
            ]
          },
          "metadata": {
            "tags": []
          },
          "execution_count": 22
        }
      ]
    },
    {
      "cell_type": "code",
      "metadata": {
        "id": "84-MOkwJ_g3s",
        "colab": {
          "base_uri": "https://localhost:8080/"
        },
        "outputId": "92767b0e-d876-465a-c104-e11dfac480c4"
      },
      "source": [
        "#The number of people in society2:\n",
        "len(ages2)"
      ],
      "execution_count": null,
      "outputs": [
        {
          "output_type": "execute_result",
          "data": {
            "text/plain": [
              "90"
            ]
          },
          "metadata": {
            "tags": []
          },
          "execution_count": 26
        }
      ]
    },
    {
      "cell_type": "code",
      "metadata": {
        "id": "4OQfWvAF9Mel",
        "colab": {
          "base_uri": "https://localhost:8080/"
        },
        "outputId": "be8af881-2c7b-4c88-d3ed-37e52eea02b6"
      },
      "source": [
        "#Finding mean of the ages in society 1:\n",
        "import numpy as np\n",
        "ages1_mean=np.mean(ages1)\n",
        "ages1_mean"
      ],
      "execution_count": null,
      "outputs": [
        {
          "output_type": "execute_result",
          "data": {
            "text/plain": [
              "25.030291426037852"
            ]
          },
          "metadata": {
            "tags": []
          },
          "execution_count": 27
        }
      ]
    },
    {
      "cell_type": "code",
      "metadata": {
        "id": "ciyPC9kQ_9aq",
        "colab": {
          "base_uri": "https://localhost:8080/"
        },
        "outputId": "c6ffed25-9b22-414e-8e91-3c6c49c157be"
      },
      "source": [
        "#Finding mean of the ages in society 2:\n",
        "ages2_mean=np.mean(ages2)\n",
        "ages2_mean"
      ],
      "execution_count": null,
      "outputs": [
        {
          "output_type": "execute_result",
          "data": {
            "text/plain": [
              "28.04902402423229"
            ]
          },
          "metadata": {
            "tags": []
          },
          "execution_count": 28
        }
      ]
    },
    {
      "cell_type": "code",
      "metadata": {
        "colab": {
          "base_uri": "https://localhost:8080/"
        },
        "id": "dsnJxyjgnV20",
        "outputId": "050e071a-4dac-4a71-e91c-8d7aa04e092a"
      },
      "source": [
        "#Considering a sample of the population with n=15 in society 1\n",
        "sample_size=15\n",
        "ages1_sample=np.random.choice(ages1,sample_size)\n",
        "ages1_sample"
      ],
      "execution_count": null,
      "outputs": [
        {
          "output_type": "execute_result",
          "data": {
            "text/plain": [
              "array([24.44134483, 25.09545774, 24.88883593, 24.53211528, 25.08001853,\n",
              "       24.86605596, 24.73591412, 25.34901602, 24.80797282, 24.55618552,\n",
              "       24.44134483, 24.90408222, 25.02110687, 25.02179843, 25.82990109])"
            ]
          },
          "metadata": {
            "tags": []
          },
          "execution_count": 29
        }
      ]
    },
    {
      "cell_type": "code",
      "metadata": {
        "colab": {
          "base_uri": "https://localhost:8080/"
        },
        "id": "VSyZJBMAngMW",
        "outputId": "0168ff3a-f375-41c1-a373-484d791a4132"
      },
      "source": [
        "ages2_sample=np.random.choice(ages2,sample_size)\n",
        "ages2_sample"
      ],
      "execution_count": null,
      "outputs": [
        {
          "output_type": "execute_result",
          "data": {
            "text/plain": [
              "array([27.85167942, 28.03891056, 27.96344365, 28.20174582, 27.40036598,\n",
              "       28.34003492, 27.88684288, 28.0087047 , 28.43444308, 28.81382538,\n",
              "       27.61241919, 28.0087047 , 27.98065225, 27.42782931, 28.1575797 ])"
            ]
          },
          "metadata": {
            "tags": []
          },
          "execution_count": 30
        }
      ]
    },
    {
      "cell_type": "code",
      "metadata": {
        "colab": {
          "base_uri": "https://localhost:8080/"
        },
        "id": "x_rH64TfIqHI",
        "outputId": "73939f54-585e-4ba4-b096-c574f37fd559"
      },
      "source": [
        "# summarize to conclude they are from different populations\n",
        "print('Ages of society 1: mean=%.3f stdv=%.3f' % (np.mean(ages1), np.std(ages1)))\n",
        "print('Ages of society 2: mean=%.3f stdv=%.3f' % (np.mean(ages2), np.std(ages2)))"
      ],
      "execution_count": null,
      "outputs": [
        {
          "output_type": "stream",
          "text": [
            "Ages of society 1: mean=25.030 stdv=0.443\n",
            "Ages of society 2: mean=28.049 stdv=0.461\n"
          ],
          "name": "stdout"
        }
      ]
    },
    {
      "cell_type": "code",
      "metadata": {
        "id": "lOZbXVPHAV9P"
      },
      "source": [
        "from scipy.stats import ttest_ind\n",
        "#Null Hypothesis or H0: The population mean of ages in society 1 is equal to population mean of ages in society 2\n",
        "#Alternate Hypothesis or H1: The population mean of ages in both the societies are different"
      ],
      "execution_count": null,
      "outputs": []
    },
    {
      "cell_type": "code",
      "metadata": {
        "id": "JrI-vki8BA5b",
        "colab": {
          "base_uri": "https://localhost:8080/"
        },
        "outputId": "44054837-6024-457c-fae3-a23f37d96d26"
      },
      "source": [
        "stat, p = ttest_ind(ages1_sample, ages2_sample)\n",
        "print('Statistics=%.2f, p=%.2f' % (stat, p))"
      ],
      "execution_count": null,
      "outputs": [
        {
          "output_type": "stream",
          "text": [
            "Statistics=-23.12, p=0.00\n"
          ],
          "name": "stdout"
        }
      ]
    },
    {
      "cell_type": "markdown",
      "metadata": {
        "id": "YsPUu_jyCgkZ"
      },
      "source": [
        "If the resulting p-value is less than alpha, then the difference between both observations is statistically significant, and the null hypothesis is rejected."
      ]
    },
    {
      "cell_type": "code",
      "metadata": {
        "id": "TdKkTsytCctU",
        "colab": {
          "base_uri": "https://localhost:8080/"
        },
        "outputId": "e6421d95-05b6-4714-8b36-a72d6b51ad27"
      },
      "source": [
        "# Interpretating with alpha=0.05. Case 1: alpha=0.05, n=15\n",
        "alpha = 0.05\n",
        "if p < alpha:    # alpha value is 0.05 or 5%\n",
        "    print(\"We are rejecting null hypothesis. Reject H0. It means there is a significant difference between the means of the two population.\")\n",
        "else:\n",
        "    print(\"We are accepting null hypothesis. Accept H0\")"
      ],
      "execution_count": null,
      "outputs": [
        {
          "output_type": "stream",
          "text": [
            "We are rejecting null hypothesis. Reject H0. It means there is a significant difference between the means of the two population.\n"
          ],
          "name": "stdout"
        }
      ]
    },
    {
      "cell_type": "markdown",
      "metadata": {
        "id": "k6tTQOPpClV5"
      },
      "source": [
        "When alpha-value = 0.05, or 5%, we can be 95% confident that the sample mean of society 1 is not equal to the sample mean of society 2. We will therefore reject H0 and support the claim that the both the sample means are from significantly different populations. Here p=0.0 while alpha=0.05"
      ]
    },
    {
      "cell_type": "code",
      "metadata": {
        "id": "BLEYB9loDVbT",
        "colab": {
          "base_uri": "https://localhost:8080/"
        },
        "outputId": "8eefa913-4e4f-453f-d67d-1efb459fbcb3"
      },
      "source": [
        "# Interpretating with alpha=0.01. Case 2: alpha=0.01, n=15\n",
        "alpha = 0.01\n",
        "if p < alpha:    # alpha value is 0.01 or 1%\n",
        "    print(\"We are rejecting null hypothesis. Reject H0. It means there is a significant difference between the means of the two population.\")\n",
        "else:\n",
        "    print(\"We are accepting null hypothesis. Accept H0\")"
      ],
      "execution_count": null,
      "outputs": [
        {
          "output_type": "stream",
          "text": [
            "We are rejecting null hypothesis. Reject H0. It means there is a significant difference between the means of the two population.\n"
          ],
          "name": "stdout"
        }
      ]
    },
    {
      "cell_type": "markdown",
      "metadata": {
        "id": "NpmVDIlpDz-f"
      },
      "source": [
        "When alpha-value = 0.01, or 1% , we can be 99% confident that the population mean of society 1 is not equal to the population mean of society 2. We will therefore reject H0 and support the claim that the both the sample means are not from significantly different populations. Here p=0.0 while alpha=0.01. We are accepting H1 or the alternate hypothesis."
      ]
    },
    {
      "cell_type": "code",
      "metadata": {
        "id": "OeP3sDGCDbdb",
        "colab": {
          "base_uri": "https://localhost:8080/"
        },
        "outputId": "c6004a0e-7866-415b-d60f-69ba339ea7cd"
      },
      "source": [
        "# Interpretating with alpha=0.1. Case 3: alpha=0.01, n=15\n",
        "alpha = 0.1\n",
        "if p < alpha:    # alpha value is 0.1 or 10%\n",
        "    print(\"We are rejecting null hypothesis. Reject H0. It means there is a significant difference between the means of the two population.\")\n",
        "else:\n",
        "    print(\"We are accepting null hypothesis. Accept H0. They belong to same population or with there is no significant difference between the means of two population.\")"
      ],
      "execution_count": null,
      "outputs": [
        {
          "output_type": "stream",
          "text": [
            "We are rejecting null hypothesis. Reject H0. It means there is a significant difference between the means of the two population.\n"
          ],
          "name": "stdout"
        }
      ]
    },
    {
      "cell_type": "markdown",
      "metadata": {
        "id": "sE0n92GjEZco"
      },
      "source": [
        "When alpha-value = 0.1, or 10% or more, we can be 90% sure that the population mean of society 1 is not equal to the population mean of society 2. We will therefore accept H1 and support the claim that  they belong to same population or with there is significant difference between the means of two population. Though there is still 10% chance that our rejection of the null hypothesis is wrong.\n",
        "\n",
        "Which was not the situation in this case when we tested the mean of the two population distributions at alpha = 0.01 or 0.05."
      ]
    },
    {
      "cell_type": "code",
      "metadata": {
        "colab": {
          "base_uri": "https://localhost:8080/"
        },
        "id": "afT3RwYtoacf",
        "outputId": "3e819373-7b30-4f2f-e7a9-c62cae53cd63"
      },
      "source": [
        "#Considering a sample of the population with n=35 in society 1\n",
        "sample_size=35\n",
        "ages1_sample=np.random.choice(ages1,sample_size)\n",
        "ages1_sample"
      ],
      "execution_count": null,
      "outputs": [
        {
          "output_type": "execute_result",
          "data": {
            "text/plain": [
              "array([25.45079536, 25.87240588, 24.82807316, 25.56688472, 25.18878189,\n",
              "       23.98889939, 24.9936677 , 24.85095358, 24.65641365, 25.09257821,\n",
              "       25.30860155, 25.81217268, 25.45079536, 25.02179843, 24.2779431 ,\n",
              "       24.44134483, 25.02110687, 24.53211528, 24.86605596, 24.4287409 ,\n",
              "       25.21174718, 25.15008516, 25.09545774, 24.61939655, 25.05950432,\n",
              "       24.9137859 , 25.26517773, 23.96992965, 25.62643408, 25.56688472,\n",
              "       24.65416962, 25.15951955, 24.90408222, 25.06007948, 24.65416962])"
            ]
          },
          "metadata": {
            "tags": []
          },
          "execution_count": 39
        }
      ]
    },
    {
      "cell_type": "code",
      "metadata": {
        "colab": {
          "base_uri": "https://localhost:8080/"
        },
        "id": "pwX_moeFojP_",
        "outputId": "b4472245-3608-447d-a17b-a946677247cd"
      },
      "source": [
        "ages2_sample=np.random.choice(ages2,sample_size)\n",
        "ages2_sample"
      ],
      "execution_count": null,
      "outputs": [
        {
          "output_type": "execute_result",
          "data": {
            "text/plain": [
              "array([28.98355087, 28.49316759, 28.24760566, 28.42308032, 27.19211382,\n",
              "       28.27526875, 27.31344134, 27.40036598, 27.88684288, 28.08469122,\n",
              "       28.15677386, 28.08469122, 28.43444308, 28.28138055, 28.5194123 ,\n",
              "       27.94047291, 27.93177763, 28.34003492, 28.12036855, 28.15677386,\n",
              "       27.31344134, 29.26416285, 28.11624728, 28.20445027, 28.42308032,\n",
              "       28.61808202, 27.85634607, 27.98065225, 27.45254408, 28.14033254,\n",
              "       28.16900585, 27.84494161, 29.09534986, 28.29678926, 28.0087047 ])"
            ]
          },
          "metadata": {
            "tags": []
          },
          "execution_count": 40
        }
      ]
    },
    {
      "cell_type": "code",
      "metadata": {
        "colab": {
          "base_uri": "https://localhost:8080/"
        },
        "id": "vxMT2XwYooRN",
        "outputId": "79d1388d-a779-4e5f-c472-581974ed094a"
      },
      "source": [
        "# summarize to conclude they are from different populations\n",
        "print('Ages of society 1: mean=%.3f stdv=%.3f' % (np.mean(ages1), np.std(ages1)))\n",
        "print('Ages of society 2: mean=%.3f stdv=%.3f' % (np.mean(ages2), np.std(ages2)))"
      ],
      "execution_count": null,
      "outputs": [
        {
          "output_type": "stream",
          "text": [
            "Ages of society 1: mean=25.030 stdv=0.443\n",
            "Ages of society 2: mean=28.049 stdv=0.461\n"
          ],
          "name": "stdout"
        }
      ]
    },
    {
      "cell_type": "code",
      "metadata": {
        "colab": {
          "base_uri": "https://localhost:8080/"
        },
        "id": "8BpzvDeopCFe",
        "outputId": "93788cb8-54d2-4951-b395-e20a78daf64b"
      },
      "source": [
        "from scipy.stats import ttest_ind\n",
        "#Null Hypothesis or H0: The population mean of ages in society 1 is equal to population mean of ages in society 2\n",
        "#Alternate Hypothesis or H1: The population mean of ages in both the societies are different\n",
        "stat, p = ttest_ind(ages1_sample, ages2_sample)\n",
        "print('Statistics=%.2f, p=%.2f' % (stat, p))"
      ],
      "execution_count": null,
      "outputs": [
        {
          "output_type": "stream",
          "text": [
            "Statistics=-28.47, p=0.00\n"
          ],
          "name": "stdout"
        }
      ]
    },
    {
      "cell_type": "code",
      "metadata": {
        "colab": {
          "base_uri": "https://localhost:8080/"
        },
        "id": "PQowgVW4pL0Z",
        "outputId": "d398c540-8142-4320-fefc-54321e1c70b4"
      },
      "source": [
        "# Interpretating with alpha=0.05. Case 4: alpha=0.05 n=35\n",
        "alpha = 0.05\n",
        "if p < alpha:    # alpha value is 0.05 or 5%\n",
        "    print(\"We are rejecting null hypothesis. Reject H0. It means there is a significant difference between the means of the two population.\")\n",
        "else:\n",
        "    print(\"We are accepting null hypothesis. Accept H0\")"
      ],
      "execution_count": null,
      "outputs": [
        {
          "output_type": "stream",
          "text": [
            "We are rejecting null hypothesis. Reject H0. It means there is a significant difference between the means of the two population.\n"
          ],
          "name": "stdout"
        }
      ]
    },
    {
      "cell_type": "markdown",
      "metadata": {
        "id": "D0SKBvsUpQ96"
      },
      "source": [
        "When alpha-value = 0.05, or 5%, we can be 95% confident that the sample mean of society 1 is not equal to the sample mean of society 2. We will therefore reject H0 and support the claim that the both the sample means are from significantly different populations. "
      ]
    },
    {
      "cell_type": "code",
      "metadata": {
        "colab": {
          "base_uri": "https://localhost:8080/"
        },
        "id": "dtHzjpjapjQS",
        "outputId": "35a12c11-5e0d-4406-8a8a-15c49d89dc36"
      },
      "source": [
        "# Interpretating with alpha=0.01. Case 2: alpha=0.01, n=15\n",
        "alpha = 0.01\n",
        "if p < alpha:    # alpha value is 0.01 or 1%\n",
        "    print(\"We are rejecting null hypothesis. Reject H0. It means there is a significant difference between the means of the two population.\")\n",
        "else:\n",
        "    print(\"We are accepting null hypothesis. Accept H0\")"
      ],
      "execution_count": null,
      "outputs": [
        {
          "output_type": "stream",
          "text": [
            "We are rejecting null hypothesis. Reject H0. It means there is a significant difference between the means of the two population.\n"
          ],
          "name": "stdout"
        }
      ]
    },
    {
      "cell_type": "markdown",
      "metadata": {
        "id": "9a_JhsZ7ptXO"
      },
      "source": [
        "When alpha-value = 0.01, or 1%, we can be 99% confident that the sample mean of society 1 is not equal to the sample mean of society 2. We will therefore reject H0 and support the claim that the both the sample means are from significantly different populations. "
      ]
    },
    {
      "cell_type": "code",
      "metadata": {
        "colab": {
          "base_uri": "https://localhost:8080/"
        },
        "id": "T2R00MkXptBJ",
        "outputId": "02a47ad3-651b-4ecd-eb94-bb8621aa684b"
      },
      "source": [
        "# Interpretating with alpha=0.1. Case 3: alpha=0.01, n=15\n",
        "alpha = 0.1\n",
        "if p < alpha:    # alpha value is 0.1 or 10%\n",
        "    print(\"We are rejecting null hypothesis. Reject H0. It means there is a significant difference between the means of the two population.\")\n",
        "else:\n",
        "    print(\"We are accepting null hypothesis. Accept H0. They belong to same population or with there is no significant difference between the means of two population.\")"
      ],
      "execution_count": null,
      "outputs": [
        {
          "output_type": "stream",
          "text": [
            "We are rejecting null hypothesis. Reject H0. It means there is a significant difference between the means of the two population.\n"
          ],
          "name": "stdout"
        }
      ]
    },
    {
      "cell_type": "markdown",
      "metadata": {
        "id": "VcEbbDFjp3QB"
      },
      "source": [
        "When alpha-value = 0.1, or 10% or more, we can be 90% sure that the population mean of society 1 is not equal to the population mean of society 2. We will therefore reject H0 and support the claim that they don't belong to same population or with significant difference between the means of two population. Though there is still 10% chance that our reject the null hypothesis is wrong."
      ]
    },
    {
      "cell_type": "markdown",
      "metadata": {
        "id": "6zgmH5tRHVXR"
      },
      "source": [
        "**PAIRED T-TEST**\n",
        "\n",
        "This is done to compare the samples from the same group.\n",
        "Because the samples are not independent, we cannot use the Student’s t-test. Instead, we must use a modified version of the test that checks for the fact that the data samples are dependent, called the paired Student’s t-test.\n",
        "\n",
        "In the example from the website, they have taken there samples to be independent, not paired, we can pretend for the sake of the demonstration that the observations are paired and calculate the statistic.\n",
        "\n",
        "But in this example, we will take samples that are actually paired."
      ]
    },
    {
      "cell_type": "markdown",
      "metadata": {
        "id": "RlDddvgBLMgi"
      },
      "source": [
        "Assume a class of students with weight 1 in 6th standard. Their height rose on a  with a location parameter of 0.5 and a scale parameter of 5. The size parameter is based on the lenth of weight 1. \n",
        "\n",
        "It is after a few years that their weight is remeasured and it showed the changes in weight 2. \n",
        "\n",
        "The effect of the location parameter is to translate the graph, relative to the standard normal distribution, 0.5 units to the right on the horizontal axis.\n",
        "\n",
        "The effect of a scale parameter more than one is to decompress the pdf. "
      ]
    },
    {
      "cell_type": "code",
      "metadata": {
        "colab": {
          "base_uri": "https://localhost:8080/"
        },
        "id": "imXBVfR3HVGZ",
        "outputId": "e1ea2bc8-4ebe-42d4-d862-6e6199cfe760"
      },
      "source": [
        "# seed the random number generator\n",
        "seed(1)\n",
        "# generate two independent samples\n",
        "weight1 = 0.5 * randn(24) + 35\n",
        "len(weight1)"
      ],
      "execution_count": null,
      "outputs": [
        {
          "output_type": "execute_result",
          "data": {
            "text/plain": [
              "24"
            ]
          },
          "metadata": {
            "tags": []
          },
          "execution_count": 46
        }
      ]
    },
    {
      "cell_type": "code",
      "metadata": {
        "colab": {
          "base_uri": "https://localhost:8080/"
        },
        "id": "GDGshhnKSnTQ",
        "outputId": "b4d876e5-2c76-4556-a8b6-0bbc33bcb4c1"
      },
      "source": [
        "print(weight1)"
      ],
      "execution_count": null,
      "outputs": [
        {
          "output_type": "stream",
          "text": [
            "[35.81217268 34.69412179 34.73591412 34.46351569 35.43270381 33.84923065\n",
            " 35.87240588 34.61939655 35.15951955 34.87531481 35.73105397 33.96992965\n",
            " 34.8387914  34.80797282 35.56688472 34.45005437 34.9137859  34.56107079\n",
            " 35.02110687 35.29140761 34.44969041 35.57236185 35.45079536 35.25124717]\n"
          ],
          "name": "stdout"
        }
      ]
    },
    {
      "cell_type": "code",
      "metadata": {
        "id": "RJMRYHvORqh5"
      },
      "source": [
        "import scipy.stats as stats\n",
        "weight2=weight1+stats.norm.rvs(scale=5,loc=0.5,size=24)"
      ],
      "execution_count": null,
      "outputs": []
    },
    {
      "cell_type": "code",
      "metadata": {
        "colab": {
          "base_uri": "https://localhost:8080/"
        },
        "id": "Orhq1IpNSpYY",
        "outputId": "bc4c38f2-deff-4be0-8530-4f4d6ad7556d"
      },
      "source": [
        "print(weight2)"
      ],
      "execution_count": null,
      "outputs": [
        {
          "output_type": "stream",
          "text": [
            "[40.81645243 31.7754825  34.621463   30.28466852 34.59326342 37.00100799\n",
            " 32.91410212 33.13562892 32.22365605 31.1492866  32.87482331 34.40660665\n",
            " 29.75223965 36.48005131 44.36589561 38.66027517 34.45460813 30.62292597\n",
            " 31.7853154  44.25368061 35.20372919 32.88738362 36.90537278 46.25252285]\n"
          ],
          "name": "stdout"
        }
      ]
    },
    {
      "cell_type": "code",
      "metadata": {
        "colab": {
          "base_uri": "https://localhost:8080/"
        },
        "id": "IdaB6qWHq3mh",
        "outputId": "2bc6d41f-8903-4556-e1b1-2f1cdca86ce8"
      },
      "source": [
        "#Considering a sample of the population with n=15 in weight1 and weight2\n",
        "sample_size=15\n",
        "weight1_sample=np.random.choice(weight1,sample_size)\n",
        "weight1_sample\n",
        "weight2_sample=np.random.choice(weight2,sample_size)\n",
        "weight2_sample"
      ],
      "execution_count": null,
      "outputs": [
        {
          "output_type": "execute_result",
          "data": {
            "text/plain": [
              "array([34.45460813, 31.7853154 , 40.81645243, 36.48005131, 32.87482331,\n",
              "       46.25252285, 30.62292597, 33.13562892, 32.87482331, 35.20372919,\n",
              "       40.81645243, 29.75223965, 31.7754825 , 31.1492866 , 31.7853154 ])"
            ]
          },
          "metadata": {
            "tags": []
          },
          "execution_count": 50
        }
      ]
    },
    {
      "cell_type": "code",
      "metadata": {
        "colab": {
          "base_uri": "https://localhost:8080/",
          "height": 363
        },
        "id": "lkKmhIPnSyP8",
        "outputId": "142af8fb-7908-47db-9502-7ba92f0e8607"
      },
      "source": [
        "#Comparing weights in 6th and 8th standard respectively. Seeing first 10 records.\n",
        "import pandas as pd\n",
        "\n",
        "weight_df=pd.DataFrame({\"Weight_6\":np.array(weight1_sample),\"Weight_8\":np.array(weight2_sample), \"Weight_Change\":np.array(weight2_sample)-np.array(weight1_sample)})\n",
        "weight_df.head(10)"
      ],
      "execution_count": null,
      "outputs": [
        {
          "output_type": "execute_result",
          "data": {
            "text/html": [
              "<div>\n",
              "<style scoped>\n",
              "    .dataframe tbody tr th:only-of-type {\n",
              "        vertical-align: middle;\n",
              "    }\n",
              "\n",
              "    .dataframe tbody tr th {\n",
              "        vertical-align: top;\n",
              "    }\n",
              "\n",
              "    .dataframe thead th {\n",
              "        text-align: right;\n",
              "    }\n",
              "</style>\n",
              "<table border=\"1\" class=\"dataframe\">\n",
              "  <thead>\n",
              "    <tr style=\"text-align: right;\">\n",
              "      <th></th>\n",
              "      <th>Weight_6</th>\n",
              "      <th>Weight_8</th>\n",
              "      <th>Weight_Change</th>\n",
              "    </tr>\n",
              "  </thead>\n",
              "  <tbody>\n",
              "    <tr>\n",
              "      <th>0</th>\n",
              "      <td>34.838791</td>\n",
              "      <td>34.454608</td>\n",
              "      <td>-0.384183</td>\n",
              "    </tr>\n",
              "    <tr>\n",
              "      <th>1</th>\n",
              "      <td>35.572362</td>\n",
              "      <td>31.785315</td>\n",
              "      <td>-3.787046</td>\n",
              "    </tr>\n",
              "    <tr>\n",
              "      <th>2</th>\n",
              "      <td>33.969930</td>\n",
              "      <td>40.816452</td>\n",
              "      <td>6.846523</td>\n",
              "    </tr>\n",
              "    <tr>\n",
              "      <th>3</th>\n",
              "      <td>34.619397</td>\n",
              "      <td>36.480051</td>\n",
              "      <td>1.860655</td>\n",
              "    </tr>\n",
              "    <tr>\n",
              "      <th>4</th>\n",
              "      <td>34.807973</td>\n",
              "      <td>32.874823</td>\n",
              "      <td>-1.933150</td>\n",
              "    </tr>\n",
              "    <tr>\n",
              "      <th>5</th>\n",
              "      <td>35.159520</td>\n",
              "      <td>46.252523</td>\n",
              "      <td>11.093003</td>\n",
              "    </tr>\n",
              "    <tr>\n",
              "      <th>6</th>\n",
              "      <td>33.969930</td>\n",
              "      <td>30.622926</td>\n",
              "      <td>-3.347004</td>\n",
              "    </tr>\n",
              "    <tr>\n",
              "      <th>7</th>\n",
              "      <td>34.838791</td>\n",
              "      <td>33.135629</td>\n",
              "      <td>-1.703162</td>\n",
              "    </tr>\n",
              "    <tr>\n",
              "      <th>8</th>\n",
              "      <td>33.969930</td>\n",
              "      <td>32.874823</td>\n",
              "      <td>-1.095106</td>\n",
              "    </tr>\n",
              "    <tr>\n",
              "      <th>9</th>\n",
              "      <td>34.449690</td>\n",
              "      <td>35.203729</td>\n",
              "      <td>0.754039</td>\n",
              "    </tr>\n",
              "  </tbody>\n",
              "</table>\n",
              "</div>"
            ],
            "text/plain": [
              "    Weight_6   Weight_8  Weight_Change\n",
              "0  34.838791  34.454608      -0.384183\n",
              "1  35.572362  31.785315      -3.787046\n",
              "2  33.969930  40.816452       6.846523\n",
              "3  34.619397  36.480051       1.860655\n",
              "4  34.807973  32.874823      -1.933150\n",
              "5  35.159520  46.252523      11.093003\n",
              "6  33.969930  30.622926      -3.347004\n",
              "7  34.838791  33.135629      -1.703162\n",
              "8  33.969930  32.874823      -1.095106\n",
              "9  34.449690  35.203729       0.754039"
            ]
          },
          "metadata": {
            "tags": []
          },
          "execution_count": 51
        }
      ]
    },
    {
      "cell_type": "code",
      "metadata": {
        "id": "WXeCkYXZTw7O"
      },
      "source": [
        "#Null Hypothesis: The sample mean of weight1 population is equal to sample mean of weight2 population\n",
        "#Alternate Hypothesis: The sample mean of weight1 is different from sample mean of weight2"
      ],
      "execution_count": null,
      "outputs": []
    },
    {
      "cell_type": "code",
      "metadata": {
        "colab": {
          "base_uri": "https://localhost:8080/"
        },
        "id": "xpRTkcrpSHKQ",
        "outputId": "ff92ed49-7856-4f2f-cc3f-4df3fcc46638"
      },
      "source": [
        "# compare samples weight 1 and weight 2\n",
        "from scipy.stats import ttest_rel\n",
        "stat, p = ttest_rel(weight1_sample, weight2_sample)\n",
        "print('Statistics=%.3f, p=%.3f' % (stat, p))"
      ],
      "execution_count": null,
      "outputs": [
        {
          "output_type": "stream",
          "text": [
            "Statistics=0.075, p=0.941\n"
          ],
          "name": "stdout"
        }
      ]
    },
    {
      "cell_type": "code",
      "metadata": {
        "colab": {
          "base_uri": "https://localhost:8080/"
        },
        "id": "FTACsUzFXwum",
        "outputId": "7ac1caa7-52bb-4342-dd5b-da80939440a3"
      },
      "source": [
        "# Interpretating with alpha=0.05. Case 1: alpha=0.05, n=15\n",
        "alpha = 0.05\n",
        "if p < alpha:    # alpha value is 0.05 or 5%\n",
        "    print(\"We are rejecting null hypothesis. Reject H0. It means there is a significant difference between the means of the two population.\")\n",
        "else:\n",
        "    print(\"We are accepting null hypothesis. Accept H0. It means there is not much difference between the recent weight and previous weight of the group\")"
      ],
      "execution_count": null,
      "outputs": [
        {
          "output_type": "stream",
          "text": [
            "We are accepting null hypothesis. Accept H0. It means there is not much difference between the recent weight and previous weight of the group\n"
          ],
          "name": "stdout"
        }
      ]
    },
    {
      "cell_type": "markdown",
      "metadata": {
        "id": "OiAc9lF4Y0Gd"
      },
      "source": [
        "When alpha-value = 0.05, or 5%, we can be 95% confident that the population mean of the two weights are same. We will therefore accept H0 and support the claim. It means there is not much difference between the samples of recent weight and samples of previous weight of the group. The p=0.94 while alpha=0.05"
      ]
    },
    {
      "cell_type": "code",
      "metadata": {
        "colab": {
          "base_uri": "https://localhost:8080/"
        },
        "id": "vJbfRaNSYc3F",
        "outputId": "ccea8342-abf1-4f09-888f-ffd121a83334"
      },
      "source": [
        "# Interpretating with alpha=0.10. Case 2: alpha=0.10, n=15\n",
        "alpha = 0.10\n",
        "if p < alpha:    # alpha value is 0.10 or 10%\n",
        "    print(\"We are rejecting null hypothesis. Reject H0. It means there is a significant difference between the means of the two population.\")\n",
        "else:\n",
        "    print(\"We are accepting null hypothesis. Accept H0. It means there is not much difference between the recent weight and previous weight of the group\")"
      ],
      "execution_count": null,
      "outputs": [
        {
          "output_type": "stream",
          "text": [
            "We are accepting null hypothesis. Accept H0. It means there is not much difference between the recent weight and previous weight of the group\n"
          ],
          "name": "stdout"
        }
      ]
    },
    {
      "cell_type": "markdown",
      "metadata": {
        "id": "G5C5MJ_IZFH9"
      },
      "source": [
        "When alpha-value = 0.10, or 10%, we can be 90% confident that the population mean of the two weights are same. We will therefore accept H0 and support the claim.\n",
        "\n",
        "There is still 10% chance that our claim is wrong and these two weights have significant difference. It means there is not much difference between the samples of recent weight and samples of previous weight of the group. or there is a close relationship between the two weights. The p=0.94 while alpha=0.10."
      ]
    },
    {
      "cell_type": "code",
      "metadata": {
        "colab": {
          "base_uri": "https://localhost:8080/"
        },
        "id": "tAbyjZ4aYjL-",
        "outputId": "c1ab9115-2999-47e7-f4fd-067aba6270ff"
      },
      "source": [
        "# Interpretating with alpha=0.01. Case 3: alpha=0.01, n=15\n",
        "alpha = 0.01\n",
        "if p < alpha:    # alpha value is 0.01 or 1%\n",
        "    print(\"We are rejecting null hypothesis. Reject H0. It means there is a significant difference between the means of the two population.\")\n",
        "else:\n",
        "    print(\"We are accepting null hypothesis. Accept H0. It means there is not much difference between the recent weight and previous weight of the group\")"
      ],
      "execution_count": null,
      "outputs": [
        {
          "output_type": "stream",
          "text": [
            "We are accepting null hypothesis. Accept H0. It means there is not much difference between the recent weight and previous weight of the group\n"
          ],
          "name": "stdout"
        }
      ]
    },
    {
      "cell_type": "markdown",
      "metadata": {
        "id": "HAsSWGZsZVF0"
      },
      "source": [
        "When alpha-value = 0.01, or 1%, we can be 99% confident that the population mean of the two weights are same. We will therefore accept H0 and support the claim.\n",
        "\n",
        "There is still 1% chance that our claim is wrong and these two weights have significant difference. Though it is very little that such an error will occur."
      ]
    },
    {
      "cell_type": "code",
      "metadata": {
        "colab": {
          "base_uri": "https://localhost:8080/"
        },
        "id": "IczIVjGnsyaY",
        "outputId": "c51bbfca-579b-4619-f75b-8e484aac1a94"
      },
      "source": [
        "#Considering a sample of the population with n=35 in weight1 and weight2\n",
        "sample_size=35\n",
        "weight1_sample=np.random.choice(weight1,sample_size)\n",
        "weight1_sample\n",
        "weight2_sample=np.random.choice(weight2,sample_size)\n",
        "weight2_sample"
      ],
      "execution_count": null,
      "outputs": [
        {
          "output_type": "execute_result",
          "data": {
            "text/plain": [
              "array([46.25252285, 32.88738362, 33.13562892, 40.81645243, 44.25368061,\n",
              "       30.62292597, 44.36589561, 36.48005131, 35.20372919, 35.20372919,\n",
              "       34.40660665, 32.91410212, 36.48005131, 38.66027517, 31.1492866 ,\n",
              "       34.621463  , 33.13562892, 32.88738362, 37.00100799, 34.59326342,\n",
              "       37.00100799, 32.88738362, 32.22365605, 36.48005131, 30.62292597,\n",
              "       30.62292597, 38.66027517, 36.48005131, 32.22365605, 44.36589561,\n",
              "       36.48005131, 46.25252285, 34.45460813, 32.87482331, 36.48005131])"
            ]
          },
          "metadata": {
            "tags": []
          },
          "execution_count": 58
        }
      ]
    },
    {
      "cell_type": "code",
      "metadata": {
        "colab": {
          "base_uri": "https://localhost:8080/",
          "height": 363
        },
        "id": "htLNtX-6s4QA",
        "outputId": "9ef43976-ecf3-4c5b-bf96-4400743b4885"
      },
      "source": [
        "#Comparing weights in 6th and 8th standard respectively. Seeing first 10 records.\n",
        "import pandas as pd\n",
        "\n",
        "weight_df=pd.DataFrame({\"Weight_6\":np.array(weight1_sample),\"Weight_8\":np.array(weight2_sample), \"Weight_Change\":np.array(weight2_sample)-np.array(weight1_sample)})\n",
        "weight_df.head(10)"
      ],
      "execution_count": null,
      "outputs": [
        {
          "output_type": "execute_result",
          "data": {
            "text/html": [
              "<div>\n",
              "<style scoped>\n",
              "    .dataframe tbody tr th:only-of-type {\n",
              "        vertical-align: middle;\n",
              "    }\n",
              "\n",
              "    .dataframe tbody tr th {\n",
              "        vertical-align: top;\n",
              "    }\n",
              "\n",
              "    .dataframe thead th {\n",
              "        text-align: right;\n",
              "    }\n",
              "</style>\n",
              "<table border=\"1\" class=\"dataframe\">\n",
              "  <thead>\n",
              "    <tr style=\"text-align: right;\">\n",
              "      <th></th>\n",
              "      <th>Weight_6</th>\n",
              "      <th>Weight_8</th>\n",
              "      <th>Weight_Change</th>\n",
              "    </tr>\n",
              "  </thead>\n",
              "  <tbody>\n",
              "    <tr>\n",
              "      <th>0</th>\n",
              "      <td>35.291408</td>\n",
              "      <td>46.252523</td>\n",
              "      <td>10.961115</td>\n",
              "    </tr>\n",
              "    <tr>\n",
              "      <th>1</th>\n",
              "      <td>34.694122</td>\n",
              "      <td>32.887384</td>\n",
              "      <td>-1.806738</td>\n",
              "    </tr>\n",
              "    <tr>\n",
              "      <th>2</th>\n",
              "      <td>34.735914</td>\n",
              "      <td>33.135629</td>\n",
              "      <td>-1.600285</td>\n",
              "    </tr>\n",
              "    <tr>\n",
              "      <th>3</th>\n",
              "      <td>34.838791</td>\n",
              "      <td>40.816452</td>\n",
              "      <td>5.977661</td>\n",
              "    </tr>\n",
              "    <tr>\n",
              "      <th>4</th>\n",
              "      <td>34.619397</td>\n",
              "      <td>44.253681</td>\n",
              "      <td>9.634284</td>\n",
              "    </tr>\n",
              "    <tr>\n",
              "      <th>5</th>\n",
              "      <td>34.735914</td>\n",
              "      <td>30.622926</td>\n",
              "      <td>-4.112988</td>\n",
              "    </tr>\n",
              "    <tr>\n",
              "      <th>6</th>\n",
              "      <td>35.731054</td>\n",
              "      <td>44.365896</td>\n",
              "      <td>8.634842</td>\n",
              "    </tr>\n",
              "    <tr>\n",
              "      <th>7</th>\n",
              "      <td>35.450795</td>\n",
              "      <td>36.480051</td>\n",
              "      <td>1.029256</td>\n",
              "    </tr>\n",
              "    <tr>\n",
              "      <th>8</th>\n",
              "      <td>35.812173</td>\n",
              "      <td>35.203729</td>\n",
              "      <td>-0.608443</td>\n",
              "    </tr>\n",
              "    <tr>\n",
              "      <th>9</th>\n",
              "      <td>34.875315</td>\n",
              "      <td>35.203729</td>\n",
              "      <td>0.328414</td>\n",
              "    </tr>\n",
              "  </tbody>\n",
              "</table>\n",
              "</div>"
            ],
            "text/plain": [
              "    Weight_6   Weight_8  Weight_Change\n",
              "0  35.291408  46.252523      10.961115\n",
              "1  34.694122  32.887384      -1.806738\n",
              "2  34.735914  33.135629      -1.600285\n",
              "3  34.838791  40.816452       5.977661\n",
              "4  34.619397  44.253681       9.634284\n",
              "5  34.735914  30.622926      -4.112988\n",
              "6  35.731054  44.365896       8.634842\n",
              "7  35.450795  36.480051       1.029256\n",
              "8  35.812173  35.203729      -0.608443\n",
              "9  34.875315  35.203729       0.328414"
            ]
          },
          "metadata": {
            "tags": []
          },
          "execution_count": 59
        }
      ]
    },
    {
      "cell_type": "code",
      "metadata": {
        "id": "YVfdZUUMtK7V"
      },
      "source": [
        "#Null Hypothesis: The sample mean of weight1 population is equal to sample mean of weight2 population\n",
        "#Alternate Hypothesis: The sample mean of weight1 is different from sample mean of weight2"
      ],
      "execution_count": null,
      "outputs": []
    },
    {
      "cell_type": "code",
      "metadata": {
        "colab": {
          "base_uri": "https://localhost:8080/"
        },
        "id": "fqVitO-HtPH_",
        "outputId": "55f560c1-ee85-4e2a-f692-05234fb14c3b"
      },
      "source": [
        "# compare samples weight 1 and weight 2\n",
        "from scipy.stats import ttest_rel\n",
        "stat, p = ttest_rel(weight1_sample, weight2_sample)\n",
        "print('Statistics=%.3f, p=%.3f' % (stat, p))"
      ],
      "execution_count": null,
      "outputs": [
        {
          "output_type": "stream",
          "text": [
            "Statistics=-1.468, p=0.151\n"
          ],
          "name": "stdout"
        }
      ]
    },
    {
      "cell_type": "code",
      "metadata": {
        "colab": {
          "base_uri": "https://localhost:8080/"
        },
        "id": "APtpLTBGtRJC",
        "outputId": "22866ad5-4e09-4c02-cc43-82ecd42baab4"
      },
      "source": [
        "# Interpretating with alpha=0.05. Case 4: alpha=0.05, n=35\n",
        "alpha = 0.05\n",
        "if p < alpha:    # alpha value is 0.05 or 5%\n",
        "    print(\"We are rejecting null hypothesis. Reject H0. It means there is a significant difference between the means of the two population.\")\n",
        "else:\n",
        "    print(\"We are accepting null hypothesis. Accept H0. It means there is not much difference between the recent weight and previous weight of the group\")"
      ],
      "execution_count": null,
      "outputs": [
        {
          "output_type": "stream",
          "text": [
            "We are accepting null hypothesis. Accept H0. It means there is not much difference between the recent weight and previous weight of the group\n"
          ],
          "name": "stdout"
        }
      ]
    },
    {
      "cell_type": "markdown",
      "metadata": {
        "id": "WuvzIcrjtaqv"
      },
      "source": [
        "When alpha-value = 0.05, or 5%, we can be 95% confident that the population mean of the two weights are same. We will therefore accept H0 and support the claim. It means there is not much difference between the samples of recent weight and samples of previous weight of the group. "
      ]
    },
    {
      "cell_type": "code",
      "metadata": {
        "colab": {
          "base_uri": "https://localhost:8080/"
        },
        "id": "HVAjzPK9taYA",
        "outputId": "2d2d6e57-d497-4df3-eb7e-d9251394b35a"
      },
      "source": [
        "# Interpretating with alpha=0.10. Case 5: alpha=0.10, n=35\n",
        "alpha = 0.10\n",
        "if p < alpha:    # alpha value is 0.10 or 10%\n",
        "    print(\"We are rejecting null hypothesis. Reject H0. It means there is a significant difference between the means of the two population.\")\n",
        "else:\n",
        "    print(\"We are accepting null hypothesis. Accept H0. It means there is not much difference between the recent weight and previous weight of the group\")"
      ],
      "execution_count": null,
      "outputs": [
        {
          "output_type": "stream",
          "text": [
            "We are accepting null hypothesis. Accept H0. It means there is not much difference between the recent weight and previous weight of the group\n"
          ],
          "name": "stdout"
        }
      ]
    },
    {
      "cell_type": "markdown",
      "metadata": {
        "id": "JN9NzM3Itmb_"
      },
      "source": [
        "When alpha-value = 0.10, or 10%, we can be 90% confident that the population mean of the two weights are same. We will therefore accept H0 and support the claim.\n",
        "\n",
        "There is still 10% chance that our claim is wrong and these two weights have significant difference. It means there is not much difference between the samples of recent weight and samples of previous weight of the group. or there is a close relationship between the two weights.\n"
      ]
    },
    {
      "cell_type": "code",
      "metadata": {
        "colab": {
          "base_uri": "https://localhost:8080/"
        },
        "id": "FtnhLiJ9trqf",
        "outputId": "ad34b9f2-a641-49fb-d6d8-ebe1c606aca4"
      },
      "source": [
        "# Interpretating with alpha=0.01. Case 6: alpha=0.01, n=35\n",
        "alpha = 0.01\n",
        "if p < alpha:    # alpha value is 0.01 or 1%\n",
        "    print(\"We are rejecting null hypothesis. Reject H0. It means there is a significant difference between the means of the two population.\")\n",
        "else:\n",
        "    print(\"We are accepting null hypothesis. Accept H0. It means there is not much difference between the recent weight and previous weight of the group\")"
      ],
      "execution_count": null,
      "outputs": [
        {
          "output_type": "stream",
          "text": [
            "We are accepting null hypothesis. Accept H0. It means there is not much difference between the recent weight and previous weight of the group\n"
          ],
          "name": "stdout"
        }
      ]
    },
    {
      "cell_type": "markdown",
      "metadata": {
        "id": "PP3PJwZct0KH"
      },
      "source": [
        "When alpha-value = 0.01, or 1%, we can be 99% confident that the population mean of the two weights are same. We will therefore accept H0 and support the claim.\n",
        "\n",
        "There is still 1% chance that our claim is wrong and these two weights have significant difference. Though it is very little that such an error will occur.\n"
      ]
    },
    {
      "cell_type": "markdown",
      "metadata": {
        "id": "1fFXxEhEaRxT"
      },
      "source": [
        "**Creating the independent T-test from scratch** "
      ]
    },
    {
      "cell_type": "code",
      "metadata": {
        "id": "4nKnSCPgdT_8"
      },
      "source": [
        "#Suppose two societies of people with the following ages listed.\n",
        "# seed the random number generator\n",
        "seed(1)\n",
        "# generate two independent samples\n",
        "ages1 = 0.5 * randn(46) + 25\n",
        "ages2 = 0.5 * randn(53) + 28"
      ],
      "execution_count": null,
      "outputs": []
    },
    {
      "cell_type": "code",
      "metadata": {
        "colab": {
          "base_uri": "https://localhost:8080/"
        },
        "id": "NOAubkuzdwOv",
        "outputId": "9726c54e-b3c2-4a80-f5f5-3a4dcc477f74"
      },
      "source": [
        "#The number of people in society1:\n",
        "len(ages1)"
      ],
      "execution_count": null,
      "outputs": [
        {
          "output_type": "execute_result",
          "data": {
            "text/plain": [
              "46"
            ]
          },
          "metadata": {
            "tags": []
          },
          "execution_count": 67
        }
      ]
    },
    {
      "cell_type": "code",
      "metadata": {
        "colab": {
          "base_uri": "https://localhost:8080/"
        },
        "id": "wYH0DyY-dsuH",
        "outputId": "61f3dec1-4ce5-4220-b0a1-e5a3fd3bbb5c"
      },
      "source": [
        "#The number of people in society2:\n",
        "len(ages2)"
      ],
      "execution_count": null,
      "outputs": [
        {
          "output_type": "execute_result",
          "data": {
            "text/plain": [
              "53"
            ]
          },
          "metadata": {
            "tags": []
          },
          "execution_count": 68
        }
      ]
    },
    {
      "cell_type": "code",
      "metadata": {
        "id": "BAOsxcied3bG"
      },
      "source": [
        "#Importing necessary libraries\n",
        "import numpy as np\n",
        "from math import sqrt\n",
        "from scipy.stats import sem\n",
        "from scipy.stats import t"
      ],
      "execution_count": null,
      "outputs": []
    },
    {
      "cell_type": "code",
      "metadata": {
        "colab": {
          "base_uri": "https://localhost:8080/"
        },
        "id": "2s6HWAMSiWgQ",
        "outputId": "64a340d9-ca4d-412e-d8f4-2be21a430f82"
      },
      "source": [
        "#Form samples of size=20 for ages1 and ages2 to t-test\n",
        "sample_size=20\n",
        "ages1_sample=np.random.choice(ages1,sample_size)\n",
        "ages1_sample"
      ],
      "execution_count": null,
      "outputs": [
        {
          "output_type": "execute_result",
          "data": {
            "text/plain": [
              "array([24.57739718, 24.73591412, 24.44969041, 25.29140761, 24.65641365,\n",
              "       24.86605596, 25.02110687, 24.80162324, 24.86605596, 24.65416962,\n",
              "       25.73105397, 25.15951955, 24.68150218, 24.9936677 , 24.65641365,\n",
              "       25.15951955, 24.44969041, 24.80797282, 24.45005437, 24.55618552])"
            ]
          },
          "metadata": {
            "tags": []
          },
          "execution_count": 70
        }
      ]
    },
    {
      "cell_type": "code",
      "metadata": {
        "colab": {
          "base_uri": "https://localhost:8080/"
        },
        "id": "khP0y45O1AVJ",
        "outputId": "2bf5d787-8a8b-48ae-fdec-b836fb8ca9d9"
      },
      "source": [
        "ages2_sample=np.random.choice(ages2,sample_size)\n",
        "ages2_sample"
      ],
      "execution_count": null,
      "outputs": [
        {
          "output_type": "execute_result",
          "data": {
            "text/plain": [
              "array([28.09545774, 28.59945894, 27.96221414, 27.2779431 , 28.03867003,\n",
              "       28.06091064, 28.56581469, 28.59945894, 28.62643408, 27.84689799,\n",
              "       28.43808446, 27.62280103, 28.02179843, 27.96221414, 28.08001853,\n",
              "       28.56474195, 29.0927877 , 27.82532864, 27.89962097, 27.6806348 ])"
            ]
          },
          "metadata": {
            "tags": []
          },
          "execution_count": 71
        }
      ]
    },
    {
      "cell_type": "code",
      "metadata": {
        "colab": {
          "base_uri": "https://localhost:8080/"
        },
        "id": "9IOmGBF4xdzR",
        "outputId": "6774c592-324f-4fb0-8bc6-603bd6eddcba"
      },
      "source": [
        "# summarize to conclude they are from different populations\n",
        "print('Ages of society 1: mean=%.3f stdv=%.3f' % (np.mean(ages1), np.std(ages1)))\n",
        "print('Ages of society 2: mean=%.3f stdv=%.3f' % (np.mean(ages2), np.std(ages2)))"
      ],
      "execution_count": null,
      "outputs": [
        {
          "output_type": "stream",
          "text": [
            "Ages of society 1: mean=24.953 stdv=0.477\n",
            "Ages of society 2: mean=28.091 stdv=0.402\n"
          ],
          "name": "stdout"
        }
      ]
    },
    {
      "cell_type": "code",
      "metadata": {
        "colab": {
          "base_uri": "https://localhost:8080/"
        },
        "id": "FzwmXwqKxgCV",
        "outputId": "c340df47-6efa-4a06-d563-bcae4b63c615"
      },
      "source": [
        "# stastic of samples from different populations\n",
        "print('Ages of society 1: mean=%.3f stdv=%.3f' % (np.mean(ages1_sample), np.std(ages1_sample)))\n",
        "print('Ages of society 2: mean=%.3f stdv=%.3f' % (np.mean(ages2_sample), np.std(ages2_sample)))"
      ],
      "execution_count": null,
      "outputs": [
        {
          "output_type": "stream",
          "text": [
            "Ages of society 1: mean=24.828 stdv=0.317\n",
            "Ages of society 2: mean=28.143 stdv=0.423\n"
          ],
          "name": "stdout"
        }
      ]
    },
    {
      "cell_type": "code",
      "metadata": {
        "id": "3bn51KyrfW6z"
      },
      "source": [
        "# function for calculating the t-test for two independent samples \n",
        "def independent_ttest(ages1_sample, ages2_sample, alpha):\n",
        "\t#Calculate the means of the two samples\n",
        "\tmean1, mean2 = np.mean(ages1_sample), np.mean(ages2_sample)\n",
        "\t#Calculate the standard errors of the two samples\n",
        "\tster1, ster2 = sem(ages1_sample), sem(ages2_sample)\n",
        "\t#Calculate the standard error on the difference between the samples\n",
        "\tsed = sqrt(ster1**2.0 + ster2**2.0)\n",
        "\t#Calculate the t statistic\n",
        "\tt_stat = (mean1 - mean2) / sed\n",
        "\t#Calculate the degrees of freedom\n",
        "\tdof = len(ages1_sample) + len(ages2_sample) - 2\n",
        "\t#Calculate the critical value\n",
        "\tcv = t.ppf(1.0 - alpha, dof)\n",
        "\t#Calculate the p-value\n",
        "\tp = (1.0 - t.cdf(abs(t_stat), dof)) * 2.0\n",
        "\t# return everything\n",
        "\treturn t_stat, dof, cv, p"
      ],
      "execution_count": null,
      "outputs": []
    },
    {
      "cell_type": "code",
      "metadata": {
        "colab": {
          "base_uri": "https://localhost:8080/"
        },
        "id": "hqasXsCbzMwH",
        "outputId": "a76c8b9e-f848-4377-b2a2-437a0b35a378"
      },
      "source": [
        "# calculate the t test with Case 1: alpha=0.05 and n=20\n",
        "alpha = 0.05\n",
        "t_stat, df, cv, p = independent_ttest(ages1_sample, ages2_sample, alpha)\n",
        "print('t=%.3f, df=%d, cv=%.3f, p=%.3f' % (t_stat, df, cv, p))\n",
        "# interpret via critical value\n",
        "if abs(t_stat) <= cv:\n",
        "\tprint('Accept null hypothesis that the sample means of both population are equal.')\n",
        "else:\n",
        "\tprint('Reject the null hypothesis that the sample means of both population are equal.')\n",
        "# interpret via p-value\n",
        "if p > alpha:\n",
        "\tprint('Accept null hypothesis that the means are equal.')\n",
        "else:\n",
        "\tprint('Reject the null hypothesis that the means are equal.')"
      ],
      "execution_count": null,
      "outputs": [
        {
          "output_type": "stream",
          "text": [
            "t=-27.344, df=38, cv=1.686, p=0.000\n",
            "Reject the null hypothesis that the sample means of both population are equal.\n",
            "Reject the null hypothesis that the means are equal.\n"
          ],
          "name": "stdout"
        }
      ]
    },
    {
      "cell_type": "markdown",
      "metadata": {
        "id": "XOTncXMQ0Wu8"
      },
      "source": [
        "In case 1, we tested the hypothesis on a sample size of 20 each from both population with alpha=0.05.\n",
        "\n",
        "When alpha-value = 0.05, or 5%, we can be 95% confident that the sample mean of ages1 is not equal to the sample mean of ages2. We will therefore reject H0 and don't support the claim that the sample mean are from almost same populations but from significantly very different populations. "
      ]
    },
    {
      "cell_type": "code",
      "metadata": {
        "colab": {
          "base_uri": "https://localhost:8080/"
        },
        "id": "LjTgxMzfziBg",
        "outputId": "77d0461e-e8da-4e95-e47e-e7fe10cfa114"
      },
      "source": [
        "# calculate the t test with Case 2: alpha=0.10, n=20\n",
        "alpha = 0.10\n",
        "t_stat, df, cv, p = independent_ttest(ages1_sample, ages2_sample, alpha)\n",
        "print('t=%.3f, df=%d, cv=%.3f, p=%.3f' % (t_stat, df, cv, p))\n",
        "# interpret via critical value\n",
        "if abs(t_stat) <= cv:\n",
        "\tprint('Accept null hypothesis that the sample means of both population are equal.')\n",
        "else:\n",
        "\tprint('Reject the null hypothesis that the sample means of both population are equal.')\n",
        "# interpret via p-value\n",
        "if p > alpha:\n",
        "\tprint('Accept null hypothesis that the means are equal.')\n",
        "else:\n",
        "\tprint('Reject the null hypothesis that the means are equal.')"
      ],
      "execution_count": null,
      "outputs": [
        {
          "output_type": "stream",
          "text": [
            "t=-27.344, df=38, cv=1.304, p=0.000\n",
            "Reject the null hypothesis that the sample means of both population are equal.\n",
            "Reject the null hypothesis that the means are equal.\n"
          ],
          "name": "stdout"
        }
      ]
    },
    {
      "cell_type": "markdown",
      "metadata": {
        "id": "ikcHnZqO1ipd"
      },
      "source": [
        "In case 2, we tested the hypothesis on a sample size of 20 each from both population with alpha=0.10.\n",
        "\n",
        "When alpha-value = 0.10, or 10%, we can be 90% confident that the sample mean of ages1 is not equal to the sample mean of ages2. We will therefore reject H0 and not support the claim that the sample mean are from almost same populations but they are actually from significantly very different populations. "
      ]
    },
    {
      "cell_type": "code",
      "metadata": {
        "colab": {
          "base_uri": "https://localhost:8080/"
        },
        "id": "g0qXHRVMzlBe",
        "outputId": "c93e5589-be97-49d8-ca31-e71465449cf4"
      },
      "source": [
        "# calculate the t test with Case 3: n=20 and alpha=0.01\n",
        "alpha = 0.01\n",
        "t_stat, df, cv, p = independent_ttest(ages1_sample, ages2_sample, alpha)\n",
        "print('t=%.3f, df=%d, cv=%.3f, p=%.3f' % (t_stat, df, cv, p))\n",
        "# interpret via critical value\n",
        "if abs(t_stat) <= cv:\n",
        "\tprint('Accept null hypothesis that the sample means of both population are equal.')\n",
        "else:\n",
        "\tprint('Reject the null hypothesis that the sample means of both population are equal.')\n",
        "# interpret via p-value\n",
        "if p > alpha:\n",
        "\tprint('Accept null hypothesis that the means are equal.')\n",
        "else:\n",
        "\tprint('Reject the null hypothesis that the means are equal.')"
      ],
      "execution_count": null,
      "outputs": [
        {
          "output_type": "stream",
          "text": [
            "t=-27.344, df=38, cv=2.429, p=0.000\n",
            "Reject the null hypothesis that the sample means of both population are equal.\n",
            "Reject the null hypothesis that the means are equal.\n"
          ],
          "name": "stdout"
        }
      ]
    },
    {
      "cell_type": "markdown",
      "metadata": {
        "id": "n7mjJ-gzvf5O"
      },
      "source": [
        "In case 3, we tested the hypothesis on a sample size of 20 each from both population with alpha=0.01.\n",
        "\n",
        "When alpha-value = 0.01, or 1%, we can be 99% confident that the sample mean of ages1 is not equal to the sample mean of ages2. We will therefore reject H0 and support the claim that the sample mean are not from almost same populations."
      ]
    },
    {
      "cell_type": "markdown",
      "metadata": {
        "id": "PaOPMxFXXqd2"
      },
      "source": [
        "If the resulting p-value is more than alpha, then the difference between both observations is statistically significant, and the null hypothesis is accepted. If the resulting p-value is less than alpha, then the null hypothesis is rejected."
      ]
    },
    {
      "cell_type": "code",
      "metadata": {
        "colab": {
          "base_uri": "https://localhost:8080/"
        },
        "id": "dI9eOlJMXsVc",
        "outputId": "6d98533d-ef19-4f7a-c217-59211f7893d0"
      },
      "source": [
        "#Form samples of size=45 for ages1 and ages2 to t-test\n",
        "sample_size=35\n",
        "ages1_sample=np.random.choice(ages1,sample_size)\n",
        "ages1_sample"
      ],
      "execution_count": null,
      "outputs": [
        {
          "output_type": "execute_result",
          "data": {
            "text/plain": [
              "array([24.66437693, 24.44134483, 24.44134483, 24.65641365, 25.29140761,\n",
              "       24.46351569, 25.45042797, 25.29140761, 25.11720785, 24.65416962,\n",
              "       25.82990109, 25.37102208, 23.84923065, 24.45005437, 25.25124717,\n",
              "       24.65641365, 24.62642085, 25.73105397, 24.73591412, 25.45042797,\n",
              "       24.66437693, 24.65416962, 24.56107079, 25.43270381, 25.81217268,\n",
              "       25.56688472, 24.56107079, 25.37102208, 24.9936677 , 24.56107079,\n",
              "       24.86605596, 25.45079536, 25.82990109, 24.55618552, 25.73105397])"
            ]
          },
          "metadata": {
            "tags": []
          },
          "execution_count": 80
        }
      ]
    },
    {
      "cell_type": "code",
      "metadata": {
        "colab": {
          "base_uri": "https://localhost:8080/"
        },
        "id": "7cBEt2cav9Z3",
        "outputId": "919075fa-f9df-4f39-a29b-43e759a91cc3"
      },
      "source": [
        "ages2_sample=np.random.choice(ages2,sample_size)\n",
        "ages2_sample"
      ],
      "execution_count": null,
      "outputs": [
        {
          "output_type": "execute_result",
          "data": {
            "text/plain": [
              "array([28.44257058, 27.4287409 , 27.74776707, 28.09914986, 28.21174718,\n",
              "       28.21174718, 27.82807316, 28.59945894, 28.18878189, 28.09545774,\n",
              "       29.0927877 , 28.25646491, 27.96221414, 28.2933116 , 28.21174718,\n",
              "       28.15781747, 28.02179843, 27.6806348 , 28.41949171, 28.15008516,\n",
              "       27.30175183, 27.62280103, 28.75990841, 27.81235752, 28.30860155,\n",
              "       27.2779431 , 28.25646491, 27.81235752, 28.62643408, 27.82532864,\n",
              "       27.62280103, 28.44257058, 28.62643408, 27.74776707, 28.56581469])"
            ]
          },
          "metadata": {
            "tags": []
          },
          "execution_count": 81
        }
      ]
    },
    {
      "cell_type": "code",
      "metadata": {
        "colab": {
          "base_uri": "https://localhost:8080/"
        },
        "id": "0zdZQ91Xx54e",
        "outputId": "5882b77f-591d-4ed6-d2bb-4f87eb561c36"
      },
      "source": [
        "# summarize stastic of the samples of two population\n",
        "print('Ages of society 1: mean=%.3f stdv=%.3f' % (np.mean(ages1_sample), np.std(ages1_sample)))\n",
        "print('Ages of society 2: mean=%.3f stdv=%.3f' % (np.mean(ages2_sample), np.std(ages2_sample)))"
      ],
      "execution_count": null,
      "outputs": [
        {
          "output_type": "stream",
          "text": [
            "Ages of society 1: mean=25.001 stdv=0.507\n",
            "Ages of society 2: mean=28.106 stdv=0.412\n"
          ],
          "name": "stdout"
        }
      ]
    },
    {
      "cell_type": "code",
      "metadata": {
        "colab": {
          "base_uri": "https://localhost:8080/"
        },
        "id": "7LQMNqoVwCeC",
        "outputId": "e387f9b1-13e5-431b-fda2-d167e4972610"
      },
      "source": [
        "# calculate the t test with Case 4: alpha=0.05 and n=35\n",
        "alpha = 0.05\n",
        "t_stat, df, cv, p = independent_ttest(ages1_sample, ages2_sample, alpha)\n",
        "print('t=%.3f, df=%d, cv=%.3f, p=%.3f' % (t_stat, df, cv, p))\n",
        "# interpret via critical value\n",
        "if abs(t_stat) <= cv:\n",
        "\tprint('Accept null hypothesis that the sample means of both population are equal.')\n",
        "else:\n",
        "\tprint('Reject the null hypothesis that the sample means of both population are equal.')\n",
        "# interpret via p-value\n",
        "if p > alpha:\n",
        "\tprint('Accept null hypothesis that the means are equal.')\n",
        "else:\n",
        "\tprint('Reject the null hypothesis that the means are equal.')"
      ],
      "execution_count": null,
      "outputs": [
        {
          "output_type": "stream",
          "text": [
            "t=-27.722, df=68, cv=1.668, p=0.000\n",
            "Reject the null hypothesis that the sample means of both population are equal.\n",
            "Reject the null hypothesis that the means are equal.\n"
          ],
          "name": "stdout"
        }
      ]
    },
    {
      "cell_type": "markdown",
      "metadata": {
        "id": "UlIvt5fBwvE_"
      },
      "source": [
        "In case 4, we tested the hypothesis on a sample size of 35 each from both population with alpha=0.05.\n",
        "\n",
        "When alpha-value = 0.05, or 5%, we can be 95% confident that the sample mean of ages1 is not equal to the sample mean of ages2. We will therefore reject H0 and not support the claim that the sample mean are from almost same populations but are from significantly very different populations."
      ]
    },
    {
      "cell_type": "code",
      "metadata": {
        "colab": {
          "base_uri": "https://localhost:8080/"
        },
        "id": "-w9A2fRVwP02",
        "outputId": "f5b96b83-1e36-4961-c4ec-8c0dfe8f280c"
      },
      "source": [
        "# calculate the t test with Case 5: alpha=0.10 and n=35\n",
        "alpha = 0.10\n",
        "t_stat, df, cv, p = independent_ttest(ages1_sample, ages2_sample, alpha)\n",
        "print('t=%.3f, df=%d, cv=%.3f, p=%.3f' % (t_stat, df, cv, p))\n",
        "# interpret via critical value\n",
        "if abs(t_stat) <= cv:\n",
        "\tprint('Accept null hypothesis that the sample means of both population are equal.')\n",
        "else:\n",
        "\tprint('Reject the null hypothesis that the sample means of both population are equal.')\n",
        "# interpret via p-value\n",
        "if p > alpha:\n",
        "\tprint('Accept null hypothesis that the means are equal.')\n",
        "else:\n",
        "\tprint('Reject the null hypothesis that the means are equal.')"
      ],
      "execution_count": null,
      "outputs": [
        {
          "output_type": "stream",
          "text": [
            "t=-27.722, df=68, cv=1.294, p=0.000\n",
            "Reject the null hypothesis that the sample means of both population are equal.\n",
            "Reject the null hypothesis that the means are equal.\n"
          ],
          "name": "stdout"
        }
      ]
    },
    {
      "cell_type": "markdown",
      "metadata": {
        "id": "IOG-dwyDw-d8"
      },
      "source": [
        "In case 5, we tested the hypothesis on a sample size of 35 each from both population with alpha=0.10.\n",
        "\n",
        "When alpha-value = 0.10, or 10%, we can be 90% confident that the sample mean of ages1 is not equal to the sample mean of ages2. We will therefore reject H0 and support the claim that the sample mean are not from almost same populations but from significantly very different populations.\n"
      ]
    },
    {
      "cell_type": "code",
      "metadata": {
        "colab": {
          "base_uri": "https://localhost:8080/"
        },
        "id": "Rh9vPEhHwZ-V",
        "outputId": "78084a2b-8228-4b21-b7b0-bf7fe1cdfe56"
      },
      "source": [
        "# calculate the t test with Case 6: alpha=0.01 and n=35\n",
        "alpha = 0.05\n",
        "t_stat, df, cv, p = independent_ttest(ages1_sample, ages2_sample, alpha)\n",
        "print('t=%.3f, df=%d, cv=%.3f, p=%.3f' % (t_stat, df, cv, p))\n",
        "# interpret via critical value\n",
        "if abs(t_stat) <= cv:\n",
        "\tprint('Accept null hypothesis that the sample means of both population are equal.')\n",
        "else:\n",
        "\tprint('Reject the null hypothesis that the sample means of both population are equal.')\n",
        "# interpret via p-value\n",
        "if p > alpha:\n",
        "\tprint('Accept null hypothesis that the means are equal.')\n",
        "else:\n",
        "\tprint('Reject the null hypothesis that the means are equal.')"
      ],
      "execution_count": null,
      "outputs": [
        {
          "output_type": "stream",
          "text": [
            "t=-27.722, df=68, cv=1.668, p=0.000\n",
            "Reject the null hypothesis that the sample means of both population are equal.\n",
            "Reject the null hypothesis that the means are equal.\n"
          ],
          "name": "stdout"
        }
      ]
    },
    {
      "cell_type": "markdown",
      "metadata": {
        "id": "vYiVFq9zSlSv"
      },
      "source": [
        "In case 6, we tested the hypothesis on a sample size of 35 each from both population with alpha=0.01.\n",
        "\n",
        "When alpha-value = 0.01, or 1%, we can be 99% confident that the sample mean of ages1 is not equal to the sample mean of ages2. We will therefore reject H0 and support the claim that the sample mean are from almost same populations.\n"
      ]
    },
    {
      "cell_type": "markdown",
      "metadata": {
        "id": "VhDvG40RzGul"
      },
      "source": [
        "**Creating the dependent T-test or paired T-test from scratch**"
      ]
    },
    {
      "cell_type": "code",
      "metadata": {
        "colab": {
          "base_uri": "https://localhost:8080/"
        },
        "id": "Tw-5IfbKzUaE",
        "outputId": "e21638cf-7f6f-4585-94f6-90a98fcc5355"
      },
      "source": [
        "weight1= 0.5 * randn(24) + 25\n",
        "len(weight1)"
      ],
      "execution_count": null,
      "outputs": [
        {
          "output_type": "execute_result",
          "data": {
            "text/plain": [
              "24"
            ]
          },
          "metadata": {
            "tags": []
          },
          "execution_count": 86
        }
      ]
    },
    {
      "cell_type": "code",
      "metadata": {
        "colab": {
          "base_uri": "https://localhost:8080/"
        },
        "id": "IMszxxmtzbhg",
        "outputId": "2e98f8da-fa9b-477f-b93e-6ffc9fa74b94"
      },
      "source": [
        "import scipy.stats as stats\n",
        "weight2=weight1+stats.norm.rvs(scale=5,loc=0.5,size=24)\n",
        "print(weight2)"
      ],
      "execution_count": null,
      "outputs": [
        {
          "output_type": "stream",
          "text": [
            "[28.26781921 30.02885115 16.47537168 27.51320094 24.84499026 22.63051123\n",
            " 20.74622167 23.54091476 27.97384091 26.5422408  31.90980699 27.32678812\n",
            " 18.95963892 24.83439598 22.86550669 30.25551844 26.56196931 22.54965247\n",
            " 29.54022604 22.66578315 18.81117809 32.48359553 20.33116289 23.16536937]\n"
          ],
          "name": "stdout"
        }
      ]
    },
    {
      "cell_type": "code",
      "metadata": {
        "id": "DHfeg7g0zj6E"
      },
      "source": [
        "# function for calculating the t-test for two dependent samples\n",
        "def dependent_ttest(weight1_sample, weight2_sample, alpha):\n",
        "\t# calculate means\n",
        "\tmean1, mean2 = np.mean(weight1_sample), np.mean(weight2_sample)\n",
        "\t# number of paired samples\n",
        "\tn = len(weight1_sample)\n",
        "\t# sum squared difference between observations\n",
        "\td1 = sum([(weight1_sample[i]-weight2_sample[i])**2 for i in range(n)])\n",
        "\t# sum difference between observations\n",
        "\td2 = sum([weight1_sample[i]-weight2_sample[i] for i in range(n)])\n",
        "\t# standard deviation of the difference between means\n",
        "\tsd = sqrt((d1 - (d2**2 / n)) / (n - 1))\n",
        "\t# standard error of the difference between the means\n",
        "\tsed = sd / sqrt(n)\n",
        "\t# calculate the t statistic\n",
        "\tt_stat = (mean1 - mean2) / sed\n",
        "\t# degrees of freedom\n",
        "\tdf = n - 1\n",
        "\t# calculate the critical value\n",
        "\tcv = t.ppf(1.0 - alpha, df)\n",
        "\t# calculate the p-value\n",
        "\tp = (1.0 - t.cdf(abs(t_stat), df)) * 2.0\n",
        "\t# return t value, degree of freedom, critical value and p value\n",
        "\treturn t_stat, df, cv, p"
      ],
      "execution_count": null,
      "outputs": []
    },
    {
      "cell_type": "code",
      "metadata": {
        "colab": {
          "base_uri": "https://localhost:8080/"
        },
        "id": "ARXyGVol0SWz",
        "outputId": "186d9291-2a50-4807-936a-0d44927b89a0"
      },
      "source": [
        "#Form samples of size=20 for weight1 and weight2 to t-test\n",
        "sample_size=20\n",
        "weight1_sample=np.random.choice(weight1,sample_size)\n",
        "weight1_sample\n",
        "weight2_sample=np.random.choice(weight2,sample_size)\n",
        "weight2_sample"
      ],
      "execution_count": null,
      "outputs": [
        {
          "output_type": "execute_result",
          "data": {
            "text/plain": [
              "array([27.97384091, 31.90980699, 27.32678812, 20.33116289, 20.74622167,\n",
              "       28.26781921, 22.86550669, 24.84499026, 23.16536937, 27.32678812,\n",
              "       27.51320094, 28.26781921, 22.86550669, 22.54965247, 20.74622167,\n",
              "       28.26781921, 20.33116289, 30.02885115, 20.74622167, 24.84499026])"
            ]
          },
          "metadata": {
            "tags": []
          },
          "execution_count": 89
        }
      ]
    },
    {
      "cell_type": "code",
      "metadata": {
        "id": "PxCXNNJw0qRF"
      },
      "source": [
        "#Null Hypothesis: The sample mean of weight1 population is equal to sample mean of weight2 population\n",
        "#Alternate Hypothesis: The sample mean of weight1 is different from sample mean of weight2"
      ],
      "execution_count": null,
      "outputs": []
    },
    {
      "cell_type": "code",
      "metadata": {
        "colab": {
          "base_uri": "https://localhost:8080/"
        },
        "id": "05jfpjRU03Ot",
        "outputId": "d260cfcc-d402-4db3-debd-258918709a07"
      },
      "source": [
        "# calculate the t test with case 1: n=20, alpha=0.05\n",
        "alpha = 0.05\n",
        "t_stat, df, cv, p = dependent_ttest(weight1_sample, weight2_sample, alpha)\n",
        "print('t=%.3f, df=%d, cv=%.3f, p=%.3f' % (t_stat, df, cv, p))\n",
        "# interpret via critical value\n",
        "if abs(t_stat) <= cv:\n",
        "\tprint('Accept null hypothesis that the means are equal.')\n",
        "else:\n",
        "\tprint('Reject the null hypothesis that the means are equal.')\n",
        "# interpret via p-value\n",
        "if p > alpha:\n",
        "\tprint('Accept null hypothesis that the means are equal.')\n",
        "else:\n",
        "\tprint('Reject the null hypothesis that the means are equal.')"
      ],
      "execution_count": null,
      "outputs": [
        {
          "output_type": "stream",
          "text": [
            "t=-0.059, df=19, cv=1.729, p=0.954\n",
            "Accept null hypothesis that the means are equal.\n",
            "Accept null hypothesis that the means are equal.\n"
          ],
          "name": "stdout"
        }
      ]
    },
    {
      "cell_type": "markdown",
      "metadata": {
        "id": "3MJvzWqI1nuK"
      },
      "source": [
        "When alpha-value = 0.05, or 5%, we can be 95% confident that the population mean of the two weights are same. We will therefore accept H0 and support the claim. It means there is not much difference between the samples of recent weight and samples of previous weight of the group. The sample size in this case is 20."
      ]
    },
    {
      "cell_type": "code",
      "metadata": {
        "colab": {
          "base_uri": "https://localhost:8080/"
        },
        "id": "TrHFnNhY1IhE",
        "outputId": "2575430b-22ed-4861-d8cb-cfde1ae1ac20"
      },
      "source": [
        "# calculate the t test with Case 2: n=20, alpha=0.01\n",
        "alpha = 0.01\n",
        "t_stat, df, cv, p = dependent_ttest(weight1_sample, weight2_sample, alpha)\n",
        "print('t=%.3f, df=%d, cv=%.3f, p=%.3f' % (t_stat, df, cv, p))\n",
        "# interpret via critical value\n",
        "if abs(t_stat) <= cv:\n",
        "\tprint('Accept null hypothesis that the means are equal.')\n",
        "else:\n",
        "\tprint('Reject the null hypothesis that the means are equal.')\n",
        "# interpret via p-value\n",
        "if p > alpha:\n",
        "\tprint('Accept null hypothesis that the means are equal.')\n",
        "else:\n",
        "\tprint('Reject the null hypothesis that the means are equal.')"
      ],
      "execution_count": null,
      "outputs": [
        {
          "output_type": "stream",
          "text": [
            "t=-0.059, df=19, cv=2.539, p=0.954\n",
            "Accept null hypothesis that the means are equal.\n",
            "Accept null hypothesis that the means are equal.\n"
          ],
          "name": "stdout"
        }
      ]
    },
    {
      "cell_type": "markdown",
      "metadata": {
        "id": "-PXQpIPb1zNz"
      },
      "source": [
        "When alpha-value = 0.01, or 1% , we can be 99% confident that the population mean of society 1 is equal to the population mean of society 2. We will therefore accept H0 and support the claim that the both the sample means are not from significantly different populations.  The sample size in this case is 20.\n",
        "\n",
        "There is still 1% chance that our claim is wrong and these two weights have significant difference. Though it is very little that such an error will occur."
      ]
    },
    {
      "cell_type": "code",
      "metadata": {
        "colab": {
          "base_uri": "https://localhost:8080/"
        },
        "id": "AmqmAKaI1Qdt",
        "outputId": "3435276a-903f-4179-f9ec-45333fa30ea9"
      },
      "source": [
        "# calculate the t test with Case 3: n=20, alpha=0.10\n",
        "alpha = 0.10\n",
        "t_stat, df, cv, p = dependent_ttest(weight1_sample, weight2_sample, alpha)\n",
        "print('t=%.3f, df=%d, cv=%.3f, p=%.3f' % (t_stat, df, cv, p))\n",
        "# interpret via critical value\n",
        "if abs(t_stat) <= cv:\n",
        "\tprint('Accept null hypothesis that the means are equal.')\n",
        "else:\n",
        "\tprint('Reject the null hypothesis that the means are equal.')\n",
        "# interpret via p-value\n",
        "if p > alpha:\n",
        "\tprint('Accept null hypothesis that the means are equal.')\n",
        "else:\n",
        "\tprint('Reject the null hypothesis that the means are equal.')"
      ],
      "execution_count": null,
      "outputs": [
        {
          "output_type": "stream",
          "text": [
            "t=-0.059, df=19, cv=1.328, p=0.954\n",
            "Accept null hypothesis that the means are equal.\n",
            "Accept null hypothesis that the means are equal.\n"
          ],
          "name": "stdout"
        }
      ]
    },
    {
      "cell_type": "markdown",
      "metadata": {
        "id": "aU29yIeu1plW"
      },
      "source": [
        "When alpha-value = 0.10, or 10%, we can be 90% confident that the population mean of the two weights are same. We will therefore accept H0 and support the claim.  The sample size in this case is 20.\n",
        "\n",
        "There is still 10% chance that our claim is wrong and these two weights have significant difference. It means there is not much difference between the samples of recent weight and samples of previous weight of the group. or there is a close relationship between the two weights.\n"
      ]
    },
    {
      "cell_type": "code",
      "metadata": {
        "colab": {
          "base_uri": "https://localhost:8080/"
        },
        "id": "iB61_LUy2xsi",
        "outputId": "f18204ad-ec5a-498a-df1b-a1268a0a6e1b"
      },
      "source": [
        "#Form samples of size=40 for weight1 and weight2 to t-test\n",
        "sample_size=40\n",
        "weight1_sample=np.random.choice(weight1,sample_size)\n",
        "weight1_sample\n",
        "weight2_sample=np.random.choice(weight2,sample_size)\n",
        "weight2_sample"
      ],
      "execution_count": null,
      "outputs": [
        {
          "output_type": "execute_result",
          "data": {
            "text/plain": [
              "array([32.48359553, 22.66578315, 18.95963892, 24.83439598, 26.56196931,\n",
              "       24.84499026, 20.33116289, 29.54022604, 24.84499026, 27.51320094,\n",
              "       18.95963892, 16.47537168, 18.95963892, 28.26781921, 28.26781921,\n",
              "       30.25551844, 24.84499026, 31.90980699, 18.95963892, 29.54022604,\n",
              "       22.63051123, 26.56196931, 28.26781921, 27.32678812, 18.95963892,\n",
              "       27.32678812, 27.51320094, 18.95963892, 30.25551844, 32.48359553,\n",
              "       22.66578315, 24.83439598, 30.02885115, 24.84499026, 23.54091476,\n",
              "       27.51320094, 16.47537168, 16.47537168, 31.90980699, 22.86550669])"
            ]
          },
          "metadata": {
            "tags": []
          },
          "execution_count": 94
        }
      ]
    },
    {
      "cell_type": "code",
      "metadata": {
        "colab": {
          "base_uri": "https://localhost:8080/"
        },
        "id": "OL0zqs-328Rd",
        "outputId": "c3b6cde4-34f1-45f7-b43d-164d4b339eee"
      },
      "source": [
        "# calculate the t test with case 4: n=40, alpha=0.05\n",
        "alpha = 0.05\n",
        "t_stat, df, cv, p = dependent_ttest(weight1_sample, weight2_sample, alpha)\n",
        "print('t=%.3f, df=%d, cv=%.3f, p=%.3f' % (t_stat, df, cv, p))\n",
        "# interpret via critical value\n",
        "if abs(t_stat) <= cv:\n",
        "\tprint('Accept null hypothesis that the means are equal.')\n",
        "else:\n",
        "\tprint('Reject the null hypothesis that the means are equal.')\n",
        "# interpret via p-value\n",
        "if p > alpha:\n",
        "\tprint('Accept null hypothesis that the means are equal.')\n",
        "else:\n",
        "\tprint('Reject the null hypothesis that the means are equal.')"
      ],
      "execution_count": null,
      "outputs": [
        {
          "output_type": "stream",
          "text": [
            "t=0.076, df=39, cv=1.685, p=0.939\n",
            "Accept null hypothesis that the means are equal.\n",
            "Accept null hypothesis that the means are equal.\n"
          ],
          "name": "stdout"
        }
      ]
    },
    {
      "cell_type": "markdown",
      "metadata": {
        "id": "NfAfmEQP3Ctv"
      },
      "source": [
        "When alpha-value = 0.05, or 5%, we can be 95% confident that the sample mean of the two weights are same. We will therefore accept H0 and support the claim. It means there is not much difference between the samples of recent weight and samples of previous weight of the group.  The sample size in this case is 40."
      ]
    },
    {
      "cell_type": "code",
      "metadata": {
        "colab": {
          "base_uri": "https://localhost:8080/"
        },
        "id": "XkKLqSfU3TtN",
        "outputId": "14802180-9c8d-4986-98cc-212eb998f543"
      },
      "source": [
        "# calculate the t test with Case 5: n=40, alpha=0.01\n",
        "alpha = 0.01\n",
        "t_stat, df, cv, p = dependent_ttest(weight1_sample, weight2_sample, alpha)\n",
        "print('t=%.3f, df=%d, cv=%.3f, p=%.3f' % (t_stat, df, cv, p))\n",
        "# interpret via critical value\n",
        "if abs(t_stat) <= cv:\n",
        "\tprint('Accept null hypothesis that the means of thr population are equal.')\n",
        "else:\n",
        "\tprint('Reject the null hypothesis that the means are equal.')\n",
        "# interpret via p-value\n",
        "if p > alpha:\n",
        "\tprint('Accept null hypothesis that the means are equal.')\n",
        "else:\n",
        "\tprint('Reject the null hypothesis that the means are equal.')"
      ],
      "execution_count": null,
      "outputs": [
        {
          "output_type": "stream",
          "text": [
            "t=0.076, df=39, cv=2.426, p=0.939\n",
            "Accept null hypothesis that the means are equal.\n",
            "Accept null hypothesis that the means are equal.\n"
          ],
          "name": "stdout"
        }
      ]
    },
    {
      "cell_type": "markdown",
      "metadata": {
        "id": "lQDc4K9t3aoq"
      },
      "source": [
        "When alpha-value = 0.01, or 1% , we can be 99% confident that the sample mean of society 1 is equal to the sample mean of society 2. We will therefore accept H0 and support the claim that the both the sample means are not from significantly different populations. The sample size in this case is 40.\n",
        "\n",
        "There is still 1% chance that our claim is wrong and these two weights have significant difference. Though it is very little that such an error will occur.\n"
      ]
    },
    {
      "cell_type": "code",
      "metadata": {
        "colab": {
          "base_uri": "https://localhost:8080/"
        },
        "id": "1G1d3gZf3gNp",
        "outputId": "fb99a0b4-9b4a-4714-a435-6c7eff494621"
      },
      "source": [
        "# calculate the t test with Case 6: n=20, alpha=0.10\n",
        "alpha = 0.10\n",
        "t_stat, df, cv, p = dependent_ttest(weight1_sample, weight2_sample, alpha)\n",
        "print('t=%.3f, df=%d, cv=%.3f, p=%.3f' % (t_stat, df, cv, p))\n",
        "# interpret via critical value\n",
        "if abs(t_stat) <= cv:\n",
        "\tprint('Accept null hypothesis that the means are equal.')\n",
        "else:\n",
        "\tprint('Reject the null hypothesis that the means are equal.')\n",
        "# interpret via p-value\n",
        "if p > alpha:\n",
        "\tprint('Accept null hypothesis that the means are equal.')\n",
        "else:\n",
        "\tprint('Reject the null hypothesis that the means are equal.')"
      ],
      "execution_count": null,
      "outputs": [
        {
          "output_type": "stream",
          "text": [
            "t=0.076, df=39, cv=1.304, p=0.939\n",
            "Accept null hypothesis that the means are equal.\n",
            "Accept null hypothesis that the means are equal.\n"
          ],
          "name": "stdout"
        }
      ]
    },
    {
      "cell_type": "markdown",
      "metadata": {
        "id": "KXsr7Zln3p18"
      },
      "source": [
        "When alpha-value = 0.10, or 10%, we can be 90% confident that the population mean of the two weights are same. We will therefore accept H0 and support the claim. The sample size in this case is 40.\n",
        "\n",
        "There is still 10% chance that our claim is wrong and these two weights have significant difference. It means there is not much difference between the samples of recent weight and samples of previous weight of the group. or there is a close relationship between the two weights.\n"
      ]
    },
    {
      "cell_type": "markdown",
      "metadata": {
        "id": "88uD0KlH37ni"
      },
      "source": [
        "**ANOVA Test**\n"
      ]
    },
    {
      "cell_type": "markdown",
      "metadata": {
        "id": "s51xeswL4CJy"
      },
      "source": [
        "The purpose of a one-way analysis of variance (one-way ANOVA) is to compare the means of two or more groups (the independent variable) on one dependent variable to see if the group means are significantly different from each other. ANOVA is a statistical test that assumes that the mean across 2 or more groups are equal. If the evidence suggests that this is not the case, the null hypothesis is rejected and at least one data sample has a different distribution."
      ]
    },
    {
      "cell_type": "code",
      "metadata": {
        "id": "UmPbmWDAGMg_",
        "colab": {
          "base_uri": "https://localhost:8080/"
        },
        "outputId": "d453e153-dca4-43ee-c433-b37e673fbc4b"
      },
      "source": [
        "# Analysis of Variance test\n",
        "from scipy.stats import f_oneway\n",
        "\n",
        "# Generating three independent samples with Gaussian distribution.\n",
        "# The independence of sample and them being Gaussian distributed fulfills the basic assumption required for Student's T test.\n",
        "# We are expecting the Anova test to give us the result that they are from the same population\n",
        "ages1 = 0.5 * randn(100) + 25\n",
        "ages3 = 0.5 * randn(50) + 25\n",
        "ages2 = 0.5 * randn(45) + 25\n",
        "\n",
        "#Form samples of size=25 for ages1 and ages2 and ages3\n",
        "sample_size=25\n",
        "ages1_sample=np.random.choice(ages1,sample_size)\n",
        "ages1_sample\n",
        "ages2_sample=np.random.choice(ages2,sample_size)\n",
        "ages2_sample\n",
        "ages3_sample=np.random.choice(ages3,sample_size)\n",
        "ages3_sample"
      ],
      "execution_count": null,
      "outputs": [
        {
          "output_type": "execute_result",
          "data": {
            "text/plain": [
              "array([24.77084898, 24.58827805, 24.67670889, 24.94930961, 25.46681481,\n",
              "       24.60634323, 24.79489159, 24.91988094, 24.98503206, 24.95870238,\n",
              "       24.11811264, 25.44796074, 24.96197452, 24.58827805, 24.48167207,\n",
              "       25.38364681, 24.71398706, 25.12346137, 24.95870238, 25.37518741,\n",
              "       24.98503206, 24.58827805, 24.59772921, 24.95870238, 24.82917837])"
            ]
          },
          "metadata": {
            "tags": []
          },
          "execution_count": 152
        }
      ]
    },
    {
      "cell_type": "code",
      "metadata": {
        "colab": {
          "base_uri": "https://localhost:8080/"
        },
        "id": "ZLeGVShw9HZQ",
        "outputId": "bd72a24e-2b49-4204-9b32-488ee73946ba"
      },
      "source": [
        "#Checking if our dataset samples are Gaussian which is a requirement for Student's T-test\n",
        "from scipy.stats import normaltest\n",
        "stat, p=normaltest(ages1)\n",
        "alpha=0.1\n",
        "if p>alpha:\n",
        "  print(\"Slope is Gaussian for ages1\")\n",
        "else:\n",
        "  print(\"Slope is not Gaussian\")\n",
        "stat, p=normaltest(ages2)\n",
        "alpha=0.1\n",
        "if p>alpha:\n",
        "  print(\"Slope is Gaussian for ages2\")\n",
        "else:\n",
        "  print(\"Slope is not Gaussian\")\n",
        "stat, p=normaltest(ages3)\n",
        "alpha=0.1\n",
        "if p>alpha:\n",
        "  print(\"Slope is Gaussian for ages3\")\n",
        "else:\n",
        "  print(\"Slope is not Gaussian\")"
      ],
      "execution_count": null,
      "outputs": [
        {
          "output_type": "stream",
          "text": [
            "Slope is Gaussian for ages1\n",
            "Slope is Gaussian for ages2\n",
            "Slope is Gaussian for ages3\n"
          ],
          "name": "stdout"
        }
      ]
    },
    {
      "cell_type": "code",
      "metadata": {
        "id": "sw5Vsi_S6qUU"
      },
      "source": [
        "#   H0: All paired sample distributions are equal.\n",
        "#   H1: One or more paired sample distributions are not equal.\n"
      ],
      "execution_count": null,
      "outputs": []
    },
    {
      "cell_type": "code",
      "metadata": {
        "colab": {
          "base_uri": "https://localhost:8080/"
        },
        "id": "fQ62kNBa6NiO",
        "outputId": "8ca1441d-a066-4d92-9d21-5010dca4b05e"
      },
      "source": [
        "#Comparing samples\n",
        "stat, p = f_oneway(ages1_sample, ages2_sample, ages3_sample) \n",
        "print('Statistics=%.3f, p=%.3f' % (stat, p))"
      ],
      "execution_count": null,
      "outputs": [
        {
          "output_type": "stream",
          "text": [
            "Statistics=0.394, p=0.676\n"
          ],
          "name": "stdout"
        }
      ]
    },
    {
      "cell_type": "code",
      "metadata": {
        "colab": {
          "base_uri": "https://localhost:8080/"
        },
        "id": "gT_cZsu36apZ",
        "outputId": "d8097eb4-1d07-4d23-f60a-71bf309d5d8b"
      },
      "source": [
        "#Interpreting the samples. Case 1: n=25, alpha=0.05\n",
        "\n",
        "alpha = 0.05\n",
        "if p > alpha: \n",
        "  print('All paired sample distributions are equal. We accept H0')\n",
        "else:\n",
        "  print('One or more paired sample distributions are not equal. We reject H0')"
      ],
      "execution_count": null,
      "outputs": [
        {
          "output_type": "stream",
          "text": [
            "All paired sample distributions are equal. We accept H0\n"
          ],
          "name": "stdout"
        }
      ]
    },
    {
      "cell_type": "markdown",
      "metadata": {
        "id": "NGZ8BvV5OgSp"
      },
      "source": [
        "When alpha-value = 0.05, or 5%, we can be 95% confident that the sample mean of the three ages population are same. We will therefore accept H0 and support the claim that the paired sample distributions are equal. The sample size in this case is 25.\n",
        "\n",
        "There is still 10% chance that our claim is wrong and these three weights have significant difference and aren't paired otherwise known as the Type 2 error. Type 2 error is the non-rejection of a false null hypothsis. The conclusion is that there is not much difference between the samples of the population of ages mentioned."
      ]
    },
    {
      "cell_type": "code",
      "metadata": {
        "colab": {
          "base_uri": "https://localhost:8080/"
        },
        "id": "_gm_cGlT7ALH",
        "outputId": "84663975-6974-43f2-928d-78bb6475f216"
      },
      "source": [
        "#Interpreting the samples. Case 2: n=25, alpha=0.03\n",
        "\n",
        "alpha = 0.03\n",
        "if p > alpha: \n",
        "  print('All paired sample distributions are equal. We accept H0')\n",
        "else:\n",
        "  print('One or more paired sample distributions are not equal. We reject H0')"
      ],
      "execution_count": null,
      "outputs": [
        {
          "output_type": "stream",
          "text": [
            "All paired sample distributions are equal. We accept H0\n"
          ],
          "name": "stdout"
        }
      ]
    },
    {
      "cell_type": "markdown",
      "metadata": {
        "id": "KraePLj6Qcv-"
      },
      "source": [
        "When alpha-value = 0.01, or 1%, we can be 99% confident that the sample mean of the three ages population are same. We will therefore accept H0 and support the claim that the paired sample distributions are equal. The sample size in this case is 25.\n",
        "\n",
        "There is still 1% chance that our claim is wrong and these three weights have significant difference and aren't paired. The conclusion is that there is not much difference between the samples of the population of ages mentioned.\n",
        "\n"
      ]
    },
    {
      "cell_type": "code",
      "metadata": {
        "colab": {
          "base_uri": "https://localhost:8080/"
        },
        "id": "nz19t1Xy-ZEt",
        "outputId": "0a86aa09-2d9d-469e-9824-2562325c742f"
      },
      "source": [
        "#Interpreting the samples. Case 2: n=25, alpha=0.1\n",
        "\n",
        "alpha = 0.1\n",
        "if p > alpha: \n",
        "  print('All paired sample distributions are equal. We accept H0')\n",
        "else:\n",
        "  print('One or more paired sample distributions are not equal. We reject H0')"
      ],
      "execution_count": null,
      "outputs": [
        {
          "output_type": "stream",
          "text": [
            "All paired sample distributions are equal. We accept H0\n"
          ],
          "name": "stdout"
        }
      ]
    },
    {
      "cell_type": "markdown",
      "metadata": {
        "id": "9kAn4GOTSHQ1"
      },
      "source": [
        "When alpha-value = 0.1, or 10%, we can be 90% confident that the sample mean of the three ages population are same. We will therefore accept H0 and support the claim that the paired sample distributions are equal. The sample size in this case is 25.\n",
        "\n",
        "There is still 10% chance that our claim is wrong and these three weights have significant difference and aren't paired. The conclusion is that there is not much difference between the samples of the population of ages mentioned.\n"
      ]
    },
    {
      "cell_type": "code",
      "metadata": {
        "colab": {
          "base_uri": "https://localhost:8080/"
        },
        "id": "3FVscX777-QD",
        "outputId": "c04fd752-508f-4a4b-fbd7-eaf951ad74f8"
      },
      "source": [
        "#Form samples of size=35 for ages1 and ages2 and ages3\n",
        "sample_size=35\n",
        "ages1_sample=np.random.choice(ages1,sample_size)\n",
        "ages1_sample\n",
        "ages2_sample=np.random.choice(ages2,sample_size)\n",
        "ages2_sample\n",
        "ages3_sample=np.random.choice(ages3,sample_size)\n",
        "ages3_sample"
      ],
      "execution_count": null,
      "outputs": [
        {
          "output_type": "execute_result",
          "data": {
            "text/plain": [
              "array([24.94930961, 24.94930961, 25.46681481, 24.59772921, 24.22364706,\n",
              "       25.10821713, 24.71398706, 24.70528516, 24.11811264, 24.44661057,\n",
              "       25.19151343, 25.01500576, 24.58827805, 25.71158859, 24.95870238,\n",
              "       24.83656696, 25.22011725, 25.12346137, 24.77316644, 25.22011725,\n",
              "       24.37402128, 25.71158859, 24.25967269, 24.67670889, 24.51866872,\n",
              "       24.58827805, 25.37518741, 24.67670889, 25.36114006, 24.98503206,\n",
              "       25.22011725, 24.74263254, 24.25967269, 24.98503206, 25.10651286])"
            ]
          },
          "metadata": {
            "tags": []
          },
          "execution_count": 159
        }
      ]
    },
    {
      "cell_type": "code",
      "metadata": {
        "colab": {
          "base_uri": "https://localhost:8080/"
        },
        "id": "UD36w3jP8D6p",
        "outputId": "45108fd1-bb1e-421b-b28c-27ff96cb3bce"
      },
      "source": [
        "#Comparing samples\n",
        "stat, p = f_oneway(ages1_sample, ages2_sample, ages3_sample) \n",
        "print('Statistics=%.3f, p=%.3f' % (stat, p))"
      ],
      "execution_count": null,
      "outputs": [
        {
          "output_type": "stream",
          "text": [
            "Statistics=3.316, p=0.040\n"
          ],
          "name": "stdout"
        }
      ]
    },
    {
      "cell_type": "code",
      "metadata": {
        "colab": {
          "base_uri": "https://localhost:8080/"
        },
        "id": "_nn2fkuV8IqS",
        "outputId": "c554f105-878f-4ff2-9c5f-d135c7f1aeb7"
      },
      "source": [
        "#Interpreting the samples. Case 4: n=35, alpha=0.05\n",
        "\n",
        "alpha = 0.05\n",
        "if p > alpha: \n",
        "  print('All paired sample distributions are equal. We accept H0')\n",
        "else:\n",
        "  print('One or more paired sample distributions are not equal. We reject H0')"
      ],
      "execution_count": null,
      "outputs": [
        {
          "output_type": "stream",
          "text": [
            "One or more paired sample distributions are not equal. We reject H0\n"
          ],
          "name": "stdout"
        }
      ]
    },
    {
      "cell_type": "markdown",
      "metadata": {
        "id": "Bqjby6aWSWph"
      },
      "source": [
        "When alpha-value = 0.05, or 5%, we can be 95% confident that the sample mean of the three ages population are same. We will therefore accept H0 and support the claim that the paired sample distributions are equal. The sample size in this case is 35.\n",
        "\n",
        "There is still 5% chance that our claim is wrong and these three weights have significant difference and aren't paired. The conclusion is that there is not much difference between the samples of the population of ages mentioned as expected."
      ]
    },
    {
      "cell_type": "code",
      "metadata": {
        "colab": {
          "base_uri": "https://localhost:8080/"
        },
        "id": "YyVVq76P8R4P",
        "outputId": "3f47a477-5123-400c-f47f-a921134ca768"
      },
      "source": [
        "#Interpreting the samples. Case 5: n=35, alpha=0.03\n",
        "\n",
        "alpha = 0.03\n",
        "if p > alpha: \n",
        "  print('All paired sample distributions are equal. We accept H0')\n",
        "else:\n",
        "  print('One or more paired sample distributions are not equal. We reject H0')"
      ],
      "execution_count": null,
      "outputs": [
        {
          "output_type": "stream",
          "text": [
            "All paired sample distributions are equal. We accept H0\n"
          ],
          "name": "stdout"
        }
      ]
    },
    {
      "cell_type": "markdown",
      "metadata": {
        "id": "bzudYmHeShlv"
      },
      "source": [
        "When alpha-value = 0.03, or 3%, we can be 97% confident that the sample mean of the three ages population are same. We will therefore accept H0 and support the claim that the paired sample distributions are equal. The sample size in this case is 35.\n",
        "\n",
        "There is still 3% chance that our claim is wrong and these three weights have significant difference and aren't paired. The conclusion is that there is not much difference between the samples of the population of ages mentioned as expected."
      ]
    },
    {
      "cell_type": "code",
      "metadata": {
        "colab": {
          "base_uri": "https://localhost:8080/"
        },
        "id": "bAlEu-eV8e5_",
        "outputId": "c5bce95c-06e3-4d89-ba1d-20210d2e837f"
      },
      "source": [
        "#Interpreting the samples. Case 6: n=35, alpha=0.1\n",
        "\n",
        "alpha = 0.1\n",
        "if p > alpha: \n",
        "  print('All paired sample distributions are equal. We accept H0')\n",
        "else:\n",
        "  print('One or more paired sample distributions are not equal. We reject H0')"
      ],
      "execution_count": null,
      "outputs": [
        {
          "output_type": "stream",
          "text": [
            "One or more paired sample distributions are not equal. We reject H0\n"
          ],
          "name": "stdout"
        }
      ]
    },
    {
      "cell_type": "markdown",
      "metadata": {
        "id": "k0LYrEDFSnHG"
      },
      "source": [
        "When alpha-value = 0.1, or 10%, we can be 90% confident that the sample mean of the three ages population are same. We will therefore accept H0 and support the claim that the paired sample distributions are equal. The sample size in this case is 35.\n",
        "\n",
        "There is still 10% chance that our claim is wrong and these three weights have significant difference and aren't paired. The conclusion is that there is not much difference between the samples of the population of ages mentioned as expected."
      ]
    }
  ]
}