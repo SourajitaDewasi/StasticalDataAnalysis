{
  "nbformat": 4,
  "nbformat_minor": 0,
  "metadata": {
    "colab": {
      "name": "191000050.ipynb",
      "provenance": []
    },
    "kernelspec": {
      "name": "python3",
      "display_name": "Python 3"
    }
  },
  "cells": [
    {
      "cell_type": "markdown",
      "metadata": {
        "id": "VBbxGYOjtk3u"
      },
      "source": [
        "# Data Wrangling with Pandas\n",
        "\n",
        "Now that we have been exposed to the basic functionality of Pandas, lets explore some more advanced features that will be useful when addressing more complex data management tasks.\n",
        "\n",
        "As most statisticians/data analysts will admit, often the lion's share of the time spent implementing an analysis is devoted to preparing the data itself, rather than to coding or running a particular model that uses the data. This is where Pandas and  Python's standard library are beneficial, providing high-level, flexible, and efficient tools for manipulating your data as needed.\n"
      ]
    },
    {
      "cell_type": "markdown",
      "metadata": {
        "id": "54kToDektuYI"
      },
      "source": [
        "*We are setting pandas as pd, numpy as nd. In set options, we set display of html as false. The maximum columns allowed will be 20 and the maximum rows allowed would be 25.*"
      ]
    },
    {
      "cell_type": "code",
      "metadata": {
        "id": "fmxCOk3Itk30"
      },
      "source": [
        "import pandas as pd\n",
        "import numpy as np\n",
        "\n",
        "# Set some Pandas options\n",
        "pd.set_option('display.notebook_repr_html', False)\n",
        "pd.set_option('display.max_columns', 20)\n",
        "pd.set_option('display.max_rows', 25)"
      ],
      "execution_count": null,
      "outputs": []
    },
    {
      "cell_type": "markdown",
      "metadata": {
        "id": "_huaxv1btk32"
      },
      "source": [
        "## Date/Time data handling\n",
        "\n",
        "Date and time data are inherently problematic. There are an unequal number of days in every month, an unequal number of days in a year (due to leap years), and time zones that vary over space. Yet information about time is essential in many analyses, particularly in the case of time series analysis."
      ]
    },
    {
      "cell_type": "markdown",
      "metadata": {
        "id": "EZ66eCyktk34"
      },
      "source": [
        "The `datetime` built-in library handles temporal information down to the nanosecond."
      ]
    },
    {
      "cell_type": "markdown",
      "metadata": {
        "id": "IJcyc1yeuF3N"
      },
      "source": [
        "*There is a built-in library called datetime from where we import the functions of datetime and reduce the runtime efficiently.*"
      ]
    },
    {
      "cell_type": "code",
      "metadata": {
        "id": "nPJLub7btk35"
      },
      "source": [
        "from datetime import datetime"
      ],
      "execution_count": null,
      "outputs": []
    },
    {
      "cell_type": "markdown",
      "metadata": {
        "id": "X2XCM39guXKk"
      },
      "source": [
        "*datetime.now() is a function to know the current year, current month, current date hour, minute, second, and microsecond*"
      ]
    },
    {
      "cell_type": "code",
      "metadata": {
        "colab": {
          "base_uri": "https://localhost:8080/"
        },
        "id": "YG_7V7BYtk36",
        "outputId": "b1f337c1-b693-40ab-8002-307be9382598"
      },
      "source": [
        "now = datetime.now()\n",
        "now"
      ],
      "execution_count": null,
      "outputs": [
        {
          "output_type": "execute_result",
          "data": {
            "text/plain": [
              "datetime.datetime(2021, 1, 10, 5, 16, 50, 993872)"
            ]
          },
          "metadata": {
            "tags": []
          },
          "execution_count": 4
        }
      ]
    },
    {
      "cell_type": "markdown",
      "metadata": {
        "id": "7AA-DtsfviIJ"
      },
      "source": [
        "*now.day takes the date current from the now array.\n",
        "now.weekday takes the number of date from the week.*"
      ]
    },
    {
      "cell_type": "code",
      "metadata": {
        "colab": {
          "base_uri": "https://localhost:8080/"
        },
        "id": "BNqpcRhmtk3-",
        "outputId": "036c703c-b56f-451a-cf08-cd3bfe95c36f"
      },
      "source": [
        "now.day"
      ],
      "execution_count": null,
      "outputs": [
        {
          "output_type": "execute_result",
          "data": {
            "text/plain": [
              "10"
            ]
          },
          "metadata": {
            "tags": []
          },
          "execution_count": 7
        }
      ]
    },
    {
      "cell_type": "code",
      "metadata": {
        "colab": {
          "base_uri": "https://localhost:8080/"
        },
        "id": "95us7-6wtk4A",
        "outputId": "cfc90a3f-6675-45b3-823e-bf19b988de9a"
      },
      "source": [
        "now.weekday()"
      ],
      "execution_count": null,
      "outputs": [
        {
          "output_type": "execute_result",
          "data": {
            "text/plain": [
              "6"
            ]
          },
          "metadata": {
            "tags": []
          },
          "execution_count": 8
        }
      ]
    },
    {
      "cell_type": "markdown",
      "metadata": {
        "id": "tnY4fP_jtk4B"
      },
      "source": [
        "In addition to `datetime` there are simpler objects for date and time information only, respectively."
      ]
    },
    {
      "cell_type": "code",
      "metadata": {
        "id": "4NElM89ztk4D"
      },
      "source": [
        "from datetime import date, time"
      ],
      "execution_count": null,
      "outputs": []
    },
    {
      "cell_type": "markdown",
      "metadata": {
        "id": "PlWYaZttwP5H"
      },
      "source": [
        "*We can set time and date according to our need or customize. If we subtract it from the now array, we get the difference to only the values given. Then dividing by 365 gives year.*"
      ]
    },
    {
      "cell_type": "code",
      "metadata": {
        "colab": {
          "base_uri": "https://localhost:8080/"
        },
        "id": "6K7QZmwQtk4E",
        "outputId": "2983adcd-eff4-44cb-ee90-45f6b21983e2"
      },
      "source": [
        "time(3, 24)"
      ],
      "execution_count": null,
      "outputs": [
        {
          "output_type": "execute_result",
          "data": {
            "text/plain": [
              "datetime.time(3, 24)"
            ]
          },
          "metadata": {
            "tags": []
          },
          "execution_count": 10
        }
      ]
    },
    {
      "cell_type": "code",
      "metadata": {
        "colab": {
          "base_uri": "https://localhost:8080/"
        },
        "id": "Os7N-f4Ftk4H",
        "outputId": "d9c66090-7e06-4169-b250-10fc36168554"
      },
      "source": [
        "date(1970, 9, 3)"
      ],
      "execution_count": null,
      "outputs": [
        {
          "output_type": "execute_result",
          "data": {
            "text/plain": [
              "datetime.date(1970, 9, 3)"
            ]
          },
          "metadata": {
            "tags": []
          },
          "execution_count": 11
        }
      ]
    },
    {
      "cell_type": "markdown",
      "metadata": {
        "id": "n7DbjV0Xtk4I"
      },
      "source": [
        "Having a custom data type for dates and times is convenient because we can perform operations on them easily. For example, we may want to calculate the difference between two times:"
      ]
    },
    {
      "cell_type": "code",
      "metadata": {
        "colab": {
          "base_uri": "https://localhost:8080/"
        },
        "id": "JjyMywIftk4J",
        "outputId": "3af6f34a-c9a0-4883-e3b9-1f80a9ba6e9a"
      },
      "source": [
        "my_age = now - datetime(1970, 9, 3)\n",
        "my_age"
      ],
      "execution_count": null,
      "outputs": [
        {
          "output_type": "execute_result",
          "data": {
            "text/plain": [
              "datetime.timedelta(18392, 19010, 993872)"
            ]
          },
          "metadata": {
            "tags": []
          },
          "execution_count": 12
        }
      ]
    },
    {
      "cell_type": "code",
      "metadata": {
        "colab": {
          "base_uri": "https://localhost:8080/"
        },
        "id": "rPLGcIWFtk4L",
        "outputId": "58c5ff8e-6786-47f9-8bf1-545199f8aa65"
      },
      "source": [
        "my_age.days/365."
      ],
      "execution_count": null,
      "outputs": [
        {
          "output_type": "execute_result",
          "data": {
            "text/plain": [
              "50.38904109589041"
            ]
          },
          "metadata": {
            "tags": []
          },
          "execution_count": 13
        }
      ]
    },
    {
      "cell_type": "markdown",
      "metadata": {
        "id": "uudyRtnMtk4L"
      },
      "source": [
        "In this section, we will manipulate data collected from ocean-going vessels on the eastern seaboard. Vessel operations are monitored using the Automatic Identification System (AIS), a safety at sea navigation technology which vessels are required to maintain and that uses transponders to transmit very high frequency (VHF) radio signals containing static information including ship name, call sign, and country of origin, as well as dynamic information unique to a particular voyage such as vessel location, heading, and speed. \n",
        "\n",
        "The International Maritime Organization’s (IMO) International Convention for the Safety of Life at Sea requires functioning AIS capabilities on all vessels 300 gross tons or greater and the US Coast Guard requires AIS on nearly all vessels sailing in U.S. waters. The Coast Guard has established a national network of AIS receivers that provides coverage of nearly all U.S. waters. AIS signals are transmitted several times each minute and the network is capable of handling thousands of reports per minute and updates as often as every two seconds. Therefore, a typical voyage in our study might include the transmission of hundreds or thousands of AIS encoded signals. This provides a rich source of spatial data that includes both spatial and temporal information.\n",
        "\n",
        "For our purposes, we will use summarized data that describes the transit of a given vessel through a particular administrative area. The data includes the start and end time of the transit segment, as well as information about the speed of the vessel, how far it travelled, etc."
      ]
    },
    {
      "cell_type": "markdown",
      "metadata": {
        "id": "9HSTQPQMxgqu"
      },
      "source": [
        "*We are reading the transit_segments CSV file below and plot the histogram.*"
      ]
    },
    {
      "cell_type": "code",
      "metadata": {
        "colab": {
          "base_uri": "https://localhost:8080/"
        },
        "id": "H_ChHEOFtk4N",
        "outputId": "fdf8ddae-b33f-46da-e841-d3e76d472be2"
      },
      "source": [
        "segments = pd.read_csv(\"transit_segments.csv\")\n",
        "segments.head()"
      ],
      "execution_count": null,
      "outputs": [
        {
          "output_type": "execute_result",
          "data": {
            "text/plain": [
              "   mmsi               name  transit  segment  seg_length  avg_sog  min_sog  \\\n",
              "0     1        Us Govt Ves        1        1         5.1     13.2      9.2   \n",
              "1     1  Dredge Capt Frank        1        1        13.5     18.6     10.4   \n",
              "2     1      Us Gov Vessel        1        1         4.3     16.2     10.3   \n",
              "3     1      Us Gov Vessel        2        1         9.2     15.4     14.5   \n",
              "4     1  Dredge Capt Frank        2        1         9.2     15.4     14.6   \n",
              "\n",
              "   max_sog  pdgt10        st_time       end_time  \n",
              "0     14.5    96.5  2/10/09 16:03  2/10/09 16:27  \n",
              "1     20.6   100.0   4/6/09 14:31   4/6/09 15:20  \n",
              "2     20.5   100.0   4/6/09 14:36   4/6/09 14:55  \n",
              "3     16.1   100.0  4/10/09 17:58  4/10/09 18:34  \n",
              "4     16.2   100.0  4/10/09 17:59  4/10/09 18:35  "
            ]
          },
          "metadata": {
            "tags": []
          },
          "execution_count": 14
        }
      ]
    },
    {
      "cell_type": "markdown",
      "metadata": {
        "id": "_bA5w9oTtk4P"
      },
      "source": [
        "For example, we might be interested in the distribution of transit lengths, so we can plot them as a histogram:"
      ]
    },
    {
      "cell_type": "code",
      "metadata": {
        "colab": {
          "base_uri": "https://localhost:8080/",
          "height": 284
        },
        "id": "2D2jG3DUtk4P",
        "outputId": "854af69d-8ac7-46af-e34e-7d7ef3da08d3"
      },
      "source": [
        "segments.seg_length.hist(bins=500)"
      ],
      "execution_count": null,
      "outputs": [
        {
          "output_type": "execute_result",
          "data": {
            "text/plain": [
              "<matplotlib.axes._subplots.AxesSubplot at 0x7f111ed51cf8>"
            ]
          },
          "metadata": {
            "tags": []
          },
          "execution_count": 15
        },
        {
          "output_type": "display_data",
          "data": {
            "image/png": "[encoded data removed]",
            "text/plain": [
              "<Figure size 432x288 with 1 Axes>"
            ]
          },
          "metadata": {
            "tags": [],
            "needs_background": "light"
          }
        }
      ]
    },
    {
      "cell_type": "markdown",
      "metadata": {
        "id": "72B8J0pHtk4Q"
      },
      "source": [
        "Though most of the transits appear to be short, there are a few longer distances that make the plot difficult to read. This is where a transformation is useful:"
      ]
    },
    {
      "cell_type": "markdown",
      "metadata": {
        "id": "2Mi6tsTxx_I4"
      },
      "source": [
        "*We are remapping the y-axis from 5000 to 500 to get a clear visibility and change x-axis from 250 range to 8. Increasing the axis line improves the graph readability.* "
      ]
    },
    {
      "cell_type": "code",
      "metadata": {
        "colab": {
          "base_uri": "https://localhost:8080/",
          "height": 284
        },
        "id": "PC1GNbxCtk4R",
        "outputId": "4a18a71b-4b5a-4837-ba03-93e93ee784fb"
      },
      "source": [
        "segments.seg_length.apply(np.log).hist(bins=500)"
      ],
      "execution_count": null,
      "outputs": [
        {
          "output_type": "execute_result",
          "data": {
            "text/plain": [
              "<matplotlib.axes._subplots.AxesSubplot at 0x7f111e742cc0>"
            ]
          },
          "metadata": {
            "tags": []
          },
          "execution_count": 16
        },
        {
          "output_type": "display_data",
          "data": {
            "image/png": "[encoded data removed]",
            "text/plain": [
              "<Figure size 432x288 with 1 Axes>"
            ]
          },
          "metadata": {
            "tags": [],
            "needs_background": "light"
          }
        }
      ]
    },
    {
      "cell_type": "markdown",
      "metadata": {
        "id": "p0u-3Z5Qtk4R"
      },
      "source": [
        "We can see that although there are date/time fields in the dataset, they are not in any specialized format, such as `datetime`."
      ]
    },
    {
      "cell_type": "markdown",
      "metadata": {
        "id": "8EyKSCwrzBEe"
      },
      "source": [
        "*There are date and time in the dataset bit they are not specified in the datatime format so we get dtype('O') as the result.*"
      ]
    },
    {
      "cell_type": "code",
      "metadata": {
        "colab": {
          "base_uri": "https://localhost:8080/"
        },
        "id": "wZakaSzOtk4S",
        "outputId": "5b56b05b-1fae-4b52-d245-5d80e9039cc2"
      },
      "source": [
        "segments.st_time.dtype"
      ],
      "execution_count": null,
      "outputs": [
        {
          "output_type": "execute_result",
          "data": {
            "text/plain": [
              "dtype('O')"
            ]
          },
          "metadata": {
            "tags": []
          },
          "execution_count": 17
        }
      ]
    },
    {
      "cell_type": "markdown",
      "metadata": {
        "id": "6ROt7SKDtk4j"
      },
      "source": [
        "Our first order of business will be to convert these data to `datetime`. The `strptime` method parses a string representation of a date and/or time field, according to the expected format of this information."
      ]
    },
    {
      "cell_type": "markdown",
      "metadata": {
        "id": "Vb0JlbkRy3wd"
      },
      "source": [
        "*We updated .ix function to .loc because there was no attributename.*"
      ]
    },
    {
      "cell_type": "code",
      "metadata": {
        "colab": {
          "base_uri": "https://localhost:8080/"
        },
        "id": "PiTYEfOMtk4j",
        "outputId": "8db0c628-0d51-4c3e-e271-9fba8e480b1a"
      },
      "source": [
        "datetime.strptime(segments.st_time.loc[0], '%m/%d/%y %H:%M')"
      ],
      "execution_count": null,
      "outputs": [
        {
          "output_type": "execute_result",
          "data": {
            "text/plain": [
              "datetime.datetime(2009, 2, 10, 16, 3)"
            ]
          },
          "metadata": {
            "tags": []
          },
          "execution_count": 19
        }
      ]
    },
    {
      "cell_type": "markdown",
      "metadata": {
        "id": "XddDs8Istk4l"
      },
      "source": [
        "The `dateutil` package includes a parser that attempts to detect the format of the date strings, and convert them automatically."
      ]
    },
    {
      "cell_type": "code",
      "metadata": {
        "id": "O3OrrfJjtk4l"
      },
      "source": [
        "from dateutil.parser import parse"
      ],
      "execution_count": null,
      "outputs": []
    },
    {
      "cell_type": "markdown",
      "metadata": {
        "id": "3YmsdW6pznmm"
      },
      "source": [
        "*The loc property is used to access a group of rows and columns by label(s) or a boolean array.*\n",
        "\n",
        "*.loc[] is primarily label based, but may also be used with a boolean array. Here also the .ix[] is updated with .loc[] to remove the error/inconsistency in the output.*"
      ]
    },
    {
      "cell_type": "markdown",
      "metadata": {
        "id": "-9-qqcu5z1-Q"
      },
      "source": [
        "*dateutil.parse module offers a generic date/time string parser which is able to parse most known formats to represent a date and/or time.\n",
        "This module attempts to be forgiving with regards to unlikely input formats, returning a datetime object even for dates which are ambiguous. If an element of a date/time stamp is omitted, the following rules are applied:\n",
        "If AM or PM is left unspecified, a 24-hour clock is assumed, however, an hour on a 12-hour clock (0 <= hour <= 12) must be specified if AM or PM is specified.\n",
        "If a time zone is omitted, a timezone-naive datetime is returned.\n",
        "If any other elements are missing, they are taken from the datetime.datetime object passed to the parameter default. If this results in a day number exceeding the valid number of days per month, the value falls back to the end of the month.*"
      ]
    },
    {
      "cell_type": "code",
      "metadata": {
        "colab": {
          "base_uri": "https://localhost:8080/"
        },
        "id": "Jiui0mz-tk4l",
        "outputId": "827bd01d-c6c2-49dd-c3fc-d1a2bb769fdc"
      },
      "source": [
        "parse(segments.st_time.loc[0])"
      ],
      "execution_count": null,
      "outputs": [
        {
          "output_type": "execute_result",
          "data": {
            "text/plain": [
              "datetime.datetime(2009, 2, 10, 16, 3)"
            ]
          },
          "metadata": {
            "tags": []
          },
          "execution_count": 22
        }
      ]
    },
    {
      "cell_type": "markdown",
      "metadata": {
        "id": "IBvwbs9ctk4m"
      },
      "source": [
        "We can convert all the dates in a particular column by using the `apply` method."
      ]
    },
    {
      "cell_type": "code",
      "metadata": {
        "colab": {
          "base_uri": "https://localhost:8080/"
        },
        "id": "lwCmZQq3tk4n",
        "outputId": "0d3a5e03-a595-43b1-b00e-fe91ca25fc64"
      },
      "source": [
        "segments.st_time.apply(lambda d: datetime.strptime(segments.st_time.loc[0], '%m/%d/%y %H:%M'))"
      ],
      "execution_count": null,
      "outputs": [
        {
          "output_type": "execute_result",
          "data": {
            "text/plain": [
              "0       2009-02-10 16:03:00\n",
              "1       2009-02-10 16:03:00\n",
              "2       2009-02-10 16:03:00\n",
              "3       2009-02-10 16:03:00\n",
              "4       2009-02-10 16:03:00\n",
              "                ...        \n",
              "82063   2009-02-10 16:03:00\n",
              "82064   2009-02-10 16:03:00\n",
              "82065   2009-02-10 16:03:00\n",
              "82066   2009-02-10 16:03:00\n",
              "82067   2009-02-10 16:03:00\n",
              "Name: st_time, Length: 82068, dtype: datetime64[ns]"
            ]
          },
          "metadata": {
            "tags": []
          },
          "execution_count": 129
        }
      ]
    },
    {
      "cell_type": "markdown",
      "metadata": {
        "id": "Bace9dZ3tk4o"
      },
      "source": [
        "As a convenience, Pandas has a `to_datetime` method that will parse and convert an entire Series of formatted strings into `datetime` objects."
      ]
    },
    {
      "cell_type": "markdown",
      "metadata": {
        "id": "iO-tzlCV4juh"
      },
      "source": [
        "*Using to_datetime we extract the year-month-date and hours-minutes-seconds of the top 5 and last 5 datasets visible in the above mentioned format.*"
      ]
    },
    {
      "cell_type": "code",
      "metadata": {
        "colab": {
          "base_uri": "https://localhost:8080/"
        },
        "id": "SVZt6pkHtk4o",
        "outputId": "22b5dc1b-c27b-4547-b931-526dea5cb108"
      },
      "source": [
        "pd.to_datetime(segments.st_time)"
      ],
      "execution_count": null,
      "outputs": [
        {
          "output_type": "execute_result",
          "data": {
            "text/plain": [
              "0       2009-02-10 16:03:00\n",
              "1       2009-04-06 14:31:00\n",
              "2       2009-04-06 14:36:00\n",
              "3       2009-04-10 17:58:00\n",
              "4       2009-04-10 17:59:00\n",
              "                ...        \n",
              "82063   2010-09-07 20:22:00\n",
              "82064   2010-09-09 08:01:00\n",
              "82065   2010-09-10 10:21:00\n",
              "82066   2010-09-13 15:16:00\n",
              "82067                   NaT\n",
              "Name: st_time, Length: 82068, dtype: datetime64[ns]"
            ]
          },
          "metadata": {
            "tags": []
          },
          "execution_count": 34
        }
      ]
    },
    {
      "cell_type": "markdown",
      "metadata": {
        "id": "AhX-YqL3tk4p"
      },
      "source": [
        "Pandas also has a custom NA value for missing datetime objects, `NaT`."
      ]
    },
    {
      "cell_type": "code",
      "metadata": {
        "colab": {
          "base_uri": "https://localhost:8080/"
        },
        "id": "vd4vVGjTtk4p",
        "outputId": "1817e600-5868-4044-8cd8-a1234a7d18e3"
      },
      "source": [
        "pd.to_datetime([None])"
      ],
      "execution_count": null,
      "outputs": [
        {
          "output_type": "execute_result",
          "data": {
            "text/plain": [
              "DatetimeIndex(['NaT'], dtype='datetime64[ns]', freq=None)"
            ]
          },
          "metadata": {
            "tags": []
          },
          "execution_count": 37
        }
      ]
    },
    {
      "cell_type": "markdown",
      "metadata": {
        "id": "N0Jm3F7Ctk4q"
      },
      "source": [
        "Also, if `to_datetime()` has problems parsing any particular date/time format, you can pass the spec in using the `format=` argument."
      ]
    },
    {
      "cell_type": "markdown",
      "metadata": {
        "id": "76W0Heoptk4q"
      },
      "source": [
        "## Merging and joining DataFrame objects"
      ]
    },
    {
      "cell_type": "markdown",
      "metadata": {
        "id": "gJVlblzEtk4r"
      },
      "source": [
        "Now that we have the vessel transit information as we need it, we may want a little more information regarding the vessels themselves. In the `data/AIS` folder there is a second table that contains information about each of the ships that traveled the segments in the `segments` table."
      ]
    },
    {
      "cell_type": "markdown",
      "metadata": {
        "id": "DjW8x2tT5BK6"
      },
      "source": [
        "*We are importing the vessel_information.csv file using read_csv function.*"
      ]
    },
    {
      "cell_type": "code",
      "metadata": {
        "colab": {
          "base_uri": "https://localhost:8080/"
        },
        "id": "2PYwqvOHtk4r",
        "outputId": "7be560b7-febd-4c6a-ee07-3ac24625c495"
      },
      "source": [
        "vessels = pd.read_csv(\"vessel_information.csv\", index_col='mmsi')\n",
        "vessels.head()"
      ],
      "execution_count": null,
      "outputs": [
        {
          "output_type": "execute_result",
          "data": {
            "text/plain": [
              "      num_names                                              names sov  \\\n",
              "mmsi                                                                     \n",
              "1             8  Bil Holman Dredge/Dredge Capt Frank/Emo/Offsho...   Y   \n",
              "9             3                         000000009/Raven/Shearwater   N   \n",
              "21            1                                      Us Gov Vessel   Y   \n",
              "74            2                                  Mcfaul/Sarah Bell   N   \n",
              "103           3           Ron G/Us Navy Warship 103/Us Warship 103   Y   \n",
              "\n",
              "         flag flag_type  num_loas                                    loa  \\\n",
              "mmsi                                                                       \n",
              "1     Unknown   Unknown         7  42.0/48.0/57.0/90.0/138.0/154.0/156.0   \n",
              "9     Unknown   Unknown         2                              50.0/62.0   \n",
              "21    Unknown   Unknown         1                                  208.0   \n",
              "74    Unknown   Unknown         1                                  155.0   \n",
              "103   Unknown   Unknown         2                             26.0/155.0   \n",
              "\n",
              "      max_loa  num_types                             type  \n",
              "mmsi                                                       \n",
              "1       156.0          4  Dredging/MilOps/Reserved/Towing  \n",
              "9        62.0          2                     Pleasure/Tug  \n",
              "21      208.0          1                          Unknown  \n",
              "74      155.0          1                          Unknown  \n",
              "103     155.0          2                   Tanker/Unknown  "
            ]
          },
          "metadata": {
            "tags": []
          },
          "execution_count": 41
        }
      ]
    },
    {
      "cell_type": "markdown",
      "metadata": {
        "id": "qqgvcnknl12c"
      },
      "source": [
        "*We are looping through the entire dataset to find unique values under the vessels column.*"
      ]
    },
    {
      "cell_type": "code",
      "metadata": {
        "colab": {
          "base_uri": "https://localhost:8080/"
        },
        "id": "N9kEQ4fptk4r",
        "outputId": "57614c12-e8e9-4246-e602-104cdddef073"
      },
      "source": [
        "[v for v in vessels.type.unique() if v.find('/')==-1]"
      ],
      "execution_count": null,
      "outputs": [
        {
          "output_type": "execute_result",
          "data": {
            "text/plain": [
              "['Unknown',\n",
              " 'Other',\n",
              " 'Tug',\n",
              " 'Towing',\n",
              " 'Pleasure',\n",
              " 'Cargo',\n",
              " 'WIG',\n",
              " 'Fishing',\n",
              " 'BigTow',\n",
              " 'MilOps',\n",
              " 'Tanker',\n",
              " 'Passenger',\n",
              " 'SAR',\n",
              " 'Sailing',\n",
              " 'Reserved',\n",
              " 'Law',\n",
              " 'Dredging',\n",
              " 'AntiPol',\n",
              " 'Pilot',\n",
              " 'HSC',\n",
              " 'Diving',\n",
              " 'Resol-18',\n",
              " 'Tender',\n",
              " 'Spare',\n",
              " 'Medical']"
            ]
          },
          "metadata": {
            "tags": []
          },
          "execution_count": 42
        }
      ]
    },
    {
      "cell_type": "markdown",
      "metadata": {
        "id": "9APbI9G0l_cg"
      },
      "source": [
        "*We are now counting thevessels different type using the function of value_counts().*"
      ]
    },
    {
      "cell_type": "code",
      "metadata": {
        "colab": {
          "base_uri": "https://localhost:8080/"
        },
        "id": "5ylc8tvxtk4t",
        "outputId": "57e25d1b-c37f-4d1b-f922-451792427ae6"
      },
      "source": [
        "vessels.type.value_counts()"
      ],
      "execution_count": null,
      "outputs": [
        {
          "output_type": "execute_result",
          "data": {
            "text/plain": [
              "Cargo                        5622\n",
              "Tanker                       2440\n",
              "Pleasure                      601\n",
              "Tug                           221\n",
              "Sailing                       205\n",
              "                             ... \n",
              "Dredging/Other/Unknown          1\n",
              "MilOps/Other/Reserved/SAR       1\n",
              "AntiPol/Fishing/Pleasure        1\n",
              "Other/WIG                       1\n",
              "Fishing/SAR/Unknown             1\n",
              "Name: type, Length: 206, dtype: int64"
            ]
          },
          "metadata": {
            "tags": []
          },
          "execution_count": 43
        }
      ]
    },
    {
      "cell_type": "markdown",
      "metadata": {
        "id": "aZIrhWVDtk4t"
      },
      "source": [
        "The challenge, however, is that several ships have travelled multiple segments, so there is not a one-to-one relationship between the rows of the two tables. The table of vessel information has a *one-to-many* relationship with the segments.\n",
        "\n",
        "In Pandas, we can combine tables according to the value of one or more *keys* that are used to identify rows, much like an index. Using a trivial example:"
      ]
    },
    {
      "cell_type": "markdown",
      "metadata": {
        "id": "PYztsk2F7LI8"
      },
      "source": [
        "*This is because Python 3 range does not return a list, unlike Python 2. This code was written for Python 2. So*\n",
        "\n",
        "```\n",
        "# df2 = pd.DataFrame(dict(id=range(3)+range(3), score=np.random.random(size=6)))\n",
        "```\n",
        "*needed to be converted to*\n",
        "\n",
        "\n",
        "```\n",
        "# df2 = pd.DataFrame(dict(id=range(3)+range(3), score=np.random.random(size=6)))\n",
        "```"
      ]
    },
    {
      "cell_type": "code",
      "metadata": {
        "colab": {
          "base_uri": "https://localhost:8080/"
        },
        "id": "PVYVKmwstk4u",
        "outputId": "f7808a0f-e8dd-4a54-d142-41246ceb4806"
      },
      "source": [
        "df1 = pd.DataFrame(dict(id=range(4), age=np.random.randint(18, 31, size=4)))\n",
        "df2 = pd.DataFrame(dict(id=[*range(3),*range(3)], score=np.random.random(size=6)))\n",
        "\n",
        "df1, df2"
      ],
      "execution_count": null,
      "outputs": [
        {
          "output_type": "execute_result",
          "data": {
            "text/plain": [
              "(   id  age\n",
              " 0   0   24\n",
              " 1   1   20\n",
              " 2   2   30\n",
              " 3   3   22,    id     score\n",
              " 0   0  0.060216\n",
              " 1   1  0.469883\n",
              " 2   2  0.589066\n",
              " 3   0  0.984143\n",
              " 4   1  0.798989\n",
              " 5   2  0.287660)"
            ]
          },
          "metadata": {
            "tags": []
          },
          "execution_count": 46
        }
      ]
    },
    {
      "cell_type": "markdown",
      "metadata": {
        "id": "UFLTdjhc7zFC"
      },
      "source": [
        "*We merge the view of two tables using .merge function.*"
      ]
    },
    {
      "cell_type": "code",
      "metadata": {
        "colab": {
          "base_uri": "https://localhost:8080/"
        },
        "id": "x_ySwX1dtk4v",
        "outputId": "9947d748-f087-432f-fcf3-5ab47ef9304b"
      },
      "source": [
        "pd.merge(df1, df2)"
      ],
      "execution_count": null,
      "outputs": [
        {
          "output_type": "execute_result",
          "data": {
            "text/plain": [
              "   id  age     score\n",
              "0   0   24  0.060216\n",
              "1   0   24  0.984143\n",
              "2   1   20  0.469883\n",
              "3   1   20  0.798989\n",
              "4   2   30  0.589066\n",
              "5   2   30  0.287660"
            ]
          },
          "metadata": {
            "tags": []
          },
          "execution_count": 47
        }
      ]
    },
    {
      "cell_type": "markdown",
      "metadata": {
        "id": "CgBJSJKltk4v"
      },
      "source": [
        "Notice that without any information about which column to use as a key, Pandas did the right thing and used the `id` column in both tables. Unless specified otherwise, `merge` will used any common column names as keys for merging the tables. \n",
        "\n",
        "Notice also that `id=3` from `df1` was omitted from the merged table. This is because, by default, `merge` performs an **inner join** on the tables, meaning that the merged table represents an intersection of the two tables."
      ]
    },
    {
      "cell_type": "markdown",
      "metadata": {
        "id": "YU0yujWx8CPZ"
      },
      "source": [
        "*We merge the view of two tables using .merge function, in this case as an outer join.*"
      ]
    },
    {
      "cell_type": "code",
      "metadata": {
        "colab": {
          "base_uri": "https://localhost:8080/"
        },
        "id": "OvCd3jOktk4w",
        "outputId": "539c68b5-f203-43ad-8f0f-c6ab5ebebdb6"
      },
      "source": [
        "pd.merge(df1, df2, how='outer')"
      ],
      "execution_count": null,
      "outputs": [
        {
          "output_type": "execute_result",
          "data": {
            "text/plain": [
              "   id  age     score\n",
              "0   0   24  0.060216\n",
              "1   0   24  0.984143\n",
              "2   1   20  0.469883\n",
              "3   1   20  0.798989\n",
              "4   2   30  0.589066\n",
              "5   2   30  0.287660\n",
              "6   3   22       NaN"
            ]
          },
          "metadata": {
            "tags": []
          },
          "execution_count": 48
        }
      ]
    },
    {
      "cell_type": "markdown",
      "metadata": {
        "id": "j9o6PTIqtk4w"
      },
      "source": [
        "The **outer join** above yields the union of the two tables, so all rows are represented, with missing values inserted as appropriate. One can also perform **right** and **left** joins to include all rows of the right or left table (*i.e.* first or second argument to `merge`), but not necessarily the other."
      ]
    },
    {
      "cell_type": "markdown",
      "metadata": {
        "id": "bZpjlr9ltk4w"
      },
      "source": [
        "Looking at the two datasets that we wish to merge:"
      ]
    },
    {
      "cell_type": "code",
      "metadata": {
        "colab": {
          "base_uri": "https://localhost:8080/"
        },
        "id": "H3aElJYptk4x",
        "outputId": "424fcc91-be49-4df7-ea1e-63a0fa47db06"
      },
      "source": [
        "segments.head(1)"
      ],
      "execution_count": null,
      "outputs": [
        {
          "output_type": "execute_result",
          "data": {
            "text/plain": [
              "   mmsi         name  transit  segment  seg_length  avg_sog  min_sog  max_sog  \\\n",
              "0     1  Us Govt Ves        1        1         5.1     13.2      9.2     14.5   \n",
              "\n",
              "   pdgt10        st_time       end_time  \n",
              "0    96.5  2/10/09 16:03  2/10/09 16:27  "
            ]
          },
          "metadata": {
            "tags": []
          },
          "execution_count": 49
        }
      ]
    },
    {
      "cell_type": "code",
      "metadata": {
        "colab": {
          "base_uri": "https://localhost:8080/"
        },
        "id": "q5krlh8Ctk4y",
        "outputId": "b735b3ab-064a-4202-d850-f167eb773ea4"
      },
      "source": [
        "vessels.head(1)"
      ],
      "execution_count": null,
      "outputs": [
        {
          "output_type": "execute_result",
          "data": {
            "text/plain": [
              "      num_names                                              names sov  \\\n",
              "mmsi                                                                     \n",
              "1             8  Bil Holman Dredge/Dredge Capt Frank/Emo/Offsho...   Y   \n",
              "\n",
              "         flag flag_type  num_loas                                    loa  \\\n",
              "mmsi                                                                       \n",
              "1     Unknown   Unknown         7  42.0/48.0/57.0/90.0/138.0/154.0/156.0   \n",
              "\n",
              "      max_loa  num_types                             type  \n",
              "mmsi                                                       \n",
              "1       156.0          4  Dredging/MilOps/Reserved/Towing  "
            ]
          },
          "metadata": {
            "tags": []
          },
          "execution_count": 50
        }
      ]
    },
    {
      "cell_type": "markdown",
      "metadata": {
        "id": "4uB4Xt_ltk4y"
      },
      "source": [
        "we see that there is a `mmsi` value (a vessel identifier) in each table, but it is used as an index for the `vessels` table. In this case, we have to specify to join on the index for this table, and on the `mmsi` column for the other."
      ]
    },
    {
      "cell_type": "code",
      "metadata": {
        "id": "qTtcgyhPtk4z"
      },
      "source": [
        "segments_merged = pd.merge(vessels, segments, left_index=True, right_on='mmsi')"
      ],
      "execution_count": null,
      "outputs": []
    },
    {
      "cell_type": "code",
      "metadata": {
        "colab": {
          "base_uri": "https://localhost:8080/"
        },
        "id": "CKnZKCastk40",
        "outputId": "f76b37d8-0b75-45c8-c510-ede8bb6653e4"
      },
      "source": [
        "segments_merged.head()"
      ],
      "execution_count": null,
      "outputs": [
        {
          "output_type": "execute_result",
          "data": {
            "text/plain": [
              "   num_names                                              names sov     flag  \\\n",
              "0          8  Bil Holman Dredge/Dredge Capt Frank/Emo/Offsho...   Y  Unknown   \n",
              "1          8  Bil Holman Dredge/Dredge Capt Frank/Emo/Offsho...   Y  Unknown   \n",
              "2          8  Bil Holman Dredge/Dredge Capt Frank/Emo/Offsho...   Y  Unknown   \n",
              "3          8  Bil Holman Dredge/Dredge Capt Frank/Emo/Offsho...   Y  Unknown   \n",
              "4          8  Bil Holman Dredge/Dredge Capt Frank/Emo/Offsho...   Y  Unknown   \n",
              "\n",
              "  flag_type  num_loas                                    loa  max_loa  \\\n",
              "0   Unknown         7  42.0/48.0/57.0/90.0/138.0/154.0/156.0    156.0   \n",
              "1   Unknown         7  42.0/48.0/57.0/90.0/138.0/154.0/156.0    156.0   \n",
              "2   Unknown         7  42.0/48.0/57.0/90.0/138.0/154.0/156.0    156.0   \n",
              "3   Unknown         7  42.0/48.0/57.0/90.0/138.0/154.0/156.0    156.0   \n",
              "4   Unknown         7  42.0/48.0/57.0/90.0/138.0/154.0/156.0    156.0   \n",
              "\n",
              "   num_types                             type  ...               name transit  \\\n",
              "0          4  Dredging/MilOps/Reserved/Towing  ...        Us Govt Ves       1   \n",
              "1          4  Dredging/MilOps/Reserved/Towing  ...  Dredge Capt Frank       1   \n",
              "2          4  Dredging/MilOps/Reserved/Towing  ...      Us Gov Vessel       1   \n",
              "3          4  Dredging/MilOps/Reserved/Towing  ...      Us Gov Vessel       2   \n",
              "4          4  Dredging/MilOps/Reserved/Towing  ...  Dredge Capt Frank       2   \n",
              "\n",
              "   segment  seg_length  avg_sog  min_sog  max_sog  pdgt10        st_time  \\\n",
              "0        1         5.1     13.2      9.2     14.5    96.5  2/10/09 16:03   \n",
              "1        1        13.5     18.6     10.4     20.6   100.0   4/6/09 14:31   \n",
              "2        1         4.3     16.2     10.3     20.5   100.0   4/6/09 14:36   \n",
              "3        1         9.2     15.4     14.5     16.1   100.0  4/10/09 17:58   \n",
              "4        1         9.2     15.4     14.6     16.2   100.0  4/10/09 17:59   \n",
              "\n",
              "        end_time  \n",
              "0  2/10/09 16:27  \n",
              "1   4/6/09 15:20  \n",
              "2   4/6/09 14:55  \n",
              "3  4/10/09 18:34  \n",
              "4  4/10/09 18:35  \n",
              "\n",
              "[5 rows x 21 columns]"
            ]
          },
          "metadata": {
            "tags": []
          },
          "execution_count": 52
        }
      ]
    },
    {
      "cell_type": "markdown",
      "metadata": {
        "id": "yqbZLv5ptk40"
      },
      "source": [
        "In this case, the default inner join is suitable; we are not interested in observations from either table that do not have corresponding entries in the other. \n",
        "\n",
        "Notice that `mmsi` field that was an index on the `vessels` table is no longer an index on the merged table."
      ]
    },
    {
      "cell_type": "markdown",
      "metadata": {
        "id": "beRItv7Atk40"
      },
      "source": [
        "Here, we used the `merge` function to perform the merge; we could also have used the `merge` method for either of the tables:"
      ]
    },
    {
      "cell_type": "code",
      "metadata": {
        "colab": {
          "base_uri": "https://localhost:8080/"
        },
        "id": "C89XQoLwtk40",
        "outputId": "d3225a64-5e8b-4785-d8a5-1c79a1010ec1"
      },
      "source": [
        "vessels.merge(segments, left_index=True, right_on='mmsi').head()"
      ],
      "execution_count": null,
      "outputs": [
        {
          "output_type": "execute_result",
          "data": {
            "text/plain": [
              "   num_names                                              names sov     flag  \\\n",
              "0          8  Bil Holman Dredge/Dredge Capt Frank/Emo/Offsho...   Y  Unknown   \n",
              "1          8  Bil Holman Dredge/Dredge Capt Frank/Emo/Offsho...   Y  Unknown   \n",
              "2          8  Bil Holman Dredge/Dredge Capt Frank/Emo/Offsho...   Y  Unknown   \n",
              "3          8  Bil Holman Dredge/Dredge Capt Frank/Emo/Offsho...   Y  Unknown   \n",
              "4          8  Bil Holman Dredge/Dredge Capt Frank/Emo/Offsho...   Y  Unknown   \n",
              "\n",
              "  flag_type  num_loas                                    loa  max_loa  \\\n",
              "0   Unknown         7  42.0/48.0/57.0/90.0/138.0/154.0/156.0    156.0   \n",
              "1   Unknown         7  42.0/48.0/57.0/90.0/138.0/154.0/156.0    156.0   \n",
              "2   Unknown         7  42.0/48.0/57.0/90.0/138.0/154.0/156.0    156.0   \n",
              "3   Unknown         7  42.0/48.0/57.0/90.0/138.0/154.0/156.0    156.0   \n",
              "4   Unknown         7  42.0/48.0/57.0/90.0/138.0/154.0/156.0    156.0   \n",
              "\n",
              "   num_types                             type  ...               name transit  \\\n",
              "0          4  Dredging/MilOps/Reserved/Towing  ...        Us Govt Ves       1   \n",
              "1          4  Dredging/MilOps/Reserved/Towing  ...  Dredge Capt Frank       1   \n",
              "2          4  Dredging/MilOps/Reserved/Towing  ...      Us Gov Vessel       1   \n",
              "3          4  Dredging/MilOps/Reserved/Towing  ...      Us Gov Vessel       2   \n",
              "4          4  Dredging/MilOps/Reserved/Towing  ...  Dredge Capt Frank       2   \n",
              "\n",
              "   segment  seg_length  avg_sog  min_sog  max_sog  pdgt10        st_time  \\\n",
              "0        1         5.1     13.2      9.2     14.5    96.5  2/10/09 16:03   \n",
              "1        1        13.5     18.6     10.4     20.6   100.0   4/6/09 14:31   \n",
              "2        1         4.3     16.2     10.3     20.5   100.0   4/6/09 14:36   \n",
              "3        1         9.2     15.4     14.5     16.1   100.0  4/10/09 17:58   \n",
              "4        1         9.2     15.4     14.6     16.2   100.0  4/10/09 17:59   \n",
              "\n",
              "        end_time  \n",
              "0  2/10/09 16:27  \n",
              "1   4/6/09 15:20  \n",
              "2   4/6/09 14:55  \n",
              "3  4/10/09 18:34  \n",
              "4  4/10/09 18:35  \n",
              "\n",
              "[5 rows x 21 columns]"
            ]
          },
          "metadata": {
            "tags": []
          },
          "execution_count": 53
        }
      ]
    },
    {
      "cell_type": "markdown",
      "metadata": {
        "id": "X2hyDsDYtk41"
      },
      "source": [
        "Occasionally, there will be fields with the same in both tables that we do not wish to use to join the tables; they may contain different information, despite having the same name. In this case, Pandas will by default append suffixes `_x` and `_y` to the columns to uniquely identify them."
      ]
    },
    {
      "cell_type": "markdown",
      "metadata": {
        "id": "fKcNs-dO7Spt"
      },
      "source": [
        "*_x is for the x-axis and _y is for the y-axis.*"
      ]
    },
    {
      "cell_type": "code",
      "metadata": {
        "colab": {
          "base_uri": "https://localhost:8080/"
        },
        "id": "BG0HlY_xtk41",
        "outputId": "6426a33d-a5bf-43eb-ac65-0a3e7c7f06e6"
      },
      "source": [
        "segments['type'] = 'foo'\n",
        "pd.merge(vessels, segments, left_index=True, right_on='mmsi').head()"
      ],
      "execution_count": null,
      "outputs": [
        {
          "output_type": "execute_result",
          "data": {
            "text/plain": [
              "   num_names                                              names sov     flag  \\\n",
              "0          8  Bil Holman Dredge/Dredge Capt Frank/Emo/Offsho...   Y  Unknown   \n",
              "1          8  Bil Holman Dredge/Dredge Capt Frank/Emo/Offsho...   Y  Unknown   \n",
              "2          8  Bil Holman Dredge/Dredge Capt Frank/Emo/Offsho...   Y  Unknown   \n",
              "3          8  Bil Holman Dredge/Dredge Capt Frank/Emo/Offsho...   Y  Unknown   \n",
              "4          8  Bil Holman Dredge/Dredge Capt Frank/Emo/Offsho...   Y  Unknown   \n",
              "\n",
              "  flag_type  num_loas                                    loa  max_loa  \\\n",
              "0   Unknown         7  42.0/48.0/57.0/90.0/138.0/154.0/156.0    156.0   \n",
              "1   Unknown         7  42.0/48.0/57.0/90.0/138.0/154.0/156.0    156.0   \n",
              "2   Unknown         7  42.0/48.0/57.0/90.0/138.0/154.0/156.0    156.0   \n",
              "3   Unknown         7  42.0/48.0/57.0/90.0/138.0/154.0/156.0    156.0   \n",
              "4   Unknown         7  42.0/48.0/57.0/90.0/138.0/154.0/156.0    156.0   \n",
              "\n",
              "   num_types                           type_x  ...  transit segment  \\\n",
              "0          4  Dredging/MilOps/Reserved/Towing  ...        1       1   \n",
              "1          4  Dredging/MilOps/Reserved/Towing  ...        1       1   \n",
              "2          4  Dredging/MilOps/Reserved/Towing  ...        1       1   \n",
              "3          4  Dredging/MilOps/Reserved/Towing  ...        2       1   \n",
              "4          4  Dredging/MilOps/Reserved/Towing  ...        2       1   \n",
              "\n",
              "   seg_length  avg_sog  min_sog  max_sog  pdgt10        st_time  \\\n",
              "0         5.1     13.2      9.2     14.5    96.5  2/10/09 16:03   \n",
              "1        13.5     18.6     10.4     20.6   100.0   4/6/09 14:31   \n",
              "2         4.3     16.2     10.3     20.5   100.0   4/6/09 14:36   \n",
              "3         9.2     15.4     14.5     16.1   100.0  4/10/09 17:58   \n",
              "4         9.2     15.4     14.6     16.2   100.0  4/10/09 17:59   \n",
              "\n",
              "        end_time type_y  \n",
              "0  2/10/09 16:27    foo  \n",
              "1   4/6/09 15:20    foo  \n",
              "2   4/6/09 14:55    foo  \n",
              "3  4/10/09 18:34    foo  \n",
              "4  4/10/09 18:35    foo  \n",
              "\n",
              "[5 rows x 22 columns]"
            ]
          },
          "metadata": {
            "tags": []
          },
          "execution_count": 54
        }
      ]
    },
    {
      "cell_type": "markdown",
      "metadata": {
        "id": "lfQ3ZUFPtk41"
      },
      "source": [
        "This behavior can be overridden by specifying a `suffixes` argument, containing a list of the suffixes to be used for the columns of the left and right columns, respectively."
      ]
    },
    {
      "cell_type": "markdown",
      "metadata": {
        "id": "nSN9LU3Ltk41"
      },
      "source": [
        "## Concatenation\n",
        "\n",
        "A common data manipulation is appending rows or columns to a dataset that already conform to the dimensions of the exsiting rows or colums, respectively. In NumPy, this is done either with `concatenate` or the convenience functions `c_` and `r_`:"
      ]
    },
    {
      "cell_type": "markdown",
      "metadata": {
        "id": "w5RNeEV4msxd"
      },
      "source": [
        "*Stacking is the concept of joining arrays in NumPy. Arrays having the same dimensions can be stacked. The stacking is done along a new axis. Stacking leads to increased customization of arrays. We can combine the stack function with other functions to further increase its capabilities.*\n",
        "\n",
        "*We are also using random function to generate 5 random values each to concatenate it and stack it row and column wise.*"
      ]
    },
    {
      "cell_type": "code",
      "metadata": {
        "colab": {
          "base_uri": "https://localhost:8080/"
        },
        "id": "vWclSbyTtk43",
        "outputId": "60852e97-844a-4a81-bd9e-e580eccc9287"
      },
      "source": [
        "np.concatenate([np.random.random(5), np.random.random(5)])"
      ],
      "execution_count": null,
      "outputs": [
        {
          "output_type": "execute_result",
          "data": {
            "text/plain": [
              "array([0.38620268, 0.51976732, 0.8987823 , 0.39397327, 0.08782216,\n",
              "       0.53837176, 0.39550022, 0.74768838, 0.37721254, 0.18403843])"
            ]
          },
          "metadata": {
            "tags": []
          },
          "execution_count": 55
        }
      ]
    },
    {
      "cell_type": "markdown",
      "metadata": {
        "id": "r4lIFWn37b4d"
      },
      "source": [
        "*Concatenation row-wise*"
      ]
    },
    {
      "cell_type": "code",
      "metadata": {
        "colab": {
          "base_uri": "https://localhost:8080/"
        },
        "id": "WF9NPSeRtk43",
        "outputId": "b768b88c-fc5d-4b77-8bc5-6c4616de6114"
      },
      "source": [
        "np.r_[np.random.random(5), np.random.random(5)]"
      ],
      "execution_count": null,
      "outputs": [
        {
          "output_type": "execute_result",
          "data": {
            "text/plain": [
              "array([0.25831611, 0.80155542, 0.19920034, 0.17454747, 0.74136897,\n",
              "       0.62796514, 0.01087597, 0.01092685, 0.69842726, 0.71092938])"
            ]
          },
          "metadata": {
            "tags": []
          },
          "execution_count": 56
        }
      ]
    },
    {
      "cell_type": "markdown",
      "metadata": {
        "id": "ozGRShD67hpJ"
      },
      "source": [
        "*Concatenation column-wise*"
      ]
    },
    {
      "cell_type": "code",
      "metadata": {
        "colab": {
          "base_uri": "https://localhost:8080/"
        },
        "id": "_sm8SrIqtk43",
        "outputId": "88b4eef2-867d-464d-ecd0-f6414b9ddd22"
      },
      "source": [
        "np.c_[np.random.random(5), np.random.random(5)]"
      ],
      "execution_count": null,
      "outputs": [
        {
          "output_type": "execute_result",
          "data": {
            "text/plain": [
              "array([[0.45068675, 0.22228535],\n",
              "       [0.02961676, 0.21537596],\n",
              "       [0.58069216, 0.88246224],\n",
              "       [0.16669935, 0.15707914],\n",
              "       [0.99911336, 0.04928344]])"
            ]
          },
          "metadata": {
            "tags": []
          },
          "execution_count": 57
        }
      ]
    },
    {
      "cell_type": "markdown",
      "metadata": {
        "id": "5SAVZHD8tk43"
      },
      "source": [
        "This operation is also called *binding* or *stacking*.\n",
        "\n",
        "With Pandas' indexed data structures, there are additional considerations as the overlap in index values between two data structures affects how they are concatenate.\n",
        "\n",
        "Lets import two microbiome datasets, each consisting of counts of microorganiams from a particular patient. We will use the first column of each dataset as the index."
      ]
    },
    {
      "cell_type": "code",
      "metadata": {
        "colab": {
          "base_uri": "https://localhost:8080/"
        },
        "id": "1yo5vvCDtk43",
        "outputId": "83af9cfd-4e0c-44f6-ef92-30184b35edbd"
      },
      "source": [
        "mb1 = pd.read_excel('MID1.xls', 'Sheet 1', index_col=0, header=None)\n",
        "mb2 = pd.read_excel('MID2.xls', 'Sheet 1', index_col=0, header=None)\n",
        "mb1.shape, mb2.shape"
      ],
      "execution_count": null,
      "outputs": [
        {
          "output_type": "execute_result",
          "data": {
            "text/plain": [
              "((272, 1), (288, 1))"
            ]
          },
          "metadata": {
            "tags": []
          },
          "execution_count": 59
        }
      ]
    },
    {
      "cell_type": "code",
      "metadata": {
        "colab": {
          "base_uri": "https://localhost:8080/"
        },
        "id": "JLbxfr0Ntk44",
        "outputId": "62c5ece8-caa7-4f92-b135-c5c988c4736d"
      },
      "source": [
        "mb1.head()"
      ],
      "execution_count": null,
      "outputs": [
        {
          "output_type": "execute_result",
          "data": {
            "text/plain": [
              "                                                    1\n",
              "0                                                    \n",
              "Archaea \"Crenarchaeota\" Thermoprotei Desulfuroc...  7\n",
              "Archaea \"Crenarchaeota\" Thermoprotei Desulfuroc...  2\n",
              "Archaea \"Crenarchaeota\" Thermoprotei Sulfolobal...  3\n",
              "Archaea \"Crenarchaeota\" Thermoprotei Thermoprot...  3\n",
              "Archaea \"Euryarchaeota\" \"Methanomicrobia\" Metha...  7"
            ]
          },
          "metadata": {
            "tags": []
          },
          "execution_count": 60
        }
      ]
    },
    {
      "cell_type": "markdown",
      "metadata": {
        "id": "wuAZcPA6tk44"
      },
      "source": [
        "Let's give the index and columns meaningful labels:"
      ]
    },
    {
      "cell_type": "code",
      "metadata": {
        "id": "SMBkiJZetk45"
      },
      "source": [
        "mb1.columns = mb2.columns = ['Count']"
      ],
      "execution_count": null,
      "outputs": []
    },
    {
      "cell_type": "code",
      "metadata": {
        "id": "dYvhj7hjtk45"
      },
      "source": [
        "mb1.index.name = mb2.index.name = 'Taxon'"
      ],
      "execution_count": null,
      "outputs": []
    },
    {
      "cell_type": "code",
      "metadata": {
        "colab": {
          "base_uri": "https://localhost:8080/"
        },
        "id": "YEhdomJXtk45",
        "outputId": "1a62a3a1-3495-4779-ec1e-eeaa084cb80c"
      },
      "source": [
        "mb1.head()"
      ],
      "execution_count": null,
      "outputs": [
        {
          "output_type": "execute_result",
          "data": {
            "text/plain": [
              "                                                    Count\n",
              "Taxon                                                    \n",
              "Archaea \"Crenarchaeota\" Thermoprotei Desulfuroc...      7\n",
              "Archaea \"Crenarchaeota\" Thermoprotei Desulfuroc...      2\n",
              "Archaea \"Crenarchaeota\" Thermoprotei Sulfolobal...      3\n",
              "Archaea \"Crenarchaeota\" Thermoprotei Thermoprot...      3\n",
              "Archaea \"Euryarchaeota\" \"Methanomicrobia\" Metha...      7"
            ]
          },
          "metadata": {
            "tags": []
          },
          "execution_count": 63
        }
      ]
    },
    {
      "cell_type": "markdown",
      "metadata": {
        "id": "cyYLMrwDtk45"
      },
      "source": [
        "The index of these data is the unique biological classification of each organism, beginning with *domain*, *phylum*, *class*, and for some organisms, going all the way down to the genus level.\n",
        "\n",
        "![classification](http://upload.wikimedia.org/wikipedia/commons/thumb/a/a5/Biological_classification_L_Pengo_vflip.svg/150px-Biological_classification_L_Pengo_vflip.svg.png)"
      ]
    },
    {
      "cell_type": "code",
      "metadata": {
        "colab": {
          "base_uri": "https://localhost:8080/"
        },
        "id": "pSxrFhAutk45",
        "outputId": "b299ad81-e5d1-4f6a-e100-aa0b67c741e5"
      },
      "source": [
        "mb1.index[:3]"
      ],
      "execution_count": null,
      "outputs": [
        {
          "output_type": "execute_result",
          "data": {
            "text/plain": [
              "Index(['Archaea \"Crenarchaeota\" Thermoprotei Desulfurococcales Desulfurococcaceae Ignisphaera',\n",
              "       'Archaea \"Crenarchaeota\" Thermoprotei Desulfurococcales Pyrodictiaceae Pyrolobus',\n",
              "       'Archaea \"Crenarchaeota\" Thermoprotei Sulfolobales Sulfolobaceae Stygiolobus'],\n",
              "      dtype='object', name='Taxon')"
            ]
          },
          "metadata": {
            "tags": []
          },
          "execution_count": 64
        }
      ]
    },
    {
      "cell_type": "markdown",
      "metadata": {
        "id": "5kP4TPCwmzA4"
      },
      "source": [
        "*Using is_unique function we are checking if the values of index are unique and it will written true output.*"
      ]
    },
    {
      "cell_type": "code",
      "metadata": {
        "colab": {
          "base_uri": "https://localhost:8080/"
        },
        "id": "laBN4sEItk46",
        "outputId": "ea136381-7911-4805-d8dd-61f4bc7cae56"
      },
      "source": [
        "mb1.index.is_unique"
      ],
      "execution_count": null,
      "outputs": [
        {
          "output_type": "execute_result",
          "data": {
            "text/plain": [
              "True"
            ]
          },
          "metadata": {
            "tags": []
          },
          "execution_count": 65
        }
      ]
    },
    {
      "cell_type": "markdown",
      "metadata": {
        "id": "kECywtOHtk47"
      },
      "source": [
        "If we concatenate along `axis=0` (the default), we will obtain another data frame with the the rows concatenated:"
      ]
    },
    {
      "cell_type": "code",
      "metadata": {
        "colab": {
          "base_uri": "https://localhost:8080/"
        },
        "id": "POQVEWMttk47",
        "outputId": "66c97b60-ae71-429a-b3ee-c7196b28140b"
      },
      "source": [
        "pd.concat([mb1, mb2], axis=0).shape"
      ],
      "execution_count": null,
      "outputs": [
        {
          "output_type": "execute_result",
          "data": {
            "text/plain": [
              "(560, 1)"
            ]
          },
          "metadata": {
            "tags": []
          },
          "execution_count": 66
        }
      ]
    },
    {
      "cell_type": "markdown",
      "metadata": {
        "id": "yQR7_sMStk48"
      },
      "source": [
        "However, the index is no longer unique, due to overlap between the two DataFrames."
      ]
    },
    {
      "cell_type": "code",
      "metadata": {
        "colab": {
          "base_uri": "https://localhost:8080/"
        },
        "id": "hbPbyKDgtk48",
        "outputId": "af2996cf-46ab-486e-e324-89cef53cedce"
      },
      "source": [
        "pd.concat([mb1, mb2], axis=0).index.is_unique"
      ],
      "execution_count": null,
      "outputs": [
        {
          "output_type": "execute_result",
          "data": {
            "text/plain": [
              "False"
            ]
          },
          "metadata": {
            "tags": []
          },
          "execution_count": 67
        }
      ]
    },
    {
      "cell_type": "markdown",
      "metadata": {
        "id": "3h9cMi9utk49"
      },
      "source": [
        "Concatenating along `axis=1` will concatenate column-wise, but respecting the indices of the two DataFrames."
      ]
    },
    {
      "cell_type": "code",
      "metadata": {
        "colab": {
          "base_uri": "https://localhost:8080/"
        },
        "id": "6kK1ymxltk49",
        "outputId": "34b8e2ca-6c1a-45b2-a6f9-e15d62e7017c"
      },
      "source": [
        "pd.concat([mb1, mb2], axis=1).shape"
      ],
      "execution_count": null,
      "outputs": [
        {
          "output_type": "execute_result",
          "data": {
            "text/plain": [
              "(438, 2)"
            ]
          },
          "metadata": {
            "tags": []
          },
          "execution_count": 68
        }
      ]
    },
    {
      "cell_type": "code",
      "metadata": {
        "colab": {
          "base_uri": "https://localhost:8080/"
        },
        "id": "T-K3IQu5tk4_",
        "outputId": "1517a169-a6ca-4114-91e2-811808f9449b"
      },
      "source": [
        "pd.concat([mb1, mb2], axis=1).head()"
      ],
      "execution_count": null,
      "outputs": [
        {
          "output_type": "execute_result",
          "data": {
            "text/plain": [
              "                                                    Count  Count\n",
              "Archaea \"Crenarchaeota\" Thermoprotei Desulfuroc...    7.0   23.0\n",
              "Archaea \"Crenarchaeota\" Thermoprotei Desulfuroc...    2.0    2.0\n",
              "Archaea \"Crenarchaeota\" Thermoprotei Sulfolobal...    3.0   10.0\n",
              "Archaea \"Crenarchaeota\" Thermoprotei Thermoprot...    3.0    9.0\n",
              "Archaea \"Euryarchaeota\" \"Methanomicrobia\" Metha...    7.0    9.0"
            ]
          },
          "metadata": {
            "tags": []
          },
          "execution_count": 69
        }
      ]
    },
    {
      "cell_type": "code",
      "metadata": {
        "colab": {
          "base_uri": "https://localhost:8080/"
        },
        "id": "uvK6BjzRtk5B",
        "outputId": "d6531bbc-357f-4470-c8fe-d9d2204f1423"
      },
      "source": [
        "pd.concat([mb1, mb2], axis=1).values[:5]"
      ],
      "execution_count": null,
      "outputs": [
        {
          "output_type": "execute_result",
          "data": {
            "text/plain": [
              "array([[ 7., 23.],\n",
              "       [ 2.,  2.],\n",
              "       [ 3., 10.],\n",
              "       [ 3.,  9.],\n",
              "       [ 7.,  9.]])"
            ]
          },
          "metadata": {
            "tags": []
          },
          "execution_count": 70
        }
      ]
    },
    {
      "cell_type": "markdown",
      "metadata": {
        "id": "oHUJidNdtk5C"
      },
      "source": [
        "If we are only interested in taxa that are included in both DataFrames, we can specify a `join=inner` argument."
      ]
    },
    {
      "cell_type": "code",
      "metadata": {
        "colab": {
          "base_uri": "https://localhost:8080/"
        },
        "id": "cfvCopLltk5C",
        "outputId": "19fee9c1-dd7c-4eb8-847d-76c9c87fd791"
      },
      "source": [
        "pd.concat([mb1, mb2], axis=1, join='inner').head()"
      ],
      "execution_count": null,
      "outputs": [
        {
          "output_type": "execute_result",
          "data": {
            "text/plain": [
              "                                                    Count  Count\n",
              "Taxon                                                           \n",
              "Archaea \"Crenarchaeota\" Thermoprotei Desulfuroc...      7     23\n",
              "Archaea \"Crenarchaeota\" Thermoprotei Desulfuroc...      2      2\n",
              "Archaea \"Crenarchaeota\" Thermoprotei Sulfolobal...      3     10\n",
              "Archaea \"Crenarchaeota\" Thermoprotei Thermoprot...      3      9\n",
              "Archaea \"Euryarchaeota\" \"Methanomicrobia\" Metha...      7      9"
            ]
          },
          "metadata": {
            "tags": []
          },
          "execution_count": 71
        }
      ]
    },
    {
      "cell_type": "markdown",
      "metadata": {
        "id": "aVlu7Bwwtk5D"
      },
      "source": [
        "If we wanted to use the second table to fill values absent from the first table, we could use `combine_first`."
      ]
    },
    {
      "cell_type": "code",
      "metadata": {
        "colab": {
          "base_uri": "https://localhost:8080/"
        },
        "id": "iWQTKYPCtk5D",
        "outputId": "80f3fe8c-9fb9-4786-f381-4371b313895d"
      },
      "source": [
        "mb1.combine_first(mb2).head()"
      ],
      "execution_count": null,
      "outputs": [
        {
          "output_type": "execute_result",
          "data": {
            "text/plain": [
              "                                                    Count\n",
              "Taxon                                                    \n",
              "Archaea \"Crenarchaeota\" Thermoprotei Acidilobal...    2.0\n",
              "Archaea \"Crenarchaeota\" Thermoprotei Acidilobal...   14.0\n",
              "Archaea \"Crenarchaeota\" Thermoprotei Desulfuroc...    7.0\n",
              "Archaea \"Crenarchaeota\" Thermoprotei Desulfuroc...    1.0\n",
              "Archaea \"Crenarchaeota\" Thermoprotei Desulfuroc...    2.0"
            ]
          },
          "metadata": {
            "tags": []
          },
          "execution_count": 72
        }
      ]
    },
    {
      "cell_type": "markdown",
      "metadata": {
        "id": "VjdWpIPLtk5E"
      },
      "source": [
        "We can also create a hierarchical index based on keys identifying the original tables."
      ]
    },
    {
      "cell_type": "code",
      "metadata": {
        "colab": {
          "base_uri": "https://localhost:8080/"
        },
        "id": "DM6-6dWctk5F",
        "outputId": "cd3116ce-6ab5-4505-d1ec-145a23348f0c"
      },
      "source": [
        "pd.concat([mb1, mb2], keys=['patient1', 'patient2']).head()"
      ],
      "execution_count": null,
      "outputs": [
        {
          "output_type": "execute_result",
          "data": {
            "text/plain": [
              "                                                             Count\n",
              "         Taxon                                                    \n",
              "patient1 Archaea \"Crenarchaeota\" Thermoprotei Desulfuroc...      7\n",
              "         Archaea \"Crenarchaeota\" Thermoprotei Desulfuroc...      2\n",
              "         Archaea \"Crenarchaeota\" Thermoprotei Sulfolobal...      3\n",
              "         Archaea \"Crenarchaeota\" Thermoprotei Thermoprot...      3\n",
              "         Archaea \"Euryarchaeota\" \"Methanomicrobia\" Metha...      7"
            ]
          },
          "metadata": {
            "tags": []
          },
          "execution_count": 73
        }
      ]
    },
    {
      "cell_type": "code",
      "metadata": {
        "colab": {
          "base_uri": "https://localhost:8080/"
        },
        "id": "piVT1OB_tk5G",
        "outputId": "5d80a61c-a3b2-4ae0-d215-db85cc50f177"
      },
      "source": [
        "pd.concat([mb1, mb2], keys=['patient1', 'patient2']).index.is_unique"
      ],
      "execution_count": null,
      "outputs": [
        {
          "output_type": "execute_result",
          "data": {
            "text/plain": [
              "True"
            ]
          },
          "metadata": {
            "tags": []
          },
          "execution_count": 74
        }
      ]
    },
    {
      "cell_type": "markdown",
      "metadata": {
        "id": "0wfM6jgFtk5H"
      },
      "source": [
        "Alternatively, you can pass keys to the concatenation by supplying the DataFrames (or Series) as a dict."
      ]
    },
    {
      "cell_type": "code",
      "metadata": {
        "colab": {
          "base_uri": "https://localhost:8080/"
        },
        "id": "Qa1XAIxftk5H",
        "outputId": "39cb0e4b-3ece-43e5-a715-60d15ef0b37a"
      },
      "source": [
        "pd.concat(dict(patient1=mb1, patient2=mb2), axis=1).head()"
      ],
      "execution_count": null,
      "outputs": [
        {
          "output_type": "execute_result",
          "data": {
            "text/plain": [
              "                                                   patient1 patient2\n",
              "                                                      Count    Count\n",
              "Archaea \"Crenarchaeota\" Thermoprotei Desulfuroc...      7.0     23.0\n",
              "Archaea \"Crenarchaeota\" Thermoprotei Desulfuroc...      2.0      2.0\n",
              "Archaea \"Crenarchaeota\" Thermoprotei Sulfolobal...      3.0     10.0\n",
              "Archaea \"Crenarchaeota\" Thermoprotei Thermoprot...      3.0      9.0\n",
              "Archaea \"Euryarchaeota\" \"Methanomicrobia\" Metha...      7.0      9.0"
            ]
          },
          "metadata": {
            "tags": []
          },
          "execution_count": 75
        }
      ]
    },
    {
      "cell_type": "markdown",
      "metadata": {
        "id": "Y0wWQZeDtk5H"
      },
      "source": [
        "If you want `concat` to work like `numpy.concatanate`, you may provide the `ignore_index=True` argument."
      ]
    },
    {
      "cell_type": "markdown",
      "metadata": {
        "id": "OJEWut-4tk5I"
      },
      "source": [
        "## Exercise\n",
        "\n",
        "In the *data/microbiome* subdirectory, there are 9 spreadsheets of microbiome data that was acquired from high-throughput RNA sequencing procedures, along with a 10th file that describes the content of each. Write code that imports each of the data spreadsheets and combines them into a single `DataFrame`, adding the identifying information from the metadata spreadsheet as columns in the combined `DataFrame`."
      ]
    },
    {
      "cell_type": "markdown",
      "metadata": {
        "id": "TauQeKAjgezs"
      },
      "source": [
        "*We first read the metadata.xls file and the sheet_name as the first sheet of the document. Next we add the chunks array and for loop i from 0 to 9. This is indirectly looping from MID0.xls, MID1.xls, MID2.xls, MID3.xls till MID9 .xls with the sheet as Sheet 1, index column as 0, under the names 'Count' and 'Taxon' which is also can be considered as columns and index.name respectively.*\n",
        "\n",
        "*Now we loop through the metadata.xls file and go down the columns, append chunk according to the index (which has the name of other files) and append the values inside it. This is combining the data of 9 files into a single chunk. Then we concatenate to get the output.*"
      ]
    },
    {
      "cell_type": "code",
      "metadata": {
        "colab": {
          "base_uri": "https://localhost:8080/"
        },
        "id": "23h-SD6Wtk5I",
        "outputId": "fea482c6-3ba3-49b6-8b81-8e469dfa9615"
      },
      "source": [
        "metadata = pd.read_excel('metadata.xls', sheet_name='Sheet1')\n",
        "\n",
        "chunks = []\n",
        "for i in range(9):\n",
        "    this_file = pd.read_excel('MID{0}.xls'.format(i+1), 'Sheet 1', index_col=0, header=None, names=['Taxon', 'Count'])\n",
        "    this_file.index.name = 'Taxon'\n",
        "    this_file.columns = ['Count']\n",
        "    \n",
        "    for m in metadata.columns:\n",
        "        this_file[m] = metadata.loc[i][m]\n",
        "    chunks.append(this_file)\n",
        "\n",
        "pd.concat(chunks)"
      ],
      "execution_count": null,
      "outputs": [
        {
          "output_type": "execute_result",
          "data": {
            "text/plain": [
              "                                                    Count BARCODE  \\\n",
              "Taxon                                                               \n",
              "Archaea \"Crenarchaeota\" Thermoprotei Desulfuroc...      7    MID1   \n",
              "Archaea \"Crenarchaeota\" Thermoprotei Desulfuroc...      2    MID1   \n",
              "Archaea \"Crenarchaeota\" Thermoprotei Sulfolobal...      3    MID1   \n",
              "Archaea \"Crenarchaeota\" Thermoprotei Thermoprot...      3    MID1   \n",
              "Archaea \"Euryarchaeota\" \"Methanomicrobia\" Metha...      7    MID1   \n",
              "...                                                   ...     ...   \n",
              "Bacteria \"Thermotogae\" Thermotogae Thermotogale...     43    MID9   \n",
              "Bacteria \"Thermotogae\" Thermotogae Thermotogale...     16    MID9   \n",
              "Bacteria \"Verrucomicrobia\" Opitutae Opitutales ...      1    MID9   \n",
              "Bacteria Cyanobacteria Cyanobacteria  Chloropla...      1    MID9   \n",
              "Bacteria Cyanobacteria Cyanobacteria  Chloropla...     10    MID9   \n",
              "\n",
              "                                                                 GROUP SAMPLE  \n",
              "Taxon                                                                          \n",
              "Archaea \"Crenarchaeota\" Thermoprotei Desulfuroc...  EXTRACTION CONTROL    NaN  \n",
              "Archaea \"Crenarchaeota\" Thermoprotei Desulfuroc...  EXTRACTION CONTROL    NaN  \n",
              "Archaea \"Crenarchaeota\" Thermoprotei Sulfolobal...  EXTRACTION CONTROL    NaN  \n",
              "Archaea \"Crenarchaeota\" Thermoprotei Thermoprot...  EXTRACTION CONTROL    NaN  \n",
              "Archaea \"Euryarchaeota\" \"Methanomicrobia\" Metha...  EXTRACTION CONTROL    NaN  \n",
              "...                                                                ...    ...  \n",
              "Bacteria \"Thermotogae\" Thermotogae Thermotogale...           Control 2  stool  \n",
              "Bacteria \"Thermotogae\" Thermotogae Thermotogale...           Control 2  stool  \n",
              "Bacteria \"Verrucomicrobia\" Opitutae Opitutales ...           Control 2  stool  \n",
              "Bacteria Cyanobacteria Cyanobacteria  Chloropla...           Control 2  stool  \n",
              "Bacteria Cyanobacteria Cyanobacteria  Chloropla...           Control 2  stool  \n",
              "\n",
              "[2396 rows x 4 columns]"
            ]
          },
          "metadata": {
            "tags": []
          },
          "execution_count": 232
        }
      ]
    },
    {
      "cell_type": "markdown",
      "metadata": {
        "id": "sIMh0_mTtk5J"
      },
      "source": [
        "## Reshaping DataFrame objects\n",
        "\n",
        "In the context of a single DataFrame, we are often interested in re-arranging the layout of our data. "
      ]
    },
    {
      "cell_type": "markdown",
      "metadata": {
        "id": "GDwaQ_Gutk5J"
      },
      "source": [
        "This dataset in from Table 6.9 of [Statistical Methods for the Analysis of Repeated Measurements](http://www.amazon.com/Statistical-Methods-Analysis-Repeated-Measurements/dp/0387953701) by Charles S. Davis, pp. 161-163 (Springer, 2002). These data are from a multicenter, randomized controlled trial of botulinum toxin type B (BotB) in patients with cervical dystonia from nine U.S. sites.\n",
        "\n",
        "* Randomized to placebo (N=36), 5000 units of BotB (N=36), 10,000 units of BotB (N=37)\n",
        "* Response variable: total score on Toronto Western Spasmodic Torticollis Rating Scale (TWSTRS), measuring severity, pain, and disability of cervical dystonia (high scores mean more impairment)\n",
        "* TWSTRS measured at baseline (week 0) and weeks 2, 4, 8, 12, 16 after treatment began"
      ]
    },
    {
      "cell_type": "markdown",
      "metadata": {
        "id": "aoh0R0WnrFeO"
      },
      "source": [
        "*We upload the cdystonia.csv file on the colab file and then print the top 5 rows.*"
      ]
    },
    {
      "cell_type": "code",
      "metadata": {
        "colab": {
          "base_uri": "https://localhost:8080/"
        },
        "id": "xgll9Rr7tk5K",
        "outputId": "548a4da8-4afe-400f-e8b1-893114dbb589"
      },
      "source": [
        "cdystonia = pd.read_csv(\"cdystonia.csv\", index_col=None)\n",
        "cdystonia.head()"
      ],
      "execution_count": null,
      "outputs": [
        {
          "output_type": "execute_result",
          "data": {
            "text/plain": [
              "   patient  obs  week  site  id  treat  age sex  twstrs\n",
              "0        1    1     0     1   1  5000U   65   F      32\n",
              "1        1    2     2     1   1  5000U   65   F      30\n",
              "2        1    3     4     1   1  5000U   65   F      24\n",
              "3        1    4     8     1   1  5000U   65   F      37\n",
              "4        1    5    12     1   1  5000U   65   F      39"
            ]
          },
          "metadata": {
            "tags": []
          },
          "execution_count": 78
        }
      ]
    },
    {
      "cell_type": "markdown",
      "metadata": {
        "id": "Fsvys1jGtk5L"
      },
      "source": [
        "This dataset includes repeated measurements of the same individuals (longitudinal data). Its possible to present such information in (at least) two ways: showing each repeated measurement in their own row, or in multiple columns representing mutliple measurements.\n"
      ]
    },
    {
      "cell_type": "markdown",
      "metadata": {
        "id": "Cqrom99Ktk5M"
      },
      "source": [
        "The `stack` method rotates the data frame so that columns are represented in rows:"
      ]
    },
    {
      "cell_type": "markdown",
      "metadata": {
        "id": "3qnHiPnTrcyD"
      },
      "source": [
        "*Stack is writing every column sepearately/individually.*"
      ]
    },
    {
      "cell_type": "code",
      "metadata": {
        "colab": {
          "base_uri": "https://localhost:8080/"
        },
        "id": "8ycF0xGutk5M",
        "outputId": "32d66533-3bef-4f69-ebf2-c4218aaadf27"
      },
      "source": [
        "stacked = cdystonia.stack()\n",
        "stacked"
      ],
      "execution_count": null,
      "outputs": [
        {
          "output_type": "execute_result",
          "data": {
            "text/plain": [
              "0    patient        1\n",
              "     obs            1\n",
              "     week           0\n",
              "     site           1\n",
              "     id             1\n",
              "                ...  \n",
              "630  id            11\n",
              "     treat      5000U\n",
              "     age           57\n",
              "     sex            M\n",
              "     twstrs        51\n",
              "Length: 5679, dtype: object"
            ]
          },
          "metadata": {
            "tags": []
          },
          "execution_count": 79
        }
      ]
    },
    {
      "cell_type": "markdown",
      "metadata": {
        "id": "WH9L9v12tk5O"
      },
      "source": [
        "To complement this, `unstack` pivots from rows back to columns."
      ]
    },
    {
      "cell_type": "markdown",
      "metadata": {
        "id": "p5ym2d_r8AM3"
      },
      "source": [
        "*From documentation,\n",
        "Pivot a level of the (necessarily hierarchical) index labels.\n",
        "Returns a DataFrame having a new level of column labels whose inner-most level consists of the pivoted index labels.\n",
        "If the index is not a MultiIndex, the output will be a Series (the analogue of stack when the columns are not a MultiIndex).\n",
        "Parameters\n",
        "levelint, str, or list of these, default -1 (last level)\n",
        "Level(s) of index to unstack, can pass level name.\n",
        "fill_valueint, str or dict\n",
        "It exchanges NaN with this value if the unstack produces missing values.\n",
        "This returns the Series or DataFrame.*"
      ]
    },
    {
      "cell_type": "code",
      "metadata": {
        "colab": {
          "base_uri": "https://localhost:8080/"
        },
        "id": "Bdn6sZl2tk5O",
        "outputId": "56ee3581-1595-4697-d089-d08e8a26c9ba"
      },
      "source": [
        "stacked.unstack().head()"
      ],
      "execution_count": null,
      "outputs": [
        {
          "output_type": "execute_result",
          "data": {
            "text/plain": [
              "  patient obs week site id  treat age sex twstrs\n",
              "0       1   1    0    1  1  5000U  65   F     32\n",
              "1       1   2    2    1  1  5000U  65   F     30\n",
              "2       1   3    4    1  1  5000U  65   F     24\n",
              "3       1   4    8    1  1  5000U  65   F     37\n",
              "4       1   5   12    1  1  5000U  65   F     39"
            ]
          },
          "metadata": {
            "tags": []
          },
          "execution_count": 80
        }
      ]
    },
    {
      "cell_type": "markdown",
      "metadata": {
        "id": "G3DCn6fatk5Q"
      },
      "source": [
        "For this dataset, it makes sense to create a hierarchical index based on the patient and observation:"
      ]
    },
    {
      "cell_type": "code",
      "metadata": {
        "colab": {
          "base_uri": "https://localhost:8080/"
        },
        "id": "T4kcCYw-tk5R",
        "outputId": "da81433e-73b0-43a5-dfbf-fa6dba834c22"
      },
      "source": [
        "cdystonia2 = cdystonia.set_index(['patient','obs'])\n",
        "cdystonia2.head()"
      ],
      "execution_count": null,
      "outputs": [
        {
          "output_type": "execute_result",
          "data": {
            "text/plain": [
              "             week  site  id  treat  age sex  twstrs\n",
              "patient obs                                        \n",
              "1       1       0     1   1  5000U   65   F      32\n",
              "        2       2     1   1  5000U   65   F      30\n",
              "        3       4     1   1  5000U   65   F      24\n",
              "        4       8     1   1  5000U   65   F      37\n",
              "        5      12     1   1  5000U   65   F      39"
            ]
          },
          "metadata": {
            "tags": []
          },
          "execution_count": 81
        }
      ]
    },
    {
      "cell_type": "code",
      "metadata": {
        "colab": {
          "base_uri": "https://localhost:8080/"
        },
        "id": "mq_ZhuqEtk5S",
        "outputId": "1327c9ff-a684-4c3d-f20f-b086597bc96e"
      },
      "source": [
        "cdystonia2.index.is_unique"
      ],
      "execution_count": null,
      "outputs": [
        {
          "output_type": "execute_result",
          "data": {
            "text/plain": [
              "True"
            ]
          },
          "metadata": {
            "tags": []
          },
          "execution_count": 82
        }
      ]
    },
    {
      "cell_type": "markdown",
      "metadata": {
        "id": "W4_Dwn-5tk5S"
      },
      "source": [
        "If we want to transform this data so that repeated measurements are in columns, we can `unstack` the `twstrs` measurements according to `obs`."
      ]
    },
    {
      "cell_type": "code",
      "metadata": {
        "colab": {
          "base_uri": "https://localhost:8080/"
        },
        "id": "HMxWt0Vntk5T",
        "outputId": "f9e6135a-b1aa-4927-a471-136e588d7425"
      },
      "source": [
        "twstrs_wide = cdystonia2['twstrs'].unstack('obs')\n",
        "twstrs_wide.head()"
      ],
      "execution_count": null,
      "outputs": [
        {
          "output_type": "execute_result",
          "data": {
            "text/plain": [
              "obs         1     2     3     4     5     6\n",
              "patient                                    \n",
              "1        32.0  30.0  24.0  37.0  39.0  36.0\n",
              "2        60.0  26.0  27.0  41.0  65.0  67.0\n",
              "3        44.0  20.0  23.0  26.0  35.0  35.0\n",
              "4        53.0  61.0  64.0  62.0   NaN   NaN\n",
              "5        53.0  35.0  48.0  49.0  41.0  51.0"
            ]
          },
          "metadata": {
            "tags": []
          },
          "execution_count": 83
        }
      ]
    },
    {
      "cell_type": "code",
      "metadata": {
        "colab": {
          "base_uri": "https://localhost:8080/"
        },
        "id": "B8P7hYbttk5T",
        "outputId": "b1a07f66-9c86-44a9-88dc-003e7b19c1c7"
      },
      "source": [
        "cdystonia_long = cdystonia[['patient','site','id','treat','age','sex']].drop_duplicates().merge(\n",
        "                    twstrs_wide, right_index=True, left_on='patient', how='inner').head()\n",
        "cdystonia_long"
      ],
      "execution_count": null,
      "outputs": [
        {
          "output_type": "execute_result",
          "data": {
            "text/plain": [
              "    patient  site  id    treat  age sex     1     2     3     4     5     6\n",
              "0         1     1   1    5000U   65   F  32.0  30.0  24.0  37.0  39.0  36.0\n",
              "6         2     1   2   10000U   70   F  60.0  26.0  27.0  41.0  65.0  67.0\n",
              "12        3     1   3    5000U   64   F  44.0  20.0  23.0  26.0  35.0  35.0\n",
              "18        4     1   4  Placebo   59   F  53.0  61.0  64.0  62.0   NaN   NaN\n",
              "22        5     1   5   10000U   76   F  53.0  35.0  48.0  49.0  41.0  51.0"
            ]
          },
          "metadata": {
            "tags": []
          },
          "execution_count": 84
        }
      ]
    },
    {
      "cell_type": "markdown",
      "metadata": {
        "id": "g6CiLyyOtk5T"
      },
      "source": [
        "A slightly cleaner way of doing this is to set the patient-level information as an index before unstacking:"
      ]
    },
    {
      "cell_type": "code",
      "metadata": {
        "colab": {
          "base_uri": "https://localhost:8080/"
        },
        "id": "ug2c-v6Ktk5V",
        "outputId": "ef8e50ec-7ce5-4ca9-93b1-3356a27d748b"
      },
      "source": [
        "cdystonia.set_index(['patient','site','id','treat','age','sex','week'])['twstrs'].unstack('week').head()"
      ],
      "execution_count": null,
      "outputs": [
        {
          "output_type": "execute_result",
          "data": {
            "text/plain": [
              "week                               0     2     4     8     12    16\n",
              "patient site id treat   age sex                                    \n",
              "1       1    1  5000U   65  F    32.0  30.0  24.0  37.0  39.0  36.0\n",
              "2       1    2  10000U  70  F    60.0  26.0  27.0  41.0  65.0  67.0\n",
              "3       1    3  5000U   64  F    44.0  20.0  23.0  26.0  35.0  35.0\n",
              "4       1    4  Placebo 59  F    53.0  61.0  64.0  62.0   NaN   NaN\n",
              "5       1    5  10000U  76  F    53.0  35.0  48.0  49.0  41.0  51.0"
            ]
          },
          "metadata": {
            "tags": []
          },
          "execution_count": 85
        }
      ]
    },
    {
      "cell_type": "markdown",
      "metadata": {
        "id": "oYVq91attk5V"
      },
      "source": [
        "To convert our \"wide\" format back to long, we can use the `melt` function, appropriately parameterized:"
      ]
    },
    {
      "cell_type": "code",
      "metadata": {
        "colab": {
          "base_uri": "https://localhost:8080/"
        },
        "id": "mHqBVpH0tk5V",
        "outputId": "1460f1bf-4da6-451d-cd9d-d7afbe262658"
      },
      "source": [
        "pd.melt(cdystonia_long, id_vars=['patient','site','id','treat','age','sex'], \n",
        "        var_name='obs', value_name='twsters').head()"
      ],
      "execution_count": null,
      "outputs": [
        {
          "output_type": "execute_result",
          "data": {
            "text/plain": [
              "   patient  site  id    treat  age sex obs  twsters\n",
              "0        1     1   1    5000U   65   F   1     32.0\n",
              "1        2     1   2   10000U   70   F   1     60.0\n",
              "2        3     1   3    5000U   64   F   1     44.0\n",
              "3        4     1   4  Placebo   59   F   1     53.0\n",
              "4        5     1   5   10000U   76   F   1     53.0"
            ]
          },
          "metadata": {
            "tags": []
          },
          "execution_count": 86
        }
      ]
    },
    {
      "cell_type": "markdown",
      "metadata": {
        "id": "zHucvNT4tk5W"
      },
      "source": [
        "This illustrates the two formats for longitudinal data: **long** and **wide** formats. Its typically better to store data in long format because additional data can be included as additional rows in the database, while wide format requires that the entire database schema be altered by adding columns to every row as data are collected.\n",
        "\n",
        "The preferable format for analysis depends entirely on what is planned for the data, so it is imporant to be able to move easily between them."
      ]
    },
    {
      "cell_type": "markdown",
      "metadata": {
        "id": "GQ73_9vetk5W"
      },
      "source": [
        "## Pivoting\n",
        "\n",
        "The `pivot` method allows a DataFrame to be transformed easily between long and wide formats in the same way as a pivot table is created in a spreadsheet. It takes three arguments: `index`, `columns` and `values`, corresponding to the DataFrame index (the row headers), columns and cell values, respectively.\n",
        "\n",
        "For example, we may want the `twstrs` variable (the response variable) in wide format according to patient:"
      ]
    },
    {
      "cell_type": "markdown",
      "metadata": {
        "id": "x9183P7b-1B6"
      },
      "source": [
        "*pandas.pivot_table(data, values=None, index=None, columns=None, aggfunc='mean', fill_value=None, margins=False, dropna=True, margins_name='All', observed=False)is the way to write this function. This creates a spreadsheet-style pivot table as a DataFrame. The levels in the pivot table will be stored in MultiIndex objects (hierarchical indexes) on the index and columns of the result DataFrame. It returns DataFrame*"
      ]
    },
    {
      "cell_type": "code",
      "metadata": {
        "colab": {
          "base_uri": "https://localhost:8080/"
        },
        "id": "9mH44FETtk5X",
        "outputId": "07ffce37-1229-4dd3-f335-2756f831b5e3"
      },
      "source": [
        "cdystonia.pivot(index='patient', columns='obs', values='twstrs').head()"
      ],
      "execution_count": null,
      "outputs": [
        {
          "output_type": "execute_result",
          "data": {
            "text/plain": [
              "obs         1     2     3     4     5     6\n",
              "patient                                    \n",
              "1        32.0  30.0  24.0  37.0  39.0  36.0\n",
              "2        60.0  26.0  27.0  41.0  65.0  67.0\n",
              "3        44.0  20.0  23.0  26.0  35.0  35.0\n",
              "4        53.0  61.0  64.0  62.0   NaN   NaN\n",
              "5        53.0  35.0  48.0  49.0  41.0  51.0"
            ]
          },
          "metadata": {
            "tags": []
          },
          "execution_count": 87
        }
      ]
    },
    {
      "cell_type": "markdown",
      "metadata": {
        "id": "oCFKJVgktk5X"
      },
      "source": [
        "If we omit the `values` argument, we get a `DataFrame` with hierarchical columns, just as when we applied `unstack` to the hierarchically-indexed table:"
      ]
    },
    {
      "cell_type": "code",
      "metadata": {
        "colab": {
          "base_uri": "https://localhost:8080/"
        },
        "id": "Uz26Udlptk5Y",
        "outputId": "4c7f8631-a7e1-493a-9403-bdb4ef50569c"
      },
      "source": [
        "cdystonia.pivot('patient', 'obs')"
      ],
      "execution_count": null,
      "outputs": [
        {
          "output_type": "execute_result",
          "data": {
            "text/plain": [
              "        week                            site                 ...  sex          \\\n",
              "obs        1    2    3    4     5     6    1    2    3    4  ...    3  4    5   \n",
              "patient                                                      ...                \n",
              "1        0.0  2.0  4.0  8.0  12.0  16.0  1.0  1.0  1.0  1.0  ...    F  F    F   \n",
              "2        0.0  2.0  4.0  8.0  12.0  16.0  1.0  1.0  1.0  1.0  ...    F  F    F   \n",
              "3        0.0  2.0  4.0  8.0  12.0  16.0  1.0  1.0  1.0  1.0  ...    F  F    F   \n",
              "4        0.0  2.0  4.0  8.0   NaN   NaN  1.0  1.0  1.0  1.0  ...    F  F  NaN   \n",
              "5        0.0  2.0  4.0  8.0  12.0  16.0  1.0  1.0  1.0  1.0  ...    F  F    F   \n",
              "...      ...  ...  ...  ...   ...   ...  ...  ...  ...  ...  ...  ... ..  ...   \n",
              "105      0.0  2.0  4.0  8.0  12.0  16.0  9.0  9.0  9.0  9.0  ...    F  F    F   \n",
              "106      0.0  2.0  4.0  8.0  12.0  16.0  9.0  9.0  9.0  9.0  ...    M  M    M   \n",
              "107      0.0  NaN  4.0  8.0   NaN  16.0  9.0  NaN  9.0  9.0  ...    M  M  NaN   \n",
              "108      0.0  2.0  4.0  8.0  12.0  16.0  9.0  9.0  9.0  9.0  ...    F  F    F   \n",
              "109      0.0  2.0  NaN  8.0  12.0  16.0  9.0  9.0  NaN  9.0  ...  NaN  M    M   \n",
              "\n",
              "             twstrs                                \n",
              "obs        6      1     2     3     4     5     6  \n",
              "patient                                            \n",
              "1          F   32.0  30.0  24.0  37.0  39.0  36.0  \n",
              "2          F   60.0  26.0  27.0  41.0  65.0  67.0  \n",
              "3          F   44.0  20.0  23.0  26.0  35.0  35.0  \n",
              "4        NaN   53.0  61.0  64.0  62.0   NaN   NaN  \n",
              "5          F   53.0  35.0  48.0  49.0  41.0  51.0  \n",
              "...      ...    ...   ...   ...   ...   ...   ...  \n",
              "105        F   45.0  46.0  33.0  44.0  46.0  48.0  \n",
              "106        M   67.0  63.0  71.0  66.0  68.0  71.0  \n",
              "107        M   57.0   NaN  36.0  23.0   NaN  52.0  \n",
              "108        F   63.0  51.0  46.0  50.0  50.0  54.0  \n",
              "109        M   53.0  38.0   NaN  33.0  36.0  51.0  \n",
              "\n",
              "[109 rows x 42 columns]"
            ]
          },
          "metadata": {
            "tags": []
          },
          "execution_count": 88
        }
      ]
    },
    {
      "cell_type": "markdown",
      "metadata": {
        "id": "Kr6XI_QNtk5Z"
      },
      "source": [
        "A related method, `pivot_table`, creates a spreadsheet-like table with a hierarchical index, and allows the values of the table to be populated using an arbitrary aggregation function."
      ]
    },
    {
      "cell_type": "markdown",
      "metadata": {
        "id": "_8WC68fx9sSl"
      },
      "source": [
        "*From*\n",
        "```\n",
        "# cdystonia.pivot_table(rows=['site', 'treat'], cols='week', values='twstrs', aggfunc=max).head(20)\n",
        "```\n",
        "*to*\n",
        "```\n",
        "# cdystonia.pivot_table(index=['site', 'treat'], columns='week', values='twstrs', aggfunc=max).head(20)\n",
        "```\n",
        "*We are converting the rows to index and cols to columns to show the function of pivot_table with correct arguments.*\n"
      ]
    },
    {
      "cell_type": "code",
      "metadata": {
        "colab": {
          "base_uri": "https://localhost:8080/"
        },
        "id": "pDxKtvs6tk5Z",
        "outputId": "9f313d8f-ab78-42d9-ecb9-c38cbb1dbb18"
      },
      "source": [
        "cdystonia.pivot_table(index=['site', 'treat'], columns='week', values='twstrs', aggfunc=max).head(20)"
      ],
      "execution_count": null,
      "outputs": [
        {
          "output_type": "execute_result",
          "data": {
            "text/plain": [
              "week          0   2   4   8   12  16\n",
              "site treat                          \n",
              "1    10000U   60  41  48  49  65  67\n",
              "     5000U    44  32  34  43  42  46\n",
              "     Placebo  53  61  64  62  32  38\n",
              "2    10000U   65  60  60  64  67  66\n",
              "     5000U    67  64  65  64  62  64\n",
              "     Placebo  53  56  52  57  61  54\n",
              "3    10000U   50  43  51  46  49  56\n",
              "     5000U    52  44  47  50  50  49\n",
              "     Placebo  43  38  40  48  49  44\n",
              "4    10000U   54  52  52  54  51  57\n",
              "     5000U    52  34  43  45  47  46\n",
              "     Placebo  52  55  51  52  54  57\n",
              "5    10000U   50  50  32  46  54  57\n",
              "     5000U    60  53  55  62  67  26\n",
              "     Placebo  60  57  53  52  53  58\n",
              "6    10000U   55  56  47  53  51  51\n",
              "     5000U    59  55  50  56  59  53\n",
              "     Placebo  54  53  51  57  57  57\n",
              "7    10000U   53  47  45  45  50  53\n",
              "     5000U    53  45  52  51  52  53"
            ]
          },
          "metadata": {
            "tags": []
          },
          "execution_count": 91
        }
      ]
    },
    {
      "cell_type": "markdown",
      "metadata": {
        "id": "AZBqdNLXtk5b"
      },
      "source": [
        "For a simple cross-tabulation of group frequencies, the `crosstab` function (not a method) aggregates counts of data according to factors in rows and columns. The factors may be hierarchical if desired."
      ]
    },
    {
      "cell_type": "code",
      "metadata": {
        "colab": {
          "base_uri": "https://localhost:8080/"
        },
        "id": "gwYPTP9Mtk5b",
        "outputId": "c717c63f-00f8-4fe3-d3db-e222ddd6faa6"
      },
      "source": [
        "pd.crosstab(cdystonia.sex, cdystonia.site)"
      ],
      "execution_count": null,
      "outputs": [
        {
          "output_type": "execute_result",
          "data": {
            "text/plain": [
              "site   1   2   3   4   5   6   7   8   9\n",
              "sex                                     \n",
              "F     52  53  42  30  22  54  66  48  28\n",
              "M     18  29  30  18  11  33   6  58  33"
            ]
          },
          "metadata": {
            "tags": []
          },
          "execution_count": 92
        }
      ]
    },
    {
      "cell_type": "markdown",
      "metadata": {
        "id": "tTibtuhPtk5b"
      },
      "source": [
        "## Data transformation\n",
        "\n",
        "There are a slew of additional operations for DataFrames that we would collectively refer to as \"transformations\" that include tasks such as removing duplicate values, replacing values, and grouping values."
      ]
    },
    {
      "cell_type": "markdown",
      "metadata": {
        "id": "hSqNoLTptk5c"
      },
      "source": [
        "### Dealing with duplicates\n",
        "\n",
        "We can easily identify and remove duplicate values from `DataFrame` objects. For example, say we want to removed ships from our `vessels` dataset that have the same name:"
      ]
    },
    {
      "cell_type": "markdown",
      "metadata": {
        "id": "Y0xccddI-Wnm"
      },
      "source": [
        "*An important part of Data analysis is analyzing Duplicate Values and removing them. Pandas duplicated() method helps in analyzing duplicate values only. It returns a boolean series which is True only for Unique elements.\n",
        "Syntax:*\n",
        "\n",
        "`DataFrame.duplicated(subset=None, keep='first')`\n",
        "\n",
        "*The use of cols is not the proper argument syntax. Instead we use subset keyword.*"
      ]
    },
    {
      "cell_type": "code",
      "metadata": {
        "colab": {
          "base_uri": "https://localhost:8080/"
        },
        "id": "BDR0VM52tk5c",
        "outputId": "f7b35cb5-554a-446b-f581-42ebd1535dfd"
      },
      "source": [
        "vessels.duplicated(subset='names')"
      ],
      "execution_count": null,
      "outputs": [
        {
          "output_type": "execute_result",
          "data": {
            "text/plain": [
              "mmsi\n",
              "1            False\n",
              "9            False\n",
              "21           False\n",
              "74           False\n",
              "103          False\n",
              "             ...  \n",
              "919191919    False\n",
              "967191190     True\n",
              "975318642     True\n",
              "987654321    False\n",
              "999999999     True\n",
              "Length: 10771, dtype: bool"
            ]
          },
          "metadata": {
            "tags": []
          },
          "execution_count": 117
        }
      ]
    },
    {
      "cell_type": "code",
      "metadata": {
        "colab": {
          "base_uri": "https://localhost:8080/"
        },
        "id": "0WRCCAeatk5d",
        "outputId": "725836e8-4047-4a74-f0e5-23c785c1e0ed"
      },
      "source": [
        "vessels.drop_duplicates(['names'])"
      ],
      "execution_count": null,
      "outputs": [
        {
          "output_type": "execute_result",
          "data": {
            "text/plain": [
              "           num_names                                              names sov  \\\n",
              "mmsi                                                                          \n",
              "1                  8  Bil Holman Dredge/Dredge Capt Frank/Emo/Offsho...   Y   \n",
              "9                  3                         000000009/Raven/Shearwater   N   \n",
              "21                 1                                      Us Gov Vessel   Y   \n",
              "74                 2                                  Mcfaul/Sarah Bell   N   \n",
              "103                3           Ron G/Us Navy Warship 103/Us Warship 103   Y   \n",
              "...              ...                                                ...  ..   \n",
              "857632392          1                                           Ct Pilot   N   \n",
              "888888888          1                                         Earl Jones   N   \n",
              "900000000          3      Capt.webster      Pc/Elk River/Roger Binsfeld   N   \n",
              "919191919          1                                                 Oi   N   \n",
              "987654321          2                         Island Lookout/Island Tide   N   \n",
              "\n",
              "              flag flag_type  num_loas                                    loa  \\\n",
              "mmsi                                                                            \n",
              "1          Unknown   Unknown         7  42.0/48.0/57.0/90.0/138.0/154.0/156.0   \n",
              "9          Unknown   Unknown         2                              50.0/62.0   \n",
              "21         Unknown   Unknown         1                                  208.0   \n",
              "74         Unknown   Unknown         1                                  155.0   \n",
              "103        Unknown   Unknown         2                             26.0/155.0   \n",
              "...            ...       ...       ...                                    ...   \n",
              "857632392  Unknown   Unknown         1                                   20.0   \n",
              "888888888  Unknown   Unknown         1                                   40.0   \n",
              "900000000  Unknown   Unknown         3                        22.0/38.0/351.0   \n",
              "919191919  Unknown   Unknown         1                                   20.0   \n",
              "987654321  Unknown   Unknown         2                              22.0/23.0   \n",
              "\n",
              "           max_loa  num_types                             type  \n",
              "mmsi                                                            \n",
              "1            156.0          4  Dredging/MilOps/Reserved/Towing  \n",
              "9             62.0          2                     Pleasure/Tug  \n",
              "21           208.0          1                          Unknown  \n",
              "74           155.0          1                          Unknown  \n",
              "103          155.0          2                   Tanker/Unknown  \n",
              "...            ...        ...                              ...  \n",
              "857632392     20.0          1                           Diving  \n",
              "888888888     40.0          1                           Towing  \n",
              "900000000    351.0          3          Fishing/Reserved/Towing  \n",
              "919191919     20.0          1                         Pleasure  \n",
              "987654321     23.0          2                   Fishing/Towing  \n",
              "\n",
              "[10253 rows x 10 columns]"
            ]
          },
          "metadata": {
            "tags": []
          },
          "execution_count": 116
        }
      ]
    },
    {
      "cell_type": "markdown",
      "metadata": {
        "id": "ENSTFKvctk5d"
      },
      "source": [
        "### Value replacement\n",
        "\n",
        "Frequently, we get data columns that are encoded as strings that we wish to represent numerically for the purposes of including it in a quantitative analysis. For example, consider the treatment variable in the cervical dystonia dataset:"
      ]
    },
    {
      "cell_type": "code",
      "metadata": {
        "colab": {
          "base_uri": "https://localhost:8080/"
        },
        "id": "i6K-5Bn6tk5e",
        "outputId": "e5bd4dcf-2c52-4d96-c010-73ce5ec7abc8"
      },
      "source": [
        "cdystonia.treat.value_counts()"
      ],
      "execution_count": null,
      "outputs": [
        {
          "output_type": "execute_result",
          "data": {
            "text/plain": [
              "10000U     213\n",
              "5000U      211\n",
              "Placebo    207\n",
              "Name: treat, dtype: int64"
            ]
          },
          "metadata": {
            "tags": []
          },
          "execution_count": 118
        }
      ]
    },
    {
      "cell_type": "markdown",
      "metadata": {
        "id": "_990n-ejtk5f"
      },
      "source": [
        "A logical way to specify these numerically is to change them to integer values, perhaps using \"Placebo\" as a baseline value. If we create a dict with the original values as keys and the replacements as values, we can pass it to the `map` method to implement the changes."
      ]
    },
    {
      "cell_type": "code",
      "metadata": {
        "id": "VjscQcXWtk5g"
      },
      "source": [
        "treatment_map = {'Placebo': 0, '5000U': 1, '10000U': 2}"
      ],
      "execution_count": null,
      "outputs": []
    },
    {
      "cell_type": "code",
      "metadata": {
        "colab": {
          "base_uri": "https://localhost:8080/"
        },
        "id": "VWJ-UiZztk5g",
        "outputId": "a7460cbe-a9ea-475b-9b60-958cd0e00d14"
      },
      "source": [
        "cdystonia['treatment'] = cdystonia.treat.map(treatment_map)\n",
        "cdystonia.treatment"
      ],
      "execution_count": null,
      "outputs": [
        {
          "output_type": "execute_result",
          "data": {
            "text/plain": [
              "0      1\n",
              "1      1\n",
              "2      1\n",
              "3      1\n",
              "4      1\n",
              "      ..\n",
              "626    1\n",
              "627    1\n",
              "628    1\n",
              "629    1\n",
              "630    1\n",
              "Name: treatment, Length: 631, dtype: int64"
            ]
          },
          "metadata": {
            "tags": []
          },
          "execution_count": 120
        }
      ]
    },
    {
      "cell_type": "markdown",
      "metadata": {
        "id": "RnV0Z8-ntk5g"
      },
      "source": [
        "Alternately, if we simply want to replace particular values in a `Series` or `DataFrame`, we can use the `replace` method. \n",
        "\n",
        "An example where replacement is useful is dealing with zeros in certain transformations. For example, if we try to take the log of a set of values:"
      ]
    },
    {
      "cell_type": "code",
      "metadata": {
        "colab": {
          "base_uri": "https://localhost:8080/"
        },
        "id": "P4T1BzjTtk5h",
        "outputId": "f40d6861-fb39-4e33-adea-f15b2afce06d"
      },
      "source": [
        "vals = pd.Series([float(i)**10 for i in range(10)])\n",
        "vals"
      ],
      "execution_count": null,
      "outputs": [
        {
          "output_type": "execute_result",
          "data": {
            "text/plain": [
              "0    0.000000e+00\n",
              "1    1.000000e+00\n",
              "2    1.024000e+03\n",
              "3    5.904900e+04\n",
              "4    1.048576e+06\n",
              "5    9.765625e+06\n",
              "6    6.046618e+07\n",
              "7    2.824752e+08\n",
              "8    1.073742e+09\n",
              "9    3.486784e+09\n",
              "dtype: float64"
            ]
          },
          "metadata": {
            "tags": []
          },
          "execution_count": 121
        }
      ]
    },
    {
      "cell_type": "code",
      "metadata": {
        "colab": {
          "base_uri": "https://localhost:8080/"
        },
        "id": "ZHmrZtB2tk5h",
        "outputId": "bfbc23e7-7f6b-429f-f977-ccdd4652569a"
      },
      "source": [
        "np.log(vals)"
      ],
      "execution_count": null,
      "outputs": [
        {
          "output_type": "stream",
          "text": [
            "/usr/local/lib/python3.6/dist-packages/pandas/core/series.py:726: RuntimeWarning: divide by zero encountered in log\n",
            "  result = getattr(ufunc, method)(*inputs, **kwargs)\n"
          ],
          "name": "stderr"
        },
        {
          "output_type": "execute_result",
          "data": {
            "text/plain": [
              "0         -inf\n",
              "1     0.000000\n",
              "2     6.931472\n",
              "3    10.986123\n",
              "4    13.862944\n",
              "5    16.094379\n",
              "6    17.917595\n",
              "7    19.459101\n",
              "8    20.794415\n",
              "9    21.972246\n",
              "dtype: float64"
            ]
          },
          "metadata": {
            "tags": []
          },
          "execution_count": 122
        }
      ]
    },
    {
      "cell_type": "markdown",
      "metadata": {
        "id": "Q9RLdVKftk5i"
      },
      "source": [
        "In such situations, we can replace the zero with a value so small that it makes no difference to the ensuing analysis. We can do this with `replace`."
      ]
    },
    {
      "cell_type": "code",
      "metadata": {
        "colab": {
          "base_uri": "https://localhost:8080/"
        },
        "id": "1u1MQ6r3tk5j",
        "outputId": "025144c8-209f-454f-bff0-bb2bfd0d15cf"
      },
      "source": [
        "vals = vals.replace(0, 1e-6)\n",
        "np.log(vals)"
      ],
      "execution_count": null,
      "outputs": [
        {
          "output_type": "execute_result",
          "data": {
            "text/plain": [
              "0   -13.815511\n",
              "1     0.000000\n",
              "2     6.931472\n",
              "3    10.986123\n",
              "4    13.862944\n",
              "5    16.094379\n",
              "6    17.917595\n",
              "7    19.459101\n",
              "8    20.794415\n",
              "9    21.972246\n",
              "dtype: float64"
            ]
          },
          "metadata": {
            "tags": []
          },
          "execution_count": 123
        }
      ]
    },
    {
      "cell_type": "markdown",
      "metadata": {
        "id": "t6feZzn-tk5k"
      },
      "source": [
        "We can also perform the same replacement that we used `map` for with `replace`:"
      ]
    },
    {
      "cell_type": "code",
      "metadata": {
        "colab": {
          "base_uri": "https://localhost:8080/"
        },
        "id": "ZM5-dF5Dtk5k",
        "outputId": "1bc7436d-969c-498a-dc6d-6d79c37e7425"
      },
      "source": [
        "cdystonia2.treat.replace({'Placebo': 0, '5000U': 1, '10000U': 2})"
      ],
      "execution_count": null,
      "outputs": [
        {
          "output_type": "execute_result",
          "data": {
            "text/plain": [
              "patient  obs\n",
              "1        1      1\n",
              "         2      1\n",
              "         3      1\n",
              "         4      1\n",
              "         5      1\n",
              "               ..\n",
              "109      1      1\n",
              "         2      1\n",
              "         4      1\n",
              "         5      1\n",
              "         6      1\n",
              "Name: treat, Length: 631, dtype: int64"
            ]
          },
          "metadata": {
            "tags": []
          },
          "execution_count": 124
        }
      ]
    },
    {
      "cell_type": "markdown",
      "metadata": {
        "id": "a-o1MsXjtk5l"
      },
      "source": [
        "### Inidcator variables\n",
        "\n",
        "For some statistical analyses (*e.g.* regression models or analyses of variance), categorical or group variables need to be converted into columns of indicators--zeros and ones--to create a so-called **design matrix**. The Pandas function `get_dummies` (indicator variables are also known as *dummy variables*) makes this transformation straightforward.\n",
        "\n",
        "Let's consider the DataFrame containing the ships corresponding to the transit segments on the eastern seaboard. The `type` variable denotes the class of vessel; we can create a matrix of indicators for this. For simplicity, lets filter out the 5 most common types of ships:\n"
      ]
    },
    {
      "cell_type": "code",
      "metadata": {
        "id": "UUber16mtk5m"
      },
      "source": [
        "top5 = vessels.type.apply(lambda s: s in vessels.type.value_counts().index[:5])\n",
        "vessels5 = vessels[top5]"
      ],
      "execution_count": null,
      "outputs": []
    },
    {
      "cell_type": "code",
      "metadata": {
        "colab": {
          "base_uri": "https://localhost:8080/"
        },
        "id": "vaAz4nTZtk5m",
        "outputId": "0d1d6ace-5b90-40b0-9432-2675e7f91ccb"
      },
      "source": [
        "pd.get_dummies(vessels5.type).head(10)"
      ],
      "execution_count": null,
      "outputs": [
        {
          "output_type": "execute_result",
          "data": {
            "text/plain": [
              "         Cargo  Pleasure  Sailing  Tanker  Tug\n",
              "mmsi                                          \n",
              "15151        0         0        0       0    1\n",
              "80404        0         1        0       0    0\n",
              "366235       1         0        0       0    0\n",
              "587370       0         0        0       0    1\n",
              "693559       0         0        0       0    1\n",
              "1233916      0         1        0       0    0\n",
              "3041300      1         0        0       0    0\n",
              "3663760      1         0        0       0    0\n",
              "3688360      1         0        0       0    0\n",
              "7718175      1         0        0       0    0"
            ]
          },
          "metadata": {
            "tags": []
          },
          "execution_count": 127
        }
      ]
    },
    {
      "cell_type": "markdown",
      "metadata": {
        "id": "FPH4SS3Dtk5m"
      },
      "source": [
        "### Discretization\n",
        "\n",
        "Pandas' `cut` function can be used to group continuous or countable data in to bins. Discretization is generally a very **bad idea** for statistical analysis, so use this function responsibly!\n",
        "\n",
        "Lets say we want to bin the ages of the cervical dystonia patients into a smaller number of groups:"
      ]
    },
    {
      "cell_type": "markdown",
      "metadata": {
        "id": "W5A3jie99rT3"
      },
      "source": [
        "*pandas.cut(x, bins, right=True, labels=None, retbins=False, precision=3, include_lowest=False, duplicates='raise')is the way to write this function. This function bin values into discrete intervals. We use cut to segment and sort data values into bins. This function is for conversion from a continuous variable to a categorical variable. For example, cut could convert weights to groups of weight ranges.*"
      ]
    },
    {
      "cell_type": "code",
      "metadata": {
        "colab": {
          "base_uri": "https://localhost:8080/"
        },
        "id": "nKyiV2wOtk5n",
        "outputId": "0ae28cb2-b50e-4c67-8f6d-be8c9ae21d41"
      },
      "source": [
        "cdystonia.age.describe()"
      ],
      "execution_count": null,
      "outputs": [
        {
          "output_type": "execute_result",
          "data": {
            "text/plain": [
              "count    631.000000\n",
              "mean      55.616482\n",
              "std       12.123910\n",
              "min       26.000000\n",
              "25%       46.000000\n",
              "50%       56.000000\n",
              "75%       65.000000\n",
              "max       83.000000\n",
              "Name: age, dtype: float64"
            ]
          },
          "metadata": {
            "tags": []
          },
          "execution_count": 104
        }
      ]
    },
    {
      "cell_type": "markdown",
      "metadata": {
        "id": "vO9nl83Dtk5o"
      },
      "source": [
        "Let's transform these data into decades, beginnnig with individuals in their 20's and ending with those in their 90's:"
      ]
    },
    {
      "cell_type": "code",
      "metadata": {
        "colab": {
          "base_uri": "https://localhost:8080/"
        },
        "id": "ZXqvS4_Ytk5p",
        "outputId": "42d50c81-88bd-4833-d77d-d527482af1cf"
      },
      "source": [
        "pd.cut(cdystonia.age, [20,30,40,50,60,70,80,90])[:30]"
      ],
      "execution_count": null,
      "outputs": [
        {
          "output_type": "execute_result",
          "data": {
            "text/plain": [
              "0     (60, 70]\n",
              "1     (60, 70]\n",
              "2     (60, 70]\n",
              "3     (60, 70]\n",
              "4     (60, 70]\n",
              "        ...   \n",
              "25    (70, 80]\n",
              "26    (70, 80]\n",
              "27    (70, 80]\n",
              "28    (50, 60]\n",
              "29    (50, 60]\n",
              "Name: age, Length: 30, dtype: category\n",
              "Categories (7, interval[int64]): [(20, 30] < (30, 40] < (40, 50] < (50, 60] < (60, 70] < (70, 80] <\n",
              "                                  (80, 90]]"
            ]
          },
          "metadata": {
            "tags": []
          },
          "execution_count": 105
        }
      ]
    },
    {
      "cell_type": "markdown",
      "metadata": {
        "id": "hSiFIxrytk5p"
      },
      "source": [
        "The parentheses indicate an open interval, meaning that the interval includes values up to but *not including* the endpoint, whereas the square bracket is a closed interval, where the endpoint is included in the interval. We can switch the closure to the left side by setting the `right` flag to `False`:"
      ]
    },
    {
      "cell_type": "code",
      "metadata": {
        "colab": {
          "base_uri": "https://localhost:8080/"
        },
        "id": "GRSiwi8Ctk5p",
        "outputId": "e51fda71-8390-4700-870a-0dee494a013b"
      },
      "source": [
        "pd.cut(cdystonia.age, [20,30,40,50,60,70,80,90], right=False)[:30]"
      ],
      "execution_count": null,
      "outputs": [
        {
          "output_type": "execute_result",
          "data": {
            "text/plain": [
              "0     [60, 70)\n",
              "1     [60, 70)\n",
              "2     [60, 70)\n",
              "3     [60, 70)\n",
              "4     [60, 70)\n",
              "        ...   \n",
              "25    [70, 80)\n",
              "26    [70, 80)\n",
              "27    [70, 80)\n",
              "28    [50, 60)\n",
              "29    [50, 60)\n",
              "Name: age, Length: 30, dtype: category\n",
              "Categories (7, interval[int64]): [[20, 30) < [30, 40) < [40, 50) < [50, 60) < [60, 70) < [70, 80) <\n",
              "                                  [80, 90)]"
            ]
          },
          "metadata": {
            "tags": []
          },
          "execution_count": 106
        }
      ]
    },
    {
      "cell_type": "markdown",
      "metadata": {
        "id": "PLGNDZrFtk5q"
      },
      "source": [
        "Since the data are now **ordinal**, rather than numeric, we can give them labels:"
      ]
    },
    {
      "cell_type": "code",
      "metadata": {
        "colab": {
          "base_uri": "https://localhost:8080/"
        },
        "id": "M-UKy2Q-tk5q",
        "outputId": "0414f3bd-aab9-4411-bd1d-51d40c5cd236"
      },
      "source": [
        "pd.cut(cdystonia.age, [20,40,60,80,90], labels=['young','middle-aged','old','ancient'])[:30]"
      ],
      "execution_count": null,
      "outputs": [
        {
          "output_type": "execute_result",
          "data": {
            "text/plain": [
              "0             old\n",
              "1             old\n",
              "2             old\n",
              "3             old\n",
              "4             old\n",
              "         ...     \n",
              "25            old\n",
              "26            old\n",
              "27            old\n",
              "28    middle-aged\n",
              "29    middle-aged\n",
              "Name: age, Length: 30, dtype: category\n",
              "Categories (4, object): ['young' < 'middle-aged' < 'old' < 'ancient']"
            ]
          },
          "metadata": {
            "tags": []
          },
          "execution_count": 107
        }
      ]
    },
    {
      "cell_type": "markdown",
      "metadata": {
        "id": "4xStQ4jItk5r"
      },
      "source": [
        "A related function `qcut` uses empirical quantiles to divide the data. If, for example, we want the quartiles -- (0-25%], (25-50%], (50-70%], (75-100%] -- we can just specify 4 intervals, which will be equally-spaced by default:"
      ]
    },
    {
      "cell_type": "code",
      "metadata": {
        "colab": {
          "base_uri": "https://localhost:8080/"
        },
        "id": "Fqy59JJ-tk5s",
        "outputId": "2da46caf-c3bf-4b85-8460-de6d3b983b2b"
      },
      "source": [
        "pd.qcut(cdystonia.age, 4)[:30]"
      ],
      "execution_count": null,
      "outputs": [
        {
          "output_type": "execute_result",
          "data": {
            "text/plain": [
              "0     (56.0, 65.0]\n",
              "1     (56.0, 65.0]\n",
              "2     (56.0, 65.0]\n",
              "3     (56.0, 65.0]\n",
              "4     (56.0, 65.0]\n",
              "          ...     \n",
              "25    (65.0, 83.0]\n",
              "26    (65.0, 83.0]\n",
              "27    (65.0, 83.0]\n",
              "28    (56.0, 65.0]\n",
              "29    (56.0, 65.0]\n",
              "Name: age, Length: 30, dtype: category\n",
              "Categories (4, interval[float64]): [(25.999, 46.0] < (46.0, 56.0] < (56.0, 65.0] < (65.0, 83.0]]"
            ]
          },
          "metadata": {
            "tags": []
          },
          "execution_count": 108
        }
      ]
    },
    {
      "cell_type": "markdown",
      "metadata": {
        "id": "Ija6gPRMtk5s"
      },
      "source": [
        "Alternatively, one can specify custom quantiles to act as cut points:"
      ]
    },
    {
      "cell_type": "code",
      "metadata": {
        "colab": {
          "base_uri": "https://localhost:8080/"
        },
        "id": "mZmCwNjQtk5t",
        "outputId": "1ad82e34-425f-45b6-918a-5eb5ccb7841c"
      },
      "source": [
        "quantiles = pd.qcut(segments.seg_length, [0, 0.01, 0.05, 0.95, 0.99, 1])\n",
        "quantiles[:30]"
      ],
      "execution_count": null,
      "outputs": [
        {
          "output_type": "execute_result",
          "data": {
            "text/plain": [
              "0      (2.8, 10.1]\n",
              "1     (10.1, 46.5]\n",
              "2      (2.8, 10.1]\n",
              "3      (2.8, 10.1]\n",
              "4      (2.8, 10.1]\n",
              "          ...     \n",
              "25    (10.1, 46.5]\n",
              "26    (10.1, 46.5]\n",
              "27    (10.1, 46.5]\n",
              "28    (10.1, 46.5]\n",
              "29     (2.8, 10.1]\n",
              "Name: seg_length, Length: 30, dtype: category\n",
              "Categories (5, interval[float64]): [(0.999, 2.8] < (2.8, 10.1] < (10.1, 46.5] < (46.5, 91.2] <\n",
              "                                    (91.2, 1647.8]]"
            ]
          },
          "metadata": {
            "tags": []
          },
          "execution_count": 109
        }
      ]
    },
    {
      "cell_type": "markdown",
      "metadata": {
        "id": "MHl9pnQOtk5t"
      },
      "source": [
        "Note that you can easily combine discretiztion with the generation of indicator variables shown above:"
      ]
    },
    {
      "cell_type": "code",
      "metadata": {
        "colab": {
          "base_uri": "https://localhost:8080/"
        },
        "id": "kND8Q1UCtk5u",
        "outputId": "112e675b-8caa-4af8-acb9-37fd16b8223d"
      },
      "source": [
        "pd.get_dummies(quantiles).head(10)"
      ],
      "execution_count": null,
      "outputs": [
        {
          "output_type": "execute_result",
          "data": {
            "text/plain": [
              "   (0.999, 2.8]  (2.8, 10.1]  (10.1, 46.5]  (46.5, 91.2]  (91.2, 1647.8]\n",
              "0             0            1             0             0               0\n",
              "1             0            0             1             0               0\n",
              "2             0            1             0             0               0\n",
              "3             0            1             0             0               0\n",
              "4             0            1             0             0               0\n",
              "5             0            0             1             0               0\n",
              "6             0            0             0             1               0\n",
              "7             0            0             1             0               0\n",
              "8             0            0             1             0               0\n",
              "9             0            0             1             0               0"
            ]
          },
          "metadata": {
            "tags": []
          },
          "execution_count": 110
        }
      ]
    },
    {
      "cell_type": "markdown",
      "metadata": {
        "id": "hZBQykqLtk5v"
      },
      "source": [
        "### Permutation and sampling\n",
        "\n",
        "For some data analysis tasks, such as simulation, we need to be able to randomly reorder our data, or draw random values from it. Calling NumPy's `permutation` function with the length of the sequence you want to permute generates an array with a permuted sequence of integers, which can be used to re-order the sequence."
      ]
    },
    {
      "cell_type": "code",
      "metadata": {
        "colab": {
          "base_uri": "https://localhost:8080/"
        },
        "id": "vtDMeJRAtk5v",
        "outputId": "bdb9800f-1206-4fff-e5aa-c46413e80f5c"
      },
      "source": [
        "new_order = np.random.permutation(len(segments))\n",
        "new_order[:30]"
      ],
      "execution_count": null,
      "outputs": [
        {
          "output_type": "execute_result",
          "data": {
            "text/plain": [
              "array([39293, 29139, 24655, 44596, 79194, 69767, 55250, 53129,  6538,\n",
              "       24163, 75886, 59199, 34351,   561, 51884, 65312, 60287, 78552,\n",
              "       12312,  5316, 13694, 23694,  6718, 14261, 69466, 44202, 17748,\n",
              "       41931, 10026,   380])"
            ]
          },
          "metadata": {
            "tags": []
          },
          "execution_count": 111
        }
      ]
    },
    {
      "cell_type": "markdown",
      "metadata": {
        "id": "iR1Ey2H_tk5w"
      },
      "source": [
        "Using this sequence as an argument to the `take` method results in a reordered DataFrame:"
      ]
    },
    {
      "cell_type": "code",
      "metadata": {
        "colab": {
          "base_uri": "https://localhost:8080/"
        },
        "id": "wnErRhxrtk5w",
        "outputId": "10ad7549-64cb-4915-9203-6c9deb128be5"
      },
      "source": [
        "segments.take(new_order).head()"
      ],
      "execution_count": null,
      "outputs": [
        {
          "output_type": "execute_result",
          "data": {
            "text/plain": [
              "            mmsi        name  transit  segment  seg_length  avg_sog  min_sog  \\\n",
              "39293  255802360    Jummetor       11        1        21.5      6.9      2.1   \n",
              "29139  240754000    Ostria S        1        1        21.6     10.3      6.6   \n",
              "24655  237956000  Elka Glory       13        1        30.8      9.7      9.1   \n",
              "44596  259768000  Sten Suomi        2        1        20.5     13.9      9.3   \n",
              "79194  338997000   Mcfarland       27        1        21.2      8.9      0.2   \n",
              "\n",
              "       max_sog  pdgt10         st_time       end_time type  \n",
              "39293      9.0     0.0   8/12/11 13:33  8/12/11 16:43  foo  \n",
              "29139     13.4    73.3    1/3/10 10:52   1/3/10 12:49  foo  \n",
              "24655     12.2    13.6  12/14/08 21:19  12/15/08 0:30  foo  \n",
              "44596     15.0    96.0   7/18/10 23:28   7/19/10 0:58  foo  \n",
              "79194     10.6    52.9   11/7/08 18:04  11/7/08 20:25  foo  "
            ]
          },
          "metadata": {
            "tags": []
          },
          "execution_count": 112
        }
      ]
    },
    {
      "cell_type": "markdown",
      "metadata": {
        "id": "C0qGmNvqtk5x"
      },
      "source": [
        "Compare this ordering with the original:"
      ]
    },
    {
      "cell_type": "code",
      "metadata": {
        "colab": {
          "base_uri": "https://localhost:8080/"
        },
        "id": "tk6iD4pGtk5x",
        "outputId": "036c9069-d44c-4543-ca1a-774e02a28d34"
      },
      "source": [
        "segments.head()"
      ],
      "execution_count": null,
      "outputs": [
        {
          "output_type": "execute_result",
          "data": {
            "text/plain": [
              "   mmsi               name  transit  segment  seg_length  avg_sog  min_sog  \\\n",
              "0     1        Us Govt Ves        1        1         5.1     13.2      9.2   \n",
              "1     1  Dredge Capt Frank        1        1        13.5     18.6     10.4   \n",
              "2     1      Us Gov Vessel        1        1         4.3     16.2     10.3   \n",
              "3     1      Us Gov Vessel        2        1         9.2     15.4     14.5   \n",
              "4     1  Dredge Capt Frank        2        1         9.2     15.4     14.6   \n",
              "\n",
              "   max_sog  pdgt10        st_time       end_time type  \n",
              "0     14.5    96.5  2/10/09 16:03  2/10/09 16:27  foo  \n",
              "1     20.6   100.0   4/6/09 14:31   4/6/09 15:20  foo  \n",
              "2     20.5   100.0   4/6/09 14:36   4/6/09 14:55  foo  \n",
              "3     16.1   100.0  4/10/09 17:58  4/10/09 18:34  foo  \n",
              "4     16.2   100.0  4/10/09 17:59  4/10/09 18:35  foo  "
            ]
          },
          "metadata": {
            "tags": []
          },
          "execution_count": 113
        }
      ]
    },
    {
      "cell_type": "markdown",
      "metadata": {
        "id": "5rGNfwrqtk5x"
      },
      "source": [
        "## Exercise\n",
        "\n",
        "Its easy to see how this permutation approach allows us to draw a random sample **without replacement**. How would you sample **with replacement**? Generate a random sample of 5 ships from the `vessels` DataFrame using this scheme."
      ]
    },
    {
      "cell_type": "code",
      "metadata": {
        "colab": {
          "base_uri": "https://localhost:8080/"
        },
        "id": "Ad5gjNjwtk5y",
        "outputId": "6a899b41-41ab-41c4-e57e-fca0a28520d9"
      },
      "source": [
        "segments.sample(frac=5, replace=True, random_state=1)"
      ],
      "execution_count": null,
      "outputs": [
        {
          "output_type": "execute_result",
          "data": {
            "text/plain": [
              "            mmsi              name  transit  segment  seg_length  avg_sog  \\\n",
              "77708  338619000  Alliance Norfolk       32        1        19.1     10.1   \n",
              "5192   211109000     Oocl New York        7        1        21.7      8.5   \n",
              "50057  303471000       Rv Endeavor       33        1        36.9      5.5   \n",
              "73349  338047475       Sempre Duro        1        1        37.4     30.8   \n",
              "21440  235066053     Cma Cgm Amber       90        1        20.0     11.0   \n",
              "...          ...               ...      ...      ...         ...      ...   \n",
              "17910  232664000           Toronto        8        1        19.0     10.2   \n",
              "44694  259797000         Sks Tweed        9        1        10.3      5.3   \n",
              "28221  240444000           Despina       12        1        20.9     12.7   \n",
              "52520  304210000             Ocean      151        1        38.5     15.2   \n",
              "75089  338092728            Avanti       14        2        17.7     21.0   \n",
              "\n",
              "       min_sog  max_sog  pdgt10         st_time        end_time type  \n",
              "77708      6.5     11.4    75.6   11/28/09 0:15   11/28/09 2:11  foo  \n",
              "5192       5.6     12.3    13.1    1/5/10 18:34    1/5/10 21:07  foo  \n",
              "50057      3.1      6.9     0.0   5/19/10 20:31    5/20/10 3:23  foo  \n",
              "73349     30.0     31.6   100.0   12/3/08 16:27   12/3/08 17:39  foo  \n",
              "21440      4.7     16.1    68.4    9/26/10 6:43    9/26/10 8:33  foo  \n",
              "...        ...      ...     ...             ...             ...  ...  \n",
              "17910      6.5     16.1    44.6    3/20/10 2:29    3/20/10 4:24  foo  \n",
              "44694      1.3     13.0    32.5   5/16/12 16:44   5/16/12 18:44  foo  \n",
              "28221      7.3     14.0    91.4  10/22/11 15:56  10/22/11 17:37  foo  \n",
              "52520      8.7     15.9    97.4   9/28/11 21:08   9/28/11 23:42  foo  \n",
              "75089     20.2     21.4   100.0  10/22/09 22:19  10/22/09 23:06  foo  \n",
              "\n",
              "[410340 rows x 12 columns]"
            ]
          },
          "metadata": {
            "tags": []
          },
          "execution_count": 130
        }
      ]
    },
    {
      "cell_type": "markdown",
      "metadata": {
        "id": "V09RrkwStk5y"
      },
      "source": [
        "## Data aggregation and GroupBy operations\n",
        "\n",
        "One of the most powerful features of Pandas is its **GroupBy** functionality. On occasion we may want to perform operations on *groups* of observations within a dataset. For exmaple:\n",
        "\n",
        "* **aggregation**, such as computing the sum of mean of each group, which involves applying a function to each group and returning the aggregated results\n",
        "* **slicing** the DataFrame into groups and then doing something with the resulting slices (*e.g.* plotting)\n",
        "* group-wise **transformation**, such as standardization/normalization"
      ]
    },
    {
      "cell_type": "code",
      "metadata": {
        "id": "nSyLg5nJtk5y"
      },
      "source": [
        "cdystonia_grouped = cdystonia.groupby(cdystonia.patient)"
      ],
      "execution_count": null,
      "outputs": []
    },
    {
      "cell_type": "markdown",
      "metadata": {
        "id": "IPQQwzOHtk5y"
      },
      "source": [
        "This *grouped* dataset is hard to visualize\n",
        "\n"
      ]
    },
    {
      "cell_type": "code",
      "metadata": {
        "colab": {
          "base_uri": "https://localhost:8080/"
        },
        "id": "0y5Ehf4Ltk5z",
        "outputId": "1c5d622c-7562-413d-ead6-2e2d187b3668"
      },
      "source": [
        "cdystonia_grouped"
      ],
      "execution_count": null,
      "outputs": [
        {
          "output_type": "execute_result",
          "data": {
            "text/plain": [
              "<pandas.core.groupby.generic.DataFrameGroupBy object at 0x7f1114794e10>"
            ]
          },
          "metadata": {
            "tags": []
          },
          "execution_count": 132
        }
      ]
    },
    {
      "cell_type": "markdown",
      "metadata": {
        "id": "NQCY5zOZtk50"
      },
      "source": [
        "However, the grouping is only an intermediate step; for example, we may want to **iterate** over each of the patient groups:"
      ]
    },
    {
      "cell_type": "markdown",
      "metadata": {
        "id": "-5w_lZowr53r"
      },
      "source": [
        "*We have to change the print patient to print(patient and same in group. The function writing concept has been updated for print.*"
      ]
    },
    {
      "cell_type": "code",
      "metadata": {
        "colab": {
          "base_uri": "https://localhost:8080/"
        },
        "id": "6SHGEZ_dtk50",
        "outputId": "b17f3ee7-50ca-4e09-82ff-e2449add0bbd"
      },
      "source": [
        "for patient, group in cdystonia_grouped:\n",
        "    print(patient)\n",
        "    print(group)\n",
        "    print"
      ],
      "execution_count": null,
      "outputs": [
        {
          "output_type": "stream",
          "text": [
            "1\n",
            "   patient  obs  week  site  id  treat  age sex  twstrs  treatment\n",
            "0        1    1     0     1   1  5000U   65   F      32          1\n",
            "1        1    2     2     1   1  5000U   65   F      30          1\n",
            "2        1    3     4     1   1  5000U   65   F      24          1\n",
            "3        1    4     8     1   1  5000U   65   F      37          1\n",
            "4        1    5    12     1   1  5000U   65   F      39          1\n",
            "5        1    6    16     1   1  5000U   65   F      36          1\n",
            "2\n",
            "    patient  obs  week  site  id   treat  age sex  twstrs  treatment\n",
            "6         2    1     0     1   2  10000U   70   F      60          2\n",
            "7         2    2     2     1   2  10000U   70   F      26          2\n",
            "8         2    3     4     1   2  10000U   70   F      27          2\n",
            "9         2    4     8     1   2  10000U   70   F      41          2\n",
            "10        2    5    12     1   2  10000U   70   F      65          2\n",
            "11        2    6    16     1   2  10000U   70   F      67          2\n",
            "3\n",
            "    patient  obs  week  site  id  treat  age sex  twstrs  treatment\n",
            "12        3    1     0     1   3  5000U   64   F      44          1\n",
            "13        3    2     2     1   3  5000U   64   F      20          1\n",
            "14        3    3     4     1   3  5000U   64   F      23          1\n",
            "15        3    4     8     1   3  5000U   64   F      26          1\n",
            "16        3    5    12     1   3  5000U   64   F      35          1\n",
            "17        3    6    16     1   3  5000U   64   F      35          1\n",
            "4\n",
            "    patient  obs  week  site  id    treat  age sex  twstrs  treatment\n",
            "18        4    1     0     1   4  Placebo   59   F      53          0\n",
            "19        4    2     2     1   4  Placebo   59   F      61          0\n",
            "20        4    3     4     1   4  Placebo   59   F      64          0\n",
            "21        4    4     8     1   4  Placebo   59   F      62          0\n",
            "5\n",
            "    patient  obs  week  site  id   treat  age sex  twstrs  treatment\n",
            "22        5    1     0     1   5  10000U   76   F      53          2\n",
            "23        5    2     2     1   5  10000U   76   F      35          2\n",
            "24        5    3     4     1   5  10000U   76   F      48          2\n",
            "25        5    4     8     1   5  10000U   76   F      49          2\n",
            "26        5    5    12     1   5  10000U   76   F      41          2\n",
            "27        5    6    16     1   5  10000U   76   F      51          2\n",
            "6\n",
            "    patient  obs  week  site  id   treat  age sex  twstrs  treatment\n",
            "28        6    1     0     1   6  10000U   59   F      49          2\n",
            "29        6    2     2     1   6  10000U   59   F      34          2\n",
            "30        6    3     4     1   6  10000U   59   F      43          2\n",
            "31        6    4     8     1   6  10000U   59   F      48          2\n",
            "32        6    5    12     1   6  10000U   59   F      48          2\n",
            "33        6    6    16     1   6  10000U   59   F      51          2\n",
            "7\n",
            "    patient  obs  week  site  id  treat  age sex  twstrs  treatment\n",
            "34        7    1     0     1   7  5000U   72   M      42          1\n",
            "35        7    2     2     1   7  5000U   72   M      32          1\n",
            "36        7    3     4     1   7  5000U   72   M      32          1\n",
            "37        7    4     8     1   7  5000U   72   M      43          1\n",
            "38        7    5    12     1   7  5000U   72   M      42          1\n",
            "39        7    6    16     1   7  5000U   72   M      46          1\n",
            "8\n",
            "    patient  obs  week  site  id    treat  age sex  twstrs  treatment\n",
            "40        8    1     0     1   8  Placebo   40   M      34          0\n",
            "41        8    2     2     1   8  Placebo   40   M      33          0\n",
            "42        8    3     4     1   8  Placebo   40   M      21          0\n",
            "43        8    4     8     1   8  Placebo   40   M      27          0\n",
            "44        8    5    12     1   8  Placebo   40   M      32          0\n",
            "45        8    6    16     1   8  Placebo   40   M      38          0\n",
            "9\n",
            "    patient  obs  week  site  id  treat  age sex  twstrs  treatment\n",
            "46        9    1     0     1   9  5000U   52   F      41          1\n",
            "47        9    2     2     1   9  5000U   52   F      32          1\n",
            "48        9    3     4     1   9  5000U   52   F      34          1\n",
            "49        9    4     8     1   9  5000U   52   F      35          1\n",
            "50        9    5    12     1   9  5000U   52   F      37          1\n",
            "51        9    6    16     1   9  5000U   52   F      36          1\n",
            "10\n",
            "    patient  obs  week  site  id    treat  age sex  twstrs  treatment\n",
            "52       10    1     0     1  10  Placebo   47   M      27          0\n",
            "53       10    2     2     1  10  Placebo   47   M      10          0\n",
            "54       10    3     4     1  10  Placebo   47   M      31          0\n",
            "55       10    4     8     1  10  Placebo   47   M      32          0\n",
            "56       10    5    12     1  10  Placebo   47   M       6          0\n",
            "57       10    6    16     1  10  Placebo   47   M      14          0\n",
            "11\n",
            "    patient  obs  week  site  id   treat  age sex  twstrs  treatment\n",
            "58       11    1     0     1  11  10000U   57   F      48          2\n",
            "59       11    2     2     1  11  10000U   57   F      41          2\n",
            "60       11    3     4     1  11  10000U   57   F      32          2\n",
            "61       11    4     8     1  11  10000U   57   F      35          2\n",
            "62       11    5    12     1  11  10000U   57   F      57          2\n",
            "63       11    6    16     1  11  10000U   57   F      51          2\n",
            "12\n",
            "    patient  obs  week  site  id    treat  age sex  twstrs  treatment\n",
            "64       12    1     0     1  12  Placebo   47   F      34          0\n",
            "65       12    2     2     1  12  Placebo   47   F      19          0\n",
            "66       12    3     4     1  12  Placebo   47   F      21          0\n",
            "67       12    4     8     1  12  Placebo   47   F      24          0\n",
            "68       12    5    12     1  12  Placebo   47   F      28          0\n",
            "69       12    6    16     1  12  Placebo   47   F      28          0\n",
            "13\n",
            "    patient  obs  week  site  id    treat  age sex  twstrs  treatment\n",
            "70       13    1     0     2   1  Placebo   70   F      49          0\n",
            "71       13    2     2     2   1  Placebo   70   F      47          0\n",
            "72       13    3     4     2   1  Placebo   70   F      44          0\n",
            "73       13    4     8     2   1  Placebo   70   F      48          0\n",
            "74       13    5    12     2   1  Placebo   70   F      44          0\n",
            "75       13    6    16     2   1  Placebo   70   F      44          0\n",
            "14\n",
            "    patient  obs  week  site  id  treat  age sex  twstrs  treatment\n",
            "76       14    1     0     2   2  5000U   49   F      46          1\n",
            "77       14    2     2     2   2  5000U   49   F      35          1\n",
            "78       14    3     4     2   2  5000U   49   F      45          1\n",
            "79       14    4     8     2   2  5000U   49   F      49          1\n",
            "80       14    5    12     2   2  5000U   49   F      53          1\n",
            "81       14    6    16     2   2  5000U   49   F      56          1\n",
            "15\n",
            "    patient  obs  week  site  id   treat  age sex  twstrs  treatment\n",
            "82       15    1     0     2   3  10000U   59   F      56          2\n",
            "83       15    2     2     2   3  10000U   59   F      44          2\n",
            "84       15    3     4     2   3  10000U   59   F      48          2\n",
            "85       15    4     8     2   3  10000U   59   F      54          2\n",
            "86       15    5    12     2   3  10000U   59   F      49          2\n",
            "87       15    6    16     2   3  10000U   59   F      60          2\n",
            "16\n",
            "    patient  obs  week  site  id  treat  age sex  twstrs  treatment\n",
            "88       16    1     0     2   4  5000U   64   M      59          1\n",
            "89       16    2     2     2   4  5000U   64   M      48          1\n",
            "90       16    3     4     2   4  5000U   64   M      56          1\n",
            "91       16    4     8     2   4  5000U   64   M      55          1\n",
            "92       16    5    12     2   4  5000U   64   M      57          1\n",
            "93       16    6    16     2   4  5000U   64   M      58          1\n",
            "17\n",
            "    patient  obs  week  site  id   treat  age sex  twstrs  treatment\n",
            "94       17    1     0     2   5  10000U   45   F      62          2\n",
            "95       17    2     2     2   5  10000U   45   F      60          2\n",
            "96       17    3     4     2   5  10000U   45   F      60          2\n",
            "97       17    4     8     2   5  10000U   45   F      64          2\n",
            "98       17    5    12     2   5  10000U   45   F      67          2\n",
            "99       17    6    16     2   5  10000U   45   F      66          2\n",
            "18\n",
            "     patient  obs  week  site  id    treat  age sex  twstrs  treatment\n",
            "100       18    1     0     2   6  Placebo   66   F      50          0\n",
            "101       18    2     2     2   6  Placebo   66   F      53          0\n",
            "102       18    3     4     2   6  Placebo   66   F      52          0\n",
            "103       18    4     8     2   6  Placebo   66   F      57          0\n",
            "104       18    5    12     2   6  Placebo   66   F      61          0\n",
            "105       18    6    16     2   6  Placebo   66   F      54          0\n",
            "19\n",
            "     patient  obs  week  site  id   treat  age sex  twstrs  treatment\n",
            "106       19    1     0     2   7  10000U   49   F      42          2\n",
            "107       19    2     2     2   7  10000U   49   F      42          2\n",
            "108       19    3     4     2   7  10000U   49   F      43          2\n",
            "109       19    4     8     2   7  10000U   49   F      33          2\n",
            "110       19    5    12     2   7  10000U   49   F      37          2\n",
            "111       19    6    16     2   7  10000U   49   F      43          2\n",
            "20\n",
            "     patient  obs  week  site  id    treat  age sex  twstrs  treatment\n",
            "112       20    1     0     2   8  Placebo   54   F      53          0\n",
            "113       20    2     2     2   8  Placebo   54   F      56          0\n",
            "114       20    3     4     2   8  Placebo   54   F      52          0\n",
            "115       20    4     8     2   8  Placebo   54   F      54          0\n",
            "116       20    5    12     2   8  Placebo   54   F      55          0\n",
            "117       20    6    16     2   8  Placebo   54   F      51          0\n",
            "21\n",
            "     patient  obs  week  site  id  treat  age sex  twstrs  treatment\n",
            "118       21    1     0     2   9  5000U   47   F      67          1\n",
            "119       21    2     2     2   9  5000U   47   F      64          1\n",
            "120       21    3     4     2   9  5000U   47   F      65          1\n",
            "121       21    4     8     2   9  5000U   47   F      64          1\n",
            "122       21    5    12     2   9  5000U   47   F      62          1\n",
            "123       21    6    16     2   9  5000U   47   F      64          1\n",
            "22\n",
            "     patient  obs  week  site  id    treat  age sex  twstrs  treatment\n",
            "124       22    1     0     2  10  Placebo   31   M      44          0\n",
            "125       22    2     2     2  10  Placebo   31   M      40          0\n",
            "126       22    3     4     2  10  Placebo   31   M      32          0\n",
            "127       22    4     8     2  10  Placebo   31   M      36          0\n",
            "128       22    5    12     2  10  Placebo   31   M      42          0\n",
            "129       22    6    16     2  10  Placebo   31   M      43          0\n",
            "23\n",
            "     patient  obs  week  site  id   treat  age sex  twstrs  treatment\n",
            "130       23    1     0     2  11  10000U   53   F      65          2\n",
            "131       23    2     2     2  11  10000U   53   F      58          2\n",
            "132       23    3     4     2  11  10000U   53   F      55          2\n",
            "133       23    5    12     2  11  10000U   53   F      56          2\n",
            "134       23    6    16     2  11  10000U   53   F      60          2\n",
            "24\n",
            "     patient  obs  week  site  id  treat  age sex  twstrs  treatment\n",
            "135       24    1     0     2  12  5000U   61   M      56          1\n",
            "136       24    2     2     2  12  5000U   61   M      54          1\n",
            "137       24    3     4     2  12  5000U   61   M      52          1\n",
            "138       24    4     8     2  12  5000U   61   M      48          1\n",
            "139       24    5    12     2  12  5000U   61   M      52          1\n",
            "140       24    6    16     2  12  5000U   61   M      53          1\n",
            "25\n",
            "     patient  obs  week  site  id    treat  age sex  twstrs  treatment\n",
            "141       25    1     0     2  13  Placebo   40   M      30          0\n",
            "142       25    2     2     2  13  Placebo   40   M      33          0\n",
            "143       25    3     4     2  13  Placebo   40   M      25          0\n",
            "144       25    4     8     2  13  Placebo   40   M      29          0\n",
            "145       25    5    12     2  13  Placebo   40   M      32          0\n",
            "146       25    6    16     2  13  Placebo   40   M      32          0\n",
            "26\n",
            "     patient  obs  week  site  id  treat  age sex  twstrs  treatment\n",
            "147       26    1     0     2  14  5000U   67   M      47          1\n",
            "148       26    3     4     2  14  5000U   67   M      54          1\n",
            "149       26    4     8     2  14  5000U   67   M      43          1\n",
            "150       26    5    12     2  14  5000U   67   M      46          1\n",
            "151       26    6    16     2  14  5000U   67   M      50          1\n",
            "27\n",
            "     patient  obs  week  site  id   treat  age sex  twstrs  treatment\n",
            "152       27    1     0     3   1  10000U   54   F      50          2\n",
            "153       27    2     2     3   1  10000U   54   F      43          2\n",
            "154       27    3     4     3   1  10000U   54   F      51          2\n",
            "155       27    4     8     3   1  10000U   54   F      46          2\n",
            "156       27    5    12     3   1  10000U   54   F      49          2\n",
            "157       27    6    16     3   1  10000U   54   F      53          2\n",
            "28\n",
            "     patient  obs  week  site  id    treat  age sex  twstrs  treatment\n",
            "158       28    1     0     3   2  Placebo   41   F      34          0\n",
            "159       28    2     2     3   2  Placebo   41   F      29          0\n",
            "160       28    3     4     3   2  Placebo   41   F      27          0\n",
            "161       28    4     8     3   2  Placebo   41   F      21          0\n",
            "162       28    5    12     3   2  Placebo   41   F      22          0\n",
            "163       28    6    16     3   2  Placebo   41   F      22          0\n",
            "29\n",
            "     patient  obs  week  site  id  treat  age sex  twstrs  treatment\n",
            "164       29    1     0     3   3  5000U   66   M      39          1\n",
            "165       29    2     2     3   3  5000U   66   M      41          1\n",
            "166       29    3     4     3   3  5000U   66   M      33          1\n",
            "167       29    4     8     3   3  5000U   66   M      39          1\n",
            "168       29    5    12     3   3  5000U   66   M      37          1\n",
            "169       29    6    16     3   3  5000U   66   M      37          1\n",
            "30\n",
            "     patient  obs  week  site  id    treat  age sex  twstrs  treatment\n",
            "170       30    1     0     3   4  Placebo   68   F      43          0\n",
            "171       30    2     2     3   4  Placebo   68   F      31          0\n",
            "172       30    3     4     3   4  Placebo   68   F      29          0\n",
            "173       30    4     8     3   4  Placebo   68   F      28          0\n",
            "174       30    5    12     3   4  Placebo   68   F      33          0\n",
            "175       30    6    16     3   4  Placebo   68   F      38          0\n",
            "31\n",
            "     patient  obs  week  site  id   treat  age sex  twstrs  treatment\n",
            "176       31    1     0     3   5  10000U   41   F      46          2\n",
            "177       31    2     2     3   5  10000U   41   F      26          2\n",
            "178       31    3     4     3   5  10000U   41   F      29          2\n",
            "179       31    4     8     3   5  10000U   41   F      33          2\n",
            "180       31    5    12     3   5  10000U   41   F      45          2\n",
            "181       31    6    16     3   5  10000U   41   F      56          2\n",
            "32\n",
            "     patient  obs  week  site  id  treat  age sex  twstrs  treatment\n",
            "182       32    1     0     3   6  5000U   77   M      52          1\n",
            "183       32    2     2     3   6  5000U   77   M      44          1\n",
            "184       32    3     4     3   6  5000U   77   M      47          1\n",
            "185       32    4     8     3   6  5000U   77   M      50          1\n",
            "186       32    5    12     3   6  5000U   77   M      50          1\n",
            "187       32    6    16     3   6  5000U   77   M      49          1\n",
            "33\n",
            "     patient  obs  week  site  id   treat  age sex  twstrs  treatment\n",
            "188       33    1     0     3   7  10000U   41   M      38          2\n",
            "189       33    2     2     3   7  10000U   41   M      19          2\n",
            "190       33    3     4     3   7  10000U   41   M      20          2\n",
            "191       33    4     8     3   7  10000U   41   M      27          2\n",
            "192       33    5    12     3   7  10000U   41   M      29          2\n",
            "193       33    6    16     3   7  10000U   41   M      32          2\n",
            "34\n",
            "     patient  obs  week  site  id    treat  age sex  twstrs  treatment\n",
            "194       34    1     0     3   8  Placebo   56   M      33          0\n",
            "195       34    2     2     3   8  Placebo   56   M      38          0\n",
            "196       34    3     4     3   8  Placebo   56   M      40          0\n",
            "197       34    4     8     3   8  Placebo   56   M      48          0\n",
            "198       34    5    12     3   8  Placebo   56   M      49          0\n",
            "199       34    6    16     3   8  Placebo   56   M      44          0\n",
            "35\n",
            "     patient  obs  week  site  id  treat  age sex  twstrs  treatment\n",
            "200       35    1     0     3   9  5000U   46   F      28          1\n",
            "201       35    2     2     3   9  5000U   46   F      16          1\n",
            "202       35    3     4     3   9  5000U   46   F      11          1\n",
            "203       35    4     8     3   9  5000U   46   F       7          1\n",
            "204       35    5    12     3   9  5000U   46   F      13          1\n",
            "205       35    6    16     3   9  5000U   46   F      21          1\n",
            "36\n",
            "     patient  obs  week  site  id   treat  age sex  twstrs  treatment\n",
            "206       36    1     0     3  10  10000U   46   F      34          2\n",
            "207       36    2     2     3  10  10000U   46   F      23          2\n",
            "208       36    3     4     3  10  10000U   46   F      16          2\n",
            "209       36    4     8     3  10  10000U   46   F      15          2\n",
            "210       36    5    12     3  10  10000U   46   F      17          2\n",
            "211       36    6    16     3  10  10000U   46   F      29          2\n",
            "37\n",
            "     patient  obs  week  site  id    treat  age sex  twstrs  treatment\n",
            "212       37    1     0     3  11  Placebo   47   F      39          0\n",
            "213       37    2     2     3  11  Placebo   47   F      37          0\n",
            "214       37    3     4     3  11  Placebo   47   F      39          0\n",
            "215       37    4     8     3  11  Placebo   47   F      39          0\n",
            "216       37    5    12     3  11  Placebo   47   F      45          0\n",
            "217       37    6    16     3  11  Placebo   47   F      43          0\n",
            "38\n",
            "     patient  obs  week  site  id  treat  age sex  twstrs  treatment\n",
            "218       38    1     0     3  12  5000U   35   M      29          1\n",
            "219       38    2     2     3  12  5000U   35   M      42          1\n",
            "220       38    3     4     3  12  5000U   35   M      35          1\n",
            "221       38    4     8     3  12  5000U   35   M      24          1\n",
            "222       38    5    12     3  12  5000U   35   M      29          1\n",
            "223       38    6    16     3  12  5000U   35   M      42          1\n",
            "39\n",
            "     patient  obs  week  site  id    treat  age sex  twstrs  treatment\n",
            "224       39    1     0     4   1  Placebo   58   M      52          0\n",
            "225       39    2     2     4   1  Placebo   58   M      55          0\n",
            "226       39    3     4     4   1  Placebo   58   M      51          0\n",
            "227       39    4     8     4   1  Placebo   58   M      52          0\n",
            "228       39    5    12     4   1  Placebo   58   M      54          0\n",
            "229       39    6    16     4   1  Placebo   58   M      57          0\n",
            "40\n",
            "     patient  obs  week  site  id  treat  age sex  twstrs  treatment\n",
            "230       40    1     0     4   2  5000U   62   F      52          1\n",
            "231       40    2     2     4   2  5000U   62   F      30          1\n",
            "232       40    3     4     4   2  5000U   62   F      43          1\n",
            "233       40    4     8     4   2  5000U   62   F      45          1\n",
            "234       40    5    12     4   2  5000U   62   F      47          1\n",
            "235       40    6    16     4   2  5000U   62   F      46          1\n",
            "41\n",
            "     patient  obs  week  site  id   treat  age sex  twstrs  treatment\n",
            "236       41    1     0     4   3  10000U   73   F      54          2\n",
            "237       41    2     2     4   3  10000U   73   F      52          2\n",
            "238       41    3     4     4   3  10000U   73   F      52          2\n",
            "239       41    4     8     4   3  10000U   73   F      54          2\n",
            "240       41    5    12     4   3  10000U   73   F      51          2\n",
            "241       41    6    16     4   3  10000U   73   F      57          2\n",
            "42\n",
            "     patient  obs  week  site  id   treat  age sex  twstrs  treatment\n",
            "242       42    1     0     4   4  10000U   52   F      52          2\n",
            "243       42    2     2     4   4  10000U   52   F      44          2\n",
            "244       42    3     4     4   4  10000U   52   F      33          2\n",
            "245       42    4     8     4   4  10000U   52   F      54          2\n",
            "246       42    5    12     4   4  10000U   52   F      46          2\n",
            "247       42    6    16     4   4  10000U   52   F      47          2\n",
            "43\n",
            "     patient  obs  week  site  id    treat  age sex  twstrs  treatment\n",
            "248       43    1     0     4   5  Placebo   53   F      47          0\n",
            "249       43    2     2     4   5  Placebo   53   F      45          0\n",
            "250       43    3     4     4   5  Placebo   53   F      41          0\n",
            "251       43    4     8     4   5  Placebo   53   F      45          0\n",
            "252       43    5    12     4   5  Placebo   53   F      43          0\n",
            "253       43    6    16     4   5  Placebo   53   F      41          0\n",
            "44\n",
            "     patient  obs  week  site  id  treat  age sex  twstrs  treatment\n",
            "254       44    1     0     4   6  5000U   69   M      44          1\n",
            "255       44    2     2     4   6  5000U   69   M      34          1\n",
            "256       44    3     4     4   6  5000U   69   M      29          1\n",
            "257       44    4     8     4   6  5000U   69   M      28          1\n",
            "258       44    5    12     4   6  5000U   69   M      35          1\n",
            "259       44    6    16     4   6  5000U   69   M      41          1\n",
            "45\n",
            "     patient  obs  week  site  id    treat  age sex  twstrs  treatment\n",
            "260       45    1     0     4   7  Placebo   55   M      42          0\n",
            "261       45    2     2     4   7  Placebo   55   M      39          0\n",
            "262       45    3     4     4   7  Placebo   55   M      38          0\n",
            "263       45    4     8     4   7  Placebo   55   M      47          0\n",
            "264       45    5    12     4   7  Placebo   55   M      39          0\n",
            "265       45    6    16     4   7  Placebo   55   M      39          0\n",
            "46\n",
            "     patient  obs  week  site  id   treat  age sex  twstrs  treatment\n",
            "266       46    1     0     4   8  10000U   52   F      42          2\n",
            "267       46    2     2     4   8  10000U   52   F      14          2\n",
            "268       46    3     4     4   8  10000U   52   F       9          2\n",
            "269       46    4     8     4   8  10000U   52   F       9          2\n",
            "270       46    5    12     4   8  10000U   52   F      16          2\n",
            "271       46    6    16     4   8  10000U   52   F      33          2\n",
            "47\n",
            "     patient  obs  week  site  id   treat  age sex  twstrs  treatment\n",
            "272       47    1     0     5   1  10000U   51   F      44          2\n",
            "273       47    2     2     5   1  10000U   51   F      34          2\n",
            "274       47    3     4     5   1  10000U   51   F      32          2\n",
            "275       47    4     8     5   1  10000U   51   F      35          2\n",
            "276       47    5    12     5   1  10000U   51   F      54          2\n",
            "277       47    6    16     5   1  10000U   51   F      53          2\n",
            "48\n",
            "     patient  obs  week  site  id    treat  age sex  twstrs  treatment\n",
            "278       48    1     0     5   2  Placebo   56   F      60          0\n",
            "279       48    2     2     5   2  Placebo   56   F      57          0\n",
            "280       48    3     4     5   2  Placebo   56   F      53          0\n",
            "281       48    4     8     5   2  Placebo   56   F      52          0\n",
            "282       48    5    12     5   2  Placebo   56   F      53          0\n",
            "283       48    6    16     5   2  Placebo   56   F      58          0\n",
            "49\n",
            "     patient  obs  week  site  id  treat  age sex  twstrs  treatment\n",
            "284       49    1     0     5   3  5000U   65   F      60          1\n",
            "285       49    2     2     5   3  5000U   65   F      53          1\n",
            "286       49    3     4     5   3  5000U   65   F      55          1\n",
            "287       49    4     8     5   3  5000U   65   F      62          1\n",
            "288       49    5    12     5   3  5000U   65   F      67          1\n",
            "50\n",
            "     patient  obs  week  site  id   treat  age sex  twstrs  treatment\n",
            "289       50    1     0     5   4  10000U   35   F      50          2\n",
            "290       50    2     2     5   4  10000U   35   F      50          2\n",
            "291       50    4     8     5   4  10000U   35   F      46          2\n",
            "292       50    5    12     5   4  10000U   35   F      50          2\n",
            "293       50    6    16     5   4  10000U   35   F      57          2\n",
            "51\n",
            "     patient  obs  week  site  id  treat  age sex  twstrs  treatment\n",
            "294       51    1     0     5   5  5000U   43   M      38          1\n",
            "295       51    2     2     5   5  5000U   43   M      27          1\n",
            "296       51    3     4     5   5  5000U   43   M      16          1\n",
            "297       51    4     8     5   5  5000U   43   M      19          1\n",
            "298       51    5    12     5   5  5000U   43   M      23          1\n",
            "299       51    6    16     5   5  5000U   43   M      26          1\n",
            "52\n",
            "     patient  obs  week  site  id    treat  age sex  twstrs  treatment\n",
            "300       52    1     0     5   6  Placebo   61   M      44          0\n",
            "301       52    3     4     5   6  Placebo   61   M      46          0\n",
            "302       52    4     8     5   6  Placebo   61   M      26          0\n",
            "303       52    5    12     5   6  Placebo   61   M      30          0\n",
            "304       52    6    16     5   6  Placebo   61   M      34          0\n",
            "53\n",
            "     patient  obs  week  site  id    treat  age sex  twstrs  treatment\n",
            "305       53    1     0     6   1  Placebo   43   M      54          0\n",
            "306       53    2     2     6   1  Placebo   43   M      53          0\n",
            "307       53    3     4     6   1  Placebo   43   M      51          0\n",
            "308       53    4     8     6   1  Placebo   43   M      56          0\n",
            "309       53    5    12     6   1  Placebo   43   M      39          0\n",
            "310       53    6    16     6   1  Placebo   43   M       9          0\n",
            "54\n",
            "     patient  obs  week  site  id   treat  age sex  twstrs  treatment\n",
            "311       54    1     0     6   2  10000U   64   F      54          2\n",
            "312       54    2     2     6   2  10000U   64   F      32          2\n",
            "313       54    3     4     6   2  10000U   64   F      40          2\n",
            "314       54    4     8     6   2  10000U   64   F      52          2\n",
            "315       54    5    12     6   2  10000U   64   F      42          2\n",
            "316       54    6    16     6   2  10000U   64   F      47          2\n",
            "55\n",
            "     patient  obs  week  site  id  treat  age sex  twstrs  treatment\n",
            "317       55    1     0     6   3  5000U   57   M      56          1\n",
            "318       55    2     2     6   3  5000U   57   M      55          1\n",
            "319       55    3     4     6   3  5000U   57   M      44          1\n",
            "320       55    4     8     6   3  5000U   57   M      50          1\n",
            "321       55    5    12     6   3  5000U   57   M      53          1\n",
            "322       55    6    16     6   3  5000U   57   M      52          1\n",
            "56\n",
            "     patient  obs  week  site  id  treat  age sex  twstrs  treatment\n",
            "323       56    1     0     6   4  5000U   60   F      51          1\n",
            "324       56    2     2     6   4  5000U   60   F      50          1\n",
            "325       56    3     4     6   4  5000U   60   F      50          1\n",
            "326       56    4     8     6   4  5000U   60   F      56          1\n",
            "327       56    5    12     6   4  5000U   60   F      59          1\n",
            "328       56    6    16     6   4  5000U   60   F      53          1\n",
            "57\n",
            "     patient  obs  week  site  id   treat  age sex  twstrs  treatment\n",
            "329       57    1     0     6   5  10000U   44   F      53          2\n",
            "330       57    2     2     6   5  10000U   44   F      56          2\n",
            "331       57    3     4     6   5  10000U   44   F      47          2\n",
            "332       57    4     8     6   5  10000U   44   F      53          2\n",
            "333       57    5    12     6   5  10000U   44   F      51          2\n",
            "334       57    6    16     6   5  10000U   44   F      51          2\n",
            "58\n",
            "     patient  obs  week  site  id    treat  age sex  twstrs  treatment\n",
            "335       58    1     0     6   6  Placebo   41   F      36          0\n",
            "336       58    2     2     6   6  Placebo   41   F      29          0\n",
            "337       58    3     4     6   6  Placebo   41   F      24          0\n",
            "338       58    4     8     6   6  Placebo   41   F      32          0\n",
            "339       58    5    12     6   6  Placebo   41   F      45          0\n",
            "340       58    6    16     6   6  Placebo   41   F      36          0\n",
            "59\n",
            "     patient  obs  week  site  id  treat  age sex  twstrs  treatment\n",
            "341       59    1     0     6   7  5000U   51   F      59          1\n",
            "342       59    2     2     6   7  5000U   51   F      53          1\n",
            "343       59    3     4     6   7  5000U   51   F      45          1\n",
            "344       59    4     8     6   7  5000U   51   F      44          1\n",
            "345       59    5    12     6   7  5000U   51   F      50          1\n",
            "346       59    6    16     6   7  5000U   51   F      48          1\n",
            "60\n",
            "     patient  obs  week  site  id    treat  age sex  twstrs  treatment\n",
            "347       60    1     0     6   8  Placebo   57   F      49          0\n",
            "348       60    2     2     6   8  Placebo   57   F      50          0\n",
            "349       60    3     4     6   8  Placebo   57   F      48          0\n",
            "350       60    4     8     6   8  Placebo   57   F      56          0\n",
            "351       60    5    12     6   8  Placebo   57   F      49          0\n",
            "352       60    6    16     6   8  Placebo   57   F      57          0\n",
            "61\n",
            "     patient  obs  week  site  id   treat  age sex  twstrs  treatment\n",
            "353       61    1     0     6   9  10000U   42   F      50          2\n",
            "354       61    2     2     6   9  10000U   42   F      38          2\n",
            "355       61    3     4     6   9  10000U   42   F      42          2\n",
            "356       61    4     8     6   9  10000U   42   F      43          2\n",
            "357       61    5    12     6   9  10000U   42   F      42          2\n",
            "358       61    6    16     6   9  10000U   42   F      46          2\n",
            "62\n",
            "     patient  obs  week  site  id    treat  age sex  twstrs  treatment\n",
            "359       62    1     0     6  10  Placebo   48   F      46          0\n",
            "360       62    2     2     6  10  Placebo   48   F      48          0\n",
            "361       62    3     4     6  10  Placebo   48   F      46          0\n",
            "362       62    4     8     6  10  Placebo   48   F      57          0\n",
            "363       62    5    12     6  10  Placebo   48   F      57          0\n",
            "364       62    6    16     6  10  Placebo   48   F      49          0\n",
            "63\n",
            "     patient  obs  week  site  id   treat  age sex  twstrs  treatment\n",
            "365       63    1     0     6  11  10000U   57   M      55          2\n",
            "366       63    2     2     6  11  10000U   57   M      34          2\n",
            "367       63    3     4     6  11  10000U   57   M      26          2\n",
            "368       63    4     8     6  11  10000U   57   M      40          2\n",
            "369       63    5    12     6  11  10000U   57   M      49          2\n",
            "370       63    6    16     6  11  10000U   57   M      47          2\n",
            "64\n",
            "     patient  obs  week  site  id  treat  age sex  twstrs  treatment\n",
            "371       64    1     0     6  12  5000U   39   M      46          1\n",
            "372       64    2     2     6  12  5000U   39   M      44          1\n",
            "373       64    3     4     6  12  5000U   39   M      47          1\n",
            "374       64    4     8     6  12  5000U   39   M      50          1\n",
            "375       64    5    12     6  12  5000U   39   M      46          1\n",
            "376       64    6    16     6  12  5000U   39   M      51          1\n",
            "65\n",
            "     patient  obs  week  site  id   treat  age sex  twstrs  treatment\n",
            "377       65    1     0     6  13  10000U   67   M      34          2\n",
            "378       65    2     2     6  13  10000U   67   M      31          2\n",
            "379       65    3     4     6  13  10000U   67   M      25          2\n",
            "66\n",
            "     patient  obs  week  site  id  treat  age sex  twstrs  treatment\n",
            "380       66    1     0     6  14  5000U   39   F      57          1\n",
            "381       66    2     2     6  14  5000U   39   F      48          1\n",
            "382       66    3     4     6  14  5000U   39   F      50          1\n",
            "383       66    4     8     6  14  5000U   39   F      50          1\n",
            "384       66    5    12     6  14  5000U   39   F      50          1\n",
            "385       66    6    16     6  14  5000U   39   F      49          1\n",
            "67\n",
            "     patient  obs  week  site  id    treat  age sex  twstrs  treatment\n",
            "386       67    1     0     6  15  Placebo   69   M      41          0\n",
            "387       67    2     2     6  15  Placebo   69   M      40          0\n",
            "388       67    3     4     6  15  Placebo   69   M      42          0\n",
            "389       67    4     8     6  15  Placebo   69   M      38          0\n",
            "390       67    5    12     6  15  Placebo   69   M      50          0\n",
            "391       67    6    16     6  15  Placebo   69   M      56          0\n",
            "68\n",
            "     patient  obs  week  site  id  treat  age sex  twstrs  treatment\n",
            "392       68    1     0     7   1  5000U   54   F      49          1\n",
            "393       68    2     2     7   1  5000U   54   F      25          1\n",
            "394       68    3     4     7   1  5000U   54   F      30          1\n",
            "395       68    4     8     7   1  5000U   54   F      41          1\n",
            "396       68    5    12     7   1  5000U   54   F      41          1\n",
            "397       68    6    16     7   1  5000U   54   F      31          1\n",
            "69\n",
            "     patient  obs  week  site  id    treat  age sex  twstrs  treatment\n",
            "398       69    1     0     7   2  Placebo   67   F      42          0\n",
            "399       69    2     2     7   2  Placebo   67   F      30          0\n",
            "400       69    3     4     7   2  Placebo   67   F      40          0\n",
            "401       69    4     8     7   2  Placebo   67   F      43          0\n",
            "402       69    5    12     7   2  Placebo   67   F      36          0\n",
            "403       69    6    16     7   2  Placebo   67   F      45          0\n",
            "70\n",
            "     patient  obs  week  site  id   treat  age sex  twstrs  treatment\n",
            "404       70    1     0     7   3  10000U   58   F      31          2\n",
            "405       70    2     2     7   3  10000U   58   F      18          2\n",
            "406       70    3     4     7   3  10000U   58   F      23          2\n",
            "407       70    4     8     7   3  10000U   58   F      26          2\n",
            "408       70    5    12     7   3  10000U   58   F      33          2\n",
            "409       70    6    16     7   3  10000U   58   F      41          2\n",
            "71\n",
            "     patient  obs  week  site  id    treat  age sex  twstrs  treatment\n",
            "410       71    1     0     7   4  Placebo   72   F      50          0\n",
            "411       71    2     2     7   4  Placebo   72   F      27          0\n",
            "412       71    3     4     7   4  Placebo   72   F      43          0\n",
            "413       71    4     8     7   4  Placebo   72   F      32          0\n",
            "414       71    5    12     7   4  Placebo   72   F      40          0\n",
            "415       71    6    16     7   4  Placebo   72   F      47          0\n",
            "72\n",
            "     patient  obs  week  site  id   treat  age sex  twstrs  treatment\n",
            "416       72    1     0     7   5  10000U   65   F      35          2\n",
            "417       72    2     2     7   5  10000U   65   F      24          2\n",
            "418       72    3     4     7   5  10000U   65   F      34          2\n",
            "419       72    4     8     7   5  10000U   65   F      28          2\n",
            "420       72    5    12     7   5  10000U   65   F      34          2\n",
            "421       72    6    16     7   5  10000U   65   F      28          2\n",
            "73\n",
            "     patient  obs  week  site  id  treat  age sex  twstrs  treatment\n",
            "422       73    1     0     7   6  5000U   68   F      38          1\n",
            "423       73    2     2     7   6  5000U   68   F      25          1\n",
            "424       73    3     4     7   6  5000U   68   F      21          1\n",
            "425       73    4     8     7   6  5000U   68   F      33          1\n",
            "426       73    5    12     7   6  5000U   68   F      42          1\n",
            "427       73    6    16     7   6  5000U   68   F      53          1\n",
            "74\n",
            "     patient  obs  week  site  id   treat  age sex  twstrs  treatment\n",
            "428       74    1     0     7   7  10000U   75   F      53          2\n",
            "429       74    2     2     7   7  10000U   75   F      40          2\n",
            "430       74    3     4     7   7  10000U   75   F      38          2\n",
            "431       74    4     8     7   7  10000U   75   F      44          2\n",
            "432       74    5    12     7   7  10000U   75   F      47          2\n",
            "433       74    6    16     7   7  10000U   75   F      53          2\n",
            "75\n",
            "     patient  obs  week  site  id    treat  age sex  twstrs  treatment\n",
            "434       75    1     0     7   8  Placebo   26   F      42          0\n",
            "435       75    2     2     7   8  Placebo   26   F      48          0\n",
            "436       75    3     4     7   8  Placebo   26   F      26          0\n",
            "437       75    4     8     7   8  Placebo   26   F      37          0\n",
            "438       75    5    12     7   8  Placebo   26   F      37          0\n",
            "439       75    6    16     7   8  Placebo   26   F      43          0\n",
            "76\n",
            "     patient  obs  week  site  id  treat  age sex  twstrs  treatment\n",
            "440       76    1     0     7   9  5000U   36   F      53          1\n",
            "441       76    2     2     7   9  5000U   36   F      45          1\n",
            "442       76    3     4     7   9  5000U   36   F      52          1\n",
            "443       76    4     8     7   9  5000U   36   F      51          1\n",
            "444       76    5    12     7   9  5000U   36   F      52          1\n",
            "445       76    6    16     7   9  5000U   36   F      53          1\n",
            "77\n",
            "     patient  obs  week  site  id   treat  age sex  twstrs  treatment\n",
            "446       77    1     0     7  10  10000U   72   M      46          2\n",
            "447       77    2     2     7  10  10000U   72   M      47          2\n",
            "448       77    3     4     7  10  10000U   72   M      45          2\n",
            "449       77    4     8     7  10  10000U   72   M      45          2\n",
            "450       77    5    12     7  10  10000U   72   M      50          2\n",
            "451       77    6    16     7  10  10000U   72   M      52          2\n",
            "78\n",
            "     patient  obs  week  site  id    treat  age sex  twstrs  treatment\n",
            "452       78    1     0     7  11  Placebo   54   F      50          0\n",
            "453       78    2     2     7  11  Placebo   54   F      42          0\n",
            "454       78    3     4     7  11  Placebo   54   F      52          0\n",
            "455       78    4     8     7  11  Placebo   54   F      60          0\n",
            "456       78    5    12     7  11  Placebo   54   F      54          0\n",
            "457       78    6    16     7  11  Placebo   54   F      59          0\n",
            "79\n",
            "     patient  obs  week  site  id  treat  age sex  twstrs  treatment\n",
            "458       79    1     0     7  12  5000U   64   F      43          1\n",
            "459       79    2     2     7  12  5000U   64   F      24          1\n",
            "460       79    3     4     7  12  5000U   64   F      17          1\n",
            "461       79    4     8     7  12  5000U   64   F      37          1\n",
            "462       79    5    12     7  12  5000U   64   F      36          1\n",
            "463       79    6    16     7  12  5000U   64   F      38          1\n",
            "80\n",
            "     patient  obs  week  site  id    treat  age sex  twstrs  treatment\n",
            "464       80    1     0     8   1  Placebo   39   F      46          0\n",
            "465       80    2     2     8   1  Placebo   39   F      39          0\n",
            "466       80    3     4     8   1  Placebo   39   F      25          0\n",
            "467       80    4     8     8   1  Placebo   39   F      15          0\n",
            "468       80    5    12     8   1  Placebo   39   F      21          0\n",
            "469       80    6    16     8   1  Placebo   39   F      25          0\n",
            "81\n",
            "     patient  obs  week  site  id   treat  age sex  twstrs  treatment\n",
            "470       81    1     0     8   2  10000U   54   M      41          2\n",
            "471       81    2     2     8   2  10000U   54   M      30          2\n",
            "472       81    3     4     8   2  10000U   54   M      44          2\n",
            "473       81    4     8     8   2  10000U   54   M      46          2\n",
            "474       81    5    12     8   2  10000U   54   M      46          2\n",
            "475       81    6    16     8   2  10000U   54   M      44          2\n",
            "82\n",
            "     patient  obs  week  site  id  treat  age sex  twstrs  treatment\n",
            "476       82    1     0     8   3  5000U   48   M      33          1\n",
            "477       82    2     2     8   3  5000U   48   M      27          1\n",
            "478       82    3     4     8   3  5000U   48   M      25          1\n",
            "479       82    4     8     8   3  5000U   48   M      30          1\n",
            "480       82    5    12     8   3  5000U   48   M      28          1\n",
            "481       82    6    16     8   3  5000U   48   M      30          1\n",
            "83\n",
            "     patient  obs  week  site  id  treat  age sex  twstrs  treatment\n",
            "482       83    1     0     8   4  5000U   83   F      36          1\n",
            "483       83    2     2     8   4  5000U   83   F      15          1\n",
            "484       83    3     4     8   4  5000U   83   F      16          1\n",
            "485       83    4     8     8   4  5000U   83   F      17          1\n",
            "486       83    5    12     8   4  5000U   83   F      22          1\n",
            "487       83    6    16     8   4  5000U   83   F      41          1\n",
            "84\n",
            "     patient  obs  week  site  id   treat  age sex  twstrs  treatment\n",
            "488       84    1     0     8   5  10000U   74   M      33          2\n",
            "489       84    2     2     8   5  10000U   74   M      32          2\n",
            "490       84    3     4     8   5  10000U   74   M      31          2\n",
            "491       84    4     8     8   5  10000U   74   M      27          2\n",
            "492       84    5    12     8   5  10000U   74   M      49          2\n",
            "493       84    6    16     8   5  10000U   74   M      60          2\n",
            "85\n",
            "     patient  obs  week  site  id    treat  age sex  twstrs  treatment\n",
            "494       85    1     0     8   6  Placebo   41   M      37          0\n",
            "86\n",
            "     patient  obs  week  site  id   treat  age sex  twstrs  treatment\n",
            "495       86    1     0     8   7  10000U   65   F      24          2\n",
            "496       86    2     2     8   7  10000U   65   F      29          2\n",
            "497       86    3     4     8   7  10000U   65   F      18          2\n",
            "498       86    4     8     8   7  10000U   65   F      20          2\n",
            "499       86    5    12     8   7  10000U   65   F      25          2\n",
            "500       86    6    16     8   7  10000U   65   F      41          2\n",
            "87\n",
            "     patient  obs  week  site  id  treat  age sex  twstrs  treatment\n",
            "501       87    1     0     8   8  5000U   79   M      42          1\n",
            "502       87    2     2     8   8  5000U   79   M      23          1\n",
            "503       87    3     4     8   8  5000U   79   M      30          1\n",
            "504       87    4     8     8   8  5000U   79   M      36          1\n",
            "505       87    5    12     8   8  5000U   79   M      41          1\n",
            "506       87    6    16     8   8  5000U   79   M      43          1\n",
            "88\n",
            "     patient  obs  week  site  id    treat  age sex  twstrs  treatment\n",
            "507       88    1     0     8   9  Placebo   63   M      30          0\n",
            "508       88    2     2     8   9  Placebo   63   M      22          0\n",
            "509       88    3     4     8   9  Placebo   63   M      21          0\n",
            "510       88    4     8     8   9  Placebo   63   M      25          0\n",
            "511       88    5    12     8   9  Placebo   63   M      26          0\n",
            "512       88    6    16     8   9  Placebo   63   M      33          0\n",
            "89\n",
            "     patient  obs  week  site  id    treat  age sex  twstrs  treatment\n",
            "513       89    1     0     8  10  Placebo   63   F      42          0\n",
            "514       89    2     2     8  10  Placebo   63   F      46          0\n",
            "515       89    3     4     8  10  Placebo   63   F      41          0\n",
            "516       89    4     8     8  10  Placebo   63   F      43          0\n",
            "517       89    5    12     8  10  Placebo   63   F      49          0\n",
            "518       89    6    16     8  10  Placebo   63   F      54          0\n",
            "90\n",
            "     patient  obs  week  site  id   treat  age sex  twstrs  treatment\n",
            "519       90    1     0     8  11  10000U   34   F      49          2\n",
            "520       90    2     2     8  11  10000U   34   F      25          2\n",
            "521       90    3     4     8  11  10000U   34   F      30          2\n",
            "522       90    4     8     8  11  10000U   34   F      49          2\n",
            "523       90    5    12     8  11  10000U   34   F      55          2\n",
            "524       90    6    16     8  11  10000U   34   F      58          2\n",
            "91\n",
            "     patient  obs  week  site  id  treat  age sex  twstrs  treatment\n",
            "525       91    1     0     8  12  5000U   42   M      58          1\n",
            "526       91    2     2     8  12  5000U   42   M      46          1\n",
            "527       91    3     4     8  12  5000U   42   M      46          1\n",
            "528       91    4     8     8  12  5000U   42   M      50          1\n",
            "529       91    5    12     8  12  5000U   42   M      56          1\n",
            "530       91    6    16     8  12  5000U   42   M      60          1\n",
            "92\n",
            "     patient  obs  week  site  id    treat  age sex  twstrs  treatment\n",
            "531       92    1     0     8  13  Placebo   57   M      26          0\n",
            "532       92    2     2     8  13  Placebo   57   M      26          0\n",
            "533       92    3     4     8  13  Placebo   57   M      27          0\n",
            "534       92    4     8     8  13  Placebo   57   M      22          0\n",
            "535       92    5    12     8  13  Placebo   57   M      38          0\n",
            "536       92    6    16     8  13  Placebo   57   M      35          0\n",
            "93\n",
            "     patient  obs  week  site  id  treat  age sex  twstrs  treatment\n",
            "537       93    1     0     8  14  5000U   68   M      37          1\n",
            "538       93    3     4     8  14  5000U   68   M      23          1\n",
            "539       93    4     8     8  14  5000U   68   M      18          1\n",
            "540       93    5    12     8  14  5000U   68   M      34          1\n",
            "541       93    6    16     8  14  5000U   68   M      36          1\n",
            "94\n",
            "     patient  obs  week  site  id   treat  age sex  twstrs  treatment\n",
            "542       94    1     0     8  15  10000U   51   M      40          2\n",
            "543       94    2     2     8  15  10000U   51   M      24          2\n",
            "544       94    3     4     8  15  10000U   51   M      25          2\n",
            "545       94    4     8     8  15  10000U   51   M      37          2\n",
            "546       94    6    16     8  15  10000U   51   M      38          2\n",
            "95\n",
            "     patient  obs  week  site  id  treat  age sex  twstrs  treatment\n",
            "547       95    1     0     8  16  5000U   51   F      33          1\n",
            "548       95    2     2     8  16  5000U   51   F      10          1\n",
            "549       95    3     4     8  16  5000U   51   F      13          1\n",
            "550       95    4     8     8  16  5000U   51   F      16          1\n",
            "551       95    5    12     8  16  5000U   51   F      32          1\n",
            "552       95    6    16     8  16  5000U   51   F      16          1\n",
            "96\n",
            "     patient  obs  week  site  id   treat  age sex  twstrs  treatment\n",
            "553       96    1     0     8  17  10000U   61   F      41          2\n",
            "554       96    2     2     8  17  10000U   61   F      50          2\n",
            "555       96    3     4     8  17  10000U   61   F      22          2\n",
            "556       96    4     8     8  17  10000U   61   F      28          2\n",
            "557       96    5    12     8  17  10000U   61   F      34          2\n",
            "558       96    6    16     8  17  10000U   61   F      36          2\n",
            "97\n",
            "     patient  obs  week  site  id    treat  age sex  twstrs  treatment\n",
            "559       97    1     0     8  18  Placebo   42   M      46          0\n",
            "560       97    3     4     8  18  Placebo   42   M      41          0\n",
            "561       97    4     8     8  18  Placebo   42   M      41          0\n",
            "562       97    5    12     8  18  Placebo   42   M      58          0\n",
            "563       97    6    16     8  18  Placebo   42   M      53          0\n",
            "98\n",
            "     patient  obs  week  site  id   treat  age sex  twstrs  treatment\n",
            "564       98    1     0     8  19  10000U   73   F      40          2\n",
            "565       98    2     2     8  19  10000U   73   F      28          2\n",
            "566       98    3     4     8  19  10000U   73   F      29          2\n",
            "567       98    4     8     8  19  10000U   73   F      30          2\n",
            "568       98    5    12     8  19  10000U   73   F      37          2\n",
            "569       98    6    16     8  19  10000U   73   F      44          2\n",
            "99\n",
            "     patient  obs  week  site  id   treat  age sex  twstrs  treatment\n",
            "570       99    1     0     9   1  10000U   57   M      40          2\n",
            "571       99    2     2     9   1  10000U   57   M      16          2\n",
            "572       99    3     4     9   1  10000U   57   M      18          2\n",
            "573       99    4     8     9   1  10000U   57   M      25          2\n",
            "574       99    5    12     9   1  10000U   57   M      33          2\n",
            "575       99    6    16     9   1  10000U   57   M      48          2\n",
            "100\n",
            "     patient  obs  week  site  id    treat  age sex  twstrs  treatment\n",
            "576      100    1     0     9   2  Placebo   59   M      61          0\n",
            "577      100    2     2     9   2  Placebo   59   M      52          0\n",
            "578      100    3     4     9   2  Placebo   59   M      61          0\n",
            "579      100    4     8     9   2  Placebo   59   M      68          0\n",
            "580      100    5    12     9   2  Placebo   59   M      59          0\n",
            "581      100    6    16     9   2  Placebo   59   M      71          0\n",
            "101\n",
            "     patient  obs  week  site  id  treat  age sex  twstrs  treatment\n",
            "582      101    1     0     9   3  5000U   57   M      35          1\n",
            "583      101    2     2     9   3  5000U   57   M      21          1\n",
            "584      101    3     4     9   3  5000U   57   M      29          1\n",
            "585      101    4     8     9   3  5000U   57   M      30          1\n",
            "586      101    5    12     9   3  5000U   57   M      35          1\n",
            "587      101    6    16     9   3  5000U   57   M      48          1\n",
            "102\n",
            "     patient  obs  week  site  id    treat  age sex  twstrs  treatment\n",
            "588      102    1     0     9   4  Placebo   68   F      58          0\n",
            "589      102    2     2     9   4  Placebo   68   F      38          0\n",
            "590      102    3     4     9   4  Placebo   68   F      50          0\n",
            "591      102    4     8     9   4  Placebo   68   F      53          0\n",
            "592      102    5    12     9   4  Placebo   68   F      47          0\n",
            "593      102    6    16     9   4  Placebo   68   F      59          0\n",
            "103\n",
            "     patient  obs  week  site  id  treat  age sex  twstrs  treatment\n",
            "594      103    1     0     9   5  5000U   55   F      49          1\n",
            "595      103    2     2     9   5  5000U   55   F      45          1\n",
            "596      103    3     4     9   5  5000U   55   F      36          1\n",
            "597      103    5    12     9   5  5000U   55   F      40          1\n",
            "598      103    6    16     9   5  5000U   55   F      52          1\n",
            "104\n",
            "     patient  obs  week  site  id   treat  age sex  twstrs  treatment\n",
            "599      104    1     0     9   6  10000U   46   F      52          2\n",
            "600      104    2     2     9   6  10000U   46   F      46          2\n",
            "601      104    3     4     9   6  10000U   46   F      36          2\n",
            "602      104    5    12     9   6  10000U   46   F      45          2\n",
            "603      104    6    16     9   6  10000U   46   F      54          2\n",
            "105\n",
            "     patient  obs  week  site  id    treat  age sex  twstrs  treatment\n",
            "604      105    1     0     9   7  Placebo   79   F      45          0\n",
            "605      105    2     2     9   7  Placebo   79   F      46          0\n",
            "606      105    3     4     9   7  Placebo   79   F      33          0\n",
            "607      105    4     8     9   7  Placebo   79   F      44          0\n",
            "608      105    5    12     9   7  Placebo   79   F      46          0\n",
            "609      105    6    16     9   7  Placebo   79   F      48          0\n",
            "106\n",
            "     patient  obs  week  site  id  treat  age sex  twstrs  treatment\n",
            "610      106    1     0     9   8  5000U   43   M      67          1\n",
            "611      106    2     2     9   8  5000U   43   M      63          1\n",
            "612      106    3     4     9   8  5000U   43   M      71          1\n",
            "613      106    4     8     9   8  5000U   43   M      66          1\n",
            "614      106    5    12     9   8  5000U   43   M      68          1\n",
            "615      106    6    16     9   8  5000U   43   M      71          1\n",
            "107\n",
            "     patient  obs  week  site  id   treat  age sex  twstrs  treatment\n",
            "616      107    1     0     9   9  10000U   50   M      57          2\n",
            "617      107    3     4     9   9  10000U   50   M      36          2\n",
            "618      107    4     8     9   9  10000U   50   M      23          2\n",
            "619      107    6    16     9   9  10000U   50   M      52          2\n",
            "108\n",
            "     patient  obs  week  site  id   treat  age sex  twstrs  treatment\n",
            "620      108    1     0     9  10  10000U   39   F      63          2\n",
            "621      108    2     2     9  10  10000U   39   F      51          2\n",
            "622      108    3     4     9  10  10000U   39   F      46          2\n",
            "623      108    4     8     9  10  10000U   39   F      50          2\n",
            "624      108    5    12     9  10  10000U   39   F      50          2\n",
            "625      108    6    16     9  10  10000U   39   F      54          2\n",
            "109\n",
            "     patient  obs  week  site  id  treat  age sex  twstrs  treatment\n",
            "626      109    1     0     9  11  5000U   57   M      53          1\n",
            "627      109    2     2     9  11  5000U   57   M      38          1\n",
            "628      109    4     8     9  11  5000U   57   M      33          1\n",
            "629      109    5    12     9  11  5000U   57   M      36          1\n",
            "630      109    6    16     9  11  5000U   57   M      51          1\n"
          ],
          "name": "stdout"
        }
      ]
    },
    {
      "cell_type": "markdown",
      "metadata": {
        "id": "tn7saiuItk51"
      },
      "source": [
        "A common data analysis procedure is the **split-apply-combine** operation, which groups subsets of data together, applies a function to each of the groups, then recombines them into a new data table.\n",
        "\n",
        "For example, we may want to aggregate our data with with some function.\n",
        "\n",
        "![split-apply-combine](http://f.cl.ly/items/0s0Z252j0X0c3k3P1M47/Screen%20Shot%202013-06-02%20at%203.04.04%20PM.png)\n",
        "\n",
        "<div align=\"right\">*(figure taken from \"Python for Data Analysis\", p.251)*</div>"
      ]
    },
    {
      "cell_type": "markdown",
      "metadata": {
        "id": "W8xYjryRtk51"
      },
      "source": [
        "We can aggregate in Pandas using the `aggregate` (or `agg`, for short) method:"
      ]
    },
    {
      "cell_type": "markdown",
      "metadata": {
        "id": "zllmwVgAsKOg"
      },
      "source": [
        "*Before we use the mean function we need to import the function from the stastics module of panda*"
      ]
    },
    {
      "cell_type": "code",
      "metadata": {
        "colab": {
          "base_uri": "https://localhost:8080/"
        },
        "id": "LWdCZnX6tk52",
        "outputId": "b4f67521-49ad-49ca-b61d-e9a664ec04cd"
      },
      "source": [
        "from statistics import mean\n",
        "cdystonia_grouped.agg(mean).head()"
      ],
      "execution_count": null,
      "outputs": [
        {
          "output_type": "execute_result",
          "data": {
            "text/plain": [
              "         obs  week  site  id  age     twstrs  treatment\n",
              "patient                                                \n",
              "1        3.5   7.0     1   1   65  33.000000          1\n",
              "2        3.5   7.0     1   2   70  47.666667          2\n",
              "3        3.5   7.0     1   3   64  30.500000          1\n",
              "4        2.5   3.5     1   4   59  60.000000          0\n",
              "5        3.5   7.0     1   5   76  46.166667          2"
            ]
          },
          "metadata": {
            "tags": []
          },
          "execution_count": 158
        }
      ]
    },
    {
      "cell_type": "markdown",
      "metadata": {
        "id": "N6R9UEQ9tk52"
      },
      "source": [
        "Notice that the `treat` and `sex` variables are not included in the aggregation. Since it does not make sense to aggregate non-string variables, these columns are simply ignored by the method.\n",
        "\n",
        "Some aggregation functions are so common that Pandas has a convenience method for them, such as `mean`:"
      ]
    },
    {
      "cell_type": "code",
      "metadata": {
        "colab": {
          "base_uri": "https://localhost:8080/"
        },
        "id": "sARl9Bd5tk52",
        "outputId": "60d70b4b-a586-49e6-d9cc-eedb48195c4a"
      },
      "source": [
        "cdystonia_grouped.mean().head()"
      ],
      "execution_count": null,
      "outputs": [
        {
          "output_type": "execute_result",
          "data": {
            "text/plain": [
              "         obs  week  site   id   age     twstrs  treatment\n",
              "patient                                                  \n",
              "1        3.5   7.0   1.0  1.0  65.0  33.000000        1.0\n",
              "2        3.5   7.0   1.0  2.0  70.0  47.666667        2.0\n",
              "3        3.5   7.0   1.0  3.0  64.0  30.500000        1.0\n",
              "4        2.5   3.5   1.0  4.0  59.0  60.000000        0.0\n",
              "5        3.5   7.0   1.0  5.0  76.0  46.166667        2.0"
            ]
          },
          "metadata": {
            "tags": []
          },
          "execution_count": 159
        }
      ]
    },
    {
      "cell_type": "markdown",
      "metadata": {
        "id": "V6I82PBBtk52"
      },
      "source": [
        "The `add_prefix` and `add_suffix` methods can be used to give the columns of the resulting table labels that reflect the transformation:"
      ]
    },
    {
      "cell_type": "code",
      "metadata": {
        "colab": {
          "base_uri": "https://localhost:8080/"
        },
        "id": "hfSQg6lytk53",
        "outputId": "d9cc1220-2744-48a3-b19c-e73ed2abb88e"
      },
      "source": [
        "cdystonia_grouped.mean().add_suffix('_mean').head()"
      ],
      "execution_count": null,
      "outputs": [
        {
          "output_type": "execute_result",
          "data": {
            "text/plain": [
              "         obs_mean  week_mean  site_mean  id_mean  age_mean  twstrs_mean  \\\n",
              "patient                                                                   \n",
              "1             3.5        7.0        1.0      1.0      65.0    33.000000   \n",
              "2             3.5        7.0        1.0      2.0      70.0    47.666667   \n",
              "3             3.5        7.0        1.0      3.0      64.0    30.500000   \n",
              "4             2.5        3.5        1.0      4.0      59.0    60.000000   \n",
              "5             3.5        7.0        1.0      5.0      76.0    46.166667   \n",
              "\n",
              "         treatment_mean  \n",
              "patient                  \n",
              "1                   1.0  \n",
              "2                   2.0  \n",
              "3                   1.0  \n",
              "4                   0.0  \n",
              "5                   2.0  "
            ]
          },
          "metadata": {
            "tags": []
          },
          "execution_count": 160
        }
      ]
    },
    {
      "cell_type": "code",
      "metadata": {
        "colab": {
          "base_uri": "https://localhost:8080/"
        },
        "id": "dn41c6bPtk54",
        "outputId": "ef4aa2e5-ad52-4cc8-9a34-87ef5f18995a"
      },
      "source": [
        "# The median of the `twstrs` variable\n",
        "cdystonia_grouped['twstrs'].quantile(0.5)"
      ],
      "execution_count": null,
      "outputs": [
        {
          "output_type": "execute_result",
          "data": {
            "text/plain": [
              "patient\n",
              "1      34.0\n",
              "2      50.5\n",
              "3      30.5\n",
              "4      61.5\n",
              "5      48.5\n",
              "       ... \n",
              "105    45.5\n",
              "106    67.5\n",
              "107    44.0\n",
              "108    50.5\n",
              "109    38.0\n",
              "Name: twstrs, Length: 109, dtype: float64"
            ]
          },
          "metadata": {
            "tags": []
          },
          "execution_count": 161
        }
      ]
    },
    {
      "cell_type": "markdown",
      "metadata": {
        "id": "pg586d_0tk54"
      },
      "source": [
        "If we wish, we can easily aggregate according to multiple keys:"
      ]
    },
    {
      "cell_type": "code",
      "metadata": {
        "colab": {
          "base_uri": "https://localhost:8080/"
        },
        "id": "PJL2R7Ddtk54",
        "outputId": "a301cf0c-7f09-407c-965b-2a979248fb84"
      },
      "source": [
        "cdystonia.groupby(['week','site']).mean().head()"
      ],
      "execution_count": null,
      "outputs": [
        {
          "output_type": "execute_result",
          "data": {
            "text/plain": [
              "           patient  obs   id        age     twstrs  treatment\n",
              "week site                                                    \n",
              "0    1         6.5  1.0  6.5  59.000000  43.083333   1.000000\n",
              "     2        19.5  1.0  7.5  53.928571  51.857143   0.928571\n",
              "     3        32.5  1.0  6.5  51.500000  38.750000   1.000000\n",
              "     4        42.5  1.0  4.5  59.250000  48.125000   1.000000\n",
              "     5        49.5  1.0  3.5  51.833333  49.333333   1.000000"
            ]
          },
          "metadata": {
            "tags": []
          },
          "execution_count": 162
        }
      ]
    },
    {
      "cell_type": "markdown",
      "metadata": {
        "id": "SlXgnpAPtk55"
      },
      "source": [
        "Alternately, we can **transform** the data, using a function of our choice with the `transform` method:"
      ]
    },
    {
      "cell_type": "code",
      "metadata": {
        "colab": {
          "base_uri": "https://localhost:8080/"
        },
        "id": "eRKAAoYXtk55",
        "outputId": "cf319130-e71f-464c-a953-3e56cc472b6e"
      },
      "source": [
        "normalize = lambda x: (x - x.mean())/x.std()\n",
        "\n",
        "cdystonia_grouped.transform(normalize).head()"
      ],
      "execution_count": null,
      "outputs": [
        {
          "output_type": "execute_result",
          "data": {
            "text/plain": [
              "        obs      week  site  id  age    twstrs  treatment\n",
              "0 -1.336306 -1.135550   NaN NaN  NaN -0.181369        NaN\n",
              "1 -0.801784 -0.811107   NaN NaN  NaN -0.544107        NaN\n",
              "2 -0.267261 -0.486664   NaN NaN  NaN -1.632322        NaN\n",
              "3  0.267261  0.162221   NaN NaN  NaN  0.725476        NaN\n",
              "4  0.801784  0.811107   NaN NaN  NaN  1.088214        NaN"
            ]
          },
          "metadata": {
            "tags": []
          },
          "execution_count": 163
        }
      ]
    },
    {
      "cell_type": "markdown",
      "metadata": {
        "id": "3D7bNv41tk55"
      },
      "source": [
        "It is easy to do column selection within `groupby` operations, if we are only interested split-apply-combine operations on a subset of columns:"
      ]
    },
    {
      "cell_type": "code",
      "metadata": {
        "colab": {
          "base_uri": "https://localhost:8080/"
        },
        "id": "7btr_hsYtk56",
        "outputId": "668eeb6f-b570-4031-a6f7-75eb2476d01e"
      },
      "source": [
        "cdystonia_grouped['twstrs'].mean().head()"
      ],
      "execution_count": null,
      "outputs": [
        {
          "output_type": "execute_result",
          "data": {
            "text/plain": [
              "patient\n",
              "1    33.000000\n",
              "2    47.666667\n",
              "3    30.500000\n",
              "4    60.000000\n",
              "5    46.166667\n",
              "Name: twstrs, dtype: float64"
            ]
          },
          "metadata": {
            "tags": []
          },
          "execution_count": 164
        }
      ]
    },
    {
      "cell_type": "code",
      "metadata": {
        "colab": {
          "base_uri": "https://localhost:8080/"
        },
        "id": "gfwJzYcftk56",
        "outputId": "6e765729-f80b-4316-d397-4e249bd4adad"
      },
      "source": [
        "# This gives the same result as a DataFrame\n",
        "cdystonia_grouped[['twstrs']].mean().head()"
      ],
      "execution_count": null,
      "outputs": [
        {
          "output_type": "execute_result",
          "data": {
            "text/plain": [
              "            twstrs\n",
              "patient           \n",
              "1        33.000000\n",
              "2        47.666667\n",
              "3        30.500000\n",
              "4        60.000000\n",
              "5        46.166667"
            ]
          },
          "metadata": {
            "tags": []
          },
          "execution_count": 165
        }
      ]
    },
    {
      "cell_type": "markdown",
      "metadata": {
        "id": "Qk16zkDGtk57"
      },
      "source": [
        "If you simply want to divide your DataFrame into chunks for later use, its easy to convert them into a dict so that they can be easily indexed out as needed:"
      ]
    },
    {
      "cell_type": "code",
      "metadata": {
        "id": "KAQTkd7Utk57"
      },
      "source": [
        "chunks = dict(list(cdystonia_grouped))"
      ],
      "execution_count": null,
      "outputs": []
    },
    {
      "cell_type": "code",
      "metadata": {
        "colab": {
          "base_uri": "https://localhost:8080/"
        },
        "id": "J0qvrM-ttk58",
        "outputId": "6f6aacb7-7c15-4a78-c62e-b5bf1835ffe2"
      },
      "source": [
        "chunks[4]"
      ],
      "execution_count": null,
      "outputs": [
        {
          "output_type": "execute_result",
          "data": {
            "text/plain": [
              "    patient  obs  week  site  id    treat  age sex  twstrs  treatment\n",
              "18        4    1     0     1   4  Placebo   59   F      53          0\n",
              "19        4    2     2     1   4  Placebo   59   F      61          0\n",
              "20        4    3     4     1   4  Placebo   59   F      64          0\n",
              "21        4    4     8     1   4  Placebo   59   F      62          0"
            ]
          },
          "metadata": {
            "tags": []
          },
          "execution_count": 167
        }
      ]
    },
    {
      "cell_type": "markdown",
      "metadata": {
        "id": "mIIE_P59tk59"
      },
      "source": [
        "By default, `groupby` groups by row, but we can specify the `axis` argument to change this. For example, we can group our columns by type this way:"
      ]
    },
    {
      "cell_type": "code",
      "metadata": {
        "colab": {
          "base_uri": "https://localhost:8080/"
        },
        "id": "8Ed539Ettk59",
        "outputId": "31e03540-3f29-40c1-e61b-e96f957d63e0"
      },
      "source": [
        "dict(list(cdystonia.groupby(cdystonia.dtypes, axis=1)))"
      ],
      "execution_count": null,
      "outputs": [
        {
          "output_type": "execute_result",
          "data": {
            "text/plain": [
              "{dtype('int64'):      patient  obs  week  site  id  age  twstrs  treatment\n",
              " 0          1    1     0     1   1   65      32          1\n",
              " 1          1    2     2     1   1   65      30          1\n",
              " 2          1    3     4     1   1   65      24          1\n",
              " 3          1    4     8     1   1   65      37          1\n",
              " 4          1    5    12     1   1   65      39          1\n",
              " ..       ...  ...   ...   ...  ..  ...     ...        ...\n",
              " 626      109    1     0     9  11   57      53          1\n",
              " 627      109    2     2     9  11   57      38          1\n",
              " 628      109    4     8     9  11   57      33          1\n",
              " 629      109    5    12     9  11   57      36          1\n",
              " 630      109    6    16     9  11   57      51          1\n",
              " \n",
              " [631 rows x 8 columns], dtype('O'):      treat sex\n",
              " 0    5000U   F\n",
              " 1    5000U   F\n",
              " 2    5000U   F\n",
              " 3    5000U   F\n",
              " 4    5000U   F\n",
              " ..     ...  ..\n",
              " 626  5000U   M\n",
              " 627  5000U   M\n",
              " 628  5000U   M\n",
              " 629  5000U   M\n",
              " 630  5000U   M\n",
              " \n",
              " [631 rows x 2 columns]}"
            ]
          },
          "metadata": {
            "tags": []
          },
          "execution_count": 168
        }
      ]
    },
    {
      "cell_type": "markdown",
      "metadata": {
        "id": "0iFKvrYNtk5-"
      },
      "source": [
        "Its also possible to group by one or more levels of a hierarchical index. Recall `cdystonia2`, which we created with a hierarchical index:"
      ]
    },
    {
      "cell_type": "markdown",
      "metadata": {
        "id": "AyppCvzR8zik"
      },
      "source": [
        "*Hierarchical indexing is a method of creating structured group relationships in data. These hierarchical indexes, or MultiIndexes, are highly flexible and offer a range of options when performing complex data queries.*"
      ]
    },
    {
      "cell_type": "code",
      "metadata": {
        "colab": {
          "base_uri": "https://localhost:8080/"
        },
        "id": "jk6rDUldtk5-",
        "outputId": "247234e6-435b-47e0-f9fc-79249ec077fd"
      },
      "source": [
        "cdystonia2.head(10)"
      ],
      "execution_count": null,
      "outputs": [
        {
          "output_type": "execute_result",
          "data": {
            "text/plain": [
              "             week  site  id   treat  age sex  twstrs\n",
              "patient obs                                         \n",
              "1       1       0     1   1   5000U   65   F      32\n",
              "        2       2     1   1   5000U   65   F      30\n",
              "        3       4     1   1   5000U   65   F      24\n",
              "        4       8     1   1   5000U   65   F      37\n",
              "        5      12     1   1   5000U   65   F      39\n",
              "        6      16     1   1   5000U   65   F      36\n",
              "2       1       0     1   2  10000U   70   F      60\n",
              "        2       2     1   2  10000U   70   F      26\n",
              "        3       4     1   2  10000U   70   F      27\n",
              "        4       8     1   2  10000U   70   F      41"
            ]
          },
          "metadata": {
            "tags": []
          },
          "execution_count": 169
        }
      ]
    },
    {
      "cell_type": "code",
      "metadata": {
        "colab": {
          "base_uri": "https://localhost:8080/"
        },
        "id": "k_kqOor4tk5_",
        "outputId": "6a7c7ce3-d527-400d-9c0c-fb6f04b7ccf8"
      },
      "source": [
        "cdystonia2.groupby(level='obs', axis=0)['twstrs'].mean()"
      ],
      "execution_count": null,
      "outputs": [
        {
          "output_type": "execute_result",
          "data": {
            "text/plain": [
              "obs\n",
              "1    45.651376\n",
              "2    37.611650\n",
              "3    37.066038\n",
              "4    39.807692\n",
              "5    42.913462\n",
              "6    45.628571\n",
              "Name: twstrs, dtype: float64"
            ]
          },
          "metadata": {
            "tags": []
          },
          "execution_count": 177
        }
      ]
    },
    {
      "cell_type": "markdown",
      "metadata": {
        "id": "Zew96ZNFtk5_"
      },
      "source": [
        "### Apply\n",
        "\n",
        "We can generalize the split-apply-combine methodology by using `apply` function. This allows us to invoke any function we wish on a grouped dataset and recombine them into a DataFrame."
      ]
    },
    {
      "cell_type": "markdown",
      "metadata": {
        "id": "0cdZGU0Ftk6A"
      },
      "source": [
        "The function below takes a DataFrame and a column name, sorts by the column, and takes the `n` largest values of that column. We can use this with `apply` to return the largest values from every group in a DataFrame in a single call. "
      ]
    },
    {
      "cell_type": "markdown",
      "metadata": {
        "id": "CfS2eHxiKcT-"
      },
      "source": [
        "*we needed to change *\n",
        "```\n",
        "# def top(df, column, n=5):\n",
        "    return df.sort_index(by=column, ascending=False)[:n]\n",
        "```\n",
        "*to this function*\n",
        "```\n",
        "# def top(df, column, n=5):\n",
        "    return df.sort_index(axis=1, ascending=False)[:n]\n",
        "```\n",
        "*because by=column will create an issue in the next statement run. We need to change it by axis=1.*\n",
        "\n"
      ]
    },
    {
      "cell_type": "code",
      "metadata": {
        "id": "a1o4x_Dytk6A"
      },
      "source": [
        "def top(df, column, n=5):\n",
        "    return df.sort_index(axis=1, ascending=False)[:n]"
      ],
      "execution_count": null,
      "outputs": []
    },
    {
      "cell_type": "markdown",
      "metadata": {
        "id": "uzsV84awtk6B"
      },
      "source": [
        "To see this in action, consider the vessel transit segments dataset (which we merged with the vessel information to yield `segments_merged`). Say we wanted to return the 3 longest segments travelled by each ship:"
      ]
    },
    {
      "cell_type": "code",
      "metadata": {
        "colab": {
          "base_uri": "https://localhost:8080/"
        },
        "id": "sOPH8MQwtk6B",
        "outputId": "70ef524c-42ac-48b0-e119-632dfb2cf042"
      },
      "source": [
        "top3segments = segments_merged.groupby('mmsi').apply(top, column='seg_length', n=3)[['names', 'seg_length']]\n",
        "top3segments"
      ],
      "execution_count": null,
      "outputs": [
        {
          "output_type": "execute_result",
          "data": {
            "text/plain": [
              "                                                             names  seg_length\n",
              "mmsi                                                                          \n",
              "1         0      Bil Holman Dredge/Dredge Capt Frank/Emo/Offsho...         5.1\n",
              "          1      Bil Holman Dredge/Dredge Capt Frank/Emo/Offsho...        13.5\n",
              "          2      Bil Holman Dredge/Dredge Capt Frank/Emo/Offsho...         4.3\n",
              "9         8                             000000009/Raven/Shearwater        11.6\n",
              "          9                             000000009/Raven/Shearwater        11.6\n",
              "...                                                            ...         ...\n",
              "351801000 82031                                         Kaiwo Maru        31.6\n",
              "          82032                                         Kaiwo Maru        30.8\n",
              "351808000 82033                                   Balsa 62/Balsa62        29.2\n",
              "          82034                                   Balsa 62/Balsa62        31.6\n",
              "          82035                                   Balsa 62/Balsa62        23.0\n",
              "\n",
              "[12087 rows x 2 columns]"
            ]
          },
          "metadata": {
            "tags": []
          },
          "execution_count": 185
        }
      ]
    },
    {
      "cell_type": "markdown",
      "metadata": {
        "id": "0tYEU8zBtk6C"
      },
      "source": [
        "Notice that additional arguments for the applied function can be passed via `apply` after the function name. It assumes that the DataFrame is the first argument."
      ]
    },
    {
      "cell_type": "code",
      "metadata": {
        "colab": {
          "base_uri": "https://localhost:8080/"
        },
        "id": "rhYYEtVLtk6C",
        "outputId": "eac27464-cfe5-49cd-dffe-5e028624ff63"
      },
      "source": [
        "top3segments.head(20)"
      ],
      "execution_count": null,
      "outputs": [
        {
          "output_type": "execute_result",
          "data": {
            "text/plain": [
              "                                                     names  seg_length\n",
              "mmsi                                                                  \n",
              "1    0   Bil Holman Dredge/Dredge Capt Frank/Emo/Offsho...         5.1\n",
              "     1   Bil Holman Dredge/Dredge Capt Frank/Emo/Offsho...        13.5\n",
              "     2   Bil Holman Dredge/Dredge Capt Frank/Emo/Offsho...         4.3\n",
              "9    8                          000000009/Raven/Shearwater        11.6\n",
              "     9                          000000009/Raven/Shearwater        11.6\n",
              "     10                         000000009/Raven/Shearwater         7.3\n",
              "21   16                                      Us Gov Vessel        48.7\n",
              "     17                                      Us Gov Vessel        15.1\n",
              "     18                                      Us Gov Vessel        18.0\n",
              "74   34                                  Mcfaul/Sarah Bell         1.4\n",
              "     35                                  Mcfaul/Sarah Bell         7.4\n",
              "103  36           Ron G/Us Navy Warship 103/Us Warship 103         6.0\n",
              "     37           Ron G/Us Navy Warship 103/Us Warship 103        87.5\n",
              "     38           Ron G/Us Navy Warship 103/Us Warship 103         1.4\n",
              "310  49                                           Arabella        30.4\n",
              "     50                                           Arabella        27.6\n",
              "     51                                           Arabella        77.4\n",
              "3011 67                                         Charleston         2.6\n",
              "     68                                         Charleston        47.9\n",
              "     69                                         Charleston        89.7"
            ]
          },
          "metadata": {
            "tags": []
          },
          "execution_count": 186
        }
      ]
    },
    {
      "cell_type": "markdown",
      "metadata": {
        "id": "3cytQ-eotk6D"
      },
      "source": [
        "Recall the microbiome data sets that we used previously for the concatenation example. Suppose that we wish to aggregate the data at a higher biological classification than genus. For example, we can identify samples down to *class*, which is the 3rd level of organization in each index."
      ]
    },
    {
      "cell_type": "code",
      "metadata": {
        "colab": {
          "base_uri": "https://localhost:8080/"
        },
        "id": "D9qhewCttk6E",
        "outputId": "255b1b9e-dba5-40aa-d028-c05fd5ae9bde"
      },
      "source": [
        "mb1.index[:3]"
      ],
      "execution_count": null,
      "outputs": [
        {
          "output_type": "execute_result",
          "data": {
            "text/plain": [
              "Index(['Archaea \"Crenarchaeota\" Thermoprotei Desulfurococcales Desulfurococcaceae Ignisphaera',\n",
              "       'Archaea \"Crenarchaeota\" Thermoprotei Desulfurococcales Pyrodictiaceae Pyrolobus',\n",
              "       'Archaea \"Crenarchaeota\" Thermoprotei Sulfolobales Sulfolobaceae Stygiolobus'],\n",
              "      dtype='object', name='Taxon')"
            ]
          },
          "metadata": {
            "tags": []
          },
          "execution_count": 153
        }
      ]
    },
    {
      "cell_type": "markdown",
      "metadata": {
        "id": "9ixMgQKhtk6E"
      },
      "source": [
        "Using the string methods `split` and `join` we can create an index that just uses the first three classifications: domain, phylum and class."
      ]
    },
    {
      "cell_type": "code",
      "metadata": {
        "id": "A7Ohai1Btk6E"
      },
      "source": [
        "class_index = mb1.index.map(lambda x: ' '.join(x.split(' ')[:3]))"
      ],
      "execution_count": null,
      "outputs": []
    },
    {
      "cell_type": "code",
      "metadata": {
        "id": "6-Q5GHFNtk6F"
      },
      "source": [
        "mb_class = mb1.copy()\n",
        "mb_class.index = class_index"
      ],
      "execution_count": null,
      "outputs": []
    },
    {
      "cell_type": "markdown",
      "metadata": {
        "id": "iMVFegeEtk6F"
      },
      "source": [
        "However, since there are multiple taxonomic units with the same class, our index is no longer unique:"
      ]
    },
    {
      "cell_type": "markdown",
      "metadata": {
        "id": "XsKKk4zrPzZj"
      },
      "source": [
        "*.head() by default shows top 5 of the rows. This can be changed by putting a value inside the brackets to the desired number.*"
      ]
    },
    {
      "cell_type": "code",
      "metadata": {
        "colab": {
          "base_uri": "https://localhost:8080/"
        },
        "id": "8VonJmX6tk6F",
        "outputId": "67c81856-4917-4235-e70b-74e7bf277c09"
      },
      "source": [
        "mb_class.head()"
      ],
      "execution_count": null,
      "outputs": [
        {
          "output_type": "execute_result",
          "data": {
            "text/plain": [
              "                                           Count\n",
              "Taxon                                           \n",
              "Archaea \"Crenarchaeota\" Thermoprotei           7\n",
              "Archaea \"Crenarchaeota\" Thermoprotei           2\n",
              "Archaea \"Crenarchaeota\" Thermoprotei           3\n",
              "Archaea \"Crenarchaeota\" Thermoprotei           3\n",
              "Archaea \"Euryarchaeota\" \"Methanomicrobia\"      7"
            ]
          },
          "metadata": {
            "tags": []
          },
          "execution_count": 189
        }
      ]
    },
    {
      "cell_type": "markdown",
      "metadata": {
        "id": "3j0tF_FOtk6G"
      },
      "source": [
        "We can re-establish a unique index by summing all rows with the same class, using `groupby`:"
      ]
    },
    {
      "cell_type": "markdown",
      "metadata": {
        "id": "GQ0nXn_IPm6u"
      },
      "source": [
        "*We use groupby with the level set as 0, sum the values and display the top 10 rows of the dataset.*"
      ]
    },
    {
      "cell_type": "code",
      "metadata": {
        "colab": {
          "base_uri": "https://localhost:8080/"
        },
        "id": "6wpjdLi4tk6H",
        "outputId": "e55b1b40-54ab-48a6-f480-565dbb284c27"
      },
      "source": [
        "mb_class.groupby(level=0).sum().head(10)"
      ],
      "execution_count": null,
      "outputs": [
        {
          "output_type": "execute_result",
          "data": {
            "text/plain": [
              "                                           Count\n",
              "Taxon                                           \n",
              "Archaea \"Crenarchaeota\" Thermoprotei          15\n",
              "Archaea \"Euryarchaeota\" \"Methanomicrobia\"      9\n",
              "Archaea \"Euryarchaeota\" Archaeoglobi           2\n",
              "Archaea \"Euryarchaeota\" Halobacteria          12\n",
              "Archaea \"Euryarchaeota\" Methanococci           1\n",
              "Archaea \"Euryarchaeota\" Methanopyri           12\n",
              "Archaea \"Euryarchaeota\" Thermoplasmata         2\n",
              "Bacteria \"Actinobacteria\" Actinobacteria    1740\n",
              "Bacteria \"Aquificae\" Aquificae                11\n",
              "Bacteria \"Bacteroidetes\" \"Bacteroidia\"         1"
            ]
          },
          "metadata": {
            "tags": []
          },
          "execution_count": 190
        }
      ]
    },
    {
      "cell_type": "markdown",
      "metadata": {
        "id": "oulixWGwtk6H"
      },
      "source": [
        "### Exercise\n",
        "\n",
        "Load the dataset in `titanic.xls`. It contains data on all the passengers that travelled on the Titanic."
      ]
    },
    {
      "cell_type": "markdown",
      "metadata": {
        "id": "kAIbEKMlPXx6"
      },
      "source": [
        "*We imported the html file of titanic.html but under this question we imported the .xls file to solve the exercise questions.*"
      ]
    },
    {
      "cell_type": "code",
      "metadata": {
        "colab": {
          "base_uri": "https://localhost:8080/",
          "height": 1000
        },
        "id": "6cfWfT1rtk6H",
        "outputId": "ef0a668e-ce79-4da6-a69d-8adcea4c2a37"
      },
      "source": [
        "from IPython.core.display import HTML\n",
        "HTML(filename='titanic.html')"
      ],
      "execution_count": null,
      "outputs": [
        {
          "output_type": "execute_result",
          "data": {
            "text/html": [
              "<hr><h2>Data frame:titanic3</h2>1309 observations and 14 variables, maximum # NAs:1188<hr>\n",
              "<TABLE BORDER>\n",
              "<tr><td>Name</td><td>Labels</td><td>Units</td><td>Levels</td><td>Storage</td><td>NAs</td></tr>\n",
              "<tr><td>pclass</td><td></td><td></td><td><a href=\"#pclass\"><div align=right>  3</div></a></td><td>integer</td><td><div align=right>   0</div></td></tr>\n",
              "<tr><td>survived</td><td>Survived</td><td></td><td><div align=right></div></td><td>double</td><td><div align=right>   0</div></td></tr>\n",
              "<tr><td>name</td><td>Name</td><td></td><td><div align=right></div></td><td>character</td><td><div align=right>   0</div></td></tr>\n",
              "<tr><td>sex</td><td></td><td></td><td><a href=\"#sex\"><div align=right>  2</div></a></td><td>integer</td><td><div align=right>   0</div></td></tr>\n",
              "<tr><td>age</td><td>Age</td><td>Year</td><td><div align=right></div></td><td>double</td><td><div align=right> 263</div></td></tr>\n",
              "<tr><td>sibsp</td><td>Number of Siblings/Spouses Aboard</td><td></td><td><div align=right></div></td><td>double</td><td><div align=right>   0</div></td></tr>\n",
              "<tr><td>parch</td><td>Number of Parents/Children Aboard</td><td></td><td><div align=right></div></td><td>double</td><td><div align=right>   0</div></td></tr>\n",
              "<tr><td>ticket</td><td>Ticket Number</td><td></td><td><div align=right></div></td><td>character</td><td><div align=right>   0</div></td></tr>\n",
              "<tr><td>fare</td><td>Passenger Fare</td><td>British Pound (\\243)</td><td><div align=right></div></td><td>double</td><td><div align=right>   1</div></td></tr>\n",
              "<tr><td>cabin</td><td></td><td></td><td><a href=\"#cabin\"><div align=right>187</div></a></td><td>integer</td><td><div align=right>   0</div></td></tr>\n",
              "<tr><td>embarked</td><td></td><td></td><td><a href=\"#embarked\"><div align=right>  3</div></a></td><td>integer</td><td><div align=right>   2</div></td></tr>\n",
              "<tr><td>boat</td><td></td><td></td><td><a href=\"#boat\"><div align=right> 28</div></a></td><td>integer</td><td><div align=right>   0</div></td></tr>\n",
              "<tr><td>body</td><td>Body Identification Number</td><td></td><td><div align=right></div></td><td>double</td><td><div align=right>1188</div></td></tr>\n",
              "<tr><td>home.dest</td><td>Home/Destination</td><td></td><td><div align=right></div></td><td>character</td><td><div align=right>   0</div></td></tr>\n",
              "</TABLE>\n",
              "<hr>\n",
              "<TABLE BORDER>\n",
              "<tr><td>Variable</td><td>Levels</td></tr>\n",
              "<tr><td><a name=\"pclass\">pclass</a></td><td>1st</td></tr>\n",
              "<tr><td></td><td>2nd</td></tr>\n",
              "<tr><td></td><td>3rd</td></tr>\n",
              "<tr><td><a name=\"sex\">sex</a></td><td>female</td></tr>\n",
              "<tr><td></td><td>male</td></tr>\n",
              "<tr><td><a name=\"cabin\">cabin</a></td><td></td></tr>\n",
              "<tr><td></td><td>A10</td></tr>\n",
              "<tr><td></td><td>A11</td></tr>\n",
              "<tr><td></td><td>A14</td></tr>\n",
              "<tr><td></td><td>A16</td></tr>\n",
              "<tr><td></td><td>A18</td></tr>\n",
              "<tr><td></td><td>A19</td></tr>\n",
              "<tr><td></td><td>A20</td></tr>\n",
              "<tr><td></td><td>A21</td></tr>\n",
              "<tr><td></td><td>A23</td></tr>\n",
              "<tr><td></td><td>A24</td></tr>\n",
              "<tr><td></td><td>A26</td></tr>\n",
              "<tr><td></td><td>A29</td></tr>\n",
              "<tr><td></td><td>A31</td></tr>\n",
              "<tr><td></td><td>A32</td></tr>\n",
              "<tr><td></td><td>A34</td></tr>\n",
              "<tr><td></td><td>A36</td></tr>\n",
              "<tr><td></td><td>A5</td></tr>\n",
              "<tr><td></td><td>A6</td></tr>\n",
              "<tr><td></td><td>A7</td></tr>\n",
              "<tr><td></td><td>A9</td></tr>\n",
              "<tr><td></td><td>B10</td></tr>\n",
              "<tr><td></td><td>B101</td></tr>\n",
              "<tr><td></td><td>B102</td></tr>\n",
              "<tr><td></td><td>B11</td></tr>\n",
              "<tr><td></td><td>B18</td></tr>\n",
              "<tr><td></td><td>B19</td></tr>\n",
              "<tr><td></td><td>B20</td></tr>\n",
              "<tr><td></td><td>B22</td></tr>\n",
              "<tr><td></td><td>B24</td></tr>\n",
              "<tr><td></td><td>B26</td></tr>\n",
              "<tr><td></td><td>B28</td></tr>\n",
              "<tr><td></td><td>B3</td></tr>\n",
              "<tr><td></td><td>B30</td></tr>\n",
              "<tr><td></td><td>B35</td></tr>\n",
              "<tr><td></td><td>B36</td></tr>\n",
              "<tr><td></td><td>B37</td></tr>\n",
              "<tr><td></td><td>B38</td></tr>\n",
              "<tr><td></td><td>B39</td></tr>\n",
              "<tr><td></td><td>B4</td></tr>\n",
              "<tr><td></td><td>B41</td></tr>\n",
              "<tr><td></td><td>B42</td></tr>\n",
              "<tr><td></td><td>B45</td></tr>\n",
              "<tr><td></td><td>B49</td></tr>\n",
              "<tr><td></td><td>B5</td></tr>\n",
              "<tr><td></td><td>B50</td></tr>\n",
              "<tr><td></td><td>B51 B53 B55</td></tr>\n",
              "<tr><td></td><td>B52 B54 B56</td></tr>\n",
              "<tr><td></td><td>B57 B59 B63 B66</td></tr>\n",
              "<tr><td></td><td>B58 B60</td></tr>\n",
              "<tr><td></td><td>B61</td></tr>\n",
              "<tr><td></td><td>B69</td></tr>\n",
              "<tr><td></td><td>B71</td></tr>\n",
              "<tr><td></td><td>B73</td></tr>\n",
              "<tr><td></td><td>B77</td></tr>\n",
              "<tr><td></td><td>B78</td></tr>\n",
              "<tr><td></td><td>B79</td></tr>\n",
              "<tr><td></td><td>B80</td></tr>\n",
              "<tr><td></td><td>B82 B84</td></tr>\n",
              "<tr><td></td><td>B86</td></tr>\n",
              "<tr><td></td><td>B94</td></tr>\n",
              "<tr><td></td><td>B96 B98</td></tr>\n",
              "<tr><td></td><td>C101</td></tr>\n",
              "<tr><td></td><td>C103</td></tr>\n",
              "<tr><td></td><td>C104</td></tr>\n",
              "<tr><td></td><td>C105</td></tr>\n",
              "<tr><td></td><td>C106</td></tr>\n",
              "<tr><td></td><td>C110</td></tr>\n",
              "<tr><td></td><td>C111</td></tr>\n",
              "<tr><td></td><td>C116</td></tr>\n",
              "<tr><td></td><td>C118</td></tr>\n",
              "<tr><td></td><td>C123</td></tr>\n",
              "<tr><td></td><td>C124</td></tr>\n",
              "<tr><td></td><td>C125</td></tr>\n",
              "<tr><td></td><td>C126</td></tr>\n",
              "<tr><td></td><td>C128</td></tr>\n",
              "<tr><td></td><td>C130</td></tr>\n",
              "<tr><td></td><td>C132</td></tr>\n",
              "<tr><td></td><td>C148</td></tr>\n",
              "<tr><td></td><td>C2</td></tr>\n",
              "<tr><td></td><td>C22 C26</td></tr>\n",
              "<tr><td></td><td>C23 C25 C27</td></tr>\n",
              "<tr><td></td><td>C28</td></tr>\n",
              "<tr><td></td><td>C30</td></tr>\n",
              "<tr><td></td><td>C31</td></tr>\n",
              "<tr><td></td><td>C32</td></tr>\n",
              "<tr><td></td><td>C39</td></tr>\n",
              "<tr><td></td><td>C45</td></tr>\n",
              "<tr><td></td><td>C46</td></tr>\n",
              "<tr><td></td><td>C47</td></tr>\n",
              "<tr><td></td><td>C49</td></tr>\n",
              "<tr><td></td><td>C50</td></tr>\n",
              "<tr><td></td><td>C51</td></tr>\n",
              "<tr><td></td><td>C52</td></tr>\n",
              "<tr><td></td><td>C53</td></tr>\n",
              "<tr><td></td><td>C54</td></tr>\n",
              "<tr><td></td><td>C55 C57</td></tr>\n",
              "<tr><td></td><td>C6</td></tr>\n",
              "<tr><td></td><td>C62 C64</td></tr>\n",
              "<tr><td></td><td>C65</td></tr>\n",
              "<tr><td></td><td>C68</td></tr>\n",
              "<tr><td></td><td>C7</td></tr>\n",
              "<tr><td></td><td>C70</td></tr>\n",
              "<tr><td></td><td>C78</td></tr>\n",
              "<tr><td></td><td>C80</td></tr>\n",
              "<tr><td></td><td>C82</td></tr>\n",
              "<tr><td></td><td>C83</td></tr>\n",
              "<tr><td></td><td>C85</td></tr>\n",
              "<tr><td></td><td>C86</td></tr>\n",
              "<tr><td></td><td>C87</td></tr>\n",
              "<tr><td></td><td>C89</td></tr>\n",
              "<tr><td></td><td>C90</td></tr>\n",
              "<tr><td></td><td>C91</td></tr>\n",
              "<tr><td></td><td>C92</td></tr>\n",
              "<tr><td></td><td>C93</td></tr>\n",
              "<tr><td></td><td>C95</td></tr>\n",
              "<tr><td></td><td>C97</td></tr>\n",
              "<tr><td></td><td>C99</td></tr>\n",
              "<tr><td></td><td>D</td></tr>\n",
              "<tr><td></td><td>D10 D12</td></tr>\n",
              "<tr><td></td><td>D11</td></tr>\n",
              "<tr><td></td><td>D15</td></tr>\n",
              "<tr><td></td><td>D17</td></tr>\n",
              "<tr><td></td><td>D19</td></tr>\n",
              "<tr><td></td><td>D20</td></tr>\n",
              "<tr><td></td><td>D21</td></tr>\n",
              "<tr><td></td><td>D22</td></tr>\n",
              "<tr><td></td><td>D26</td></tr>\n",
              "<tr><td></td><td>D28</td></tr>\n",
              "<tr><td></td><td>D30</td></tr>\n",
              "<tr><td></td><td>D33</td></tr>\n",
              "<tr><td></td><td>D34</td></tr>\n",
              "<tr><td></td><td>D35</td></tr>\n",
              "<tr><td></td><td>D36</td></tr>\n",
              "<tr><td></td><td>D37</td></tr>\n",
              "<tr><td></td><td>D38</td></tr>\n",
              "<tr><td></td><td>D40</td></tr>\n",
              "<tr><td></td><td>D43</td></tr>\n",
              "<tr><td></td><td>D45</td></tr>\n",
              "<tr><td></td><td>D46</td></tr>\n",
              "<tr><td></td><td>D47</td></tr>\n",
              "<tr><td></td><td>D48</td></tr>\n",
              "<tr><td></td><td>D49</td></tr>\n",
              "<tr><td></td><td>D50</td></tr>\n",
              "<tr><td></td><td>D56</td></tr>\n",
              "<tr><td></td><td>D6</td></tr>\n",
              "<tr><td></td><td>D7</td></tr>\n",
              "<tr><td></td><td>D9</td></tr>\n",
              "<tr><td></td><td>E10</td></tr>\n",
              "<tr><td></td><td>E101</td></tr>\n",
              "<tr><td></td><td>E12</td></tr>\n",
              "<tr><td></td><td>E121</td></tr>\n",
              "<tr><td></td><td>E17</td></tr>\n",
              "<tr><td></td><td>E24</td></tr>\n",
              "<tr><td></td><td>E25</td></tr>\n",
              "<tr><td></td><td>E31</td></tr>\n",
              "<tr><td></td><td>E33</td></tr>\n",
              "<tr><td></td><td>E34</td></tr>\n",
              "<tr><td></td><td>E36</td></tr>\n",
              "<tr><td></td><td>E38</td></tr>\n",
              "<tr><td></td><td>E39 E41</td></tr>\n",
              "<tr><td></td><td>E40</td></tr>\n",
              "<tr><td></td><td>E44</td></tr>\n",
              "<tr><td></td><td>E45</td></tr>\n",
              "<tr><td></td><td>E46</td></tr>\n",
              "<tr><td></td><td>E49</td></tr>\n",
              "<tr><td></td><td>E50</td></tr>\n",
              "<tr><td></td><td>E52</td></tr>\n",
              "<tr><td></td><td>E58</td></tr>\n",
              "<tr><td></td><td>E60</td></tr>\n",
              "<tr><td></td><td>E63</td></tr>\n",
              "<tr><td></td><td>E67</td></tr>\n",
              "<tr><td></td><td>E68</td></tr>\n",
              "<tr><td></td><td>E77</td></tr>\n",
              "<tr><td></td><td>E8</td></tr>\n",
              "<tr><td></td><td>F</td></tr>\n",
              "<tr><td></td><td>F E46</td></tr>\n",
              "<tr><td></td><td>F E57</td></tr>\n",
              "<tr><td></td><td>F E69</td></tr>\n",
              "<tr><td></td><td>F G63</td></tr>\n",
              "<tr><td></td><td>F G73</td></tr>\n",
              "<tr><td></td><td>F2</td></tr>\n",
              "<tr><td></td><td>F33</td></tr>\n",
              "<tr><td></td><td>F38</td></tr>\n",
              "<tr><td></td><td>F4</td></tr>\n",
              "<tr><td></td><td>G6</td></tr>\n",
              "<tr><td></td><td>T</td></tr>\n",
              "<tr><td><a name=\"embarked\">embarked</a></td><td>Cherbourg</td></tr>\n",
              "<tr><td></td><td>Queenstown</td></tr>\n",
              "<tr><td></td><td>Southampton</td></tr>\n",
              "<tr><td><a name=\"boat\">boat</a></td><td></td></tr>\n",
              "<tr><td></td><td>1</td></tr>\n",
              "<tr><td></td><td>10</td></tr>\n",
              "<tr><td></td><td>11</td></tr>\n",
              "<tr><td></td><td>12</td></tr>\n",
              "<tr><td></td><td>13</td></tr>\n",
              "<tr><td></td><td>13 15</td></tr>\n",
              "<tr><td></td><td>13 15 B</td></tr>\n",
              "<tr><td></td><td>14</td></tr>\n",
              "<tr><td></td><td>15</td></tr>\n",
              "<tr><td></td><td>15 16</td></tr>\n",
              "<tr><td></td><td>16</td></tr>\n",
              "<tr><td></td><td>2</td></tr>\n",
              "<tr><td></td><td>3</td></tr>\n",
              "<tr><td></td><td>4</td></tr>\n",
              "<tr><td></td><td>5</td></tr>\n",
              "<tr><td></td><td>5 7</td></tr>\n",
              "<tr><td></td><td>5 9</td></tr>\n",
              "<tr><td></td><td>6</td></tr>\n",
              "<tr><td></td><td>7</td></tr>\n",
              "<tr><td></td><td>8</td></tr>\n",
              "<tr><td></td><td>8 10</td></tr>\n",
              "<tr><td></td><td>9</td></tr>\n",
              "<tr><td></td><td>A</td></tr>\n",
              "<tr><td></td><td>B</td></tr>\n",
              "<tr><td></td><td>C</td></tr>\n",
              "<tr><td></td><td>C D</td></tr>\n",
              "<tr><td></td><td>D</td></tr>\n",
              "</TABLE>\n",
              "<hr>\n"
            ],
            "text/plain": [
              "<IPython.core.display.HTML object>"
            ]
          },
          "metadata": {
            "tags": []
          },
          "execution_count": 192
        }
      ]
    },
    {
      "cell_type": "markdown",
      "metadata": {
        "id": "rXytXmYGtk6I"
      },
      "source": [
        "Women and children first?\n",
        "\n",
        "1. Use the `groupby` method to calculate the proportion of passengers that survived by sex.\n",
        "2. Calculate the same proportion, but by class and sex.\n",
        "3. Create age categories: children (under 14 years), adolescents (14-20), adult (21-64), and senior(65+), and calculate survival proportions by age category, class and sex."
      ]
    },
    {
      "cell_type": "markdown",
      "metadata": {
        "id": "bM-97LLpMmMZ"
      },
      "source": [
        "*We will first read the file using the Panda function for reading excel of `read_excel`.*"
      ]
    },
    {
      "cell_type": "code",
      "metadata": {
        "id": "y74VyfLetk6I"
      },
      "source": [
        "titanic = pd.read_excel('titanic.xls')"
      ],
      "execution_count": null,
      "outputs": []
    },
    {
      "cell_type": "markdown",
      "metadata": {
        "id": "Nnt_Krr7M2ch"
      },
      "source": [
        "*Now we can use groupby to first differentiate under the sex column and then by which passenger survive.*"
      ]
    },
    {
      "cell_type": "code",
      "metadata": {
        "colab": {
          "base_uri": "https://localhost:8080/"
        },
        "id": "0WWuShoPM0s7",
        "outputId": "7ddb3f2b-3384-4600-c39a-fe1c8c384dce"
      },
      "source": [
        "titanic.groupby('sex')['survived'].mean()"
      ],
      "execution_count": null,
      "outputs": [
        {
          "output_type": "execute_result",
          "data": {
            "text/plain": [
              "sex\n",
              "female    0.727468\n",
              "male      0.190985\n",
              "Name: survived, dtype: float64"
            ]
          },
          "metadata": {
            "tags": []
          },
          "execution_count": 202
        }
      ]
    },
    {
      "cell_type": "markdown",
      "metadata": {
        "id": "SaBsTdpNMxCL"
      },
      "source": [
        "*Now we also include the proportion as pclass column in the same group as the sex column.*"
      ]
    },
    {
      "cell_type": "code",
      "metadata": {
        "colab": {
          "base_uri": "https://localhost:8080/"
        },
        "id": "-JI5-qEeNRwf",
        "outputId": "ff993e8c-ca58-430b-fb2a-eb5ae9756f9b"
      },
      "source": [
        "titanic.groupby(['sex','pclass'])['survived'].mean()"
      ],
      "execution_count": null,
      "outputs": [
        {
          "output_type": "execute_result",
          "data": {
            "text/plain": [
              "sex     pclass\n",
              "female  1         0.965278\n",
              "        2         0.886792\n",
              "        3         0.490741\n",
              "male    1         0.340782\n",
              "        2         0.146199\n",
              "        3         0.152130\n",
              "Name: survived, dtype: float64"
            ]
          },
          "metadata": {
            "tags": []
          },
          "execution_count": 215
        }
      ]
    },
    {
      "cell_type": "markdown",
      "metadata": {
        "id": "3WMqALKhNUjc"
      },
      "source": [
        "*We created the three age categories hildren (under 14 years), adolescents (14-20), adult (21-64), and senior(65+), and cgrouped it on the four labels of sex, proportionclass(pclass), agecategory and also by survived and used mean() to get the average of it.* "
      ]
    },
    {
      "cell_type": "code",
      "metadata": {
        "colab": {
          "base_uri": "https://localhost:8080/"
        },
        "id": "nZdvO99cNKlQ",
        "outputId": "bae53b00-b1b8-46e5-bab4-54b8db1d4c86"
      },
      "source": [
        "titanic['agegroup'] = pd.cut(titanic.age, [0,14,21,65,100], right=False)\n",
        "titanic.groupby(['sex','pclass','agegroup'])['survived'].mean()"
      ],
      "execution_count": null,
      "outputs": [
        {
          "output_type": "execute_result",
          "data": {
            "text/plain": [
              "sex     pclass  agegroup \n",
              "female  1       [0, 14)      0.000000\n",
              "                [14, 21)     1.000000\n",
              "                [21, 65)     0.965517\n",
              "                [65, 100)    1.000000\n",
              "        2       [0, 14)      1.000000\n",
              "                [14, 21)     0.923077\n",
              "                [21, 65)     0.868421\n",
              "                [65, 100)         NaN\n",
              "        3       [0, 14)      0.483871\n",
              "                [14, 21)     0.542857\n",
              "                [21, 65)     0.441860\n",
              "                [65, 100)         NaN\n",
              "male    1       [0, 14)      1.000000\n",
              "                [14, 21)     0.200000\n",
              "                [21, 65)     0.343284\n",
              "                [65, 100)    0.142857\n",
              "        2       [0, 14)      1.000000\n",
              "                [14, 21)     0.117647\n",
              "                [21, 65)     0.078125\n",
              "                [65, 100)    0.000000\n",
              "        3       [0, 14)      0.324324\n",
              "                [14, 21)     0.123077\n",
              "                [21, 65)     0.159836\n",
              "                [65, 100)    0.000000\n",
              "Name: survived, dtype: float64"
            ]
          },
          "metadata": {
            "tags": []
          },
          "execution_count": 230
        }
      ]
    }
  ]
}