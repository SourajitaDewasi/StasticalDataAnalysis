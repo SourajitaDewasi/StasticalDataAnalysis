{
  "nbformat": 4,
  "nbformat_minor": 0,
  "metadata": {
    "colab": {
      "name": "191000050.ipynb",
      "provenance": [],
      "toc_visible": true
    },
    "kernelspec": {
      "name": "python3",
      "display_name": "Python 3"
    }
  },
  "cells": [
    {
      "cell_type": "markdown",
      "metadata": {
        "id": "f6PlfTKk3yhT"
      },
      "source": [
        "# Introduction to Pandas\n",
        "\n",
        "**pandas** is a Python package providing fast, flexible, and expressive data structures designed to work with *relational* or *labeled* data both. It is a fundamental high-level building block for doing practical, real world data analysis in Python. \n",
        "\n",
        "pandas is well suited for:\n",
        "\n",
        "- Tabular data with heterogeneously-typed columns, as in an SQL table or Excel spreadsheet\n",
        "- Ordered and unordered (not necessarily fixed-frequency) time series data.\n",
        "- Arbitrary matrix data (homogeneously typed or heterogeneous) with row and column labels\n",
        "- Any other form of observational / statistical data sets. The data actually need not be labeled at all to be placed into a pandas data structure\n",
        "\n",
        "\n",
        "Key features:\n",
        "    \n",
        "- Easy handling of **missing data**\n",
        "- **Size mutability**: columns can be inserted and deleted from DataFrame and higher dimensional objects\n",
        "- Automatic and explicit **data alignment**: objects can be explicitly aligned to a set of labels, or the data can be aligned automatically\n",
        "- Powerful, flexible **group by functionality** to perform split-apply-combine operations on data sets\n",
        "- Intelligent label-based **slicing, fancy indexing, and subsetting** of large data sets\n",
        "- Intuitive **merging and joining** data sets\n",
        "- Flexible **reshaping and pivoting** of data sets\n",
        "- **Hierarchical labeling** of axes\n",
        "- Robust **IO tools** for loading data from flat files, Excel files, databases, and HDF5\n",
        "- **Time series functionality**: date range generation and frequency conversion, moving window statistics, moving window linear regressions, date shifting and lagging, etc."
      ]
    },
    {
      "cell_type": "markdown",
      "metadata": {
        "id": "VhKAXM4B9DNu"
      },
      "source": [
        "*Pandas derives its name from the term “panel data”,a statistical term for four-dimensional data models that show changes over time. The pandas library includes multiple tools that support detailed data queries.*"
      ]
    },
    {
      "cell_type": "markdown",
      "metadata": {
        "id": "J8CYcf3T3UBh"
      },
      "source": [
        "*The error in this was the use of http instead of https. The statement following imports HTML in default as false. It then displays the site in a box/frame of 800x350*"
      ]
    },
    {
      "cell_type": "code",
      "metadata": {
        "colab": {
          "base_uri": "https://localhost:8080/",
          "height": 375
        },
        "id": "ebDiX2Op3yha",
        "outputId": "c3e740d9-0eba-44b8-90ad-9ad955e38479"
      },
      "source": [
        "from IPython.core.display import HTML\n",
        "HTML(\"<iframe src=https://pandas.pydata.org width=800 height=350></iframe>\")"
      ],
      "execution_count": null,
      "outputs": [
        {
          "output_type": "execute_result",
          "data": {
            "text/html": [
              "<iframe src=https://pandas.pydata.org width=800 height=350></iframe>"
            ],
            "text/plain": [
              "<IPython.core.display.HTML object>"
            ]
          },
          "metadata": {
            "tags": []
          },
          "execution_count": 2
        }
      ]
    },
    {
      "cell_type": "markdown",
      "metadata": {
        "id": "kZvEayUh4F2f"
      },
      "source": [
        "*Since the html imported is by default false, we don't need to set_options('HTML', false ) seperately and there are no functions available except the function of display html which we used.. We now set maximum colums as 30 and maximum rows as 20. We have also imported pandas as pd*"
      ]
    },
    {
      "cell_type": "code",
      "metadata": {
        "id": "T3F9T5qu3yhc"
      },
      "source": [
        "import pandas as pd\n",
        "\n",
        "# Set some Pandas options\n",
        "pd.set_option('display.notebook_repr_html', False)\n",
        "pd.set_option('max_columns', 30)\n",
        "pd.set_option('max_rows', 20)"
      ],
      "execution_count": null,
      "outputs": []
    },
    {
      "cell_type": "markdown",
      "metadata": {
        "id": "Nbm-yGab3yhd"
      },
      "source": [
        "## Pandas Data Structures"
      ]
    },
    {
      "cell_type": "markdown",
      "metadata": {
        "id": "CU2GD5O73yhe"
      },
      "source": [
        "### Series\n",
        "\n",
        "A **Series** is a single vector of data (like a NumPy array) with an *index* that labels each element in the vector."
      ]
    },
    {
      "cell_type": "markdown",
      "metadata": {
        "id": "lPZ4WXIXW3hp"
      },
      "source": [
        "*Pandas Series is a one-dimensional labeled array which can hold data of any type. We use it to store 4 integer values in counts array.*"
      ]
    },
    {
      "cell_type": "code",
      "metadata": {
        "colab": {
          "base_uri": "https://localhost:8080/"
        },
        "id": "k8WQLeDX3yhe",
        "outputId": "31f23a40-30ee-494c-883b-77119b8cfbbe"
      },
      "source": [
        "counts = pd.Series([632, 1638, 569, 115])\n",
        "counts"
      ],
      "execution_count": null,
      "outputs": [
        {
          "output_type": "execute_result",
          "data": {
            "text/plain": [
              "0     632\n",
              "1    1638\n",
              "2     569\n",
              "3     115\n",
              "dtype: int64"
            ]
          },
          "metadata": {
            "tags": []
          },
          "execution_count": 4
        }
      ]
    },
    {
      "cell_type": "markdown",
      "metadata": {
        "id": "eNiaHYfK3yhe"
      },
      "source": [
        "If an index is not specified, a default sequence of integers is assigned as the index. A NumPy array comprises the values of the `Series`, while the index is a pandas `Index` object."
      ]
    },
    {
      "cell_type": "code",
      "metadata": {
        "colab": {
          "base_uri": "https://localhost:8080/"
        },
        "id": "C8-MO8FR3yhf",
        "outputId": "b95b0d57-732b-499d-a973-cd8ba9f568cb"
      },
      "source": [
        "counts.values"
      ],
      "execution_count": null,
      "outputs": [
        {
          "output_type": "execute_result",
          "data": {
            "text/plain": [
              "array([ 632, 1638,  569,  115])"
            ]
          },
          "metadata": {
            "tags": []
          },
          "execution_count": 5
        }
      ]
    },
    {
      "cell_type": "markdown",
      "metadata": {
        "id": "sCatQzkpXSkR"
      },
      "source": [
        "*The count begins at 0 and ends at 4. It's same as writing for(int i=0; i<4;i++) in C++. When the values are unlabeled they are labeled like this by default. *"
      ]
    },
    {
      "cell_type": "code",
      "metadata": {
        "colab": {
          "base_uri": "https://localhost:8080/"
        },
        "id": "w0yg5l2U3yhf",
        "outputId": "0535eb41-0682-4703-ce48-38682697af50"
      },
      "source": [
        "counts.index"
      ],
      "execution_count": null,
      "outputs": [
        {
          "output_type": "execute_result",
          "data": {
            "text/plain": [
              "RangeIndex(start=0, stop=4, step=1)"
            ]
          },
          "metadata": {
            "tags": []
          },
          "execution_count": 6
        }
      ]
    },
    {
      "cell_type": "markdown",
      "metadata": {
        "id": "inFlAYsx3yhg"
      },
      "source": [
        "We can assign meaningful labels to the index, if they are available:\n",
        "*For example here we assigned names/labels of the name of bacteria to the number. Now we can ask for the value in the series by using bacteria[label_name]*"
      ]
    },
    {
      "cell_type": "code",
      "metadata": {
        "colab": {
          "base_uri": "https://localhost:8080/"
        },
        "id": "zKK4OvYB3yhh",
        "outputId": "67091f33-550b-4bf6-bcba-90a0a97b43ca"
      },
      "source": [
        "bacteria = pd.Series([632, 1638, 569, 115], \n",
        "    index=['Firmicutes', 'Proteobacteria', 'Actinobacteria', 'Bacteroidetes'])\n",
        "\n",
        "bacteria"
      ],
      "execution_count": null,
      "outputs": [
        {
          "output_type": "execute_result",
          "data": {
            "text/plain": [
              "Firmicutes         632\n",
              "Proteobacteria    1638\n",
              "Actinobacteria     569\n",
              "Bacteroidetes      115\n",
              "dtype: int64"
            ]
          },
          "metadata": {
            "tags": []
          },
          "execution_count": 7
        }
      ]
    },
    {
      "cell_type": "markdown",
      "metadata": {
        "id": "BFRswFAD3yhj"
      },
      "source": [
        "These labels can be used to refer to the values in the `Series`."
      ]
    },
    {
      "cell_type": "code",
      "metadata": {
        "colab": {
          "base_uri": "https://localhost:8080/"
        },
        "id": "tC_9Vir13yhk",
        "outputId": "3a326cae-1b16-45d0-bfb0-7509cc8b4917"
      },
      "source": [
        "bacteria['Actinobacteria']"
      ],
      "execution_count": null,
      "outputs": [
        {
          "output_type": "execute_result",
          "data": {
            "text/plain": [
              "569"
            ]
          },
          "metadata": {
            "tags": []
          },
          "execution_count": 8
        }
      ]
    },
    {
      "cell_type": "markdown",
      "metadata": {
        "id": "ZBjIRZeNZDHd"
      },
      "source": [
        "*In the loop of bacteria.index which we got from 0 to 4, we loop and check if the name of the label ends with bacteria. If it's true, it will display the value under those labels. The next command is to see boolean results. name.endswith is the function*"
      ]
    },
    {
      "cell_type": "code",
      "metadata": {
        "colab": {
          "base_uri": "https://localhost:8080/"
        },
        "id": "W6A-qfDg3yhl",
        "outputId": "72e81332-aca1-4228-f86f-11c3d941e2df"
      },
      "source": [
        "bacteria[[name.endswith('bacteria') for name in bacteria.index]]"
      ],
      "execution_count": null,
      "outputs": [
        {
          "output_type": "execute_result",
          "data": {
            "text/plain": [
              "Proteobacteria    1638\n",
              "Actinobacteria     569\n",
              "dtype: int64"
            ]
          },
          "metadata": {
            "tags": []
          },
          "execution_count": 9
        }
      ]
    },
    {
      "cell_type": "code",
      "metadata": {
        "colab": {
          "base_uri": "https://localhost:8080/"
        },
        "id": "eSFsK1u33yhl",
        "outputId": "1ecd1fdd-3a89-4629-f660-25db241522db"
      },
      "source": [
        "[name.endswith('bacteria') for name in bacteria.index]"
      ],
      "execution_count": null,
      "outputs": [
        {
          "output_type": "execute_result",
          "data": {
            "text/plain": [
              "[False, True, True, False]"
            ]
          },
          "metadata": {
            "tags": []
          },
          "execution_count": 10
        }
      ]
    },
    {
      "cell_type": "markdown",
      "metadata": {
        "id": "-7eULwTX3yhl"
      },
      "source": [
        "Notice that the indexing operation preserved the association between the values and the corresponding indices.\n",
        "\n",
        "We can still use positional indexing if we wish.\n",
        "\n",
        "*Positional indexing means to mark the array element by the position it is on. Generally the array indexing begins at 0.*"
      ]
    },
    {
      "cell_type": "code",
      "metadata": {
        "colab": {
          "base_uri": "https://localhost:8080/"
        },
        "id": "8G7t1AVO3yhl",
        "outputId": "824d5d31-ec6b-4604-8453-5a05df3878f7"
      },
      "source": [
        "bacteria[0]"
      ],
      "execution_count": null,
      "outputs": [
        {
          "output_type": "execute_result",
          "data": {
            "text/plain": [
              "632"
            ]
          },
          "metadata": {
            "tags": []
          },
          "execution_count": 11
        }
      ]
    },
    {
      "cell_type": "markdown",
      "metadata": {
        "id": "_6j8XVaj3yhm"
      },
      "source": [
        "We can give both the array of values and the index meaningful labels themselves:"
      ]
    },
    {
      "cell_type": "code",
      "metadata": {
        "colab": {
          "base_uri": "https://localhost:8080/"
        },
        "id": "wLyapN7n3yhm",
        "outputId": "082b0b42-bd0c-4fec-c8a3-2f1c41ebcb5f"
      },
      "source": [
        "bacteria.name = 'counts'\n",
        "bacteria.index.name = 'phylum'\n",
        "bacteria"
      ],
      "execution_count": null,
      "outputs": [
        {
          "output_type": "execute_result",
          "data": {
            "text/plain": [
              "phylum\n",
              "Firmicutes         632\n",
              "Proteobacteria    1638\n",
              "Actinobacteria     569\n",
              "Bacteroidetes      115\n",
              "Name: counts, dtype: int64"
            ]
          },
          "metadata": {
            "tags": []
          },
          "execution_count": 12
        }
      ]
    },
    {
      "cell_type": "markdown",
      "metadata": {
        "id": "7DM9Xi5l3yho"
      },
      "source": [
        "NumPy's math functions and other operations can be applied to Series without losing the data structure."
      ]
    },
    {
      "cell_type": "markdown",
      "metadata": {
        "id": "Ug2kKeDea95w"
      },
      "source": [
        "*Since numpy wasn't imported. We removed the error by importing it under the name np to use the log function.*"
      ]
    },
    {
      "cell_type": "code",
      "metadata": {
        "colab": {
          "base_uri": "https://localhost:8080/"
        },
        "id": "AqWOmN903yho",
        "outputId": "0330639f-98d8-4e68-c903-7f8a2c079e93"
      },
      "source": [
        "import numpy as np\n",
        "np.log(bacteria)"
      ],
      "execution_count": null,
      "outputs": [
        {
          "output_type": "execute_result",
          "data": {
            "text/plain": [
              "phylum\n",
              "Firmicutes        6.448889\n",
              "Proteobacteria    7.401231\n",
              "Actinobacteria    6.343880\n",
              "Bacteroidetes     4.744932\n",
              "Name: counts, dtype: float64"
            ]
          },
          "metadata": {
            "tags": []
          },
          "execution_count": 13
        }
      ]
    },
    {
      "cell_type": "markdown",
      "metadata": {
        "id": "cEvZNBll3yho"
      },
      "source": [
        "We can also filter according to the values in the `Series`:"
      ]
    },
    {
      "cell_type": "markdown",
      "metadata": {
        "id": "sI5tS6tEbNiZ"
      },
      "source": [
        "*Filtering can be done on the basis of some conditions. For example we checked in the bacteria series if any bacteria has more than 1000 as value. It looped through the entire series and the output was following.*"
      ]
    },
    {
      "cell_type": "code",
      "metadata": {
        "colab": {
          "base_uri": "https://localhost:8080/"
        },
        "id": "YdQxYKHp3yho",
        "outputId": "66eaa83c-ee6d-44ec-8c22-05af13278949"
      },
      "source": [
        "bacteria[bacteria>1000]"
      ],
      "execution_count": null,
      "outputs": [
        {
          "output_type": "execute_result",
          "data": {
            "text/plain": [
              "phylum\n",
              "Proteobacteria    1638\n",
              "Name: counts, dtype: int64"
            ]
          },
          "metadata": {
            "tags": []
          },
          "execution_count": 14
        }
      ]
    },
    {
      "cell_type": "markdown",
      "metadata": {
        "id": "0FbYuhX53yho"
      },
      "source": [
        "A `Series` can be thought of as an ordered key-value store. In fact, we can create one from a `dict`:"
      ]
    },
    {
      "cell_type": "markdown",
      "metadata": {
        "id": "nhAOTt69ZM14"
      },
      "source": [
        "*We can create the labels and value together too.*"
      ]
    },
    {
      "cell_type": "code",
      "metadata": {
        "colab": {
          "base_uri": "https://localhost:8080/"
        },
        "id": "j72KzoBv3yho",
        "outputId": "625f9c06-2b65-4ef2-b4be-9c0dabd599d7"
      },
      "source": [
        "bacteria_dict = {'Firmicutes': 632, 'Proteobacteria': 1638, 'Actinobacteria': 569, 'Bacteroidetes': 115}\n",
        "pd.Series(bacteria_dict)"
      ],
      "execution_count": null,
      "outputs": [
        {
          "output_type": "execute_result",
          "data": {
            "text/plain": [
              "Firmicutes         632\n",
              "Proteobacteria    1638\n",
              "Actinobacteria     569\n",
              "Bacteroidetes      115\n",
              "dtype: int64"
            ]
          },
          "metadata": {
            "tags": []
          },
          "execution_count": 15
        }
      ]
    },
    {
      "cell_type": "markdown",
      "metadata": {
        "id": "5X50n-j43yhq"
      },
      "source": [
        "Notice that the `Series` is created in key-sorted order.\n",
        "\n",
        "If we pass a custom index to `Series`, it will select the corresponding values from the dict, and treat indices without corrsponding values as missing. Pandas uses the `NaN` (not a number) type for missing values."
      ]
    },
    {
      "cell_type": "code",
      "metadata": {
        "colab": {
          "base_uri": "https://localhost:8080/"
        },
        "id": "AgA6CYqj3yhq",
        "outputId": "21013cf7-e038-41a7-e3ff-0b33bc7feb03"
      },
      "source": [
        "bacteria2 = pd.Series(bacteria_dict, index=['Cyanobacteria','Firmicutes','Proteobacteria','Actinobacteria'])\n",
        "bacteria2"
      ],
      "execution_count": null,
      "outputs": [
        {
          "output_type": "execute_result",
          "data": {
            "text/plain": [
              "Cyanobacteria        NaN\n",
              "Firmicutes         632.0\n",
              "Proteobacteria    1638.0\n",
              "Actinobacteria     569.0\n",
              "dtype: float64"
            ]
          },
          "metadata": {
            "tags": []
          },
          "execution_count": 16
        }
      ]
    },
    {
      "cell_type": "markdown",
      "metadata": {
        "id": "pxY_GYmrbwJK"
      },
      "source": [
        "*we can check for blank values by using .isnull function. It will give boolean results.*"
      ]
    },
    {
      "cell_type": "code",
      "metadata": {
        "colab": {
          "base_uri": "https://localhost:8080/"
        },
        "id": "JjYAAteY3yhr",
        "outputId": "14429e32-a6c1-4ff6-a17a-0db976196de8"
      },
      "source": [
        "bacteria2.isnull()"
      ],
      "execution_count": null,
      "outputs": [
        {
          "output_type": "execute_result",
          "data": {
            "text/plain": [
              "Cyanobacteria      True\n",
              "Firmicutes        False\n",
              "Proteobacteria    False\n",
              "Actinobacteria    False\n",
              "dtype: bool"
            ]
          },
          "metadata": {
            "tags": []
          },
          "execution_count": 17
        }
      ]
    },
    {
      "cell_type": "markdown",
      "metadata": {
        "id": "mjB0yqfF3yhr"
      },
      "source": [
        "Critically, the labels are used to **align data** when used in operations with other Series objects:"
      ]
    },
    {
      "cell_type": "code",
      "metadata": {
        "colab": {
          "base_uri": "https://localhost:8080/"
        },
        "id": "hJIFnkQ_3yhr",
        "outputId": "94dc9238-6e1b-4cd2-b66b-a0545cebcf53"
      },
      "source": [
        "bacteria + bacteria2"
      ],
      "execution_count": null,
      "outputs": [
        {
          "output_type": "execute_result",
          "data": {
            "text/plain": [
              "Actinobacteria    1138.0\n",
              "Bacteroidetes        NaN\n",
              "Cyanobacteria        NaN\n",
              "Firmicutes        1264.0\n",
              "Proteobacteria    3276.0\n",
              "dtype: float64"
            ]
          },
          "metadata": {
            "tags": []
          },
          "execution_count": 18
        }
      ]
    },
    {
      "cell_type": "markdown",
      "metadata": {
        "id": "Wm62ifcE3yhr"
      },
      "source": [
        "Contrast this with NumPy arrays, where arrays of the same length will combine values element-wise; adding Series combined values with the same label in the resulting series. Notice also that the missing values were propogated by addition."
      ]
    },
    {
      "cell_type": "markdown",
      "metadata": {
        "id": "cFpOZ0vV3yhs"
      },
      "source": [
        "### DataFrame\n",
        "\n",
        "Inevitably, we want to be able to store, view and manipulate data that is *multivariate*, where for every index there are multiple fields or columns of data, often of varying data type.\n",
        "\n",
        "A `DataFrame` is a tabular data structure, encapsulating multiple series like columns in a spreadsheet. Data are stored internally as a 2-dimensional object, but the `DataFrame` allows us to represent and manipulate higher-dimensional data."
      ]
    },
    {
      "cell_type": "markdown",
      "metadata": {
        "id": "vyXwhGWwcMdv"
      },
      "source": [
        "*A dataframe is 2D matrix with any datatype can be used to fill it's columns. Here we used the column names as value, patient, phylum.*"
      ]
    },
    {
      "cell_type": "code",
      "metadata": {
        "colab": {
          "base_uri": "https://localhost:8080/"
        },
        "id": "2RaK1xdr3yhs",
        "outputId": "3556f5d6-2b7f-43bd-8a4f-670e1b410643"
      },
      "source": [
        "data = pd.DataFrame({'value':[632, 1638, 569, 115, 433, 1130, 754, 555],\n",
        "                     'patient':[1, 1, 1, 1, 2, 2, 2, 2],\n",
        "                     'phylum':['Firmicutes', 'Proteobacteria', 'Actinobacteria', \n",
        "    'Bacteroidetes', 'Firmicutes', 'Proteobacteria', 'Actinobacteria', 'Bacteroidetes']})\n",
        "data"
      ],
      "execution_count": null,
      "outputs": [
        {
          "output_type": "execute_result",
          "data": {
            "text/plain": [
              "   value  patient          phylum\n",
              "0    632        1      Firmicutes\n",
              "1   1638        1  Proteobacteria\n",
              "2    569        1  Actinobacteria\n",
              "3    115        1   Bacteroidetes\n",
              "4    433        2      Firmicutes\n",
              "5   1130        2  Proteobacteria\n",
              "6    754        2  Actinobacteria\n",
              "7    555        2   Bacteroidetes"
            ]
          },
          "metadata": {
            "tags": []
          },
          "execution_count": 19
        }
      ]
    },
    {
      "cell_type": "markdown",
      "metadata": {
        "id": "baks1gsv3yhs"
      },
      "source": [
        "Notice the `DataFrame` is sorted by column name. We can change the order by indexing them in the order we desire:"
      ]
    },
    {
      "cell_type": "markdown",
      "metadata": {
        "id": "fXFTkphMcd0U"
      },
      "source": [
        "*The columns are free to change their order to suit the requirement of user.*"
      ]
    },
    {
      "cell_type": "code",
      "metadata": {
        "colab": {
          "base_uri": "https://localhost:8080/"
        },
        "id": "xTtWNb4I3yhs",
        "outputId": "0bb654bb-382d-4148-c937-6641d78fb9ca"
      },
      "source": [
        "data[['phylum','value','patient']]"
      ],
      "execution_count": null,
      "outputs": [
        {
          "output_type": "execute_result",
          "data": {
            "text/plain": [
              "           phylum  value  patient\n",
              "0      Firmicutes    632        1\n",
              "1  Proteobacteria   1638        1\n",
              "2  Actinobacteria    569        1\n",
              "3   Bacteroidetes    115        1\n",
              "4      Firmicutes    433        2\n",
              "5  Proteobacteria   1130        2\n",
              "6  Actinobacteria    754        2\n",
              "7   Bacteroidetes    555        2"
            ]
          },
          "metadata": {
            "tags": []
          },
          "execution_count": 20
        }
      ]
    },
    {
      "cell_type": "markdown",
      "metadata": {
        "id": "91fWtbxZ3yhs"
      },
      "source": [
        "A `DataFrame` has a second index, representing the columns:"
      ]
    },
    {
      "cell_type": "code",
      "metadata": {
        "colab": {
          "base_uri": "https://localhost:8080/"
        },
        "id": "QDf6Vidu3yhs",
        "outputId": "93091711-20b8-4739-d8fc-8f585b9ca497"
      },
      "source": [
        "data.columns"
      ],
      "execution_count": null,
      "outputs": [
        {
          "output_type": "execute_result",
          "data": {
            "text/plain": [
              "Index(['value', 'patient', 'phylum'], dtype='object')"
            ]
          },
          "metadata": {
            "tags": []
          },
          "execution_count": 21
        }
      ]
    },
    {
      "cell_type": "markdown",
      "metadata": {
        "id": "dqbHD6Jh3yhs"
      },
      "source": [
        "If we wish to access columns, we can do so either by dict-like indexing or by attribute:"
      ]
    },
    {
      "cell_type": "code",
      "metadata": {
        "colab": {
          "base_uri": "https://localhost:8080/"
        },
        "id": "oWIvPvzY3yhs",
        "outputId": "ae9fb1fe-1199-421c-f0ef-4125215e8e17"
      },
      "source": [
        "data['value']"
      ],
      "execution_count": null,
      "outputs": [
        {
          "output_type": "execute_result",
          "data": {
            "text/plain": [
              "0     632\n",
              "1    1638\n",
              "2     569\n",
              "3     115\n",
              "4     433\n",
              "5    1130\n",
              "6     754\n",
              "7     555\n",
              "Name: value, dtype: int64"
            ]
          },
          "metadata": {
            "tags": []
          },
          "execution_count": 22
        }
      ]
    },
    {
      "cell_type": "code",
      "metadata": {
        "colab": {
          "base_uri": "https://localhost:8080/"
        },
        "id": "Ib_BSrRr3yht",
        "outputId": "9b90c5b9-fbc4-4403-cc81-043de1049409"
      },
      "source": [
        "data.value"
      ],
      "execution_count": null,
      "outputs": [
        {
          "output_type": "execute_result",
          "data": {
            "text/plain": [
              "0     632\n",
              "1    1638\n",
              "2     569\n",
              "3     115\n",
              "4     433\n",
              "5    1130\n",
              "6     754\n",
              "7     555\n",
              "Name: value, dtype: int64"
            ]
          },
          "metadata": {
            "tags": []
          },
          "execution_count": 23
        }
      ]
    },
    {
      "cell_type": "code",
      "metadata": {
        "colab": {
          "base_uri": "https://localhost:8080/"
        },
        "id": "pJLrT3-e3yht",
        "outputId": "08b752d5-b593-4566-e899-8ef1ec5fc0ef"
      },
      "source": [
        "type(data.value)"
      ],
      "execution_count": null,
      "outputs": [
        {
          "output_type": "execute_result",
          "data": {
            "text/plain": [
              "pandas.core.series.Series"
            ]
          },
          "metadata": {
            "tags": []
          },
          "execution_count": 24
        }
      ]
    },
    {
      "cell_type": "code",
      "metadata": {
        "colab": {
          "base_uri": "https://localhost:8080/"
        },
        "id": "pU_Qt3Z83yht",
        "outputId": "4a8ff66d-3330-4d5c-b233-9479e0f542ed"
      },
      "source": [
        "type(data[['value']])"
      ],
      "execution_count": null,
      "outputs": [
        {
          "output_type": "execute_result",
          "data": {
            "text/plain": [
              "pandas.core.frame.DataFrame"
            ]
          },
          "metadata": {
            "tags": []
          },
          "execution_count": 25
        }
      ]
    },
    {
      "cell_type": "markdown",
      "metadata": {
        "id": "H9s0eAsb3yht"
      },
      "source": [
        "Notice this is different than with `Series`, where dict-like indexing retrieved a particular element (row). If we want access to a row in a `DataFrame`, we index its `ix` attribute.\n"
      ]
    },
    {
      "cell_type": "markdown",
      "metadata": {
        "id": "52fGk_T27-jU"
      },
      "source": [
        "*The .ix function is depreciated. Instead we use the .iloc function to get the same results.*"
      ]
    },
    {
      "cell_type": "code",
      "metadata": {
        "colab": {
          "base_uri": "https://localhost:8080/"
        },
        "id": "CPznM5hM3yhu",
        "outputId": "319e9b9c-da20-4543-d71e-b2bee6c9442a"
      },
      "source": [
        "data.iloc[3]"
      ],
      "execution_count": null,
      "outputs": [
        {
          "output_type": "execute_result",
          "data": {
            "text/plain": [
              "value                115\n",
              "patient                1\n",
              "phylum     Bacteroidetes\n",
              "Name: 3, dtype: object"
            ]
          },
          "metadata": {
            "tags": []
          },
          "execution_count": 26
        }
      ]
    },
    {
      "cell_type": "markdown",
      "metadata": {
        "id": "9oNbdVTR3yhu"
      },
      "source": [
        "Alternatively, we can create a `DataFrame` with a dict of dicts:"
      ]
    },
    {
      "cell_type": "code",
      "metadata": {
        "id": "QSR0gm1Q3yhv"
      },
      "source": [
        "data = pd.DataFrame({0: {'patient': 1, 'phylum': 'Firmicutes', 'value': 632},\n",
        "                    1: {'patient': 1, 'phylum': 'Proteobacteria', 'value': 1638},\n",
        "                    2: {'patient': 1, 'phylum': 'Actinobacteria', 'value': 569},\n",
        "                    3: {'patient': 1, 'phylum': 'Bacteroidetes', 'value': 115},\n",
        "                    4: {'patient': 2, 'phylum': 'Firmicutes', 'value': 433},\n",
        "                    5: {'patient': 2, 'phylum': 'Proteobacteria', 'value': 1130},\n",
        "                    6: {'patient': 2, 'phylum': 'Actinobacteria', 'value': 754},\n",
        "                    7: {'patient': 2, 'phylum': 'Bacteroidetes', 'value': 555}})"
      ],
      "execution_count": null,
      "outputs": []
    },
    {
      "cell_type": "code",
      "metadata": {
        "colab": {
          "base_uri": "https://localhost:8080/"
        },
        "id": "RKZVFpiK3yhv",
        "outputId": "f5f30718-88f3-4e56-a192-079d99461f9d"
      },
      "source": [
        "data"
      ],
      "execution_count": null,
      "outputs": [
        {
          "output_type": "execute_result",
          "data": {
            "text/plain": [
              "                  0               1               2              3  \\\n",
              "patient           1               1               1              1   \n",
              "phylum   Firmicutes  Proteobacteria  Actinobacteria  Bacteroidetes   \n",
              "value           632            1638             569            115   \n",
              "\n",
              "                  4               5               6              7  \n",
              "patient           2               2               2              2  \n",
              "phylum   Firmicutes  Proteobacteria  Actinobacteria  Bacteroidetes  \n",
              "value           433            1130             754            555  "
            ]
          },
          "metadata": {
            "tags": []
          },
          "execution_count": 28
        }
      ]
    },
    {
      "cell_type": "markdown",
      "metadata": {
        "id": "qK2xSZIo3yhv"
      },
      "source": [
        "We probably want this transposed:\n",
        "\n",
        "*Transpose can easily be done using .T function*\n",
        "\n"
      ]
    },
    {
      "cell_type": "code",
      "metadata": {
        "colab": {
          "base_uri": "https://localhost:8080/"
        },
        "id": "U-H6rdv83yhv",
        "outputId": "9c980c56-d3d0-4361-9d87-65598af831c6"
      },
      "source": [
        "data = data.T\n",
        "data"
      ],
      "execution_count": null,
      "outputs": [
        {
          "output_type": "execute_result",
          "data": {
            "text/plain": [
              "  patient          phylum value\n",
              "0       1      Firmicutes   632\n",
              "1       1  Proteobacteria  1638\n",
              "2       1  Actinobacteria   569\n",
              "3       1   Bacteroidetes   115\n",
              "4       2      Firmicutes   433\n",
              "5       2  Proteobacteria  1130\n",
              "6       2  Actinobacteria   754\n",
              "7       2   Bacteroidetes   555"
            ]
          },
          "metadata": {
            "tags": []
          },
          "execution_count": 29
        }
      ]
    },
    {
      "cell_type": "markdown",
      "metadata": {
        "id": "1XWXPWAC3yhv"
      },
      "source": [
        "Its important to note that the Series returned when a DataFrame is indexted is merely a **view** on the DataFrame, and not a copy of the data itself. So you must be cautious when manipulating this data:"
      ]
    },
    {
      "cell_type": "markdown",
      "metadata": {
        "id": "CqMppQj3c7My"
      },
      "source": [
        "*When we are using DataFrame, we are actually manipulating the original table. Becuase we see a view of it and not a copy.*"
      ]
    },
    {
      "cell_type": "code",
      "metadata": {
        "colab": {
          "base_uri": "https://localhost:8080/"
        },
        "id": "s-utzNU73yhw",
        "outputId": "aa7115d3-8551-40d9-9e44-884b0223c275"
      },
      "source": [
        "vals = data.value\n",
        "vals"
      ],
      "execution_count": null,
      "outputs": [
        {
          "output_type": "execute_result",
          "data": {
            "text/plain": [
              "0     632\n",
              "1    1638\n",
              "2     569\n",
              "3     115\n",
              "4     433\n",
              "5    1130\n",
              "6     754\n",
              "7     555\n",
              "Name: value, dtype: object"
            ]
          },
          "metadata": {
            "tags": []
          },
          "execution_count": 30
        }
      ]
    },
    {
      "cell_type": "code",
      "metadata": {
        "colab": {
          "base_uri": "https://localhost:8080/"
        },
        "id": "sNWkXWoF3yhw",
        "outputId": "31d6fd3b-25f3-4db6-a002-3045252f3743"
      },
      "source": [
        "vals[5] = 0\n",
        "vals"
      ],
      "execution_count": null,
      "outputs": [
        {
          "output_type": "execute_result",
          "data": {
            "text/plain": [
              "0     632\n",
              "1    1638\n",
              "2     569\n",
              "3     115\n",
              "4     433\n",
              "5       0\n",
              "6     754\n",
              "7     555\n",
              "Name: value, dtype: object"
            ]
          },
          "metadata": {
            "tags": []
          },
          "execution_count": 31
        }
      ]
    },
    {
      "cell_type": "code",
      "metadata": {
        "colab": {
          "base_uri": "https://localhost:8080/"
        },
        "id": "kLug0lsD3yhw",
        "outputId": "a1cf9369-837f-4e28-e7fe-e445c190ee48"
      },
      "source": [
        "data"
      ],
      "execution_count": null,
      "outputs": [
        {
          "output_type": "execute_result",
          "data": {
            "text/plain": [
              "  patient          phylum value\n",
              "0       1      Firmicutes   632\n",
              "1       1  Proteobacteria  1638\n",
              "2       1  Actinobacteria   569\n",
              "3       1   Bacteroidetes   115\n",
              "4       2      Firmicutes   433\n",
              "5       2  Proteobacteria     0\n",
              "6       2  Actinobacteria   754\n",
              "7       2   Bacteroidetes   555"
            ]
          },
          "metadata": {
            "tags": []
          },
          "execution_count": 32
        }
      ]
    },
    {
      "cell_type": "code",
      "metadata": {
        "colab": {
          "base_uri": "https://localhost:8080/"
        },
        "id": "e-w4--qw3yhx",
        "outputId": "a08ef697-87f1-429b-b942-7d9b3b05b375"
      },
      "source": [
        "vals = data.value.copy()\n",
        "vals[5] = 1000\n",
        "data"
      ],
      "execution_count": null,
      "outputs": [
        {
          "output_type": "execute_result",
          "data": {
            "text/plain": [
              "  patient          phylum value\n",
              "0       1      Firmicutes   632\n",
              "1       1  Proteobacteria  1638\n",
              "2       1  Actinobacteria   569\n",
              "3       1   Bacteroidetes   115\n",
              "4       2      Firmicutes   433\n",
              "5       2  Proteobacteria     0\n",
              "6       2  Actinobacteria   754\n",
              "7       2   Bacteroidetes   555"
            ]
          },
          "metadata": {
            "tags": []
          },
          "execution_count": 33
        }
      ]
    },
    {
      "cell_type": "markdown",
      "metadata": {
        "id": "BMU7Gvzs3yhx"
      },
      "source": [
        "We can create or modify columns by assignment:"
      ]
    },
    {
      "cell_type": "code",
      "metadata": {
        "colab": {
          "base_uri": "https://localhost:8080/"
        },
        "id": "2BUAUAcD3yhx",
        "outputId": "797be1a9-8c50-4176-fa0d-d6dadbbe3b7a"
      },
      "source": [
        "data.value[3] = 14\n",
        "data"
      ],
      "execution_count": null,
      "outputs": [
        {
          "output_type": "execute_result",
          "data": {
            "text/plain": [
              "  patient          phylum value\n",
              "0       1      Firmicutes   632\n",
              "1       1  Proteobacteria  1638\n",
              "2       1  Actinobacteria   569\n",
              "3       1   Bacteroidetes    14\n",
              "4       2      Firmicutes   433\n",
              "5       2  Proteobacteria     0\n",
              "6       2  Actinobacteria   754\n",
              "7       2   Bacteroidetes   555"
            ]
          },
          "metadata": {
            "tags": []
          },
          "execution_count": 34
        }
      ]
    },
    {
      "cell_type": "code",
      "metadata": {
        "colab": {
          "base_uri": "https://localhost:8080/"
        },
        "id": "YoY5bZR_3yhx",
        "outputId": "12c4884a-67e8-4546-ddc4-674ec770dd7a"
      },
      "source": [
        "data['year'] = 2013\n",
        "data"
      ],
      "execution_count": null,
      "outputs": [
        {
          "output_type": "execute_result",
          "data": {
            "text/plain": [
              "  patient          phylum value  year\n",
              "0       1      Firmicutes   632  2013\n",
              "1       1  Proteobacteria  1638  2013\n",
              "2       1  Actinobacteria   569  2013\n",
              "3       1   Bacteroidetes    14  2013\n",
              "4       2      Firmicutes   433  2013\n",
              "5       2  Proteobacteria     0  2013\n",
              "6       2  Actinobacteria   754  2013\n",
              "7       2   Bacteroidetes   555  2013"
            ]
          },
          "metadata": {
            "tags": []
          },
          "execution_count": 35
        }
      ]
    },
    {
      "cell_type": "markdown",
      "metadata": {
        "id": "xvY37ejZ3yhy"
      },
      "source": [
        "But note, we cannot use the attribute indexing method to add a new column:"
      ]
    },
    {
      "cell_type": "code",
      "metadata": {
        "colab": {
          "base_uri": "https://localhost:8080/"
        },
        "id": "gOTwxYPd3yhz",
        "outputId": "2e24f4f4-ffb3-475d-805a-a987458c6aa1"
      },
      "source": [
        "data.treatment = 1\n",
        "data"
      ],
      "execution_count": null,
      "outputs": [
        {
          "output_type": "execute_result",
          "data": {
            "text/plain": [
              "  patient          phylum value  year\n",
              "0       1      Firmicutes   632  2013\n",
              "1       1  Proteobacteria  1638  2013\n",
              "2       1  Actinobacteria   569  2013\n",
              "3       1   Bacteroidetes    14  2013\n",
              "4       2      Firmicutes   433  2013\n",
              "5       2  Proteobacteria     0  2013\n",
              "6       2  Actinobacteria   754  2013\n",
              "7       2   Bacteroidetes   555  2013"
            ]
          },
          "metadata": {
            "tags": []
          },
          "execution_count": 37
        }
      ]
    },
    {
      "cell_type": "code",
      "metadata": {
        "colab": {
          "base_uri": "https://localhost:8080/"
        },
        "id": "rrv8ffWB3yhz",
        "outputId": "2bffb2d9-a9e8-4464-90b9-28e63267c984"
      },
      "source": [
        "data.treatment"
      ],
      "execution_count": null,
      "outputs": [
        {
          "output_type": "execute_result",
          "data": {
            "text/plain": [
              "1"
            ]
          },
          "metadata": {
            "tags": []
          },
          "execution_count": 38
        }
      ]
    },
    {
      "cell_type": "markdown",
      "metadata": {
        "id": "89uwzk0N3yh0"
      },
      "source": [
        "Specifying a `Series` as a new columns cause its values to be added according to the `DataFrame`'s index:"
      ]
    },
    {
      "cell_type": "markdown",
      "metadata": {
        "id": "K_6tUjVPzlCh"
      },
      "source": [
        "*this is a new column with initialization of first 4 values as 0 and the rest 2 as 1.*"
      ]
    },
    {
      "cell_type": "code",
      "metadata": {
        "colab": {
          "base_uri": "https://localhost:8080/"
        },
        "id": "tPU4oL6t3yh0",
        "outputId": "7e95c230-ccd1-460d-8a0f-793d38efc09f"
      },
      "source": [
        "treatment = pd.Series([0]*4 + [1]*2)\n",
        "treatment"
      ],
      "execution_count": null,
      "outputs": [
        {
          "output_type": "execute_result",
          "data": {
            "text/plain": [
              "0    0\n",
              "1    0\n",
              "2    0\n",
              "3    0\n",
              "4    1\n",
              "5    1\n",
              "dtype: int64"
            ]
          },
          "metadata": {
            "tags": []
          },
          "execution_count": 39
        }
      ]
    },
    {
      "cell_type": "code",
      "metadata": {
        "colab": {
          "base_uri": "https://localhost:8080/"
        },
        "id": "OeMFRBca3yh1",
        "outputId": "082c7506-e0e7-46c6-9333-974ef02bd6f8"
      },
      "source": [
        "data['treatment'] = treatment\n",
        "data"
      ],
      "execution_count": null,
      "outputs": [
        {
          "output_type": "execute_result",
          "data": {
            "text/plain": [
              "  patient          phylum value  year  treatment\n",
              "0       1      Firmicutes   632  2013        0.0\n",
              "1       1  Proteobacteria  1638  2013        0.0\n",
              "2       1  Actinobacteria   569  2013        0.0\n",
              "3       1   Bacteroidetes    14  2013        0.0\n",
              "4       2      Firmicutes   433  2013        1.0\n",
              "5       2  Proteobacteria     0  2013        1.0\n",
              "6       2  Actinobacteria   754  2013        NaN\n",
              "7       2   Bacteroidetes   555  2013        NaN"
            ]
          },
          "metadata": {
            "tags": []
          },
          "execution_count": 40
        }
      ]
    },
    {
      "cell_type": "markdown",
      "metadata": {
        "id": "j8ZvlJZx3yh2"
      },
      "source": [
        "Other Python data structures (ones without an index) need to be the same length as the `DataFrame`:"
      ]
    },
    {
      "cell_type": "markdown",
      "metadata": {
        "id": "Y-75p3gTdQRe"
      },
      "source": [
        "*We are adding a new table and we use only 4 names of month. Since the original table has 8, this creates a conflict and results into an error.*"
      ]
    },
    {
      "cell_type": "code",
      "metadata": {
        "colab": {
          "base_uri": "https://localhost:8080/",
          "height": 366
        },
        "id": "Gkz3aNiT3yh2",
        "outputId": "46d90f8b-3b74-4728-cdad-6e7ed9a44ab2"
      },
      "source": [
        "month = ['Jan', 'Feb', 'Mar', 'Apr']\n",
        "data['month'] = month"
      ],
      "execution_count": null,
      "outputs": [
        {
          "output_type": "error",
          "ename": "ValueError",
          "evalue": "ignored",
          "traceback": [
            "\u001b[0;31m---------------------------------------------------------------------------\u001b[0m",
            "\u001b[0;31mValueError\u001b[0m                                Traceback (most recent call last)",
            "\u001b[0;32m<ipython-input-41-1fbc7bd65338>\u001b[0m in \u001b[0;36m<module>\u001b[0;34m()\u001b[0m\n\u001b[1;32m      1\u001b[0m \u001b[0mmonth\u001b[0m \u001b[0;34m=\u001b[0m \u001b[0;34m[\u001b[0m\u001b[0;34m'Jan'\u001b[0m\u001b[0;34m,\u001b[0m \u001b[0;34m'Feb'\u001b[0m\u001b[0;34m,\u001b[0m \u001b[0;34m'Mar'\u001b[0m\u001b[0;34m,\u001b[0m \u001b[0;34m'Apr'\u001b[0m\u001b[0;34m]\u001b[0m\u001b[0;34m\u001b[0m\u001b[0;34m\u001b[0m\u001b[0m\n\u001b[0;32m----> 2\u001b[0;31m \u001b[0mdata\u001b[0m\u001b[0;34m[\u001b[0m\u001b[0;34m'month'\u001b[0m\u001b[0;34m]\u001b[0m \u001b[0;34m=\u001b[0m \u001b[0mmonth\u001b[0m\u001b[0;34m\u001b[0m\u001b[0;34m\u001b[0m\u001b[0m\n\u001b[0m",
            "\u001b[0;32m/usr/local/lib/python3.6/dist-packages/pandas/core/frame.py\u001b[0m in \u001b[0;36m__setitem__\u001b[0;34m(self, key, value)\u001b[0m\n\u001b[1;32m   3042\u001b[0m         \u001b[0;32melse\u001b[0m\u001b[0;34m:\u001b[0m\u001b[0;34m\u001b[0m\u001b[0;34m\u001b[0m\u001b[0m\n\u001b[1;32m   3043\u001b[0m             \u001b[0;31m# set column\u001b[0m\u001b[0;34m\u001b[0m\u001b[0;34m\u001b[0m\u001b[0;34m\u001b[0m\u001b[0m\n\u001b[0;32m-> 3044\u001b[0;31m             \u001b[0mself\u001b[0m\u001b[0;34m.\u001b[0m\u001b[0m_set_item\u001b[0m\u001b[0;34m(\u001b[0m\u001b[0mkey\u001b[0m\u001b[0;34m,\u001b[0m \u001b[0mvalue\u001b[0m\u001b[0;34m)\u001b[0m\u001b[0;34m\u001b[0m\u001b[0;34m\u001b[0m\u001b[0m\n\u001b[0m\u001b[1;32m   3045\u001b[0m \u001b[0;34m\u001b[0m\u001b[0m\n\u001b[1;32m   3046\u001b[0m     \u001b[0;32mdef\u001b[0m \u001b[0m_setitem_slice\u001b[0m\u001b[0;34m(\u001b[0m\u001b[0mself\u001b[0m\u001b[0;34m,\u001b[0m \u001b[0mkey\u001b[0m\u001b[0;34m:\u001b[0m \u001b[0mslice\u001b[0m\u001b[0;34m,\u001b[0m \u001b[0mvalue\u001b[0m\u001b[0;34m)\u001b[0m\u001b[0;34m:\u001b[0m\u001b[0;34m\u001b[0m\u001b[0;34m\u001b[0m\u001b[0m\n",
            "\u001b[0;32m/usr/local/lib/python3.6/dist-packages/pandas/core/frame.py\u001b[0m in \u001b[0;36m_set_item\u001b[0;34m(self, key, value)\u001b[0m\n\u001b[1;32m   3118\u001b[0m         \"\"\"\n\u001b[1;32m   3119\u001b[0m         \u001b[0mself\u001b[0m\u001b[0;34m.\u001b[0m\u001b[0m_ensure_valid_index\u001b[0m\u001b[0;34m(\u001b[0m\u001b[0mvalue\u001b[0m\u001b[0;34m)\u001b[0m\u001b[0;34m\u001b[0m\u001b[0;34m\u001b[0m\u001b[0m\n\u001b[0;32m-> 3120\u001b[0;31m         \u001b[0mvalue\u001b[0m \u001b[0;34m=\u001b[0m \u001b[0mself\u001b[0m\u001b[0;34m.\u001b[0m\u001b[0m_sanitize_column\u001b[0m\u001b[0;34m(\u001b[0m\u001b[0mkey\u001b[0m\u001b[0;34m,\u001b[0m \u001b[0mvalue\u001b[0m\u001b[0;34m)\u001b[0m\u001b[0;34m\u001b[0m\u001b[0;34m\u001b[0m\u001b[0m\n\u001b[0m\u001b[1;32m   3121\u001b[0m         \u001b[0mNDFrame\u001b[0m\u001b[0;34m.\u001b[0m\u001b[0m_set_item\u001b[0m\u001b[0;34m(\u001b[0m\u001b[0mself\u001b[0m\u001b[0;34m,\u001b[0m \u001b[0mkey\u001b[0m\u001b[0;34m,\u001b[0m \u001b[0mvalue\u001b[0m\u001b[0;34m)\u001b[0m\u001b[0;34m\u001b[0m\u001b[0;34m\u001b[0m\u001b[0m\n\u001b[1;32m   3122\u001b[0m \u001b[0;34m\u001b[0m\u001b[0m\n",
            "\u001b[0;32m/usr/local/lib/python3.6/dist-packages/pandas/core/frame.py\u001b[0m in \u001b[0;36m_sanitize_column\u001b[0;34m(self, key, value, broadcast)\u001b[0m\n\u001b[1;32m   3766\u001b[0m \u001b[0;34m\u001b[0m\u001b[0m\n\u001b[1;32m   3767\u001b[0m             \u001b[0;31m# turn me into an ndarray\u001b[0m\u001b[0;34m\u001b[0m\u001b[0;34m\u001b[0m\u001b[0;34m\u001b[0m\u001b[0m\n\u001b[0;32m-> 3768\u001b[0;31m             \u001b[0mvalue\u001b[0m \u001b[0;34m=\u001b[0m \u001b[0msanitize_index\u001b[0m\u001b[0;34m(\u001b[0m\u001b[0mvalue\u001b[0m\u001b[0;34m,\u001b[0m \u001b[0mself\u001b[0m\u001b[0;34m.\u001b[0m\u001b[0mindex\u001b[0m\u001b[0;34m)\u001b[0m\u001b[0;34m\u001b[0m\u001b[0;34m\u001b[0m\u001b[0m\n\u001b[0m\u001b[1;32m   3769\u001b[0m             \u001b[0;32mif\u001b[0m \u001b[0;32mnot\u001b[0m \u001b[0misinstance\u001b[0m\u001b[0;34m(\u001b[0m\u001b[0mvalue\u001b[0m\u001b[0;34m,\u001b[0m \u001b[0;34m(\u001b[0m\u001b[0mnp\u001b[0m\u001b[0;34m.\u001b[0m\u001b[0mndarray\u001b[0m\u001b[0;34m,\u001b[0m \u001b[0mIndex\u001b[0m\u001b[0;34m)\u001b[0m\u001b[0;34m)\u001b[0m\u001b[0;34m:\u001b[0m\u001b[0;34m\u001b[0m\u001b[0;34m\u001b[0m\u001b[0m\n\u001b[1;32m   3770\u001b[0m                 \u001b[0;32mif\u001b[0m \u001b[0misinstance\u001b[0m\u001b[0;34m(\u001b[0m\u001b[0mvalue\u001b[0m\u001b[0;34m,\u001b[0m \u001b[0mlist\u001b[0m\u001b[0;34m)\u001b[0m \u001b[0;32mand\u001b[0m \u001b[0mlen\u001b[0m\u001b[0;34m(\u001b[0m\u001b[0mvalue\u001b[0m\u001b[0;34m)\u001b[0m \u001b[0;34m>\u001b[0m \u001b[0;36m0\u001b[0m\u001b[0;34m:\u001b[0m\u001b[0;34m\u001b[0m\u001b[0;34m\u001b[0m\u001b[0m\n",
            "\u001b[0;32m/usr/local/lib/python3.6/dist-packages/pandas/core/internals/construction.py\u001b[0m in \u001b[0;36msanitize_index\u001b[0;34m(data, index)\u001b[0m\n\u001b[1;32m    746\u001b[0m     \u001b[0;32mif\u001b[0m \u001b[0mlen\u001b[0m\u001b[0;34m(\u001b[0m\u001b[0mdata\u001b[0m\u001b[0;34m)\u001b[0m \u001b[0;34m!=\u001b[0m \u001b[0mlen\u001b[0m\u001b[0;34m(\u001b[0m\u001b[0mindex\u001b[0m\u001b[0;34m)\u001b[0m\u001b[0;34m:\u001b[0m\u001b[0;34m\u001b[0m\u001b[0;34m\u001b[0m\u001b[0m\n\u001b[1;32m    747\u001b[0m         raise ValueError(\n\u001b[0;32m--> 748\u001b[0;31m             \u001b[0;34m\"Length of values \"\u001b[0m\u001b[0;34m\u001b[0m\u001b[0;34m\u001b[0m\u001b[0m\n\u001b[0m\u001b[1;32m    749\u001b[0m             \u001b[0;34mf\"({len(data)}) \"\u001b[0m\u001b[0;34m\u001b[0m\u001b[0;34m\u001b[0m\u001b[0m\n\u001b[1;32m    750\u001b[0m             \u001b[0;34m\"does not match length of index \"\u001b[0m\u001b[0;34m\u001b[0m\u001b[0;34m\u001b[0m\u001b[0m\n",
            "\u001b[0;31mValueError\u001b[0m: Length of values (4) does not match length of index (8)"
          ]
        }
      ]
    },
    {
      "cell_type": "markdown",
      "metadata": {
        "id": "ekfDzQyHdhb2"
      },
      "source": [
        "*We correct it by initializing all the 8 rows in the month column with 8 values which is Jan and it is multiplied by the function len[data]=8*"
      ]
    },
    {
      "cell_type": "code",
      "metadata": {
        "colab": {
          "base_uri": "https://localhost:8080/"
        },
        "id": "lSfOiS3G3yh2",
        "outputId": "b31e2209-25be-468d-eb2b-d0a49a9a15d7"
      },
      "source": [
        "data['month'] = ['Jan']*len(data)\n",
        "data"
      ],
      "execution_count": null,
      "outputs": [
        {
          "output_type": "execute_result",
          "data": {
            "text/plain": [
              "  patient          phylum value  year  treatment month\n",
              "0       1      Firmicutes   632  2013        0.0   Jan\n",
              "1       1  Proteobacteria  1638  2013        0.0   Jan\n",
              "2       1  Actinobacteria   569  2013        0.0   Jan\n",
              "3       1   Bacteroidetes    14  2013        0.0   Jan\n",
              "4       2      Firmicutes   433  2013        1.0   Jan\n",
              "5       2  Proteobacteria     0  2013        1.0   Jan\n",
              "6       2  Actinobacteria   754  2013        NaN   Jan\n",
              "7       2   Bacteroidetes   555  2013        NaN   Jan"
            ]
          },
          "metadata": {
            "tags": []
          },
          "execution_count": 42
        }
      ]
    },
    {
      "cell_type": "markdown",
      "metadata": {
        "id": "KJ7fS_m33yh2"
      },
      "source": [
        "We can use `del` to remove columns, in the same way `dict` entries can be removed:"
      ]
    },
    {
      "cell_type": "code",
      "metadata": {
        "id": "EivObbgr3yh2",
        "colab": {
          "base_uri": "https://localhost:8080/"
        },
        "outputId": "9c2c1924-c2dd-48d0-cd99-d36dfa559fec"
      },
      "source": [
        "del data['month']\n",
        "data"
      ],
      "execution_count": null,
      "outputs": [
        {
          "output_type": "execute_result",
          "data": {
            "text/plain": [
              "  patient          phylum value  year  treatment\n",
              "0       1      Firmicutes   632  2013        0.0\n",
              "1       1  Proteobacteria  1638  2013        0.0\n",
              "2       1  Actinobacteria   569  2013        0.0\n",
              "3       1   Bacteroidetes    14  2013        0.0\n",
              "4       2      Firmicutes   433  2013        1.0\n",
              "5       2  Proteobacteria     0  2013        1.0\n",
              "6       2  Actinobacteria   754  2013        NaN\n",
              "7       2   Bacteroidetes   555  2013        NaN"
            ]
          },
          "metadata": {
            "tags": []
          },
          "execution_count": 43
        }
      ]
    },
    {
      "cell_type": "markdown",
      "metadata": {
        "id": "X1dpS0jc3yh2"
      },
      "source": [
        "We can extract the underlying data as a simple `ndarray` by accessing the `values` attribute:"
      ]
    },
    {
      "cell_type": "code",
      "metadata": {
        "id": "l2efvgQa3yh2",
        "colab": {
          "base_uri": "https://localhost:8080/"
        },
        "outputId": "fe17b416-a3b3-4703-e847-8db622c789f6"
      },
      "source": [
        "data.values"
      ],
      "execution_count": null,
      "outputs": [
        {
          "output_type": "execute_result",
          "data": {
            "text/plain": [
              "array([[1, 'Firmicutes', 632, 2013, 0.0],\n",
              "       [1, 'Proteobacteria', 1638, 2013, 0.0],\n",
              "       [1, 'Actinobacteria', 569, 2013, 0.0],\n",
              "       [1, 'Bacteroidetes', 14, 2013, 0.0],\n",
              "       [2, 'Firmicutes', 433, 2013, 1.0],\n",
              "       [2, 'Proteobacteria', 0, 2013, 1.0],\n",
              "       [2, 'Actinobacteria', 754, 2013, nan],\n",
              "       [2, 'Bacteroidetes', 555, 2013, nan]], dtype=object)"
            ]
          },
          "metadata": {
            "tags": []
          },
          "execution_count": 44
        }
      ]
    },
    {
      "cell_type": "markdown",
      "metadata": {
        "id": "B758aUF03yh2"
      },
      "source": [
        "Notice that because of the mix of string and integer (and `NaN`) values, the dtype of the array is `object`. The dtype will automatically be chosen to be as general as needed to accomodate all the columns."
      ]
    },
    {
      "cell_type": "code",
      "metadata": {
        "id": "Wadbpiqz3yh2",
        "colab": {
          "base_uri": "https://localhost:8080/"
        },
        "outputId": "932d8ec8-84b2-4589-c1b2-c1036362958c"
      },
      "source": [
        "df = pd.DataFrame({'foo': [1,2,3], 'bar':[0.4, -1.0, 4.5]})\n",
        "df.values"
      ],
      "execution_count": null,
      "outputs": [
        {
          "output_type": "execute_result",
          "data": {
            "text/plain": [
              "array([[ 1. ,  0.4],\n",
              "       [ 2. , -1. ],\n",
              "       [ 3. ,  4.5]])"
            ]
          },
          "metadata": {
            "tags": []
          },
          "execution_count": 45
        }
      ]
    },
    {
      "cell_type": "markdown",
      "metadata": {
        "id": "-_RXsw2h3yh3"
      },
      "source": [
        "Pandas uses a custom data structure to represent the indices of Series and DataFrames."
      ]
    },
    {
      "cell_type": "code",
      "metadata": {
        "id": "V07z_MNi3yh4",
        "colab": {
          "base_uri": "https://localhost:8080/"
        },
        "outputId": "98779d45-f69c-411a-c82b-8d4c5d1b5fcc"
      },
      "source": [
        "data.index"
      ],
      "execution_count": null,
      "outputs": [
        {
          "output_type": "execute_result",
          "data": {
            "text/plain": [
              "Int64Index([0, 1, 2, 3, 4, 5, 6, 7], dtype='int64')"
            ]
          },
          "metadata": {
            "tags": []
          },
          "execution_count": 46
        }
      ]
    },
    {
      "cell_type": "markdown",
      "metadata": {
        "id": "xSHb8EFQ3yh4"
      },
      "source": [
        "Index objects are immutable:"
      ]
    },
    {
      "cell_type": "markdown",
      "metadata": {
        "id": "a99JV-anz1SB"
      },
      "source": [
        "*And index objects therefore don't support mutable functions. Immutable objects are those whose value will remain unchanged after the first assignment or initialization. They allocate new memory whenever their value is changed. Examples of immutable data types or objects or variables in Python are numbers (integers, floats), strings and tuples.*"
      ]
    },
    {
      "cell_type": "code",
      "metadata": {
        "id": "U9vA8e3o3yh4",
        "colab": {
          "base_uri": "https://localhost:8080/",
          "height": 305
        },
        "outputId": "57d29daf-5c63-470a-b61f-9a05237844de"
      },
      "source": [
        "data.index[0] = 15"
      ],
      "execution_count": null,
      "outputs": [
        {
          "output_type": "error",
          "ename": "TypeError",
          "evalue": "ignored",
          "traceback": [
            "\u001b[0;31m---------------------------------------------------------------------------\u001b[0m",
            "\u001b[0;31mTypeError\u001b[0m                                 Traceback (most recent call last)",
            "\u001b[0;32m<ipython-input-88-90b10fa0e9b5>\u001b[0m in \u001b[0;36m<module>\u001b[0;34m()\u001b[0m\n\u001b[0;32m----> 1\u001b[0;31m \u001b[0mdata\u001b[0m\u001b[0;34m.\u001b[0m\u001b[0mindex\u001b[0m\u001b[0;34m[\u001b[0m\u001b[0;36m0\u001b[0m\u001b[0;34m]\u001b[0m \u001b[0;34m=\u001b[0m \u001b[0;36m15\u001b[0m\u001b[0;34m\u001b[0m\u001b[0;34m\u001b[0m\u001b[0m\n\u001b[0m",
            "\u001b[0;32m/usr/local/lib/python3.6/dist-packages/pandas/core/indexes/base.py\u001b[0m in \u001b[0;36m__setitem__\u001b[0;34m(self, key, value)\u001b[0m\n\u001b[1;32m   4082\u001b[0m \u001b[0;34m\u001b[0m\u001b[0m\n\u001b[1;32m   4083\u001b[0m     \u001b[0;32mdef\u001b[0m \u001b[0m__setitem__\u001b[0m\u001b[0;34m(\u001b[0m\u001b[0mself\u001b[0m\u001b[0;34m,\u001b[0m \u001b[0mkey\u001b[0m\u001b[0;34m,\u001b[0m \u001b[0mvalue\u001b[0m\u001b[0;34m)\u001b[0m\u001b[0;34m:\u001b[0m\u001b[0;34m\u001b[0m\u001b[0;34m\u001b[0m\u001b[0m\n\u001b[0;32m-> 4084\u001b[0;31m         \u001b[0;32mraise\u001b[0m \u001b[0mTypeError\u001b[0m\u001b[0;34m(\u001b[0m\u001b[0;34m\"Index does not support mutable operations\"\u001b[0m\u001b[0;34m)\u001b[0m\u001b[0;34m\u001b[0m\u001b[0;34m\u001b[0m\u001b[0m\n\u001b[0m\u001b[1;32m   4085\u001b[0m \u001b[0;34m\u001b[0m\u001b[0m\n\u001b[1;32m   4086\u001b[0m     \u001b[0;32mdef\u001b[0m \u001b[0m__getitem__\u001b[0m\u001b[0;34m(\u001b[0m\u001b[0mself\u001b[0m\u001b[0;34m,\u001b[0m \u001b[0mkey\u001b[0m\u001b[0;34m)\u001b[0m\u001b[0;34m:\u001b[0m\u001b[0;34m\u001b[0m\u001b[0;34m\u001b[0m\u001b[0m\n",
            "\u001b[0;31mTypeError\u001b[0m: Index does not support mutable operations"
          ]
        }
      ]
    },
    {
      "cell_type": "markdown",
      "metadata": {
        "id": "zFsycFtN3yh4"
      },
      "source": [
        "This is so that Index objects can be shared between data structures without fear that they will be changed."
      ]
    },
    {
      "cell_type": "code",
      "metadata": {
        "id": "zJEHIXMJ3yh4"
      },
      "source": [
        "bacteria2.index = bacteria.index"
      ],
      "execution_count": null,
      "outputs": []
    },
    {
      "cell_type": "code",
      "metadata": {
        "id": "Kn2DNIMR3yh5",
        "colab": {
          "base_uri": "https://localhost:8080/"
        },
        "outputId": "20e356bd-5019-45b4-bd86-0a77487efd42"
      },
      "source": [
        "bacteria2"
      ],
      "execution_count": null,
      "outputs": [
        {
          "output_type": "execute_result",
          "data": {
            "text/plain": [
              "phylum\n",
              "Firmicutes           NaN\n",
              "Proteobacteria     632.0\n",
              "Actinobacteria    1638.0\n",
              "Bacteroidetes      569.0\n",
              "dtype: float64"
            ]
          },
          "metadata": {
            "tags": []
          },
          "execution_count": 48
        }
      ]
    },
    {
      "cell_type": "markdown",
      "metadata": {
        "id": "P6UF3Qm03yh5"
      },
      "source": [
        "## Importing data"
      ]
    },
    {
      "cell_type": "markdown",
      "metadata": {
        "id": "zRzlikRh3yh5"
      },
      "source": [
        "A key, but often under-appreciated, step in data analysis is importing the data that we wish to analyze. Though it is easy to load basic data structures into Python using built-in tools or those provided by packages like NumPy, it is non-trivial to import structured data well, and to easily convert this input into a robust data structure:\n",
        "\n",
        "    genes = np.loadtxt(\"genes.csv\", delimiter=\",\", dtype=[('gene', '|S10'), ('value', '<f4')])\n",
        "\n",
        "Pandas provides a convenient set of functions for importing tabular data in a number of formats directly into a `DataFrame` object. These functions include a slew of options to perform type inference, indexing, parsing, iterating and cleaning automatically as data are imported."
      ]
    },
    {
      "cell_type": "markdown",
      "metadata": {
        "id": "YZudB0__3yh5"
      },
      "source": [
        "Let's start with some more bacteria data, stored in csv format."
      ]
    },
    {
      "cell_type": "markdown",
      "metadata": {
        "id": "OchO70KXeI6R"
      },
      "source": [
        "*We go to the Files and then use upload files to upload the CSV file of microbiome and change the address to suitable addressto make it easily accessible. Then we upload it in the code.*"
      ]
    },
    {
      "cell_type": "code",
      "metadata": {
        "id": "o96PPtTk3yh5",
        "colab": {
          "base_uri": "https://localhost:8080/"
        },
        "outputId": "c8407953-b3a9-4804-fc27-da3c474b5968"
      },
      "source": [
        "!cat microbiome.csv"
      ],
      "execution_count": null,
      "outputs": [
        {
          "output_type": "stream",
          "text": [
            "Taxon,Patient,Tissue,Stool\n",
            "Firmicutes,1,632,305\n",
            "Firmicutes,2,136,4182\n",
            "Firmicutes,3,1174,703\n",
            "Firmicutes,4,408,3946\n",
            "Firmicutes,5,831,8605\n",
            "Firmicutes,6,693,50\n",
            "Firmicutes,7,718,717\n",
            "Firmicutes,8,173,33\n",
            "Firmicutes,9,228,80\n",
            "Firmicutes,10,162,3196\n",
            "Firmicutes,11,372,32\n",
            "Firmicutes,12,4255,4361\n",
            "Firmicutes,13,107,1667\n",
            "Firmicutes,14,96,223\n",
            "Firmicutes,15,281,2377\n",
            "Proteobacteria,1,1638,3886\n",
            "Proteobacteria,2,2469,1821\n",
            "Proteobacteria,3,839,661\n",
            "Proteobacteria,4,4414,18\n",
            "Proteobacteria,5,12044,83\n",
            "Proteobacteria,6,2310,12\n",
            "Proteobacteria,7,3053,547\n",
            "Proteobacteria,8,395,2174\n",
            "Proteobacteria,9,2651,767\n",
            "Proteobacteria,10,1195,76\n",
            "Proteobacteria,11,6857,795\n",
            "Proteobacteria,12,483,666\n",
            "Proteobacteria,13,2950,3994\n",
            "Proteobacteria,14,1541,816\n",
            "Proteobacteria,15,1307,53\n",
            "Actinobacteria,1,569,648\n",
            "Actinobacteria,2,1590,4\n",
            "Actinobacteria,3,25,2\n",
            "Actinobacteria,4,259,300\n",
            "Actinobacteria,5,568,7\n",
            "Actinobacteria,6,1102,9\n",
            "Actinobacteria,7,678,377\n",
            "Actinobacteria,8,260,58\n",
            "Actinobacteria,9,424,233\n",
            "Actinobacteria,10,548,21\n",
            "Actinobacteria,11,201,83\n",
            "Actinobacteria,12,42,75\n",
            "Actinobacteria,13,109,59\n",
            "Actinobacteria,14,51,183\n",
            "Actinobacteria,15,310,204\n",
            "Bacteroidetes,1,115,380\n",
            "Bacteroidetes,2,67,0\n",
            "Bacteroidetes,3,0,0\n",
            "Bacteroidetes,4,85,5\n",
            "Bacteroidetes,5,143,7\n",
            "Bacteroidetes,6,678,2\n",
            "Bacteroidetes,7,4829,209\n",
            "Bacteroidetes,8,74,651\n",
            "Bacteroidetes,9,169,254\n",
            "Bacteroidetes,10,106,10\n",
            "Bacteroidetes,11,73,381\n",
            "Bacteroidetes,12,30,359\n",
            "Bacteroidetes,13,51,51\n",
            "Bacteroidetes,14,2473,2314\n",
            "Bacteroidetes,15,102,33\n",
            "Other,1,114,277\n",
            "Other,2,195,18\n",
            "Other,3,42,2\n",
            "Other,4,316,43\n",
            "Other,5,202,40\n",
            "Other,6,116,0\n",
            "Other,7,527,12\n",
            "Other,8,357,11\n",
            "Other,9,106,11\n",
            "Other,10,67,14\n",
            "Other,11,203,6\n",
            "Other,12,392,6\n",
            "Other,13,28,25\n",
            "Other,14,12,22\n",
            "Other,15,305,32"
          ],
          "name": "stdout"
        }
      ]
    },
    {
      "cell_type": "markdown",
      "metadata": {
        "id": "_hoxJCKb3yh6"
      },
      "source": [
        "This table can be read into a DataFrame using `read_csv`:"
      ]
    },
    {
      "cell_type": "code",
      "metadata": {
        "colab": {
          "base_uri": "https://localhost:8080/"
        },
        "id": "NJZtmLtC3yh6",
        "outputId": "0310a3de-13f5-4cc3-e1f2-a643c9599e64"
      },
      "source": [
        "mb = pd.read_csv(\"microbiome.csv\")\n",
        "mb"
      ],
      "execution_count": null,
      "outputs": [
        {
          "output_type": "execute_result",
          "data": {
            "text/plain": [
              "         Taxon  Patient  Tissue  Stool\n",
              "0   Firmicutes        1     632    305\n",
              "1   Firmicutes        2     136   4182\n",
              "2   Firmicutes        3    1174    703\n",
              "3   Firmicutes        4     408   3946\n",
              "4   Firmicutes        5     831   8605\n",
              "..         ...      ...     ...    ...\n",
              "70       Other       11     203      6\n",
              "71       Other       12     392      6\n",
              "72       Other       13      28     25\n",
              "73       Other       14      12     22\n",
              "74       Other       15     305     32\n",
              "\n",
              "[75 rows x 4 columns]"
            ]
          },
          "metadata": {
            "tags": []
          },
          "execution_count": 92
        }
      ]
    },
    {
      "cell_type": "markdown",
      "metadata": {
        "id": "V_fPW-fw3yh6"
      },
      "source": [
        "Notice that `read_csv` automatically considered the first row in the file to be a header row.\n",
        "\n",
        "We can override default behavior by customizing some the arguments, like `header`, `names` or `index_col`."
      ]
    },
    {
      "cell_type": "code",
      "metadata": {
        "id": "Vp-TmCcD3yh7",
        "colab": {
          "base_uri": "https://localhost:8080/"
        },
        "outputId": "8025c332-1e91-42ad-8c82-59165941760e"
      },
      "source": [
        "pd.read_csv(\"microbiome.csv\", header=None).head()"
      ],
      "execution_count": null,
      "outputs": [
        {
          "output_type": "execute_result",
          "data": {
            "text/plain": [
              "            0        1       2      3\n",
              "0       Taxon  Patient  Tissue  Stool\n",
              "1  Firmicutes        1     632    305\n",
              "2  Firmicutes        2     136   4182\n",
              "3  Firmicutes        3    1174    703\n",
              "4  Firmicutes        4     408   3946"
            ]
          },
          "metadata": {
            "tags": []
          },
          "execution_count": 93
        }
      ]
    },
    {
      "cell_type": "markdown",
      "metadata": {
        "id": "M5hQ9Nw03yh7"
      },
      "source": [
        "`read_csv` is just a convenience function for `read_table`, since csv is such a common format:"
      ]
    },
    {
      "cell_type": "code",
      "metadata": {
        "id": "0UcOt-HP3yh7"
      },
      "source": [
        "mb = pd.read_table(\"microbiome.csv\", sep=',')"
      ],
      "execution_count": null,
      "outputs": []
    },
    {
      "cell_type": "markdown",
      "metadata": {
        "id": "ijRP14BC3yh7"
      },
      "source": [
        "The `sep` argument can be customized as needed to accomodate arbitrary separators. For example, we can use a regular expression to define a variable amount of whitespace, which is unfortunately very common in some data formats: \n",
        "    \n",
        "    sep='\\s+'"
      ]
    },
    {
      "cell_type": "markdown",
      "metadata": {
        "id": "17ujrRPR0kpx"
      },
      "source": [
        "*The separator between the arguments to print() function in Python is space by default (softspace feature) , which can be modified and can be made to any character, integer or string as per our choice. The ‘sep’ parameter is used to achieve the same, it is found only in python 3.x or advanced. It is also used for formatting the output strings.*"
      ]
    },
    {
      "cell_type": "markdown",
      "metadata": {
        "id": "ooei48ik3yh8"
      },
      "source": [
        "For a more useful index, we can specify the first two columns, which together provide a unique index to the data."
      ]
    },
    {
      "cell_type": "code",
      "metadata": {
        "id": "yOEIVq1-3yh8",
        "colab": {
          "base_uri": "https://localhost:8080/"
        },
        "outputId": "e9ef9ca3-a133-452c-8d05-8c610613cb9d"
      },
      "source": [
        "mb = pd.read_csv(\"microbiome.csv\", index_col=['Taxon','Patient'])\n",
        "mb.head()"
      ],
      "execution_count": null,
      "outputs": [
        {
          "output_type": "execute_result",
          "data": {
            "text/plain": [
              "                    Tissue  Stool\n",
              "Taxon      Patient               \n",
              "Firmicutes 1           632    305\n",
              "           2           136   4182\n",
              "           3          1174    703\n",
              "           4           408   3946\n",
              "           5           831   8605"
            ]
          },
          "metadata": {
            "tags": []
          },
          "execution_count": 95
        }
      ]
    },
    {
      "cell_type": "markdown",
      "metadata": {
        "id": "zxkXmtIF3yh8"
      },
      "source": [
        "This is called a *hierarchical* index, which we will revisit later in the tutorial."
      ]
    },
    {
      "cell_type": "markdown",
      "metadata": {
        "id": "Ib0RZjHk3yh8"
      },
      "source": [
        "If we have sections of data that we do not wish to import (for example, known bad data), we can populate the `skiprows` argument:"
      ]
    },
    {
      "cell_type": "code",
      "metadata": {
        "id": "HBIwT2kz3yh8",
        "colab": {
          "base_uri": "https://localhost:8080/"
        },
        "outputId": "23f43b55-232a-466f-bcc6-df65d4061026"
      },
      "source": [
        "pd.read_csv(\"microbiome.csv\", skiprows=[3,4,6]).head()"
      ],
      "execution_count": null,
      "outputs": [
        {
          "output_type": "execute_result",
          "data": {
            "text/plain": [
              "        Taxon  Patient  Tissue  Stool\n",
              "0  Firmicutes        1     632    305\n",
              "1  Firmicutes        2     136   4182\n",
              "2  Firmicutes        5     831   8605\n",
              "3  Firmicutes        7     718    717\n",
              "4  Firmicutes        8     173     33"
            ]
          },
          "metadata": {
            "tags": []
          },
          "execution_count": 96
        }
      ]
    },
    {
      "cell_type": "markdown",
      "metadata": {
        "id": "YZ7RdHgu3yh8"
      },
      "source": [
        "Conversely, if we only want to import a small number of rows from, say, a very large data file we can use `nrows`:"
      ]
    },
    {
      "cell_type": "code",
      "metadata": {
        "id": "yqV9sWPg3yh8",
        "colab": {
          "base_uri": "https://localhost:8080/"
        },
        "outputId": "351f92d0-6c8a-42f1-c924-7ecc40de315b"
      },
      "source": [
        "pd.read_csv(\"microbiome.csv\", nrows=4)"
      ],
      "execution_count": null,
      "outputs": [
        {
          "output_type": "execute_result",
          "data": {
            "text/plain": [
              "        Taxon  Patient  Tissue  Stool\n",
              "0  Firmicutes        1     632    305\n",
              "1  Firmicutes        2     136   4182\n",
              "2  Firmicutes        3    1174    703\n",
              "3  Firmicutes        4     408   3946"
            ]
          },
          "metadata": {
            "tags": []
          },
          "execution_count": 97
        }
      ]
    },
    {
      "cell_type": "markdown",
      "metadata": {
        "id": "1iAn4qTo3yh8"
      },
      "source": [
        "Alternately, if we want to process our data in reasonable chunks, the `chunksize` argument will return an iterable object that can be employed in a data processing loop. For example, our microbiome data are organized by bacterial phylum, with 15 patients represented in each:"
      ]
    },
    {
      "cell_type": "markdown",
      "metadata": {
        "id": "1Nx3i2Cqe7YY"
      },
      "source": [
        "*Some workloads can be achieved with chunking: splitting a large problem like “convert this directory of CSVs to parquet” into a bunch of small problems (“convert this individual CSV file into a Parquet file. Now repeat that for each file in this directory.”). As long as each chunk fits in memory, you can work with datasets that are much larger than memory.*"
      ]
    },
    {
      "cell_type": "markdown",
      "metadata": {
        "id": "GE_0jhWVf6WL"
      },
      "source": [
        "*Different types of Taxon are 15 records long, so that is why we iterate through the DataFrame in 15 chunks.chunkSize=15 represents that. Chunk is a part of the DataFrame, similar to slicing and indexing. The first chunk will contain the first 15 rows, the second will contain the second 15 rows and so on.\n",
        "Next a pandas Series is created to make it a 1D array of the DataFrame. The curly brackets represent the Dictionary.\n",
        "chunk.iloc[0].Taxon selects the first row of the chunk, then it's value in the column Taxon.\n",
        "chunk.Tissue.mean() will select every Tissue value in the chunk (15 values) then take the arithmetic mean of it\n",
        "chunk.iloc[0].Taxon : chunk.Tissue.mean() will club the above values in a key. The pandas Series has a constructor that accepts a dictionary.*"
      ]
    },
    {
      "cell_type": "code",
      "metadata": {
        "id": "bEt4zsEl3yh9",
        "colab": {
          "base_uri": "https://localhost:8080/"
        },
        "outputId": "143d9e34-d9a8-4914-eab2-4c00fd6e728a"
      },
      "source": [
        "data_chunks = pd.read_csv(\"microbiome.csv\", chunksize=15)\n",
        "mean_tissue = pd.Series({chunk.iloc[0].Taxon:chunk.Tissue.mean() for chunk in data_chunks})\n",
        "    \n",
        "mean_tissue\n"
      ],
      "execution_count": null,
      "outputs": [
        {
          "output_type": "execute_result",
          "data": {
            "text/plain": [
              "Firmicutes         684.400000\n",
              "Proteobacteria    2943.066667\n",
              "Actinobacteria     449.066667\n",
              "Bacteroidetes      599.666667\n",
              "Other              198.800000\n",
              "dtype: float64"
            ]
          },
          "metadata": {
            "tags": []
          },
          "execution_count": 102
        }
      ]
    },
    {
      "cell_type": "markdown",
      "metadata": {
        "id": "ypf9mtP03yh-"
      },
      "source": [
        "Most real-world data is incomplete, with values missing due to incomplete observation, data entry or transcription error, or other reasons. Pandas will automatically recognize and parse common missing data indicators, including `NA` and `NULL`."
      ]
    },
    {
      "cell_type": "code",
      "metadata": {
        "id": "HGSvwVyf3yh-",
        "colab": {
          "base_uri": "https://localhost:8080/"
        },
        "outputId": "dac7ef23-cf02-4f84-fb43-1eb26ae108f5"
      },
      "source": [
        "!cat microbiome_missing.csv"
      ],
      "execution_count": null,
      "outputs": [
        {
          "output_type": "stream",
          "text": [
            "Taxon,Patient,Tissue,Stool\n",
            "Firmicutes,1,632,305\n",
            "Firmicutes,2,136,4182\n",
            "Firmicutes,3,,703\n",
            "Firmicutes,4,408,3946\n",
            "Firmicutes,5,831,8605\n",
            "Firmicutes,6,693,50\n",
            "Firmicutes,7,718,717\n",
            "Firmicutes,8,173,33\n",
            "Firmicutes,9,228,NA\n",
            "Firmicutes,10,162,3196\n",
            "Firmicutes,11,372,-99999\n",
            "Firmicutes,12,4255,4361\n",
            "Firmicutes,13,107,1667\n",
            "Firmicutes,14,?,223\n",
            "Firmicutes,15,281,2377\n",
            "Proteobacteria,1,1638,3886\n",
            "Proteobacteria,2,2469,1821\n",
            "Proteobacteria,3,839,661\n",
            "Proteobacteria,4,4414,18\n",
            "Proteobacteria,5,12044,83\n",
            "Proteobacteria,6,2310,12\n",
            "Proteobacteria,7,3053,547\n",
            "Proteobacteria,8,395,2174\n",
            "Proteobacteria,9,2651,767\n",
            "Proteobacteria,10,1195,76\n",
            "Proteobacteria,11,6857,795\n",
            "Proteobacteria,12,483,666\n",
            "Proteobacteria,13,2950,3994\n",
            "Proteobacteria,14,1541,816\n",
            "Proteobacteria,15,1307,53\n",
            "Actinobacteria,1,569,648\n",
            "Actinobacteria,2,1590,4\n",
            "Actinobacteria,3,25,2\n",
            "Actinobacteria,4,259,300\n",
            "Actinobacteria,5,568,7\n",
            "Actinobacteria,6,1102,9\n",
            "Actinobacteria,7,678,377\n",
            "Actinobacteria,8,260,58\n",
            "Actinobacteria,9,424,233\n",
            "Actinobacteria,10,548,21\n",
            "Actinobacteria,11,201,83\n",
            "Actinobacteria,12,42,75\n",
            "Actinobacteria,13,109,59\n",
            "Actinobacteria,14,51,183\n",
            "Actinobacteria,15,310,204\n",
            "Bacteroidetes,1,115,380\n",
            "Bacteroidetes,2,67,0\n",
            "Bacteroidetes,3,0,0\n",
            "Bacteroidetes,4,85,5\n",
            "Bacteroidetes,5,143,7\n",
            "Bacteroidetes,6,678,2\n",
            "Bacteroidetes,7,4829,209\n",
            "Bacteroidetes,8,74,651\n",
            "Bacteroidetes,9,169,254\n",
            "Bacteroidetes,10,106,10\n",
            "Bacteroidetes,11,73,381\n",
            "Bacteroidetes,12,30,359\n",
            "Bacteroidetes,13,51,51\n",
            "Bacteroidetes,14,2473,2314\n",
            "Bacteroidetes,15,102,33\n",
            "Other,1,114,277\n",
            "Other,2,195,18\n",
            "Other,3,42,2\n",
            "Other,4,316,43\n",
            "Other,5,202,40\n",
            "Other,6,116,0\n",
            "Other,7,527,12\n",
            "Other,8,357,11\n",
            "Other,9,106,11\n",
            "Other,10,67,14\n",
            "Other,11,203,6\n",
            "Other,12,392,6\n",
            "Other,13,28,25\n",
            "Other,14,12,22\n",
            "Other,15,305,32"
          ],
          "name": "stdout"
        }
      ]
    },
    {
      "cell_type": "markdown",
      "metadata": {
        "id": "OS2nKG7hg9W7"
      },
      "source": [
        "*The first 20 rows of the microbiome_missing csv file is displayed.*"
      ]
    },
    {
      "cell_type": "code",
      "metadata": {
        "id": "tz_5yDnc3yh-",
        "colab": {
          "base_uri": "https://localhost:8080/"
        },
        "outputId": "5856907f-8e02-4709-b696-7ba8f56dfb10"
      },
      "source": [
        "pd.read_csv(\"microbiome_missing.csv\").head(20)"
      ],
      "execution_count": null,
      "outputs": [
        {
          "output_type": "execute_result",
          "data": {
            "text/plain": [
              "             Taxon  Patient Tissue    Stool\n",
              "0       Firmicutes        1    632    305.0\n",
              "1       Firmicutes        2    136   4182.0\n",
              "2       Firmicutes        3    NaN    703.0\n",
              "3       Firmicutes        4    408   3946.0\n",
              "4       Firmicutes        5    831   8605.0\n",
              "5       Firmicutes        6    693     50.0\n",
              "6       Firmicutes        7    718    717.0\n",
              "7       Firmicutes        8    173     33.0\n",
              "8       Firmicutes        9    228      NaN\n",
              "9       Firmicutes       10    162   3196.0\n",
              "10      Firmicutes       11    372 -99999.0\n",
              "11      Firmicutes       12   4255   4361.0\n",
              "12      Firmicutes       13    107   1667.0\n",
              "13      Firmicutes       14      ?    223.0\n",
              "14      Firmicutes       15    281   2377.0\n",
              "15  Proteobacteria        1   1638   3886.0\n",
              "16  Proteobacteria        2   2469   1821.0\n",
              "17  Proteobacteria        3    839    661.0\n",
              "18  Proteobacteria        4   4414     18.0\n",
              "19  Proteobacteria        5  12044     83.0"
            ]
          },
          "metadata": {
            "tags": []
          },
          "execution_count": 105
        }
      ]
    },
    {
      "cell_type": "markdown",
      "metadata": {
        "id": "1jLut4k-3yh-"
      },
      "source": [
        "Above, Pandas recognized `NA` and an empty field as missing data."
      ]
    },
    {
      "cell_type": "code",
      "metadata": {
        "id": "btbaeyT_3yh_",
        "colab": {
          "base_uri": "https://localhost:8080/"
        },
        "outputId": "cf3581f5-ab58-4b53-e3bd-91b4749afb2f"
      },
      "source": [
        "pd.isnull(pd.read_csv(\"microbiome_missing.csv\")).head(20)"
      ],
      "execution_count": null,
      "outputs": [
        {
          "output_type": "execute_result",
          "data": {
            "text/plain": [
              "    Taxon  Patient  Tissue  Stool\n",
              "0   False    False   False  False\n",
              "1   False    False   False  False\n",
              "2   False    False    True  False\n",
              "3   False    False   False  False\n",
              "4   False    False   False  False\n",
              "5   False    False   False  False\n",
              "6   False    False   False  False\n",
              "7   False    False   False  False\n",
              "8   False    False   False   True\n",
              "9   False    False   False  False\n",
              "10  False    False   False  False\n",
              "11  False    False   False  False\n",
              "12  False    False   False  False\n",
              "13  False    False   False  False\n",
              "14  False    False   False  False\n",
              "15  False    False   False  False\n",
              "16  False    False   False  False\n",
              "17  False    False   False  False\n",
              "18  False    False   False  False\n",
              "19  False    False   False  False"
            ]
          },
          "metadata": {
            "tags": []
          },
          "execution_count": 106
        }
      ]
    },
    {
      "cell_type": "markdown",
      "metadata": {
        "id": "cNUSAFAA3yh_"
      },
      "source": [
        "Unfortunately, there will sometimes be inconsistency with the conventions for missing data. In this example, there is a question mark \"?\" and a large negative number where there should have been a positive integer. We can specify additional symbols with the `na_values` argument:\n",
        "   "
      ]
    },
    {
      "cell_type": "code",
      "metadata": {
        "id": "e4nMbVXY3yh_",
        "colab": {
          "base_uri": "https://localhost:8080/"
        },
        "outputId": "29cc5dde-ae80-433d-efd5-3145f82339a3"
      },
      "source": [
        "pd.read_csv(\"microbiome_missing.csv\", na_values=['?', -99999]).head(20)"
      ],
      "execution_count": null,
      "outputs": [
        {
          "output_type": "execute_result",
          "data": {
            "text/plain": [
              "             Taxon  Patient   Tissue   Stool\n",
              "0       Firmicutes        1    632.0   305.0\n",
              "1       Firmicutes        2    136.0  4182.0\n",
              "2       Firmicutes        3      NaN   703.0\n",
              "3       Firmicutes        4    408.0  3946.0\n",
              "4       Firmicutes        5    831.0  8605.0\n",
              "5       Firmicutes        6    693.0    50.0\n",
              "6       Firmicutes        7    718.0   717.0\n",
              "7       Firmicutes        8    173.0    33.0\n",
              "8       Firmicutes        9    228.0     NaN\n",
              "9       Firmicutes       10    162.0  3196.0\n",
              "10      Firmicutes       11    372.0     NaN\n",
              "11      Firmicutes       12   4255.0  4361.0\n",
              "12      Firmicutes       13    107.0  1667.0\n",
              "13      Firmicutes       14      NaN   223.0\n",
              "14      Firmicutes       15    281.0  2377.0\n",
              "15  Proteobacteria        1   1638.0  3886.0\n",
              "16  Proteobacteria        2   2469.0  1821.0\n",
              "17  Proteobacteria        3    839.0   661.0\n",
              "18  Proteobacteria        4   4414.0    18.0\n",
              "19  Proteobacteria        5  12044.0    83.0"
            ]
          },
          "metadata": {
            "tags": []
          },
          "execution_count": 107
        }
      ]
    },
    {
      "cell_type": "markdown",
      "metadata": {
        "id": "gNHUBG5Q3yh_"
      },
      "source": [
        "These can be specified on a column-wise basis using an appropriate dict as the argument for `na_values`."
      ]
    },
    {
      "cell_type": "markdown",
      "metadata": {
        "id": "bfK7NB4M3yiA"
      },
      "source": [
        "### Microsoft Excel\n",
        "\n",
        "Since so much financial and scientific data ends up in Excel spreadsheets (regrettably), Pandas' ability to directly import Excel spreadsheets is valuable. This support is contingent on having one or two dependencies (depending on what version of Excel file is being imported) installed: `xlrd` and `openpyxl` (these may be installed with either `pip` or `easy_install`).\n",
        "\n",
        "Importing Excel data to Pandas is a two-step process. First, we create an `ExcelFile` object using the path of the file:                                             "
      ]
    },
    {
      "cell_type": "code",
      "metadata": {
        "id": "00AVuTyO3yiA",
        "colab": {
          "base_uri": "https://localhost:8080/"
        },
        "outputId": "2f2066bf-2b06-43ea-d3e6-945c8b9be7f4"
      },
      "source": [
        "mb_file = pd.ExcelFile('MID1.xls')\n",
        "mb_file"
      ],
      "execution_count": null,
      "outputs": [
        {
          "output_type": "execute_result",
          "data": {
            "text/plain": [
              "<pandas.io.excel._base.ExcelFile at 0x7fcaaf0ef5c0>"
            ]
          },
          "metadata": {
            "tags": []
          },
          "execution_count": 51
        }
      ]
    },
    {
      "cell_type": "markdown",
      "metadata": {
        "id": "htMoOTOh3yiB"
      },
      "source": [
        "Then, since modern spreadsheets consist of one or more \"sheets\", we parse the sheet with the data of interest:"
      ]
    },
    {
      "cell_type": "code",
      "metadata": {
        "id": "-0ZOFJyn3yiB",
        "colab": {
          "base_uri": "https://localhost:8080/"
        },
        "outputId": "82d54e23-2445-4d87-9e67-275cf90c14b1"
      },
      "source": [
        "mb1 = mb_file.parse(\"Sheet 1\", header=None)\n",
        "mb1.columns = [\"Taxon\", \"Count\"]\n",
        "mb1.head()"
      ],
      "execution_count": null,
      "outputs": [
        {
          "output_type": "execute_result",
          "data": {
            "text/plain": [
              "                                               Taxon  Count\n",
              "0  Archaea \"Crenarchaeota\" Thermoprotei Desulfuro...      7\n",
              "1  Archaea \"Crenarchaeota\" Thermoprotei Desulfuro...      2\n",
              "2  Archaea \"Crenarchaeota\" Thermoprotei Sulfoloba...      3\n",
              "3  Archaea \"Crenarchaeota\" Thermoprotei Thermopro...      3\n",
              "4  Archaea \"Euryarchaeota\" \"Methanomicrobia\" Meth...      7"
            ]
          },
          "metadata": {
            "tags": []
          },
          "execution_count": 52
        }
      ]
    },
    {
      "cell_type": "markdown",
      "metadata": {
        "id": "5bdXEtKc3yiB"
      },
      "source": [
        "There is now a `read_excel` conveneince function in Pandas that combines these steps into a single call:"
      ]
    },
    {
      "cell_type": "markdown",
      "metadata": {
        "id": "fFB7AdZ0ieW9"
      },
      "source": [
        "*There was a syntax error of sheetname. Depending upon the system it needed to be changed to sheet_name.*"
      ]
    },
    {
      "cell_type": "code",
      "metadata": {
        "id": "-oEVPwHC3yiB",
        "colab": {
          "base_uri": "https://localhost:8080/"
        },
        "outputId": "dc4fe908-ba85-4bd0-b83f-c5ff0c0a952f"
      },
      "source": [
        "mb2 = pd.read_excel('MID2.xls', sheet_name='Sheet 1', header=None)\n",
        "mb2.head()"
      ],
      "execution_count": null,
      "outputs": [
        {
          "output_type": "execute_result",
          "data": {
            "text/plain": [
              "                                                   0   1\n",
              "0  Archaea \"Crenarchaeota\" Thermoprotei Acidiloba...   2\n",
              "1  Archaea \"Crenarchaeota\" Thermoprotei Acidiloba...  14\n",
              "2  Archaea \"Crenarchaeota\" Thermoprotei Desulfuro...  23\n",
              "3  Archaea \"Crenarchaeota\" Thermoprotei Desulfuro...   1\n",
              "4  Archaea \"Crenarchaeota\" Thermoprotei Desulfuro...   2"
            ]
          },
          "metadata": {
            "tags": []
          },
          "execution_count": 54
        }
      ]
    },
    {
      "cell_type": "markdown",
      "metadata": {
        "id": "VWWrG3AX3yiB"
      },
      "source": [
        "There are several other data formats that can be imported into Python and converted into DataFrames, with the help of buitl-in or third-party libraries. These include JSON, XML, HDF5, relational and non-relational databases, and various web APIs. These are beyond the scope of this tutorial, but are covered in [Python for Data Analysis](http://shop.oreilly.com/product/0636920023784.do)."
      ]
    },
    {
      "cell_type": "markdown",
      "metadata": {
        "id": "z0u82jrh3yiC"
      },
      "source": [
        "## Pandas Fundamentals"
      ]
    },
    {
      "cell_type": "markdown",
      "metadata": {
        "id": "hLCGDjbH3yiC"
      },
      "source": [
        "This section introduces the new user to the key functionality of Pandas that is required to use the software effectively.\n",
        "\n",
        "For some variety, we will leave our digestive tract bacteria behind and employ some baseball data."
      ]
    },
    {
      "cell_type": "markdown",
      "metadata": {
        "id": "ZDCZkPKIafRI"
      },
      "source": [
        "*We import the baseball.csv file through the read_csv function and assign the first column as id. It is also an unique index.*"
      ]
    },
    {
      "cell_type": "code",
      "metadata": {
        "id": "hK6y-aDl3yiD",
        "colab": {
          "base_uri": "https://localhost:8080/"
        },
        "outputId": "afd6b515-8554-4f01-f803-efb81e6d489c"
      },
      "source": [
        "baseball = pd.read_csv(\"baseball.csv\", index_col='id')\n",
        "baseball.head()"
      ],
      "execution_count": null,
      "outputs": [
        {
          "output_type": "execute_result",
          "data": {
            "text/plain": [
              "          player  year  stint team  lg   g  ab  r   h  X2b  X3b  hr  rbi   sb  \\\n",
              "id                                                                              \n",
              "88641  womacto01  2006      2  CHN  NL  19  50  6  14    1    0   1  2.0  1.0   \n",
              "88643  schilcu01  2006      1  BOS  AL  31   2  0   1    0    0   0  0.0  0.0   \n",
              "88645  myersmi01  2006      1  NYA  AL  62   0  0   0    0    0   0  0.0  0.0   \n",
              "88649  helliri01  2006      1  MIL  NL  20   3  0   0    0    0   0  0.0  0.0   \n",
              "88650  johnsra05  2006      1  NYA  AL  33   6  0   1    0    0   0  0.0  0.0   \n",
              "\n",
              "        cs  bb   so  ibb  hbp   sh   sf  gidp  \n",
              "id                                             \n",
              "88641  1.0   4  4.0  0.0  0.0  3.0  0.0   0.0  \n",
              "88643  0.0   0  1.0  0.0  0.0  0.0  0.0   0.0  \n",
              "88645  0.0   0  0.0  0.0  0.0  0.0  0.0   0.0  \n",
              "88649  0.0   0  2.0  0.0  0.0  0.0  0.0   0.0  \n",
              "88650  0.0   0  4.0  0.0  0.0  0.0  0.0   0.0  "
            ]
          },
          "metadata": {
            "tags": []
          },
          "execution_count": 57
        }
      ]
    },
    {
      "cell_type": "markdown",
      "metadata": {
        "id": "929sTZ7q3yiD"
      },
      "source": [
        "Notice that we specified the `id` column as the index, since it appears to be a unique identifier. We could try to create a unique index ourselves by combining `player` and `year`:"
      ]
    },
    {
      "cell_type": "code",
      "metadata": {
        "id": "xhZblBrk3yiE",
        "colab": {
          "base_uri": "https://localhost:8080/"
        },
        "outputId": "4dc4e758-968f-4fba-b456-a897bdf6312d"
      },
      "source": [
        "player_id = baseball.player + baseball.year.astype(str)\n",
        "baseball_newind = baseball.copy()\n",
        "baseball_newind.index = player_id\n",
        "baseball_newind.head()"
      ],
      "execution_count": null,
      "outputs": [
        {
          "output_type": "execute_result",
          "data": {
            "text/plain": [
              "                  player  year  stint team  lg   g  ab  r   h  X2b  X3b  hr  \\\n",
              "womacto012006  womacto01  2006      2  CHN  NL  19  50  6  14    1    0   1   \n",
              "schilcu012006  schilcu01  2006      1  BOS  AL  31   2  0   1    0    0   0   \n",
              "myersmi012006  myersmi01  2006      1  NYA  AL  62   0  0   0    0    0   0   \n",
              "helliri012006  helliri01  2006      1  MIL  NL  20   3  0   0    0    0   0   \n",
              "johnsra052006  johnsra05  2006      1  NYA  AL  33   6  0   1    0    0   0   \n",
              "\n",
              "               rbi   sb   cs  bb   so  ibb  hbp   sh   sf  gidp  \n",
              "womacto012006  2.0  1.0  1.0   4  4.0  0.0  0.0  3.0  0.0   0.0  \n",
              "schilcu012006  0.0  0.0  0.0   0  1.0  0.0  0.0  0.0  0.0   0.0  \n",
              "myersmi012006  0.0  0.0  0.0   0  0.0  0.0  0.0  0.0  0.0   0.0  \n",
              "helliri012006  0.0  0.0  0.0   0  2.0  0.0  0.0  0.0  0.0   0.0  \n",
              "johnsra052006  0.0  0.0  0.0   0  4.0  0.0  0.0  0.0  0.0   0.0  "
            ]
          },
          "metadata": {
            "tags": []
          },
          "execution_count": 58
        }
      ]
    },
    {
      "cell_type": "markdown",
      "metadata": {
        "id": "rjoPEdGD3yiE"
      },
      "source": [
        "This looks okay, but let's check if we cansee the .is_unique function:"
      ]
    },
    {
      "cell_type": "code",
      "metadata": {
        "id": "fEPnvWm53yiE",
        "colab": {
          "base_uri": "https://localhost:8080/"
        },
        "outputId": "161fa341-bdc6-49d0-fdcf-d23a455d23d0"
      },
      "source": [
        "baseball_newind.index.is_unique"
      ],
      "execution_count": null,
      "outputs": [
        {
          "output_type": "execute_result",
          "data": {
            "text/plain": [
              "False"
            ]
          },
          "metadata": {
            "tags": []
          },
          "execution_count": 59
        }
      ]
    },
    {
      "cell_type": "markdown",
      "metadata": {
        "id": "VNv24a2F3yiF"
      },
      "source": [
        "So, indices need not be unique. Our choice is not unique because some players change teams within years."
      ]
    },
    {
      "cell_type": "code",
      "metadata": {
        "id": "NVVix5c53yiF",
        "colab": {
          "base_uri": "https://localhost:8080/"
        },
        "outputId": "70ddab88-cbd3-4146-99fc-207d2d850b03"
      },
      "source": [
        "pd.Series(baseball_newind.index).value_counts()"
      ],
      "execution_count": null,
      "outputs": [
        {
          "output_type": "execute_result",
          "data": {
            "text/plain": [
              "wellsda012007    2\n",
              "trachst012007    2\n",
              "wickmbo012007    2\n",
              "francju012007    2\n",
              "benitar012007    2\n",
              "                ..\n",
              "schilcu012006    1\n",
              "guarded012007    1\n",
              "cormirh012007    1\n",
              "williwo022007    1\n",
              "mussimi012007    1\n",
              "Length: 88, dtype: int64"
            ]
          },
          "metadata": {
            "tags": []
          },
          "execution_count": 60
        }
      ]
    },
    {
      "cell_type": "markdown",
      "metadata": {
        "id": "Gnx423oV3yiF"
      },
      "source": [
        "The most important consequence of a non-unique index is that indexing by label will return multiple values for some labels:"
      ]
    },
    {
      "cell_type": "markdown",
      "metadata": {
        "id": "_lSXsm-djxR6"
      },
      "source": [
        "*The .ix function needed to be changed to .loc function to get the desired result. SInce the ix function is probably not in use.*"
      ]
    },
    {
      "cell_type": "code",
      "metadata": {
        "id": "0Dq9jP-C3yiF",
        "colab": {
          "base_uri": "https://localhost:8080/"
        },
        "outputId": "899d833c-20c3-43f5-ac5b-bdae573c6156"
      },
      "source": [
        "baseball_newind.loc['wickmbo012007']"
      ],
      "execution_count": null,
      "outputs": [
        {
          "output_type": "execute_result",
          "data": {
            "text/plain": [
              "                  player  year  stint team  lg   g  ab  r  h  X2b  X3b  hr  \\\n",
              "wickmbo012007  wickmbo01  2007      2  ARI  NL   8   0  0  0    0    0   0   \n",
              "wickmbo012007  wickmbo01  2007      1  ATL  NL  47   0  0  0    0    0   0   \n",
              "\n",
              "               rbi   sb   cs  bb   so  ibb  hbp   sh   sf  gidp  \n",
              "wickmbo012007  0.0  0.0  0.0   0  0.0  0.0  0.0  0.0  0.0   0.0  \n",
              "wickmbo012007  0.0  0.0  0.0   0  0.0  0.0  0.0  0.0  0.0   0.0  "
            ]
          },
          "metadata": {
            "tags": []
          },
          "execution_count": 61
        }
      ]
    },
    {
      "cell_type": "markdown",
      "metadata": {
        "id": "r9mfismX3yiH"
      },
      "source": [
        "We will learn more about indexing below."
      ]
    },
    {
      "cell_type": "markdown",
      "metadata": {
        "id": "-chy0JXh3yiH"
      },
      "source": [
        "We can create a truly unique index by combining `player`, `team` and `year`:"
      ]
    },
    {
      "cell_type": "code",
      "metadata": {
        "id": "Y4U71sVE3yiH",
        "colab": {
          "base_uri": "https://localhost:8080/"
        },
        "outputId": "8afa4f7d-01db-4236-8c8d-0d7a3676fd36"
      },
      "source": [
        "player_unique = baseball.player + baseball.team + baseball.year.astype(str)\n",
        "baseball_newind = baseball.copy()\n",
        "baseball_newind.index = player_unique\n",
        "baseball_newind.head()"
      ],
      "execution_count": null,
      "outputs": [
        {
          "output_type": "execute_result",
          "data": {
            "text/plain": [
              "                     player  year  stint team  lg   g  ab  r   h  X2b  X3b  \\\n",
              "womacto01CHN2006  womacto01  2006      2  CHN  NL  19  50  6  14    1    0   \n",
              "schilcu01BOS2006  schilcu01  2006      1  BOS  AL  31   2  0   1    0    0   \n",
              "myersmi01NYA2006  myersmi01  2006      1  NYA  AL  62   0  0   0    0    0   \n",
              "helliri01MIL2006  helliri01  2006      1  MIL  NL  20   3  0   0    0    0   \n",
              "johnsra05NYA2006  johnsra05  2006      1  NYA  AL  33   6  0   1    0    0   \n",
              "\n",
              "                  hr  rbi   sb   cs  bb   so  ibb  hbp   sh   sf  gidp  \n",
              "womacto01CHN2006   1  2.0  1.0  1.0   4  4.0  0.0  0.0  3.0  0.0   0.0  \n",
              "schilcu01BOS2006   0  0.0  0.0  0.0   0  1.0  0.0  0.0  0.0  0.0   0.0  \n",
              "myersmi01NYA2006   0  0.0  0.0  0.0   0  0.0  0.0  0.0  0.0  0.0   0.0  \n",
              "helliri01MIL2006   0  0.0  0.0  0.0   0  2.0  0.0  0.0  0.0  0.0   0.0  \n",
              "johnsra05NYA2006   0  0.0  0.0  0.0   0  4.0  0.0  0.0  0.0  0.0   0.0  "
            ]
          },
          "metadata": {
            "tags": []
          },
          "execution_count": 62
        }
      ]
    },
    {
      "cell_type": "code",
      "metadata": {
        "id": "deWULT773yiH",
        "colab": {
          "base_uri": "https://localhost:8080/"
        },
        "outputId": "6c1de5f9-5ac2-469a-e7bb-d7954e32b5c2"
      },
      "source": [
        "baseball_newind.index.is_unique"
      ],
      "execution_count": null,
      "outputs": [
        {
          "output_type": "execute_result",
          "data": {
            "text/plain": [
              "True"
            ]
          },
          "metadata": {
            "tags": []
          },
          "execution_count": 63
        }
      ]
    },
    {
      "cell_type": "markdown",
      "metadata": {
        "id": "vbAQPFxW3yiH"
      },
      "source": [
        "We can create meaningful indices more easily using a hierarchical index; for now, we will stick with the numeric `id` field as our index."
      ]
    },
    {
      "cell_type": "markdown",
      "metadata": {
        "id": "mRXdFWmd3yiH"
      },
      "source": [
        "### Manipulating indices\n",
        "\n",
        "**Reindexing** allows users to manipulate the data labels in a DataFrame. It forces a DataFrame to conform to the new index, and optionally, fill in missing data if requested.\n",
        "\n",
        "A simple use of `reindex` is to alter the order of the rows:"
      ]
    },
    {
      "cell_type": "code",
      "metadata": {
        "id": "q-7kvS793yiI",
        "colab": {
          "base_uri": "https://localhost:8080/"
        },
        "outputId": "c403e6af-14a7-4435-cbe0-4e61687a6a3f"
      },
      "source": [
        "baseball.reindex(baseball.index[::-1]).head()"
      ],
      "execution_count": null,
      "outputs": [
        {
          "output_type": "execute_result",
          "data": {
            "text/plain": [
              "          player  year  stint team  lg    g   ab   r    h  X2b  X3b  hr   rbi  \\\n",
              "id                                                                              \n",
              "89534  alomasa02  2007      1  NYN  NL    8   22   1    3    1    0   0   0.0   \n",
              "89533   aloumo01  2007      1  NYN  NL   87  328  51  112   19    1  13  49.0   \n",
              "89530  ausmubr01  2007      1  HOU  NL  117  349  38   82   16    3   3  25.0   \n",
              "89526  benitar01  2007      1  SFN  NL   19    0   0    0    0    0   0   0.0   \n",
              "89525  benitar01  2007      2  FLO  NL   34    0   0    0    0    0   0   0.0   \n",
              "\n",
              "        sb   cs  bb    so  ibb  hbp   sh   sf  gidp  \n",
              "id                                                   \n",
              "89534  0.0  0.0   0   3.0  0.0  0.0  0.0  0.0   0.0  \n",
              "89533  3.0  0.0  27  30.0  5.0  2.0  0.0  3.0  13.0  \n",
              "89530  6.0  1.0  37  74.0  3.0  6.0  4.0  1.0  11.0  \n",
              "89526  0.0  0.0   0   0.0  0.0  0.0  0.0  0.0   0.0  \n",
              "89525  0.0  0.0   0   0.0  0.0  0.0  0.0  0.0   0.0  "
            ]
          },
          "metadata": {
            "tags": []
          },
          "execution_count": 64
        }
      ]
    },
    {
      "cell_type": "markdown",
      "metadata": {
        "id": "5Nhzk_1c3yiI"
      },
      "source": [
        "Notice that the `id` index is not sequential. Say we wanted to populate the table with every `id` value. We could specify and index that is a sequence from the first to the last `id` numbers in the database, and Pandas would fill in the missing data with `NaN` values:"
      ]
    },
    {
      "cell_type": "code",
      "metadata": {
        "id": "wscC2aRU3yiI",
        "colab": {
          "base_uri": "https://localhost:8080/"
        },
        "outputId": "ee14ae5d-112d-4e19-f346-7e6830e705d6"
      },
      "source": [
        "id_range = range(baseball.index.values.min(), baseball.index.values.max())\n",
        "baseball.reindex(id_range).head()"
      ],
      "execution_count": null,
      "outputs": [
        {
          "output_type": "execute_result",
          "data": {
            "text/plain": [
              "          player    year  stint team   lg     g    ab    r     h  X2b  X3b  \\\n",
              "id                                                                           \n",
              "88641  womacto01  2006.0    2.0  CHN   NL  19.0  50.0  6.0  14.0  1.0  0.0   \n",
              "88642        NaN     NaN    NaN  NaN  NaN   NaN   NaN  NaN   NaN  NaN  NaN   \n",
              "88643  schilcu01  2006.0    1.0  BOS   AL  31.0   2.0  0.0   1.0  0.0  0.0   \n",
              "88644        NaN     NaN    NaN  NaN  NaN   NaN   NaN  NaN   NaN  NaN  NaN   \n",
              "88645  myersmi01  2006.0    1.0  NYA   AL  62.0   0.0  0.0   0.0  0.0  0.0   \n",
              "\n",
              "        hr  rbi   sb   cs   bb   so  ibb  hbp   sh   sf  gidp  \n",
              "id                                                             \n",
              "88641  1.0  2.0  1.0  1.0  4.0  4.0  0.0  0.0  3.0  0.0   0.0  \n",
              "88642  NaN  NaN  NaN  NaN  NaN  NaN  NaN  NaN  NaN  NaN   NaN  \n",
              "88643  0.0  0.0  0.0  0.0  0.0  1.0  0.0  0.0  0.0  0.0   0.0  \n",
              "88644  NaN  NaN  NaN  NaN  NaN  NaN  NaN  NaN  NaN  NaN   NaN  \n",
              "88645  0.0  0.0  0.0  0.0  0.0  0.0  0.0  0.0  0.0  0.0   0.0  "
            ]
          },
          "metadata": {
            "tags": []
          },
          "execution_count": 65
        }
      ]
    },
    {
      "cell_type": "markdown",
      "metadata": {
        "id": "Ts588FjZ3yiI"
      },
      "source": [
        "Missing values can be filled as desired, either with selected values, or by rule:"
      ]
    },
    {
      "cell_type": "markdown",
      "metadata": {
        "id": "jLygmcRR434L"
      },
      "source": [
        "*Since the index must be monotinically increaing or decreasing, we were unable to use id_range and columns in the same statement. This was later covered by using the column in a seperate statement run.*"
      ]
    },
    {
      "cell_type": "code",
      "metadata": {
        "id": "9Ba-YDi93yiI",
        "colab": {
          "base_uri": "https://localhost:8080/"
        },
        "outputId": "cd1bfcdf-b9c2-4e15-e871-f5a3f1c60fe2"
      },
      "source": [
        "baseball.reindex(id_range, method='ffill').head()"
      ],
      "execution_count": null,
      "outputs": [
        {
          "output_type": "execute_result",
          "data": {
            "text/plain": [
              "          player  year  stint team  lg   g  ab  r   h  X2b  X3b  hr  rbi   sb  \\\n",
              "id                                                                              \n",
              "88641  womacto01  2006      2  CHN  NL  19  50  6  14    1    0   1  2.0  1.0   \n",
              "88642  womacto01  2006      2  CHN  NL  19  50  6  14    1    0   1  2.0  1.0   \n",
              "88643  schilcu01  2006      1  BOS  AL  31   2  0   1    0    0   0  0.0  0.0   \n",
              "88644  schilcu01  2006      1  BOS  AL  31   2  0   1    0    0   0  0.0  0.0   \n",
              "88645  myersmi01  2006      1  NYA  AL  62   0  0   0    0    0   0  0.0  0.0   \n",
              "\n",
              "        cs  bb   so  ibb  hbp   sh   sf  gidp  \n",
              "id                                             \n",
              "88641  1.0   4  4.0  0.0  0.0  3.0  0.0   0.0  \n",
              "88642  1.0   4  4.0  0.0  0.0  3.0  0.0   0.0  \n",
              "88643  0.0   0  1.0  0.0  0.0  0.0  0.0   0.0  \n",
              "88644  0.0   0  1.0  0.0  0.0  0.0  0.0   0.0  \n",
              "88645  0.0   0  0.0  0.0  0.0  0.0  0.0   0.0  "
            ]
          },
          "metadata": {
            "tags": []
          },
          "execution_count": 74
        }
      ]
    },
    {
      "cell_type": "code",
      "metadata": {
        "colab": {
          "base_uri": "https://localhost:8080/"
        },
        "id": "gtkhvo-U591c",
        "outputId": "200ed475-112e-468c-d3fe-4d3d2fda8c22"
      },
      "source": [
        "baseball.reindex(columns=['player','year']).head()"
      ],
      "execution_count": null,
      "outputs": [
        {
          "output_type": "execute_result",
          "data": {
            "text/plain": [
              "          player  year\n",
              "id                    \n",
              "88641  womacto01  2006\n",
              "88643  schilcu01  2006\n",
              "88645  myersmi01  2006\n",
              "88649  helliri01  2006\n",
              "88650  johnsra05  2006"
            ]
          },
          "metadata": {
            "tags": []
          },
          "execution_count": 76
        }
      ]
    },
    {
      "cell_type": "code",
      "metadata": {
        "id": "dvGAnB5o3yiJ",
        "colab": {
          "base_uri": "https://localhost:8080/"
        },
        "outputId": "f9e2d353-ab57-4d5c-8159-e91e5ab4908d"
      },
      "source": [
        "baseball.reindex(id_range, fill_value='mr.nobody', columns=['player']).head()"
      ],
      "execution_count": null,
      "outputs": [
        {
          "output_type": "execute_result",
          "data": {
            "text/plain": [
              "          player\n",
              "id              \n",
              "88641  womacto01\n",
              "88642  mr.nobody\n",
              "88643  schilcu01\n",
              "88644  mr.nobody\n",
              "88645  myersmi01"
            ]
          },
          "metadata": {
            "tags": []
          },
          "execution_count": 125
        }
      ]
    },
    {
      "cell_type": "markdown",
      "metadata": {
        "id": "Fxx6NHsv3yiJ"
      },
      "source": [
        "Keep in mind that `reindex` does not work if we pass a non-unique index series."
      ]
    },
    {
      "cell_type": "markdown",
      "metadata": {
        "id": "ngYT0lgb3yiJ"
      },
      "source": [
        "We can remove rows or columns via the `drop` method:"
      ]
    },
    {
      "cell_type": "code",
      "metadata": {
        "id": "02frGSDq3yiJ",
        "colab": {
          "base_uri": "https://localhost:8080/"
        },
        "outputId": "62510e99-e4cc-4554-f861-9243e21f82b3"
      },
      "source": [
        "baseball.shape"
      ],
      "execution_count": null,
      "outputs": [
        {
          "output_type": "execute_result",
          "data": {
            "text/plain": [
              "(100, 22)"
            ]
          },
          "metadata": {
            "tags": []
          },
          "execution_count": 77
        }
      ]
    },
    {
      "cell_type": "code",
      "metadata": {
        "id": "UjnGTyJR3yiJ",
        "colab": {
          "base_uri": "https://localhost:8080/"
        },
        "outputId": "540e8081-9c12-4548-84c0-ec90e28d2403"
      },
      "source": [
        "baseball.drop([89525, 89526])"
      ],
      "execution_count": null,
      "outputs": [
        {
          "output_type": "execute_result",
          "data": {
            "text/plain": [
              "          player  year  stint team  lg    g   ab   r    h  X2b  X3b  hr   rbi  \\\n",
              "id                                                                              \n",
              "88641  womacto01  2006      2  CHN  NL   19   50   6   14    1    0   1   2.0   \n",
              "88643  schilcu01  2006      1  BOS  AL   31    2   0    1    0    0   0   0.0   \n",
              "88645  myersmi01  2006      1  NYA  AL   62    0   0    0    0    0   0   0.0   \n",
              "88649  helliri01  2006      1  MIL  NL   20    3   0    0    0    0   0   0.0   \n",
              "88650  johnsra05  2006      1  NYA  AL   33    6   0    1    0    0   0   0.0   \n",
              "...          ...   ...    ...  ...  ..  ...  ...  ..  ...  ...  ...  ..   ...   \n",
              "89521  bondsba01  2007      1  SFN  NL  126  340  75   94   14    0  28  66.0   \n",
              "89523  biggicr01  2007      1  HOU  NL  141  517  68  130   31    3  10  50.0   \n",
              "89530  ausmubr01  2007      1  HOU  NL  117  349  38   82   16    3   3  25.0   \n",
              "89533   aloumo01  2007      1  NYN  NL   87  328  51  112   19    1  13  49.0   \n",
              "89534  alomasa02  2007      1  NYN  NL    8   22   1    3    1    0   0   0.0   \n",
              "\n",
              "        sb   cs   bb     so   ibb  hbp   sh   sf  gidp  \n",
              "id                                                      \n",
              "88641  1.0  1.0    4    4.0   0.0  0.0  3.0  0.0   0.0  \n",
              "88643  0.0  0.0    0    1.0   0.0  0.0  0.0  0.0   0.0  \n",
              "88645  0.0  0.0    0    0.0   0.0  0.0  0.0  0.0   0.0  \n",
              "88649  0.0  0.0    0    2.0   0.0  0.0  0.0  0.0   0.0  \n",
              "88650  0.0  0.0    0    4.0   0.0  0.0  0.0  0.0   0.0  \n",
              "...    ...  ...  ...    ...   ...  ...  ...  ...   ...  \n",
              "89521  5.0  0.0  132   54.0  43.0  3.0  0.0  2.0  13.0  \n",
              "89523  4.0  3.0   23  112.0   0.0  3.0  7.0  5.0   5.0  \n",
              "89530  6.0  1.0   37   74.0   3.0  6.0  4.0  1.0  11.0  \n",
              "89533  3.0  0.0   27   30.0   5.0  2.0  0.0  3.0  13.0  \n",
              "89534  0.0  0.0    0    3.0   0.0  0.0  0.0  0.0   0.0  \n",
              "\n",
              "[98 rows x 22 columns]"
            ]
          },
          "metadata": {
            "tags": []
          },
          "execution_count": 78
        }
      ]
    },
    {
      "cell_type": "code",
      "metadata": {
        "id": "M0zj5WQg3yiJ",
        "colab": {
          "base_uri": "https://localhost:8080/"
        },
        "outputId": "8e5fdcf9-ec99-4387-9810-b40ea89cc643"
      },
      "source": [
        "baseball.drop(['ibb','hbp'], axis=1)"
      ],
      "execution_count": null,
      "outputs": [
        {
          "output_type": "execute_result",
          "data": {
            "text/plain": [
              "          player  year  stint team  lg    g   ab   r    h  X2b  X3b  hr   rbi  \\\n",
              "id                                                                              \n",
              "88641  womacto01  2006      2  CHN  NL   19   50   6   14    1    0   1   2.0   \n",
              "88643  schilcu01  2006      1  BOS  AL   31    2   0    1    0    0   0   0.0   \n",
              "88645  myersmi01  2006      1  NYA  AL   62    0   0    0    0    0   0   0.0   \n",
              "88649  helliri01  2006      1  MIL  NL   20    3   0    0    0    0   0   0.0   \n",
              "88650  johnsra05  2006      1  NYA  AL   33    6   0    1    0    0   0   0.0   \n",
              "...          ...   ...    ...  ...  ..  ...  ...  ..  ...  ...  ...  ..   ...   \n",
              "89525  benitar01  2007      2  FLO  NL   34    0   0    0    0    0   0   0.0   \n",
              "89526  benitar01  2007      1  SFN  NL   19    0   0    0    0    0   0   0.0   \n",
              "89530  ausmubr01  2007      1  HOU  NL  117  349  38   82   16    3   3  25.0   \n",
              "89533   aloumo01  2007      1  NYN  NL   87  328  51  112   19    1  13  49.0   \n",
              "89534  alomasa02  2007      1  NYN  NL    8   22   1    3    1    0   0   0.0   \n",
              "\n",
              "        sb   cs  bb    so   sh   sf  gidp  \n",
              "id                                         \n",
              "88641  1.0  1.0   4   4.0  3.0  0.0   0.0  \n",
              "88643  0.0  0.0   0   1.0  0.0  0.0   0.0  \n",
              "88645  0.0  0.0   0   0.0  0.0  0.0   0.0  \n",
              "88649  0.0  0.0   0   2.0  0.0  0.0   0.0  \n",
              "88650  0.0  0.0   0   4.0  0.0  0.0   0.0  \n",
              "...    ...  ...  ..   ...  ...  ...   ...  \n",
              "89525  0.0  0.0   0   0.0  0.0  0.0   0.0  \n",
              "89526  0.0  0.0   0   0.0  0.0  0.0   0.0  \n",
              "89530  6.0  1.0  37  74.0  4.0  1.0  11.0  \n",
              "89533  3.0  0.0  27  30.0  0.0  3.0  13.0  \n",
              "89534  0.0  0.0   0   3.0  0.0  0.0   0.0  \n",
              "\n",
              "[100 rows x 20 columns]"
            ]
          },
          "metadata": {
            "tags": []
          },
          "execution_count": 79
        }
      ]
    },
    {
      "cell_type": "markdown",
      "metadata": {
        "id": "pZ5u4n1g3yiJ"
      },
      "source": [
        "## Indexing and Selection\n",
        "\n",
        "Indexing works analogously to indexing in NumPy arrays, except we can use the labels in the `Index` object to extract values in addition to arrays of integers."
      ]
    },
    {
      "cell_type": "code",
      "metadata": {
        "id": "gDzutTch3yiK",
        "colab": {
          "base_uri": "https://localhost:8080/"
        },
        "outputId": "af96372e-190d-4b7d-9924-3e06db3b2e83"
      },
      "source": [
        "# Sample Series object\n",
        "hits = baseball_newind.h\n",
        "hits"
      ],
      "execution_count": null,
      "outputs": [
        {
          "output_type": "execute_result",
          "data": {
            "text/plain": [
              "womacto01CHN2006     14\n",
              "schilcu01BOS2006      1\n",
              "myersmi01NYA2006      0\n",
              "helliri01MIL2006      0\n",
              "johnsra05NYA2006      1\n",
              "                   ... \n",
              "benitar01FLO2007      0\n",
              "benitar01SFN2007      0\n",
              "ausmubr01HOU2007     82\n",
              "aloumo01NYN2007     112\n",
              "alomasa02NYN2007      3\n",
              "Name: h, Length: 100, dtype: int64"
            ]
          },
          "metadata": {
            "tags": []
          },
          "execution_count": 80
        }
      ]
    },
    {
      "cell_type": "code",
      "metadata": {
        "id": "7EDDBGnm3yiK",
        "colab": {
          "base_uri": "https://localhost:8080/"
        },
        "outputId": "70e75ee4-697a-49cb-be35-d73830ac697a"
      },
      "source": [
        "# Numpy-style indexing\n",
        "hits[:3]"
      ],
      "execution_count": null,
      "outputs": [
        {
          "output_type": "execute_result",
          "data": {
            "text/plain": [
              "womacto01CHN2006    14\n",
              "schilcu01BOS2006     1\n",
              "myersmi01NYA2006     0\n",
              "Name: h, dtype: int64"
            ]
          },
          "metadata": {
            "tags": []
          },
          "execution_count": 81
        }
      ]
    },
    {
      "cell_type": "code",
      "metadata": {
        "id": "qu0efA743yiK",
        "colab": {
          "base_uri": "https://localhost:8080/"
        },
        "outputId": "8f1c4620-1590-418d-e971-4c10602121be"
      },
      "source": [
        "# Indexing by label\n",
        "hits[['womacto01CHN2006','schilcu01BOS2006']]"
      ],
      "execution_count": null,
      "outputs": [
        {
          "output_type": "execute_result",
          "data": {
            "text/plain": [
              "womacto01CHN2006    14\n",
              "schilcu01BOS2006     1\n",
              "Name: h, dtype: int64"
            ]
          },
          "metadata": {
            "tags": []
          },
          "execution_count": 82
        }
      ]
    },
    {
      "cell_type": "markdown",
      "metadata": {
        "id": "zb-qbOJc3yiL"
      },
      "source": [
        "We can also slice with data labels, since they have an intrinsic order within the Index:"
      ]
    },
    {
      "cell_type": "code",
      "metadata": {
        "id": "2Vaod8M03yiL",
        "colab": {
          "base_uri": "https://localhost:8080/"
        },
        "outputId": "75e060ff-dc41-4012-c05f-3834038d27f2"
      },
      "source": [
        "hits['womacto01CHN2006':'gonzalu01ARI2006']"
      ],
      "execution_count": null,
      "outputs": [
        {
          "output_type": "execute_result",
          "data": {
            "text/plain": [
              "womacto01CHN2006     14\n",
              "schilcu01BOS2006      1\n",
              "myersmi01NYA2006      0\n",
              "helliri01MIL2006      0\n",
              "johnsra05NYA2006      1\n",
              "finlest01SFN2006    105\n",
              "gonzalu01ARI2006    159\n",
              "Name: h, dtype: int64"
            ]
          },
          "metadata": {
            "tags": []
          },
          "execution_count": 83
        }
      ]
    },
    {
      "cell_type": "code",
      "metadata": {
        "id": "dmXkOL3K3yiL",
        "colab": {
          "base_uri": "https://localhost:8080/"
        },
        "outputId": "e6c6c595-1b00-4729-97c4-e43cac696ce2"
      },
      "source": [
        "hits['womacto01CHN2006':'gonzalu01ARI2006'] = 5\n",
        "hits"
      ],
      "execution_count": null,
      "outputs": [
        {
          "output_type": "stream",
          "text": [
            "/usr/local/lib/python3.6/dist-packages/ipykernel_launcher.py:1: SettingWithCopyWarning: \n",
            "A value is trying to be set on a copy of a slice from a DataFrame\n",
            "\n",
            "See the caveats in the documentation: https://pandas.pydata.org/pandas-docs/stable/user_guide/indexing.html#returning-a-view-versus-a-copy\n",
            "  \"\"\"Entry point for launching an IPython kernel.\n"
          ],
          "name": "stderr"
        },
        {
          "output_type": "execute_result",
          "data": {
            "text/plain": [
              "womacto01CHN2006      5\n",
              "schilcu01BOS2006      5\n",
              "myersmi01NYA2006      5\n",
              "helliri01MIL2006      5\n",
              "johnsra05NYA2006      5\n",
              "                   ... \n",
              "benitar01FLO2007      0\n",
              "benitar01SFN2007      0\n",
              "ausmubr01HOU2007     82\n",
              "aloumo01NYN2007     112\n",
              "alomasa02NYN2007      3\n",
              "Name: h, Length: 100, dtype: int64"
            ]
          },
          "metadata": {
            "tags": []
          },
          "execution_count": 84
        }
      ]
    },
    {
      "cell_type": "markdown",
      "metadata": {
        "id": "69pWhdNb3yiL"
      },
      "source": [
        "In a `DataFrame` we can slice along either or both axes:"
      ]
    },
    {
      "cell_type": "code",
      "metadata": {
        "id": "PH_bMpFD3yiM",
        "colab": {
          "base_uri": "https://localhost:8080/"
        },
        "outputId": "759a9a4c-7b7e-4ae8-dbe6-643a8fb7db4a"
      },
      "source": [
        "baseball_newind[['h','ab']]"
      ],
      "execution_count": null,
      "outputs": [
        {
          "output_type": "execute_result",
          "data": {
            "text/plain": [
              "                    h   ab\n",
              "womacto01CHN2006    5   50\n",
              "schilcu01BOS2006    5    2\n",
              "myersmi01NYA2006    5    0\n",
              "helliri01MIL2006    5    3\n",
              "johnsra05NYA2006    5    6\n",
              "...               ...  ...\n",
              "benitar01FLO2007    0    0\n",
              "benitar01SFN2007    0    0\n",
              "ausmubr01HOU2007   82  349\n",
              "aloumo01NYN2007   112  328\n",
              "alomasa02NYN2007    3   22\n",
              "\n",
              "[100 rows x 2 columns]"
            ]
          },
          "metadata": {
            "tags": []
          },
          "execution_count": 85
        }
      ]
    },
    {
      "cell_type": "code",
      "metadata": {
        "id": "jIADMGkw3yiM",
        "colab": {
          "base_uri": "https://localhost:8080/"
        },
        "outputId": "941be824-5720-4476-e0e3-8fa3166e9f06"
      },
      "source": [
        "baseball_newind[baseball_newind.ab>500]"
      ],
      "execution_count": null,
      "outputs": [
        {
          "output_type": "execute_result",
          "data": {
            "text/plain": [
              "                     player  year  stint team  lg    g   ab   r    h  X2b  \\\n",
              "gonzalu01ARI2006  gonzalu01  2006      1  ARI  NL  153  586  93    5   52   \n",
              "vizquom01SFN2007  vizquom01  2007      1  SFN  NL  145  513  54  126   18   \n",
              "thomafr04TOR2007  thomafr04  2007      1  TOR  AL  155  531  63  147   30   \n",
              "rodriiv01DET2007  rodriiv01  2007      1  DET  AL  129  502  50  141   31   \n",
              "griffke02CIN2007  griffke02  2007      1  CIN  NL  144  528  78  146   24   \n",
              "delgaca01NYN2007  delgaca01  2007      1  NYN  NL  139  538  71  139   30   \n",
              "biggicr01HOU2007  biggicr01  2007      1  HOU  NL  141  517  68  130   31   \n",
              "\n",
              "                  X3b  hr   rbi    sb   cs  bb     so   ibb   hbp    sh   sf  \\\n",
              "gonzalu01ARI2006    2  15  73.0   0.0  1.0  69   58.0  10.0   7.0   0.0  6.0   \n",
              "vizquom01SFN2007    3   4  51.0  14.0  6.0  44   48.0   6.0   1.0  14.0  3.0   \n",
              "thomafr04TOR2007    0  26  95.0   0.0  0.0  81   94.0   3.0   7.0   0.0  5.0   \n",
              "rodriiv01DET2007    3  11  63.0   2.0  2.0   9   96.0   1.0   1.0   1.0  2.0   \n",
              "griffke02CIN2007    1  30  93.0   6.0  1.0  85   99.0  14.0   1.0   0.0  9.0   \n",
              "delgaca01NYN2007    0  24  87.0   4.0  0.0  52  118.0   8.0  11.0   0.0  6.0   \n",
              "biggicr01HOU2007    3  10  50.0   4.0  3.0  23  112.0   0.0   3.0   7.0  5.0   \n",
              "\n",
              "                  gidp  \n",
              "gonzalu01ARI2006  14.0  \n",
              "vizquom01SFN2007  14.0  \n",
              "thomafr04TOR2007  14.0  \n",
              "rodriiv01DET2007  16.0  \n",
              "griffke02CIN2007  14.0  \n",
              "delgaca01NYN2007  12.0  \n",
              "biggicr01HOU2007   5.0  "
            ]
          },
          "metadata": {
            "tags": []
          },
          "execution_count": 86
        }
      ]
    },
    {
      "cell_type": "markdown",
      "metadata": {
        "id": "zb-nzgYc3yiM"
      },
      "source": [
        "The indexing field `ix` allows us to select subsets of rows and columns in an intuitive way:\n",
        "\n",
        "*We now use .loc function instead to get the same result.*"
      ]
    },
    {
      "cell_type": "code",
      "metadata": {
        "id": "MqYorwaU3yiM",
        "colab": {
          "base_uri": "https://localhost:8080/"
        },
        "outputId": "7712a337-44b5-4a1e-d483-c9efb71f9887"
      },
      "source": [
        "baseball_newind.loc[['gonzalu01ARI2006','finlest01SFN2006'],:]"
      ],
      "execution_count": null,
      "outputs": [
        {
          "output_type": "execute_result",
          "data": {
            "text/plain": [
              "                     player  year  stint team  lg    g   ab   r  h  X2b  X3b  \\\n",
              "gonzalu01ARI2006  gonzalu01  2006      1  ARI  NL  153  586  93  5   52    2   \n",
              "finlest01SFN2006  finlest01  2006      1  SFN  NL  139  426  66  5   21   12   \n",
              "\n",
              "                  hr   rbi   sb   cs  bb    so   ibb  hbp   sh   sf  gidp  \n",
              "gonzalu01ARI2006  15  73.0  0.0  1.0  69  58.0  10.0  7.0  0.0  6.0  14.0  \n",
              "finlest01SFN2006   6  40.0  7.0  0.0  46  55.0   2.0  2.0  3.0  4.0   6.0  "
            ]
          },
          "metadata": {
            "tags": []
          },
          "execution_count": 171
        }
      ]
    },
    {
      "cell_type": "code",
      "metadata": {
        "id": "vYgMh58o3yiN",
        "colab": {
          "base_uri": "https://localhost:8080/"
        },
        "outputId": "01619ebb-aa0e-4d7f-e405-0b43312e2b57"
      },
      "source": [
        "baseball_newind.loc[['gonzalu01ARI2006','finlest01SFN2006'],]"
      ],
      "execution_count": null,
      "outputs": [
        {
          "output_type": "execute_result",
          "data": {
            "text/plain": [
              "                     player  year  stint team  lg    g   ab   r  h  X2b  X3b  \\\n",
              "gonzalu01ARI2006  gonzalu01  2006      1  ARI  NL  153  586  93  5   52    2   \n",
              "finlest01SFN2006  finlest01  2006      1  SFN  NL  139  426  66  5   21   12   \n",
              "\n",
              "                  hr   rbi   sb   cs  bb    so   ibb  hbp   sh   sf  gidp  \n",
              "gonzalu01ARI2006  15  73.0  0.0  1.0  69  58.0  10.0  7.0  0.0  6.0  14.0  \n",
              "finlest01SFN2006   6  40.0  7.0  0.0  46  55.0   2.0  2.0  3.0  4.0   6.0  "
            ]
          },
          "metadata": {
            "tags": []
          },
          "execution_count": 173
        }
      ]
    },
    {
      "cell_type": "code",
      "metadata": {
        "id": "spJ_i-Bb3yiN",
        "colab": {
          "base_uri": "https://localhost:8080/"
        },
        "outputId": "c498a567-1cf8-46c5-92fb-12740b00c153"
      },
      "source": [
        "baseball_newind.loc[:'myersmi01NYA2006', 'hr']"
      ],
      "execution_count": null,
      "outputs": [
        {
          "output_type": "execute_result",
          "data": {
            "text/plain": [
              "womacto01CHN2006    1\n",
              "schilcu01BOS2006    0\n",
              "myersmi01NYA2006    0\n",
              "Name: hr, dtype: int64"
            ]
          },
          "metadata": {
            "tags": []
          },
          "execution_count": 97
        }
      ]
    },
    {
      "cell_type": "markdown",
      "metadata": {
        "id": "zbNoylju3yiN"
      },
      "source": [
        "Similarly, the cross-section method `xs` (not a field) extracts a single column or row *by label* and returns it as a `Series`:"
      ]
    },
    {
      "cell_type": "code",
      "metadata": {
        "id": "wuQ1Mz6m3yiN",
        "colab": {
          "base_uri": "https://localhost:8080/"
        },
        "outputId": "3858024a-f4aa-43cd-d5c1-0a37546ab343"
      },
      "source": [
        "baseball_newind.xs('myersmi01NYA2006')"
      ],
      "execution_count": null,
      "outputs": [
        {
          "output_type": "execute_result",
          "data": {
            "text/plain": [
              "player    myersmi01\n",
              "year           2006\n",
              "stint             1\n",
              "team            NYA\n",
              "lg               AL\n",
              "            ...    \n",
              "ibb               0\n",
              "hbp               0\n",
              "sh                0\n",
              "sf                0\n",
              "gidp              0\n",
              "Name: myersmi01NYA2006, Length: 22, dtype: object"
            ]
          },
          "metadata": {
            "tags": []
          },
          "execution_count": 98
        }
      ]
    },
    {
      "cell_type": "markdown",
      "metadata": {
        "id": "em4aF1jW3yiN"
      },
      "source": [
        "## Operations\n",
        "\n",
        "`DataFrame` and `Series` objects allow for several operations to take place either on a single object, or between two or more objects.\n",
        "\n",
        "For example, we can perform arithmetic on the elements of two objects, such as combining baseball statistics across years:"
      ]
    },
    {
      "cell_type": "code",
      "metadata": {
        "id": "WJfB90Yc3yiO"
      },
      "source": [
        "hr2006 = baseball[baseball.year==2006].xs('hr', axis=1)\n",
        "hr2006.index = baseball.player[baseball.year==2006]\n",
        "\n",
        "hr2007 = baseball[baseball.year==2007].xs('hr', axis=1)\n",
        "hr2007.index = baseball.player[baseball.year==2007]"
      ],
      "execution_count": null,
      "outputs": []
    },
    {
      "cell_type": "code",
      "metadata": {
        "id": "vxzcGtka3yiO"
      },
      "source": [
        "hr2006 = pd.Series(baseball.hr[baseball.year==2006].values, index=baseball.player[baseball.year==2006])\n",
        "hr2007 = pd.Series(baseball.hr[baseball.year==2007].values, index=baseball.player[baseball.year==2007])"
      ],
      "execution_count": null,
      "outputs": []
    },
    {
      "cell_type": "code",
      "metadata": {
        "id": "QGigC12R3yiO",
        "colab": {
          "base_uri": "https://localhost:8080/"
        },
        "outputId": "af69cdc4-f551-453a-b143-8d96acd30c93"
      },
      "source": [
        "hr_total = hr2006 + hr2007\n",
        "hr_total"
      ],
      "execution_count": null,
      "outputs": [
        {
          "output_type": "execute_result",
          "data": {
            "text/plain": [
              "player\n",
              "alomasa02   NaN\n",
              "aloumo01    NaN\n",
              "ausmubr01   NaN\n",
              "benitar01   NaN\n",
              "benitar01   NaN\n",
              "             ..\n",
              "wickmbo01   NaN\n",
              "williwo02   NaN\n",
              "witasja01   NaN\n",
              "womacto01   NaN\n",
              "zaungr01    NaN\n",
              "Length: 94, dtype: float64"
            ]
          },
          "metadata": {
            "tags": []
          },
          "execution_count": 101
        }
      ]
    },
    {
      "cell_type": "markdown",
      "metadata": {
        "id": "KJaU_dN03yiO"
      },
      "source": [
        "Pandas' data alignment places `NaN` values for labels that do not overlap in the two Series. In fact, there are only 6 players that occur in both years."
      ]
    },
    {
      "cell_type": "code",
      "metadata": {
        "id": "ocqBp09m3yiO",
        "colab": {
          "base_uri": "https://localhost:8080/"
        },
        "outputId": "92c61a47-7b99-4cd6-896e-bee647382a24"
      },
      "source": [
        "hr_total[hr_total.notnull()]"
      ],
      "execution_count": null,
      "outputs": [
        {
          "output_type": "execute_result",
          "data": {
            "text/plain": [
              "player\n",
              "finlest01     7.0\n",
              "gonzalu01    30.0\n",
              "johnsra05     0.0\n",
              "myersmi01     0.0\n",
              "schilcu01     0.0\n",
              "seleaa01      0.0\n",
              "dtype: float64"
            ]
          },
          "metadata": {
            "tags": []
          },
          "execution_count": 102
        }
      ]
    },
    {
      "cell_type": "markdown",
      "metadata": {
        "id": "SLvGg8xe3yiO"
      },
      "source": [
        "While we do want the operation to honor the data labels in this way, we probably do not want the missing values to be filled with `NaN`. We can use the `add` method to calculate player home run totals by using the `fill_value` argument to insert a zero for home runs where labels do not overlap:"
      ]
    },
    {
      "cell_type": "code",
      "metadata": {
        "id": "g5c78EBo3yiO",
        "colab": {
          "base_uri": "https://localhost:8080/"
        },
        "outputId": "2964336c-d6b8-4f9d-f02c-04b84692fa3d"
      },
      "source": [
        "hr2007.add(hr2006, fill_value=0)"
      ],
      "execution_count": null,
      "outputs": [
        {
          "output_type": "execute_result",
          "data": {
            "text/plain": [
              "player\n",
              "alomasa02     0.0\n",
              "aloumo01     13.0\n",
              "ausmubr01     3.0\n",
              "benitar01     0.0\n",
              "benitar01     0.0\n",
              "             ... \n",
              "wickmbo01     0.0\n",
              "williwo02     1.0\n",
              "witasja01     0.0\n",
              "womacto01     1.0\n",
              "zaungr01     10.0\n",
              "Length: 94, dtype: float64"
            ]
          },
          "metadata": {
            "tags": []
          },
          "execution_count": 103
        }
      ]
    },
    {
      "cell_type": "markdown",
      "metadata": {
        "id": "6uj-2kSK3yiO"
      },
      "source": [
        "Operations can also be **broadcast** between rows or columns.\n",
        "\n",
        "For example, if we subtract the maximum number of home runs hit from the `hr` column, we get how many fewer than the maximum were hit by each player:"
      ]
    },
    {
      "cell_type": "code",
      "metadata": {
        "id": "mK_SJU_33yiO",
        "colab": {
          "base_uri": "https://localhost:8080/"
        },
        "outputId": "83cd5389-6e28-46d2-f005-3a8fbebf2f18"
      },
      "source": [
        "baseball.hr - baseball.hr.max()"
      ],
      "execution_count": null,
      "outputs": [
        {
          "output_type": "execute_result",
          "data": {
            "text/plain": [
              "id\n",
              "88641   -34\n",
              "88643   -35\n",
              "88645   -35\n",
              "88649   -35\n",
              "88650   -35\n",
              "         ..\n",
              "89525   -35\n",
              "89526   -35\n",
              "89530   -32\n",
              "89533   -22\n",
              "89534   -35\n",
              "Name: hr, Length: 100, dtype: int64"
            ]
          },
          "metadata": {
            "tags": []
          },
          "execution_count": 104
        }
      ]
    },
    {
      "cell_type": "markdown",
      "metadata": {
        "id": "zcZ0aB5X3yiP"
      },
      "source": [
        "Or, looking at things row-wise, we can see how a particular player compares with the rest of the group with respect to important statistics"
      ]
    },
    {
      "cell_type": "code",
      "metadata": {
        "id": "FMv2NsoA3yiP",
        "colab": {
          "base_uri": "https://localhost:8080/",
          "height": 36
        },
        "outputId": "a067161b-ac59-4a75-a566-e9f5b9e0bc75"
      },
      "source": [
        "baseball.loc[89521][\"player\"]"
      ],
      "execution_count": null,
      "outputs": [
        {
          "output_type": "execute_result",
          "data": {
            "application/vnd.google.colaboratory.intrinsic+json": {
              "type": "string"
            },
            "text/plain": [
              "'bondsba01'"
            ]
          },
          "metadata": {
            "tags": []
          },
          "execution_count": 105
        }
      ]
    },
    {
      "cell_type": "code",
      "metadata": {
        "id": "BIn3dQ2S3yiP",
        "colab": {
          "base_uri": "https://localhost:8080/"
        },
        "outputId": "d6594fd0-6fb0-49db-aba0-b85e0a8dcfd4"
      },
      "source": [
        "stats = baseball[['h','X2b', 'X3b', 'hr']]\n",
        "diff = stats - stats.xs(89521)\n",
        "diff[:10]"
      ],
      "execution_count": null,
      "outputs": [
        {
          "output_type": "execute_result",
          "data": {
            "text/plain": [
              "        h  X2b  X3b  hr\n",
              "id                     \n",
              "88641 -80  -13    0 -27\n",
              "88643 -93  -14    0 -28\n",
              "88645 -94  -14    0 -28\n",
              "88649 -94  -14    0 -28\n",
              "88650 -93  -14    0 -28\n",
              "88652  11    7   12 -22\n",
              "88653  65   38    2 -13\n",
              "88662 -89  -13    0 -28\n",
              "89177 -84  -11    0 -28\n",
              "89178 -84  -14    0 -27"
            ]
          },
          "metadata": {
            "tags": []
          },
          "execution_count": 106
        }
      ]
    },
    {
      "cell_type": "markdown",
      "metadata": {
        "id": "praY1crJ3yiP"
      },
      "source": [
        "We can also apply functions to each column or row of a `DataFrame`"
      ]
    },
    {
      "cell_type": "code",
      "metadata": {
        "id": "kroqbrql3yiP",
        "colab": {
          "base_uri": "https://localhost:8080/"
        },
        "outputId": "b948dfc1-c4c9-47e8-8c9d-0cd170dd2bdf"
      },
      "source": [
        "stats.apply(np.median)"
      ],
      "execution_count": null,
      "outputs": [
        {
          "output_type": "execute_result",
          "data": {
            "text/plain": [
              "h      8.0\n",
              "X2b    1.0\n",
              "X3b    0.0\n",
              "hr     0.0\n",
              "dtype: float64"
            ]
          },
          "metadata": {
            "tags": []
          },
          "execution_count": 107
        }
      ]
    },
    {
      "cell_type": "code",
      "metadata": {
        "id": "EzG9g4eX3yiP",
        "colab": {
          "base_uri": "https://localhost:8080/"
        },
        "outputId": "7c7389a2-ed60-4d11-b148-e49a8efcc655"
      },
      "source": [
        "stat_range = lambda x: x.max() - x.min()\n",
        "stats.apply(stat_range)"
      ],
      "execution_count": null,
      "outputs": [
        {
          "output_type": "execute_result",
          "data": {
            "text/plain": [
              "h      159\n",
              "X2b     52\n",
              "X3b     12\n",
              "hr      35\n",
              "dtype: int64"
            ]
          },
          "metadata": {
            "tags": []
          },
          "execution_count": 108
        }
      ]
    },
    {
      "cell_type": "markdown",
      "metadata": {
        "id": "lilGrpGL3yiP"
      },
      "source": [
        "Lets use apply to calculate a meaningful baseball statistics, slugging percentage:\n",
        "\n",
        "$$SLG = \\frac{1B + (2 \\times 2B) + (3 \\times 3B) + (4 \\times HR)}{AB}$$\n",
        "\n",
        "And just for fun, we will format the resulting estimate."
      ]
    },
    {
      "cell_type": "code",
      "metadata": {
        "id": "Q8r2qnWW3yiP",
        "colab": {
          "base_uri": "https://localhost:8080/"
        },
        "outputId": "ec6b4987-f52e-46d6-a465-c8e28385efc2"
      },
      "source": [
        "slg = lambda x: (x['h']-x['X2b']-x['X3b']-x['hr'] + 2*x['X2b'] + 3*x['X3b'] + 4*x['hr'])/(x['ab']+1e-6)\n",
        "baseball.apply(slg, axis=1).apply(lambda x: '%.3f' % x)"
      ],
      "execution_count": null,
      "outputs": [
        {
          "output_type": "execute_result",
          "data": {
            "text/plain": [
              "id\n",
              "88641    0.360\n",
              "88643    0.500\n",
              "88645    0.000\n",
              "88649    0.000\n",
              "88650    0.167\n",
              "         ...  \n",
              "89525    0.000\n",
              "89526    0.000\n",
              "89530    0.324\n",
              "89533    0.524\n",
              "89534    0.182\n",
              "Length: 100, dtype: object"
            ]
          },
          "metadata": {
            "tags": []
          },
          "execution_count": 109
        }
      ]
    },
    {
      "cell_type": "markdown",
      "metadata": {
        "id": "maqiKHYq3yiQ"
      },
      "source": [
        "## Sorting and Ranking\n",
        "\n",
        "Pandas objects include methods for re-ordering data."
      ]
    },
    {
      "cell_type": "code",
      "metadata": {
        "id": "TVmIlS1L3yiQ",
        "colab": {
          "base_uri": "https://localhost:8080/"
        },
        "outputId": "5fc709df-59bf-47df-e13d-b5ca4415d9a3"
      },
      "source": [
        "baseball_newind.sort_index().head()"
      ],
      "execution_count": null,
      "outputs": [
        {
          "output_type": "execute_result",
          "data": {
            "text/plain": [
              "                     player  year  stint team  lg    g   ab   r    h  X2b  \\\n",
              "alomasa02NYN2007  alomasa02  2007      1  NYN  NL    8   22   1    3    1   \n",
              "aloumo01NYN2007    aloumo01  2007      1  NYN  NL   87  328  51  112   19   \n",
              "ausmubr01HOU2007  ausmubr01  2007      1  HOU  NL  117  349  38   82   16   \n",
              "benitar01FLO2007  benitar01  2007      2  FLO  NL   34    0   0    0    0   \n",
              "benitar01SFN2007  benitar01  2007      1  SFN  NL   19    0   0    0    0   \n",
              "\n",
              "                  X3b  hr   rbi   sb   cs  bb    so  ibb  hbp   sh   sf  gidp  \n",
              "alomasa02NYN2007    0   0   0.0  0.0  0.0   0   3.0  0.0  0.0  0.0  0.0   0.0  \n",
              "aloumo01NYN2007     1  13  49.0  3.0  0.0  27  30.0  5.0  2.0  0.0  3.0  13.0  \n",
              "ausmubr01HOU2007    3   3  25.0  6.0  1.0  37  74.0  3.0  6.0  4.0  1.0  11.0  \n",
              "benitar01FLO2007    0   0   0.0  0.0  0.0   0   0.0  0.0  0.0  0.0  0.0   0.0  \n",
              "benitar01SFN2007    0   0   0.0  0.0  0.0   0   0.0  0.0  0.0  0.0  0.0   0.0  "
            ]
          },
          "metadata": {
            "tags": []
          },
          "execution_count": 110
        }
      ]
    },
    {
      "cell_type": "code",
      "metadata": {
        "id": "UPtllB2q3yiQ",
        "colab": {
          "base_uri": "https://localhost:8080/"
        },
        "outputId": "7d501321-c430-4e91-b5bd-83dea98b905d"
      },
      "source": [
        "baseball_newind.sort_index(ascending=False).head()"
      ],
      "execution_count": null,
      "outputs": [
        {
          "output_type": "execute_result",
          "data": {
            "text/plain": [
              "                     player  year  stint team  lg    g   ab   r   h  X2b  X3b  \\\n",
              "zaungr01TOR2007    zaungr01  2007      1  TOR  AL  110  331  43  80   24    1   \n",
              "womacto01CHN2006  womacto01  2006      2  CHN  NL   19   50   6   5    1    0   \n",
              "witasja01TBA2007  witasja01  2007      1  TBA  AL    3    0   0   0    0    0   \n",
              "williwo02HOU2007  williwo02  2007      1  HOU  NL   33   59   3   6    0    0   \n",
              "wickmbo01ATL2007  wickmbo01  2007      1  ATL  NL   47    0   0   0    0    0   \n",
              "\n",
              "                  hr   rbi   sb   cs  bb    so  ibb  hbp   sh   sf  gidp  \n",
              "zaungr01TOR2007   10  52.0  0.0  0.0  51  55.0  8.0  2.0  1.0  6.0   9.0  \n",
              "womacto01CHN2006   1   2.0  1.0  1.0   4   4.0  0.0  0.0  3.0  0.0   0.0  \n",
              "witasja01TBA2007   0   0.0  0.0  0.0   0   0.0  0.0  0.0  0.0  0.0   0.0  \n",
              "williwo02HOU2007   1   2.0  0.0  0.0   0  25.0  0.0  0.0  5.0  0.0   1.0  \n",
              "wickmbo01ATL2007   0   0.0  0.0  0.0   0   0.0  0.0  0.0  0.0  0.0   0.0  "
            ]
          },
          "metadata": {
            "tags": []
          },
          "execution_count": 111
        }
      ]
    },
    {
      "cell_type": "code",
      "metadata": {
        "id": "_58t9Y3a3yiQ",
        "colab": {
          "base_uri": "https://localhost:8080/"
        },
        "outputId": "4dc9dcd5-9688-4e9a-c9e6-2c62d6ca5a14"
      },
      "source": [
        "baseball_newind.sort_index(axis=1).head()"
      ],
      "execution_count": null,
      "outputs": [
        {
          "output_type": "execute_result",
          "data": {
            "text/plain": [
              "                  X2b  X3b  ab  bb   cs   g  gidp  h  hbp  hr  ibb  lg  \\\n",
              "womacto01CHN2006    1    0  50   4  1.0  19   0.0  5  0.0   1  0.0  NL   \n",
              "schilcu01BOS2006    0    0   2   0  0.0  31   0.0  5  0.0   0  0.0  AL   \n",
              "myersmi01NYA2006    0    0   0   0  0.0  62   0.0  5  0.0   0  0.0  AL   \n",
              "helliri01MIL2006    0    0   3   0  0.0  20   0.0  5  0.0   0  0.0  NL   \n",
              "johnsra05NYA2006    0    0   6   0  0.0  33   0.0  5  0.0   0  0.0  AL   \n",
              "\n",
              "                     player  r  rbi   sb   sf   sh   so  stint team  year  \n",
              "womacto01CHN2006  womacto01  6  2.0  1.0  0.0  3.0  4.0      2  CHN  2006  \n",
              "schilcu01BOS2006  schilcu01  0  0.0  0.0  0.0  0.0  1.0      1  BOS  2006  \n",
              "myersmi01NYA2006  myersmi01  0  0.0  0.0  0.0  0.0  0.0      1  NYA  2006  \n",
              "helliri01MIL2006  helliri01  0  0.0  0.0  0.0  0.0  2.0      1  MIL  2006  \n",
              "johnsra05NYA2006  johnsra05  0  0.0  0.0  0.0  0.0  4.0      1  NYA  2006  "
            ]
          },
          "metadata": {
            "tags": []
          },
          "execution_count": 112
        }
      ]
    },
    {
      "cell_type": "markdown",
      "metadata": {
        "id": "eaZBSIJH3yiQ"
      },
      "source": [
        "We can also use `order` to sort a `Series` by value, rather than by label."
      ]
    },
    {
      "cell_type": "markdown",
      "metadata": {
        "id": "8a6i0T01bl4w"
      },
      "source": [
        "*The method is no longer Order but sort_values() which can be used to rearrange the values in the specified order. Here the order is non-ascending.*"
      ]
    },
    {
      "cell_type": "code",
      "metadata": {
        "id": "4FyoW04y3yiQ",
        "colab": {
          "base_uri": "https://localhost:8080/"
        },
        "outputId": "71bebf4f-fbb3-4436-bf5b-63552635255f"
      },
      "source": [
        "baseball.hr.sort_values(ascending=False)"
      ],
      "execution_count": null,
      "outputs": [
        {
          "output_type": "execute_result",
          "data": {
            "text/plain": [
              "id\n",
              "89360    35\n",
              "89462    30\n",
              "89521    28\n",
              "89361    26\n",
              "89378    25\n",
              "         ..\n",
              "89370     0\n",
              "89367     0\n",
              "89469     0\n",
              "89365     0\n",
              "89534     0\n",
              "Name: hr, Length: 100, dtype: int64"
            ]
          },
          "metadata": {
            "tags": []
          },
          "execution_count": 174
        }
      ]
    },
    {
      "cell_type": "markdown",
      "metadata": {
        "id": "K5hDDrVu3yiR"
      },
      "source": [
        "For a `DataFrame`, we can sort according to the values of one or more columns using the `by` argument of `sort_index`:\n",
        "\n",
        "*Instead of sort_index we used the same function as above that is `sort_values`*"
      ]
    },
    {
      "cell_type": "code",
      "metadata": {
        "id": "0vDuH_vR3yiR",
        "colab": {
          "base_uri": "https://localhost:8080/"
        },
        "outputId": "0a5fae6e-5e71-43b6-afcc-3e70f9443692"
      },
      "source": [
        "baseball[['player','sb','cs']].sort_values(ascending=[False,True], by=['sb', 'cs']).head(10)"
      ],
      "execution_count": null,
      "outputs": [
        {
          "output_type": "execute_result",
          "data": {
            "text/plain": [
              "          player    sb   cs\n",
              "id                         \n",
              "89378  sheffga01  22.0  5.0\n",
              "89430  loftoke01  21.0  4.0\n",
              "89347  vizquom01  14.0  6.0\n",
              "89463  greensh01  11.0  1.0\n",
              "88652  finlest01   7.0  0.0\n",
              "89462  griffke02   6.0  1.0\n",
              "89530  ausmubr01   6.0  1.0\n",
              "89466  gonzalu01   6.0  2.0\n",
              "89521  bondsba01   5.0  0.0\n",
              "89438  kleskry01   5.0  1.0"
            ]
          },
          "metadata": {
            "tags": []
          },
          "execution_count": 176
        }
      ]
    },
    {
      "cell_type": "markdown",
      "metadata": {
        "id": "FjUwFeyi3yiR"
      },
      "source": [
        "**Ranking** does not re-arrange data, but instead returns an index that ranks each value relative to others in the Series."
      ]
    },
    {
      "cell_type": "code",
      "metadata": {
        "id": "E_mE933J3yiS",
        "colab": {
          "base_uri": "https://localhost:8080/"
        },
        "outputId": "38c09e17-8fa6-4dca-da31-d61de006791d"
      },
      "source": [
        "baseball.hr.rank()"
      ],
      "execution_count": null,
      "outputs": [
        {
          "output_type": "execute_result",
          "data": {
            "text/plain": [
              "id\n",
              "88641    62.5\n",
              "88643    29.0\n",
              "88645    29.0\n",
              "88649    29.0\n",
              "88650    29.0\n",
              "         ... \n",
              "89525    29.0\n",
              "89526    29.0\n",
              "89530    71.5\n",
              "89533    88.0\n",
              "89534    29.0\n",
              "Name: hr, Length: 100, dtype: float64"
            ]
          },
          "metadata": {
            "tags": []
          },
          "execution_count": 129
        }
      ]
    },
    {
      "cell_type": "markdown",
      "metadata": {
        "id": "0JSQN8l83yiS"
      },
      "source": [
        "Ties are assigned the mean value of the tied ranks, which may result in decimal values."
      ]
    },
    {
      "cell_type": "code",
      "metadata": {
        "id": "BYWvi8-T3yiS",
        "colab": {
          "base_uri": "https://localhost:8080/"
        },
        "outputId": "66b4c240-42a5-487c-de70-2673d1678314"
      },
      "source": [
        "pd.Series([100,100]).rank()"
      ],
      "execution_count": null,
      "outputs": [
        {
          "output_type": "execute_result",
          "data": {
            "text/plain": [
              "0    1.5\n",
              "1    1.5\n",
              "dtype: float64"
            ]
          },
          "metadata": {
            "tags": []
          },
          "execution_count": 130
        }
      ]
    },
    {
      "cell_type": "markdown",
      "metadata": {
        "id": "XOkqwiRO3yiS"
      },
      "source": [
        "Alternatively, you can break ties via one of several methods, such as by the order in which they occur in the dataset:"
      ]
    },
    {
      "cell_type": "code",
      "metadata": {
        "id": "syvm3ui63yiS",
        "colab": {
          "base_uri": "https://localhost:8080/"
        },
        "outputId": "5ebab4af-847c-4820-abf8-548cc6feb1d8"
      },
      "source": [
        "baseball.hr.rank(method='first')"
      ],
      "execution_count": null,
      "outputs": [
        {
          "output_type": "execute_result",
          "data": {
            "text/plain": [
              "id\n",
              "88641    58.0\n",
              "88643     1.0\n",
              "88645     2.0\n",
              "88649     3.0\n",
              "88650     4.0\n",
              "         ... \n",
              "89525    55.0\n",
              "89526    56.0\n",
              "89530    72.0\n",
              "89533    88.0\n",
              "89534    57.0\n",
              "Name: hr, Length: 100, dtype: float64"
            ]
          },
          "metadata": {
            "tags": []
          },
          "execution_count": 131
        }
      ]
    },
    {
      "cell_type": "markdown",
      "metadata": {
        "id": "yCBDYbTB3yiT"
      },
      "source": [
        "Calling the `DataFrame`'s `rank` method results in the ranks of all columns:"
      ]
    },
    {
      "cell_type": "code",
      "metadata": {
        "id": "Z9iMi-oa3yiV",
        "colab": {
          "base_uri": "https://localhost:8080/",
          "height": 257
        },
        "outputId": "877fc3a0-9597-4281-d830-9cdcc448f5c6"
      },
      "source": [
        "baseball.rank(ascending=False).head()"
      ],
      "execution_count": null,
      "outputs": [
        {
          "output_type": "execute_result",
          "data": {
            "text/html": [
              "<div>\n",
              "<style scoped>\n",
              "    .dataframe tbody tr th:only-of-type {\n",
              "        vertical-align: middle;\n",
              "    }\n",
              "\n",
              "    .dataframe tbody tr th {\n",
              "        vertical-align: top;\n",
              "    }\n",
              "\n",
              "    .dataframe thead th {\n",
              "        text-align: right;\n",
              "    }\n",
              "</style>\n",
              "<table border=\"1\" class=\"dataframe\">\n",
              "  <thead>\n",
              "    <tr style=\"text-align: right;\">\n",
              "      <th></th>\n",
              "      <th>player</th>\n",
              "      <th>year</th>\n",
              "      <th>stint</th>\n",
              "      <th>team</th>\n",
              "      <th>lg</th>\n",
              "      <th>g</th>\n",
              "      <th>ab</th>\n",
              "      <th>r</th>\n",
              "      <th>h</th>\n",
              "      <th>X2b</th>\n",
              "      <th>X3b</th>\n",
              "      <th>hr</th>\n",
              "      <th>rbi</th>\n",
              "      <th>sb</th>\n",
              "      <th>cs</th>\n",
              "      <th>bb</th>\n",
              "      <th>so</th>\n",
              "      <th>ibb</th>\n",
              "      <th>hbp</th>\n",
              "      <th>sh</th>\n",
              "      <th>sf</th>\n",
              "      <th>gidp</th>\n",
              "    </tr>\n",
              "    <tr>\n",
              "      <th>id</th>\n",
              "      <th></th>\n",
              "      <th></th>\n",
              "      <th></th>\n",
              "      <th></th>\n",
              "      <th></th>\n",
              "      <th></th>\n",
              "      <th></th>\n",
              "      <th></th>\n",
              "      <th></th>\n",
              "      <th></th>\n",
              "      <th></th>\n",
              "      <th></th>\n",
              "      <th></th>\n",
              "      <th></th>\n",
              "      <th></th>\n",
              "      <th></th>\n",
              "      <th></th>\n",
              "      <th></th>\n",
              "      <th></th>\n",
              "      <th></th>\n",
              "      <th></th>\n",
              "      <th></th>\n",
              "    </tr>\n",
              "  </thead>\n",
              "  <tbody>\n",
              "    <tr>\n",
              "      <th>88641</th>\n",
              "      <td>2.0</td>\n",
              "      <td>96.5</td>\n",
              "      <td>7.0</td>\n",
              "      <td>82.0</td>\n",
              "      <td>31.5</td>\n",
              "      <td>70.0</td>\n",
              "      <td>47.5</td>\n",
              "      <td>40.5</td>\n",
              "      <td>39.0</td>\n",
              "      <td>50.5</td>\n",
              "      <td>63.5</td>\n",
              "      <td>38.5</td>\n",
              "      <td>51.0</td>\n",
              "      <td>24.5</td>\n",
              "      <td>17.5</td>\n",
              "      <td>44.5</td>\n",
              "      <td>59.0</td>\n",
              "      <td>66.0</td>\n",
              "      <td>65.5</td>\n",
              "      <td>16.0</td>\n",
              "      <td>70.0</td>\n",
              "      <td>76.5</td>\n",
              "    </tr>\n",
              "    <tr>\n",
              "      <th>88643</th>\n",
              "      <td>37.5</td>\n",
              "      <td>96.5</td>\n",
              "      <td>57.0</td>\n",
              "      <td>88.0</td>\n",
              "      <td>81.5</td>\n",
              "      <td>55.5</td>\n",
              "      <td>73.0</td>\n",
              "      <td>81.0</td>\n",
              "      <td>63.5</td>\n",
              "      <td>78.0</td>\n",
              "      <td>63.5</td>\n",
              "      <td>72.0</td>\n",
              "      <td>78.5</td>\n",
              "      <td>63.5</td>\n",
              "      <td>62.5</td>\n",
              "      <td>79.0</td>\n",
              "      <td>73.0</td>\n",
              "      <td>66.0</td>\n",
              "      <td>65.5</td>\n",
              "      <td>67.5</td>\n",
              "      <td>70.0</td>\n",
              "      <td>76.5</td>\n",
              "    </tr>\n",
              "    <tr>\n",
              "      <th>88645</th>\n",
              "      <td>47.5</td>\n",
              "      <td>96.5</td>\n",
              "      <td>57.0</td>\n",
              "      <td>40.5</td>\n",
              "      <td>81.5</td>\n",
              "      <td>36.0</td>\n",
              "      <td>91.0</td>\n",
              "      <td>81.0</td>\n",
              "      <td>84.5</td>\n",
              "      <td>78.0</td>\n",
              "      <td>63.5</td>\n",
              "      <td>72.0</td>\n",
              "      <td>78.5</td>\n",
              "      <td>63.5</td>\n",
              "      <td>62.5</td>\n",
              "      <td>79.0</td>\n",
              "      <td>89.0</td>\n",
              "      <td>66.0</td>\n",
              "      <td>65.5</td>\n",
              "      <td>67.5</td>\n",
              "      <td>70.0</td>\n",
              "      <td>76.5</td>\n",
              "    </tr>\n",
              "    <tr>\n",
              "      <th>88649</th>\n",
              "      <td>66.0</td>\n",
              "      <td>96.5</td>\n",
              "      <td>57.0</td>\n",
              "      <td>47.0</td>\n",
              "      <td>31.5</td>\n",
              "      <td>67.5</td>\n",
              "      <td>69.0</td>\n",
              "      <td>81.0</td>\n",
              "      <td>84.5</td>\n",
              "      <td>78.0</td>\n",
              "      <td>63.5</td>\n",
              "      <td>72.0</td>\n",
              "      <td>78.5</td>\n",
              "      <td>63.5</td>\n",
              "      <td>62.5</td>\n",
              "      <td>79.0</td>\n",
              "      <td>67.0</td>\n",
              "      <td>66.0</td>\n",
              "      <td>65.5</td>\n",
              "      <td>67.5</td>\n",
              "      <td>70.0</td>\n",
              "      <td>76.5</td>\n",
              "    </tr>\n",
              "    <tr>\n",
              "      <th>88650</th>\n",
              "      <td>61.5</td>\n",
              "      <td>96.5</td>\n",
              "      <td>57.0</td>\n",
              "      <td>40.5</td>\n",
              "      <td>81.5</td>\n",
              "      <td>51.0</td>\n",
              "      <td>64.5</td>\n",
              "      <td>81.0</td>\n",
              "      <td>63.5</td>\n",
              "      <td>78.0</td>\n",
              "      <td>63.5</td>\n",
              "      <td>72.0</td>\n",
              "      <td>78.5</td>\n",
              "      <td>63.5</td>\n",
              "      <td>62.5</td>\n",
              "      <td>79.0</td>\n",
              "      <td>59.0</td>\n",
              "      <td>66.0</td>\n",
              "      <td>65.5</td>\n",
              "      <td>67.5</td>\n",
              "      <td>70.0</td>\n",
              "      <td>76.5</td>\n",
              "    </tr>\n",
              "  </tbody>\n",
              "</table>\n",
              "</div>"
            ],
            "text/plain": [
              "       player  year  stint  team    lg     g    ab     r     h   X2b   X3b  \\\n",
              "id                                                                           \n",
              "88641     2.0  96.5    7.0  82.0  31.5  70.0  47.5  40.5  39.0  50.5  63.5   \n",
              "88643    37.5  96.5   57.0  88.0  81.5  55.5  73.0  81.0  63.5  78.0  63.5   \n",
              "88645    47.5  96.5   57.0  40.5  81.5  36.0  91.0  81.0  84.5  78.0  63.5   \n",
              "88649    66.0  96.5   57.0  47.0  31.5  67.5  69.0  81.0  84.5  78.0  63.5   \n",
              "88650    61.5  96.5   57.0  40.5  81.5  51.0  64.5  81.0  63.5  78.0  63.5   \n",
              "\n",
              "         hr   rbi    sb    cs    bb    so   ibb   hbp    sh    sf  gidp  \n",
              "id                                                                       \n",
              "88641  38.5  51.0  24.5  17.5  44.5  59.0  66.0  65.5  16.0  70.0  76.5  \n",
              "88643  72.0  78.5  63.5  62.5  79.0  73.0  66.0  65.5  67.5  70.0  76.5  \n",
              "88645  72.0  78.5  63.5  62.5  79.0  89.0  66.0  65.5  67.5  70.0  76.5  \n",
              "88649  72.0  78.5  63.5  62.5  79.0  67.0  66.0  65.5  67.5  70.0  76.5  \n",
              "88650  72.0  78.5  63.5  62.5  79.0  59.0  66.0  65.5  67.5  70.0  76.5  "
            ]
          },
          "metadata": {
            "tags": []
          },
          "execution_count": 132
        }
      ]
    },
    {
      "cell_type": "code",
      "metadata": {
        "id": "5wni3lcp3yiV",
        "colab": {
          "base_uri": "https://localhost:8080/",
          "height": 237
        },
        "outputId": "ac877edc-f91e-4a4c-88dc-a34d325af55e"
      },
      "source": [
        "baseball[['r','h','hr']].rank(ascending=False).head()"
      ],
      "execution_count": null,
      "outputs": [
        {
          "output_type": "execute_result",
          "data": {
            "text/html": [
              "<div>\n",
              "<style scoped>\n",
              "    .dataframe tbody tr th:only-of-type {\n",
              "        vertical-align: middle;\n",
              "    }\n",
              "\n",
              "    .dataframe tbody tr th {\n",
              "        vertical-align: top;\n",
              "    }\n",
              "\n",
              "    .dataframe thead th {\n",
              "        text-align: right;\n",
              "    }\n",
              "</style>\n",
              "<table border=\"1\" class=\"dataframe\">\n",
              "  <thead>\n",
              "    <tr style=\"text-align: right;\">\n",
              "      <th></th>\n",
              "      <th>r</th>\n",
              "      <th>h</th>\n",
              "      <th>hr</th>\n",
              "    </tr>\n",
              "    <tr>\n",
              "      <th>id</th>\n",
              "      <th></th>\n",
              "      <th></th>\n",
              "      <th></th>\n",
              "    </tr>\n",
              "  </thead>\n",
              "  <tbody>\n",
              "    <tr>\n",
              "      <th>88641</th>\n",
              "      <td>40.5</td>\n",
              "      <td>39.0</td>\n",
              "      <td>38.5</td>\n",
              "    </tr>\n",
              "    <tr>\n",
              "      <th>88643</th>\n",
              "      <td>81.0</td>\n",
              "      <td>63.5</td>\n",
              "      <td>72.0</td>\n",
              "    </tr>\n",
              "    <tr>\n",
              "      <th>88645</th>\n",
              "      <td>81.0</td>\n",
              "      <td>84.5</td>\n",
              "      <td>72.0</td>\n",
              "    </tr>\n",
              "    <tr>\n",
              "      <th>88649</th>\n",
              "      <td>81.0</td>\n",
              "      <td>84.5</td>\n",
              "      <td>72.0</td>\n",
              "    </tr>\n",
              "    <tr>\n",
              "      <th>88650</th>\n",
              "      <td>81.0</td>\n",
              "      <td>63.5</td>\n",
              "      <td>72.0</td>\n",
              "    </tr>\n",
              "  </tbody>\n",
              "</table>\n",
              "</div>"
            ],
            "text/plain": [
              "          r     h    hr\n",
              "id                     \n",
              "88641  40.5  39.0  38.5\n",
              "88643  81.0  63.5  72.0\n",
              "88645  81.0  84.5  72.0\n",
              "88649  81.0  84.5  72.0\n",
              "88650  81.0  63.5  72.0"
            ]
          },
          "metadata": {
            "tags": []
          },
          "execution_count": 133
        }
      ]
    },
    {
      "cell_type": "markdown",
      "metadata": {
        "id": "WiyLihMV3yiW"
      },
      "source": [
        "### Exercise\n",
        "\n",
        "Calculate **on base percentage** for each player, and return the ordered series of estimates.\n",
        "\n",
        "$$OBP = \\frac{H + BB + HBP}{AB + BB + HBP + SF}$$"
      ]
    },
    {
      "cell_type": "code",
      "metadata": {
        "id": "TTHdhsiU3yiW",
        "colab": {
          "base_uri": "https://localhost:8080/"
        },
        "outputId": "de4cbcb3-38d6-4804-92a5-d4593409a4a6"
      },
      "source": [
        "((baseball.h + baseball.bb + baseball.hbp) / \n",
        " (baseball.ab + baseball.bb + baseball.hbp + baseball.sf)).sort_values(ascending=False)"
      ],
      "execution_count": null,
      "outputs": [
        {
          "output_type": "execute_result",
          "data": {
            "text/plain": [
              "id\n",
              "88643    0.500000\n",
              "89384    0.500000\n",
              "89497    0.500000\n",
              "89521    0.480084\n",
              "89385    0.411765\n",
              "           ...   \n",
              "89465         NaN\n",
              "89480         NaN\n",
              "89493         NaN\n",
              "89525         NaN\n",
              "89526         NaN\n",
              "Length: 100, dtype: float64"
            ]
          },
          "metadata": {
            "tags": []
          },
          "execution_count": 177
        }
      ]
    },
    {
      "cell_type": "markdown",
      "metadata": {
        "id": "fJ2SUNdo3yiW"
      },
      "source": [
        "## Hierarchical indexing\n",
        "\n",
        "In the baseball example, I was forced to combine 3 fields to obtain a unique index that was not simply an integer value. A more elegant way to have done this would be to create a hierarchical index from the three fields."
      ]
    },
    {
      "cell_type": "code",
      "metadata": {
        "id": "2HYmjKN13yiW",
        "colab": {
          "base_uri": "https://localhost:8080/"
        },
        "outputId": "f6eb742c-85fb-430f-bf02-1410dfc9eb22"
      },
      "source": [
        "baseball_h = baseball.set_index(['year', 'team', 'player'])\n",
        "baseball_h.head(10)"
      ],
      "execution_count": null,
      "outputs": [
        {
          "output_type": "execute_result",
          "data": {
            "text/plain": [
              "                     stint  lg    g   ab   r    h  X2b  X3b  hr   rbi   sb  \\\n",
              "year team player                                                             \n",
              "2006 CHN  womacto01      2  NL   19   50   6   14    1    0   1   2.0  1.0   \n",
              "     BOS  schilcu01      1  AL   31    2   0    1    0    0   0   0.0  0.0   \n",
              "     NYA  myersmi01      1  AL   62    0   0    0    0    0   0   0.0  0.0   \n",
              "     MIL  helliri01      1  NL   20    3   0    0    0    0   0   0.0  0.0   \n",
              "     NYA  johnsra05      1  AL   33    6   0    1    0    0   0   0.0  0.0   \n",
              "     SFN  finlest01      1  NL  139  426  66  105   21   12   6  40.0  7.0   \n",
              "     ARI  gonzalu01      1  NL  153  586  93  159   52    2  15  73.0  0.0   \n",
              "     LAN  seleaa01       1  NL   28   26   2    5    1    0   0   0.0  0.0   \n",
              "2007 ATL  francju01      2  NL   15   40   1   10    3    0   0   8.0  0.0   \n",
              "     NYN  francju01      1  NL   40   50   7   10    0    0   1   8.0  2.0   \n",
              "\n",
              "                      cs  bb    so   ibb  hbp   sh   sf  gidp  \n",
              "year team player                                               \n",
              "2006 CHN  womacto01  1.0   4   4.0   0.0  0.0  3.0  0.0   0.0  \n",
              "     BOS  schilcu01  0.0   0   1.0   0.0  0.0  0.0  0.0   0.0  \n",
              "     NYA  myersmi01  0.0   0   0.0   0.0  0.0  0.0  0.0   0.0  \n",
              "     MIL  helliri01  0.0   0   2.0   0.0  0.0  0.0  0.0   0.0  \n",
              "     NYA  johnsra05  0.0   0   4.0   0.0  0.0  0.0  0.0   0.0  \n",
              "     SFN  finlest01  0.0  46  55.0   2.0  2.0  3.0  4.0   6.0  \n",
              "     ARI  gonzalu01  1.0  69  58.0  10.0  7.0  0.0  6.0  14.0  \n",
              "     LAN  seleaa01   0.0   1   7.0   0.0  0.0  6.0  0.0   1.0  \n",
              "2007 ATL  francju01  0.0   4  10.0   1.0  0.0  0.0  1.0   1.0  \n",
              "     NYN  francju01  1.0  10  13.0   0.0  0.0  0.0  1.0   1.0  "
            ]
          },
          "metadata": {
            "tags": []
          },
          "execution_count": 116
        }
      ]
    },
    {
      "cell_type": "markdown",
      "metadata": {
        "id": "gUnRt5my3yiW"
      },
      "source": [
        "This index is a `MultiIndex` object that consists of a sequence of tuples, the elements of which is some combination of the three columns used to create the index. Where there are multiple repeated values, Pandas does not print the repeats, making it easy to identify groups of values."
      ]
    },
    {
      "cell_type": "code",
      "metadata": {
        "id": "3kfuNuXw3yiX",
        "colab": {
          "base_uri": "https://localhost:8080/"
        },
        "outputId": "8a2a6dba-7956-4428-e5e5-5a5bab150d46"
      },
      "source": [
        "baseball_h.index[:10]"
      ],
      "execution_count": null,
      "outputs": [
        {
          "output_type": "execute_result",
          "data": {
            "text/plain": [
              "MultiIndex([(2006, 'CHN', 'womacto01'),\n",
              "            (2006, 'BOS', 'schilcu01'),\n",
              "            (2006, 'NYA', 'myersmi01'),\n",
              "            (2006, 'MIL', 'helliri01'),\n",
              "            (2006, 'NYA', 'johnsra05'),\n",
              "            (2006, 'SFN', 'finlest01'),\n",
              "            (2006, 'ARI', 'gonzalu01'),\n",
              "            (2006, 'LAN',  'seleaa01'),\n",
              "            (2007, 'ATL', 'francju01'),\n",
              "            (2007, 'NYN', 'francju01')],\n",
              "           names=['year', 'team', 'player'])"
            ]
          },
          "metadata": {
            "tags": []
          },
          "execution_count": 135
        }
      ]
    },
    {
      "cell_type": "code",
      "metadata": {
        "id": "9OHPFup-3yiX",
        "colab": {
          "base_uri": "https://localhost:8080/"
        },
        "outputId": "308b19b6-ac29-4070-bdb8-333d07efce3f"
      },
      "source": [
        "baseball_h.index.is_unique"
      ],
      "execution_count": null,
      "outputs": [
        {
          "output_type": "execute_result",
          "data": {
            "text/plain": [
              "True"
            ]
          },
          "metadata": {
            "tags": []
          },
          "execution_count": 118
        }
      ]
    },
    {
      "cell_type": "code",
      "metadata": {
        "id": "ZwOloXvL3yiX",
        "colab": {
          "base_uri": "https://localhost:8080/"
        },
        "outputId": "a8e2f812-5657-4229-82db-0d6fba6aeded"
      },
      "source": [
        "baseball_h.loc[(2007, 'ATL', 'francju01')]"
      ],
      "execution_count": null,
      "outputs": [
        {
          "output_type": "execute_result",
          "data": {
            "text/plain": [
              "stint     2\n",
              "lg       NL\n",
              "g        15\n",
              "ab       40\n",
              "r         1\n",
              "h        10\n",
              "X2b       3\n",
              "X3b       0\n",
              "hr        0\n",
              "rbi       8\n",
              "sb        0\n",
              "cs        0\n",
              "bb        4\n",
              "so       10\n",
              "ibb       1\n",
              "hbp       0\n",
              "sh        0\n",
              "sf        1\n",
              "gidp      1\n",
              "Name: (2007, ATL, francju01), dtype: object"
            ]
          },
          "metadata": {
            "tags": []
          },
          "execution_count": 117
        }
      ]
    },
    {
      "cell_type": "markdown",
      "metadata": {
        "id": "O1zXSIDO3yiY"
      },
      "source": [
        "Recall earlier we imported some microbiome data using two index columns. This created a 2-level hierarchical index:"
      ]
    },
    {
      "cell_type": "code",
      "metadata": {
        "id": "lVUwHoth3yiY"
      },
      "source": [
        "mb = pd.read_csv(\"microbiome.csv\", index_col=['Taxon','Patient'])"
      ],
      "execution_count": null,
      "outputs": []
    },
    {
      "cell_type": "code",
      "metadata": {
        "id": "o3wuXKHJ3yiY",
        "colab": {
          "base_uri": "https://localhost:8080/"
        },
        "outputId": "4c1419ba-12f6-4cf3-cff7-8bf43eb6d817"
      },
      "source": [
        "mb.head(10)"
      ],
      "execution_count": null,
      "outputs": [
        {
          "output_type": "execute_result",
          "data": {
            "text/plain": [
              "                    Tissue  Stool\n",
              "Taxon      Patient               \n",
              "Firmicutes 1           632    305\n",
              "           2           136   4182\n",
              "           3          1174    703\n",
              "           4           408   3946\n",
              "           5           831   8605\n",
              "           6           693     50\n",
              "           7           718    717\n",
              "           8           173     33\n",
              "           9           228     80\n",
              "           10          162   3196"
            ]
          },
          "metadata": {
            "tags": []
          },
          "execution_count": 120
        }
      ]
    },
    {
      "cell_type": "code",
      "metadata": {
        "id": "XRI7jEXS3yiY",
        "colab": {
          "base_uri": "https://localhost:8080/"
        },
        "outputId": "e36f3d6f-9513-4198-a79c-5f2784684f42"
      },
      "source": [
        "mb.index"
      ],
      "execution_count": null,
      "outputs": [
        {
          "output_type": "execute_result",
          "data": {
            "text/plain": [
              "MultiIndex([(    'Firmicutes',  1),\n",
              "            (    'Firmicutes',  2),\n",
              "            (    'Firmicutes',  3),\n",
              "            (    'Firmicutes',  4),\n",
              "            (    'Firmicutes',  5),\n",
              "            (    'Firmicutes',  6),\n",
              "            (    'Firmicutes',  7),\n",
              "            (    'Firmicutes',  8),\n",
              "            (    'Firmicutes',  9),\n",
              "            (    'Firmicutes', 10),\n",
              "            (    'Firmicutes', 11),\n",
              "            (    'Firmicutes', 12),\n",
              "            (    'Firmicutes', 13),\n",
              "            (    'Firmicutes', 14),\n",
              "            (    'Firmicutes', 15),\n",
              "            ('Proteobacteria',  1),\n",
              "            ('Proteobacteria',  2),\n",
              "            ('Proteobacteria',  3),\n",
              "            ('Proteobacteria',  4),\n",
              "            ('Proteobacteria',  5),\n",
              "            ('Proteobacteria',  6),\n",
              "            ('Proteobacteria',  7),\n",
              "            ('Proteobacteria',  8),\n",
              "            ('Proteobacteria',  9),\n",
              "            ('Proteobacteria', 10),\n",
              "            ('Proteobacteria', 11),\n",
              "            ('Proteobacteria', 12),\n",
              "            ('Proteobacteria', 13),\n",
              "            ('Proteobacteria', 14),\n",
              "            ('Proteobacteria', 15),\n",
              "            ('Actinobacteria',  1),\n",
              "            ('Actinobacteria',  2),\n",
              "            ('Actinobacteria',  3),\n",
              "            ('Actinobacteria',  4),\n",
              "            ('Actinobacteria',  5),\n",
              "            ('Actinobacteria',  6),\n",
              "            ('Actinobacteria',  7),\n",
              "            ('Actinobacteria',  8),\n",
              "            ('Actinobacteria',  9),\n",
              "            ('Actinobacteria', 10),\n",
              "            ('Actinobacteria', 11),\n",
              "            ('Actinobacteria', 12),\n",
              "            ('Actinobacteria', 13),\n",
              "            ('Actinobacteria', 14),\n",
              "            ('Actinobacteria', 15),\n",
              "            ( 'Bacteroidetes',  1),\n",
              "            ( 'Bacteroidetes',  2),\n",
              "            ( 'Bacteroidetes',  3),\n",
              "            ( 'Bacteroidetes',  4),\n",
              "            ( 'Bacteroidetes',  5),\n",
              "            ( 'Bacteroidetes',  6),\n",
              "            ( 'Bacteroidetes',  7),\n",
              "            ( 'Bacteroidetes',  8),\n",
              "            ( 'Bacteroidetes',  9),\n",
              "            ( 'Bacteroidetes', 10),\n",
              "            ( 'Bacteroidetes', 11),\n",
              "            ( 'Bacteroidetes', 12),\n",
              "            ( 'Bacteroidetes', 13),\n",
              "            ( 'Bacteroidetes', 14),\n",
              "            ( 'Bacteroidetes', 15),\n",
              "            (         'Other',  1),\n",
              "            (         'Other',  2),\n",
              "            (         'Other',  3),\n",
              "            (         'Other',  4),\n",
              "            (         'Other',  5),\n",
              "            (         'Other',  6),\n",
              "            (         'Other',  7),\n",
              "            (         'Other',  8),\n",
              "            (         'Other',  9),\n",
              "            (         'Other', 10),\n",
              "            (         'Other', 11),\n",
              "            (         'Other', 12),\n",
              "            (         'Other', 13),\n",
              "            (         'Other', 14),\n",
              "            (         'Other', 15)],\n",
              "           names=['Taxon', 'Patient'])"
            ]
          },
          "metadata": {
            "tags": []
          },
          "execution_count": 121
        }
      ]
    },
    {
      "cell_type": "markdown",
      "metadata": {
        "id": "6kQ3hN713yiY"
      },
      "source": [
        "With a hierachical index, we can select subsets of the data based on a *partial* index:"
      ]
    },
    {
      "cell_type": "code",
      "metadata": {
        "id": "VRuhf9Ga3yiY",
        "colab": {
          "base_uri": "https://localhost:8080/"
        },
        "outputId": "7334d6ee-9299-4b76-f89f-dc1d69fc594c"
      },
      "source": [
        "mb.loc['Proteobacteria']"
      ],
      "execution_count": null,
      "outputs": [
        {
          "output_type": "execute_result",
          "data": {
            "text/plain": [
              "         Tissue  Stool\n",
              "Patient               \n",
              "1          1638   3886\n",
              "2          2469   1821\n",
              "3           839    661\n",
              "4          4414     18\n",
              "5         12044     83\n",
              "6          2310     12\n",
              "7          3053    547\n",
              "8           395   2174\n",
              "9          2651    767\n",
              "10         1195     76\n",
              "11         6857    795\n",
              "12          483    666\n",
              "13         2950   3994\n",
              "14         1541    816\n",
              "15         1307     53"
            ]
          },
          "metadata": {
            "tags": []
          },
          "execution_count": 122
        }
      ]
    },
    {
      "cell_type": "markdown",
      "metadata": {
        "id": "Am3PtOGt3yiY"
      },
      "source": [
        "Hierarchical indices can be created on either or both axes. Here is a trivial example:"
      ]
    },
    {
      "cell_type": "markdown",
      "metadata": {
        "id": "8HLsSB8qdnV3"
      },
      "source": [
        ""
      ]
    },
    {
      "cell_type": "code",
      "metadata": {
        "id": "6veJ83t63yiY",
        "colab": {
          "base_uri": "https://localhost:8080/"
        },
        "outputId": "9a037c55-d9fd-4b83-efe9-3bec77388d56"
      },
      "source": [
        "frame = pd.DataFrame(np.arange(12).reshape(( 4, 3)), \n",
        "                  index =[['a', 'a', 'b', 'b'], [1, 2, 1, 2]], \n",
        "                  columns =[['Ohio', 'Ohio', 'Colorado'], ['Green', 'Red', 'Green']])\n",
        "\n",
        "frame"
      ],
      "execution_count": null,
      "outputs": [
        {
          "output_type": "execute_result",
          "data": {
            "text/plain": [
              "     Ohio     Colorado\n",
              "    Green Red    Green\n",
              "a 1     0   1        2\n",
              "  2     3   4        5\n",
              "b 1     6   7        8\n",
              "  2     9  10       11"
            ]
          },
          "metadata": {
            "tags": []
          },
          "execution_count": 123
        }
      ]
    },
    {
      "cell_type": "markdown",
      "metadata": {
        "id": "sdM2pCTa3yiY"
      },
      "source": [
        "If you want to get fancy, both the row and column indices themselves can be given names:"
      ]
    },
    {
      "cell_type": "code",
      "metadata": {
        "id": "Q7sbDBDa3yiZ",
        "colab": {
          "base_uri": "https://localhost:8080/"
        },
        "outputId": "ef40c20c-dcbd-4008-a792-3d4aaeaa7f2e"
      },
      "source": [
        "frame.index.names = ['key1', 'key2']\n",
        "frame.columns.names = ['state', 'color']\n",
        "frame"
      ],
      "execution_count": null,
      "outputs": [
        {
          "output_type": "execute_result",
          "data": {
            "text/plain": [
              "state      Ohio     Colorado\n",
              "color     Green Red    Green\n",
              "key1 key2                   \n",
              "a    1        0   1        2\n",
              "     2        3   4        5\n",
              "b    1        6   7        8\n",
              "     2        9  10       11"
            ]
          },
          "metadata": {
            "tags": []
          },
          "execution_count": 124
        }
      ]
    },
    {
      "cell_type": "markdown",
      "metadata": {
        "id": "yAtKvxuH3yiZ"
      },
      "source": [
        "With this, we can do all sorts of custom indexing:"
      ]
    },
    {
      "cell_type": "code",
      "metadata": {
        "id": "ZNoksui_3yiZ",
        "colab": {
          "base_uri": "https://localhost:8080/"
        },
        "outputId": "0f8536e2-6fb1-49f1-c264-cab07cb70202"
      },
      "source": [
        "frame.loc['a']['Ohio']"
      ],
      "execution_count": null,
      "outputs": [
        {
          "output_type": "execute_result",
          "data": {
            "text/plain": [
              "color  Green  Red\n",
              "key2             \n",
              "1          0    1\n",
              "2          3    4"
            ]
          },
          "metadata": {
            "tags": []
          },
          "execution_count": 125
        }
      ]
    },
    {
      "cell_type": "code",
      "metadata": {
        "id": "CMDmNNiB3yiZ",
        "colab": {
          "base_uri": "https://localhost:8080/"
        },
        "outputId": "43e00553-3a28-40d9-f295-84a98632ec6a"
      },
      "source": [
        "frame.loc['b', 2]['Colorado']"
      ],
      "execution_count": null,
      "outputs": [
        {
          "output_type": "execute_result",
          "data": {
            "text/plain": [
              "color\n",
              "Green    11\n",
              "Name: (b, 2), dtype: int64"
            ]
          },
          "metadata": {
            "tags": []
          },
          "execution_count": 126
        }
      ]
    },
    {
      "cell_type": "markdown",
      "metadata": {
        "id": "8gC6Cl5K3yiZ"
      },
      "source": [
        "Additionally, the order of the set of indices in a hierarchical `MultiIndex` can be changed by swapping them pairwise:"
      ]
    },
    {
      "cell_type": "code",
      "metadata": {
        "id": "A6I4AZYM3yiZ",
        "colab": {
          "base_uri": "https://localhost:8080/"
        },
        "outputId": "05552489-02c0-4ebd-90fc-5029d0c603c4"
      },
      "source": [
        "mb.swaplevel('Patient', 'Taxon').head()"
      ],
      "execution_count": null,
      "outputs": [
        {
          "output_type": "execute_result",
          "data": {
            "text/plain": [
              "                    Tissue  Stool\n",
              "Patient Taxon                    \n",
              "1       Firmicutes     632    305\n",
              "2       Firmicutes     136   4182\n",
              "3       Firmicutes    1174    703\n",
              "4       Firmicutes     408   3946\n",
              "5       Firmicutes     831   8605"
            ]
          },
          "metadata": {
            "tags": []
          },
          "execution_count": 127
        }
      ]
    },
    {
      "cell_type": "markdown",
      "metadata": {
        "id": "jE2G_mTN3yia"
      },
      "source": [
        "Data can also be sorted by any index level, using `sortlevel`:"
      ]
    },
    {
      "cell_type": "code",
      "metadata": {
        "id": "9J3b2VDX3yib",
        "colab": {
          "base_uri": "https://localhost:8080/"
        },
        "outputId": "1779645b-55e1-4eff-f0ae-058068990635"
      },
      "source": [
        "mb.sort_values('Patient', ascending=False).head()"
      ],
      "execution_count": null,
      "outputs": [
        {
          "output_type": "execute_result",
          "data": {
            "text/plain": [
              "                        Tissue  Stool\n",
              "Taxon          Patient               \n",
              "Other          15          305     32\n",
              "Actinobacteria 15          310    204\n",
              "Proteobacteria 15         1307     53\n",
              "Bacteroidetes  15          102     33\n",
              "Firmicutes     15          281   2377"
            ]
          },
          "metadata": {
            "tags": []
          },
          "execution_count": 182
        }
      ]
    },
    {
      "cell_type": "markdown",
      "metadata": {
        "id": "eYQ7umHS3yib"
      },
      "source": [
        "## Missing data\n",
        "\n",
        "The occurence of missing data is so prevalent that it pays to use tools like Pandas, which seamlessly integrates missing data handling so that it can be dealt with easily, and in the manner required by the analysis at hand.\n",
        "\n",
        "Missing data are represented in `Series` and `DataFrame` objects by the `NaN` floating point value. However, `None` is also treated as missing, since it is commonly used as such in other contexts (*e.g.* NumPy)."
      ]
    },
    {
      "cell_type": "code",
      "metadata": {
        "id": "17Y-X69V3yib",
        "colab": {
          "base_uri": "https://localhost:8080/"
        },
        "outputId": "8e3a8b52-0360-42f2-816f-0234927ffedf"
      },
      "source": [
        "foo = pd.Series(['NaN', -3, None, 'foobar'])\n",
        "foo"
      ],
      "execution_count": null,
      "outputs": [
        {
          "output_type": "execute_result",
          "data": {
            "text/plain": [
              "0       NaN\n",
              "1        -3\n",
              "2      None\n",
              "3    foobar\n",
              "dtype: object"
            ]
          },
          "metadata": {
            "tags": []
          },
          "execution_count": 134
        }
      ]
    },
    {
      "cell_type": "code",
      "metadata": {
        "id": "WQ_HauEc3yib",
        "colab": {
          "base_uri": "https://localhost:8080/"
        },
        "outputId": "050cf744-8d8b-4b04-d2c3-231d83151b62"
      },
      "source": [
        "foo.isnull()"
      ],
      "execution_count": null,
      "outputs": [
        {
          "output_type": "execute_result",
          "data": {
            "text/plain": [
              "0    False\n",
              "1    False\n",
              "2     True\n",
              "3    False\n",
              "dtype: bool"
            ]
          },
          "metadata": {
            "tags": []
          },
          "execution_count": 130
        }
      ]
    },
    {
      "cell_type": "markdown",
      "metadata": {
        "id": "0K9MjGDx3yib"
      },
      "source": [
        "Missing values may be dropped or indexed out:"
      ]
    },
    {
      "cell_type": "code",
      "metadata": {
        "id": "J12YyyQQ3yib",
        "colab": {
          "base_uri": "https://localhost:8080/"
        },
        "outputId": "5776855d-4c67-47e8-8e1b-7b0e9d6d5b31"
      },
      "source": [
        "bacteria2"
      ],
      "execution_count": null,
      "outputs": [
        {
          "output_type": "execute_result",
          "data": {
            "text/plain": [
              "phylum\n",
              "Firmicutes           NaN\n",
              "Proteobacteria     632.0\n",
              "Actinobacteria    1638.0\n",
              "Bacteroidetes      569.0\n",
              "dtype: float64"
            ]
          },
          "metadata": {
            "tags": []
          },
          "execution_count": 135
        }
      ]
    },
    {
      "cell_type": "code",
      "metadata": {
        "id": "9TFJzNs43yib",
        "colab": {
          "base_uri": "https://localhost:8080/"
        },
        "outputId": "1c11c621-1612-43e7-bd9c-03993c830b47"
      },
      "source": [
        "bacteria2.dropna()"
      ],
      "execution_count": null,
      "outputs": [
        {
          "output_type": "execute_result",
          "data": {
            "text/plain": [
              "phylum\n",
              "Proteobacteria     632.0\n",
              "Actinobacteria    1638.0\n",
              "Bacteroidetes      569.0\n",
              "dtype: float64"
            ]
          },
          "metadata": {
            "tags": []
          },
          "execution_count": 136
        }
      ]
    },
    {
      "cell_type": "code",
      "metadata": {
        "id": "zwqyZ-jW3yib",
        "colab": {
          "base_uri": "https://localhost:8080/"
        },
        "outputId": "8e36ea4f-17e2-49e6-e54d-7cbded19fdef"
      },
      "source": [
        "bacteria2[bacteria2.notnull()]"
      ],
      "execution_count": null,
      "outputs": [
        {
          "output_type": "execute_result",
          "data": {
            "text/plain": [
              "phylum\n",
              "Proteobacteria     632.0\n",
              "Actinobacteria    1638.0\n",
              "Bacteroidetes      569.0\n",
              "dtype: float64"
            ]
          },
          "metadata": {
            "tags": []
          },
          "execution_count": 137
        }
      ]
    },
    {
      "cell_type": "markdown",
      "metadata": {
        "id": "eNSGazBi3yib"
      },
      "source": [
        "By default, `dropna` drops entire rows in which one or more values are missing."
      ]
    },
    {
      "cell_type": "code",
      "metadata": {
        "id": "Dyc9JVkW3yib",
        "colab": {
          "base_uri": "https://localhost:8080/"
        },
        "outputId": "12ebb41b-7d60-4fa5-9e33-e7a312efb530"
      },
      "source": [
        "data"
      ],
      "execution_count": null,
      "outputs": [
        {
          "output_type": "execute_result",
          "data": {
            "text/plain": [
              "  patient          phylum value  year  treatment\n",
              "0       1      Firmicutes   632  2013        0.0\n",
              "1       1  Proteobacteria  1638  2013        0.0\n",
              "2       1  Actinobacteria   569  2013        0.0\n",
              "3       1   Bacteroidetes    14  2013        0.0\n",
              "4       2      Firmicutes   433  2013        1.0\n",
              "5       2  Proteobacteria     0  2013        1.0\n",
              "6       2  Actinobacteria   754  2013        NaN\n",
              "7       2   Bacteroidetes   555  2013        NaN"
            ]
          },
          "metadata": {
            "tags": []
          },
          "execution_count": 138
        }
      ]
    },
    {
      "cell_type": "code",
      "metadata": {
        "id": "0ZKNVOOp3yib",
        "colab": {
          "base_uri": "https://localhost:8080/"
        },
        "outputId": "94673dec-a456-4731-e43b-0ae7ab87fa34"
      },
      "source": [
        "data.dropna()"
      ],
      "execution_count": null,
      "outputs": [
        {
          "output_type": "execute_result",
          "data": {
            "text/plain": [
              "  patient          phylum value  year  treatment\n",
              "0       1      Firmicutes   632  2013        0.0\n",
              "1       1  Proteobacteria  1638  2013        0.0\n",
              "2       1  Actinobacteria   569  2013        0.0\n",
              "3       1   Bacteroidetes    14  2013        0.0\n",
              "4       2      Firmicutes   433  2013        1.0\n",
              "5       2  Proteobacteria     0  2013        1.0"
            ]
          },
          "metadata": {
            "tags": []
          },
          "execution_count": 139
        }
      ]
    },
    {
      "cell_type": "markdown",
      "metadata": {
        "id": "kNmI7dsP3yib"
      },
      "source": [
        "This can be overridden by passing the `how='all'` argument, which only drops a row when every field is a missing value."
      ]
    },
    {
      "cell_type": "code",
      "metadata": {
        "id": "H5ME6s1m3yic",
        "colab": {
          "base_uri": "https://localhost:8080/"
        },
        "outputId": "4586a5b5-de3a-47ec-95e3-22fafa0452fa"
      },
      "source": [
        "data.dropna(how='all')"
      ],
      "execution_count": null,
      "outputs": [
        {
          "output_type": "execute_result",
          "data": {
            "text/plain": [
              "  patient          phylum value  year  treatment\n",
              "0       1      Firmicutes   632  2013        0.0\n",
              "1       1  Proteobacteria  1638  2013        0.0\n",
              "2       1  Actinobacteria   569  2013        0.0\n",
              "3       1   Bacteroidetes    14  2013        0.0\n",
              "4       2      Firmicutes   433  2013        1.0\n",
              "5       2  Proteobacteria     0  2013        1.0\n",
              "6       2  Actinobacteria   754  2013        NaN\n",
              "7       2   Bacteroidetes   555  2013        NaN"
            ]
          },
          "metadata": {
            "tags": []
          },
          "execution_count": 140
        }
      ]
    },
    {
      "cell_type": "markdown",
      "metadata": {
        "id": "8RSJCH0V3yic"
      },
      "source": [
        "This can be customized further by specifying how many values need to be present before a row is dropped via the `thresh` argument."
      ]
    },
    {
      "cell_type": "code",
      "metadata": {
        "id": "L_oh9fOB3yir",
        "colab": {
          "base_uri": "https://localhost:8080/"
        },
        "outputId": "38b45608-e77f-4d3c-b046-731a18ae2323"
      },
      "source": [
        "data.loc[7, 'year'] = None\n",
        "data"
      ],
      "execution_count": null,
      "outputs": [
        {
          "output_type": "execute_result",
          "data": {
            "text/plain": [
              "  patient          phylum value    year  treatment\n",
              "0       1      Firmicutes   632  2013.0        0.0\n",
              "1       1  Proteobacteria  1638  2013.0        0.0\n",
              "2       1  Actinobacteria   569  2013.0        0.0\n",
              "3       1   Bacteroidetes    14  2013.0        0.0\n",
              "4       2      Firmicutes   433  2013.0        1.0\n",
              "5       2  Proteobacteria     0  2013.0        1.0\n",
              "6       2  Actinobacteria   754  2013.0        NaN\n",
              "7       2   Bacteroidetes   555     NaN        NaN"
            ]
          },
          "metadata": {
            "tags": []
          },
          "execution_count": 143
        }
      ]
    },
    {
      "cell_type": "code",
      "metadata": {
        "id": "X9m7QQNJ3yir",
        "colab": {
          "base_uri": "https://localhost:8080/"
        },
        "outputId": "afe222cb-59b6-458d-8dac-75bc2999bcb7"
      },
      "source": [
        "data.dropna(thresh=4)"
      ],
      "execution_count": null,
      "outputs": [
        {
          "output_type": "execute_result",
          "data": {
            "text/plain": [
              "  patient          phylum value    year  treatment\n",
              "0       1      Firmicutes   632  2013.0        0.0\n",
              "1       1  Proteobacteria  1638  2013.0        0.0\n",
              "2       1  Actinobacteria   569  2013.0        0.0\n",
              "3       1   Bacteroidetes    14  2013.0        0.0\n",
              "4       2      Firmicutes   433  2013.0        1.0\n",
              "5       2  Proteobacteria     0  2013.0        1.0\n",
              "6       2  Actinobacteria   754  2013.0        NaN"
            ]
          },
          "metadata": {
            "tags": []
          },
          "execution_count": 144
        }
      ]
    },
    {
      "cell_type": "markdown",
      "metadata": {
        "id": "FZz7VCr_3yir"
      },
      "source": [
        "This is typically used in time series applications, where there are repeated measurements that are incomplete for some subjects."
      ]
    },
    {
      "cell_type": "markdown",
      "metadata": {
        "id": "LTkWlor73yir"
      },
      "source": [
        "If we want to drop missing values column-wise instead of row-wise, we use `axis=1`."
      ]
    },
    {
      "cell_type": "code",
      "metadata": {
        "id": "Os11KT9h3yis",
        "colab": {
          "base_uri": "https://localhost:8080/"
        },
        "outputId": "40dd7848-eee7-4cde-ab7c-fc05ab9e4aad"
      },
      "source": [
        "data.dropna(axis=1)"
      ],
      "execution_count": null,
      "outputs": [
        {
          "output_type": "execute_result",
          "data": {
            "text/plain": [
              "  patient          phylum value\n",
              "0       1      Firmicutes   632\n",
              "1       1  Proteobacteria  1638\n",
              "2       1  Actinobacteria   569\n",
              "3       1   Bacteroidetes    14\n",
              "4       2      Firmicutes   433\n",
              "5       2  Proteobacteria     0\n",
              "6       2  Actinobacteria   754\n",
              "7       2   Bacteroidetes   555"
            ]
          },
          "metadata": {
            "tags": []
          },
          "execution_count": 145
        }
      ]
    },
    {
      "cell_type": "markdown",
      "metadata": {
        "id": "6-0Akx6H3yis"
      },
      "source": [
        "Rather than omitting missing data from an analysis, in some cases it may be suitable to fill the missing value in, either with a default value (such as zero) or a value that is either imputed or carried forward/backward from similar data points. We can do this programmatically in Pandas with the `fillna` argument."
      ]
    },
    {
      "cell_type": "code",
      "metadata": {
        "id": "x68rBn2n3yis",
        "colab": {
          "base_uri": "https://localhost:8080/"
        },
        "outputId": "569f0ef5-2b97-49c7-842e-2fc839b1bb32"
      },
      "source": [
        "bacteria2.fillna(0)"
      ],
      "execution_count": null,
      "outputs": [
        {
          "output_type": "execute_result",
          "data": {
            "text/plain": [
              "phylum\n",
              "Firmicutes           0.0\n",
              "Proteobacteria     632.0\n",
              "Actinobacteria    1638.0\n",
              "Bacteroidetes      569.0\n",
              "dtype: float64"
            ]
          },
          "metadata": {
            "tags": []
          },
          "execution_count": 146
        }
      ]
    },
    {
      "cell_type": "code",
      "metadata": {
        "id": "d4nXmeYP3yis",
        "colab": {
          "base_uri": "https://localhost:8080/"
        },
        "outputId": "49fc1a34-2c29-493c-c6b5-93304368e3b1"
      },
      "source": [
        "data.fillna({'year': 2013, 'treatment':2})"
      ],
      "execution_count": null,
      "outputs": [
        {
          "output_type": "execute_result",
          "data": {
            "text/plain": [
              "  patient          phylum value    year  treatment\n",
              "0       1      Firmicutes   632  2013.0        0.0\n",
              "1       1  Proteobacteria  1638  2013.0        0.0\n",
              "2       1  Actinobacteria   569  2013.0        0.0\n",
              "3       1   Bacteroidetes    14  2013.0        0.0\n",
              "4       2      Firmicutes   433  2013.0        1.0\n",
              "5       2  Proteobacteria     0  2013.0        1.0\n",
              "6       2  Actinobacteria   754  2013.0        2.0\n",
              "7       2   Bacteroidetes   555  2013.0        2.0"
            ]
          },
          "metadata": {
            "tags": []
          },
          "execution_count": 147
        }
      ]
    },
    {
      "cell_type": "markdown",
      "metadata": {
        "id": "StQiYr7y3yis"
      },
      "source": [
        "Notice that `fillna` by default returns a new object with the desired filling behavior, rather than changing the `Series` or  `DataFrame` in place (**in general, we like to do this, by the way!**)."
      ]
    },
    {
      "cell_type": "code",
      "metadata": {
        "id": "ih7b-yLL3yis",
        "colab": {
          "base_uri": "https://localhost:8080/"
        },
        "outputId": "620ff731-22d9-4409-a491-97428c8a3b11"
      },
      "source": [
        "data"
      ],
      "execution_count": null,
      "outputs": [
        {
          "output_type": "execute_result",
          "data": {
            "text/plain": [
              "  patient          phylum value    year  treatment\n",
              "0       1      Firmicutes   632  2013.0        0.0\n",
              "1       1  Proteobacteria  1638  2013.0        0.0\n",
              "2       1  Actinobacteria   569  2013.0        0.0\n",
              "3       1   Bacteroidetes    14  2013.0        0.0\n",
              "4       2      Firmicutes   433  2013.0        1.0\n",
              "5       2  Proteobacteria     0  2013.0        1.0\n",
              "6       2  Actinobacteria   754  2013.0        NaN\n",
              "7       2   Bacteroidetes   555     NaN        NaN"
            ]
          },
          "metadata": {
            "tags": []
          },
          "execution_count": 148
        }
      ]
    },
    {
      "cell_type": "markdown",
      "metadata": {
        "id": "MkYubxKq3yit"
      },
      "source": [
        "We can alter values in-place using `inplace=True`."
      ]
    },
    {
      "cell_type": "code",
      "metadata": {
        "id": "p3Mf9HCL3yit",
        "colab": {
          "base_uri": "https://localhost:8080/"
        },
        "outputId": "84c1d7a3-fcf7-4cc9-f883-f96b10fb2e85"
      },
      "source": [
        "_ = data.year.fillna(2013, inplace=True)\n",
        "data"
      ],
      "execution_count": null,
      "outputs": [
        {
          "output_type": "execute_result",
          "data": {
            "text/plain": [
              "  patient          phylum value    year  treatment\n",
              "0       1      Firmicutes   632  2013.0        0.0\n",
              "1       1  Proteobacteria  1638  2013.0        0.0\n",
              "2       1  Actinobacteria   569  2013.0        0.0\n",
              "3       1   Bacteroidetes    14  2013.0        0.0\n",
              "4       2      Firmicutes   433  2013.0        1.0\n",
              "5       2  Proteobacteria     0  2013.0        1.0\n",
              "6       2  Actinobacteria   754  2013.0        NaN\n",
              "7       2   Bacteroidetes   555  2013.0        NaN"
            ]
          },
          "metadata": {
            "tags": []
          },
          "execution_count": 149
        }
      ]
    },
    {
      "cell_type": "markdown",
      "metadata": {
        "id": "OegmnCJw3yit"
      },
      "source": [
        "Missing values can also be interpolated, using any one of a variety of methods:"
      ]
    },
    {
      "cell_type": "code",
      "metadata": {
        "id": "nsZRgYd-3yit",
        "colab": {
          "base_uri": "https://localhost:8080/"
        },
        "outputId": "b9550f81-7279-49ce-f44e-e939e5fd5ae5"
      },
      "source": [
        "bacteria2.fillna(method='bfill')"
      ],
      "execution_count": null,
      "outputs": [
        {
          "output_type": "execute_result",
          "data": {
            "text/plain": [
              "phylum\n",
              "Firmicutes         632.0\n",
              "Proteobacteria     632.0\n",
              "Actinobacteria    1638.0\n",
              "Bacteroidetes      569.0\n",
              "dtype: float64"
            ]
          },
          "metadata": {
            "tags": []
          },
          "execution_count": 150
        }
      ]
    },
    {
      "cell_type": "code",
      "metadata": {
        "id": "O1q8RE7c3yit",
        "colab": {
          "base_uri": "https://localhost:8080/"
        },
        "outputId": "49e4527c-4bca-4741-f931-39cd970f59fd"
      },
      "source": [
        "bacteria2.fillna(bacteria2.mean())"
      ],
      "execution_count": null,
      "outputs": [
        {
          "output_type": "execute_result",
          "data": {
            "text/plain": [
              "phylum\n",
              "Firmicutes         946.333333\n",
              "Proteobacteria     632.000000\n",
              "Actinobacteria    1638.000000\n",
              "Bacteroidetes      569.000000\n",
              "dtype: float64"
            ]
          },
          "metadata": {
            "tags": []
          },
          "execution_count": 151
        }
      ]
    },
    {
      "cell_type": "markdown",
      "metadata": {
        "id": "IEX3I83_3yit"
      },
      "source": [
        "## Data summarization\n",
        "\n",
        "We often wish to summarize data in `Series` or `DataFrame` objects, so that they can more easily be understood or compared with similar data. The NumPy package contains several functions that are useful here, but several summarization or reduction methods are built into Pandas data structures."
      ]
    },
    {
      "cell_type": "code",
      "metadata": {
        "id": "jF4vvhle3yit",
        "colab": {
          "base_uri": "https://localhost:8080/"
        },
        "outputId": "cfa09439-f2cb-4c06-b8a3-058bc70a0530"
      },
      "source": [
        "baseball.sum()"
      ],
      "execution_count": null,
      "outputs": [
        {
          "output_type": "execute_result",
          "data": {
            "text/plain": [
              "player    womacto01schilcu01myersmi01helliri01johnsra05f...\n",
              "year                                                 200692\n",
              "stint                                                   113\n",
              "team      CHNBOSNYAMILNYASFNARILANATLNYNTORTBAHOUARIATLM...\n",
              "lg        NLALALNLALNLNLNLNLNLALALNLNLNLALNLNLNLNLALALNL...\n",
              "                                ...                        \n",
              "ibb                                                     177\n",
              "hbp                                                     112\n",
              "sh                                                      138\n",
              "sf                                                      120\n",
              "gidp                                                    354\n",
              "Length: 22, dtype: object"
            ]
          },
          "metadata": {
            "tags": []
          },
          "execution_count": 152
        }
      ]
    },
    {
      "cell_type": "markdown",
      "metadata": {
        "id": "-tf2p7NC3yiu"
      },
      "source": [
        "Clearly, `sum` is more meaningful for some columns than others. For methods like `mean` for which application to string variables is not just meaningless, but impossible, these columns are automatically exculded:"
      ]
    },
    {
      "cell_type": "code",
      "metadata": {
        "id": "RYkCDijC3yiu",
        "colab": {
          "base_uri": "https://localhost:8080/"
        },
        "outputId": "015b8580-5f36-4c2b-a702-050a3f5880fb"
      },
      "source": [
        "baseball.mean()"
      ],
      "execution_count": null,
      "outputs": [
        {
          "output_type": "execute_result",
          "data": {
            "text/plain": [
              "year     2006.92\n",
              "stint       1.13\n",
              "g          52.38\n",
              "ab        136.54\n",
              "r          18.69\n",
              "h          35.82\n",
              "X2b         7.39\n",
              "X3b         0.55\n",
              "hr          4.37\n",
              "rbi        18.47\n",
              "sb          1.38\n",
              "cs          0.46\n",
              "bb         15.49\n",
              "so         24.08\n",
              "ibb         1.77\n",
              "hbp         1.12\n",
              "sh          1.38\n",
              "sf          1.20\n",
              "gidp        3.54\n",
              "dtype: float64"
            ]
          },
          "metadata": {
            "tags": []
          },
          "execution_count": 153
        }
      ]
    },
    {
      "cell_type": "markdown",
      "metadata": {
        "id": "cYGQrV6w3yiu"
      },
      "source": [
        "The important difference between NumPy's functions and Pandas' methods is that the latter have built-in support for handling missing data."
      ]
    },
    {
      "cell_type": "code",
      "metadata": {
        "id": "Bw03pcRV3yiu",
        "colab": {
          "base_uri": "https://localhost:8080/"
        },
        "outputId": "4e280aef-0596-43ed-c85a-6326c33a6189"
      },
      "source": [
        "bacteria2"
      ],
      "execution_count": null,
      "outputs": [
        {
          "output_type": "execute_result",
          "data": {
            "text/plain": [
              "phylum\n",
              "Firmicutes           NaN\n",
              "Proteobacteria     632.0\n",
              "Actinobacteria    1638.0\n",
              "Bacteroidetes      569.0\n",
              "dtype: float64"
            ]
          },
          "metadata": {
            "tags": []
          },
          "execution_count": 154
        }
      ]
    },
    {
      "cell_type": "code",
      "metadata": {
        "id": "3FiYeLkm3yiu",
        "colab": {
          "base_uri": "https://localhost:8080/"
        },
        "outputId": "2f01366f-4374-4c2f-ccc0-8f4836a93232"
      },
      "source": [
        "bacteria2.mean()"
      ],
      "execution_count": null,
      "outputs": [
        {
          "output_type": "execute_result",
          "data": {
            "text/plain": [
              "946.3333333333334"
            ]
          },
          "metadata": {
            "tags": []
          },
          "execution_count": 155
        }
      ]
    },
    {
      "cell_type": "markdown",
      "metadata": {
        "id": "y9x1lq593yiv"
      },
      "source": [
        "Sometimes we may not want to ignore missing values, and allow the `nan` to propagate."
      ]
    },
    {
      "cell_type": "code",
      "metadata": {
        "id": "RNhY4U_a3yiv",
        "colab": {
          "base_uri": "https://localhost:8080/"
        },
        "outputId": "ac8042ff-4756-4149-c952-5224eeaa8250"
      },
      "source": [
        "bacteria2.mean(skipna=False)"
      ],
      "execution_count": null,
      "outputs": [
        {
          "output_type": "execute_result",
          "data": {
            "text/plain": [
              "nan"
            ]
          },
          "metadata": {
            "tags": []
          },
          "execution_count": 156
        }
      ]
    },
    {
      "cell_type": "markdown",
      "metadata": {
        "id": "Fc7K6vTL3yiv"
      },
      "source": [
        "Passing `axis=1` will summarize over rows instead of columns, which only makes sense in certain situations."
      ]
    },
    {
      "cell_type": "code",
      "metadata": {
        "id": "_QOHSmsd3yiw",
        "colab": {
          "base_uri": "https://localhost:8080/"
        },
        "outputId": "9f942731-efba-4bb8-e73b-c944d177bae8"
      },
      "source": [
        "extra_bases = baseball[['X2b','X3b','hr']].sum(axis=1)\n",
        "extra_bases.sort_values(ascending=False)"
      ],
      "execution_count": null,
      "outputs": [
        {
          "output_type": "execute_result",
          "data": {
            "text/plain": [
              "id\n",
              "88653    69\n",
              "89439    57\n",
              "89361    56\n",
              "89462    55\n",
              "89396    54\n",
              "         ..\n",
              "89355     0\n",
              "89354     0\n",
              "89480     0\n",
              "89348     0\n",
              "89420     0\n",
              "Length: 100, dtype: int64"
            ]
          },
          "metadata": {
            "tags": []
          },
          "execution_count": 183
        }
      ]
    },
    {
      "cell_type": "markdown",
      "metadata": {
        "id": "p7oLwQj63yiw"
      },
      "source": [
        "A useful summarization that gives a quick snapshot of multiple statistics for a `Series` or `DataFrame` is `describe`:"
      ]
    },
    {
      "cell_type": "code",
      "metadata": {
        "id": "_HlA_2yZ3yiw",
        "colab": {
          "base_uri": "https://localhost:8080/"
        },
        "outputId": "4e6ab12b-c3f6-47a8-8ec7-debcffbb76b4"
      },
      "source": [
        "baseball.describe()"
      ],
      "execution_count": null,
      "outputs": [
        {
          "output_type": "execute_result",
          "data": {
            "text/plain": [
              "             year       stint           g          ab          r           h  \\\n",
              "count   100.00000  100.000000  100.000000  100.000000  100.00000  100.000000   \n",
              "mean   2006.92000    1.130000   52.380000  136.540000   18.69000   35.820000   \n",
              "std       0.27266    0.337998   48.031299  181.936853   27.77496   50.221807   \n",
              "min    2006.00000    1.000000    1.000000    0.000000    0.00000    0.000000   \n",
              "25%    2007.00000    1.000000    9.500000    2.000000    0.00000    0.000000   \n",
              "50%    2007.00000    1.000000   33.000000   40.500000    2.00000    8.000000   \n",
              "75%    2007.00000    1.000000   83.250000  243.750000   33.25000   62.750000   \n",
              "max    2007.00000    2.000000  155.000000  586.000000  107.00000  159.000000   \n",
              "\n",
              "              X2b         X3b          hr        rbi          sb          cs  \\\n",
              "count  100.000000  100.000000  100.000000  100.00000  100.000000  100.000000   \n",
              "mean     7.390000    0.550000    4.370000   18.47000    1.380000    0.460000   \n",
              "std     11.117277    1.445124    7.975537   28.34793    3.694878    1.067613   \n",
              "min      0.000000    0.000000    0.000000    0.00000    0.000000    0.000000   \n",
              "25%      0.000000    0.000000    0.000000    0.00000    0.000000    0.000000   \n",
              "50%      1.000000    0.000000    0.000000    2.00000    0.000000    0.000000   \n",
              "75%     11.750000    1.000000    6.000000   27.00000    1.000000    0.000000   \n",
              "max     52.000000   12.000000   35.000000   96.00000   22.000000    6.000000   \n",
              "\n",
              "               bb          so         ibb        hbp          sh          sf  \\\n",
              "count  100.000000  100.000000  100.000000  100.00000  100.000000  100.000000   \n",
              "mean    15.490000   24.080000    1.770000    1.12000    1.380000    1.200000   \n",
              "std     25.812649   32.804496    5.042957    2.23055    2.919042    2.035046   \n",
              "min      0.000000    0.000000    0.000000    0.00000    0.000000    0.000000   \n",
              "25%      0.000000    1.000000    0.000000    0.00000    0.000000    0.000000   \n",
              "50%      1.000000    7.000000    0.000000    0.00000    0.000000    0.000000   \n",
              "75%     19.250000   37.250000    1.250000    1.00000    1.000000    2.000000   \n",
              "max    132.000000  134.000000   43.000000   11.00000   14.000000    9.000000   \n",
              "\n",
              "             gidp  \n",
              "count  100.000000  \n",
              "mean     3.540000  \n",
              "std      5.201826  \n",
              "min      0.000000  \n",
              "25%      0.000000  \n",
              "50%      1.000000  \n",
              "75%      6.000000  \n",
              "max     21.000000  "
            ]
          },
          "metadata": {
            "tags": []
          },
          "execution_count": 158
        }
      ]
    },
    {
      "cell_type": "markdown",
      "metadata": {
        "id": "TDPAH9KL3yiw"
      },
      "source": [
        "`describe` can detect non-numeric data and sometimes yield useful information about it."
      ]
    },
    {
      "cell_type": "code",
      "metadata": {
        "id": "Ldazjh183yiw",
        "colab": {
          "base_uri": "https://localhost:8080/"
        },
        "outputId": "a82e64c8-d775-4435-d10d-f68f1e5086f5"
      },
      "source": [
        "baseball.player.describe()"
      ],
      "execution_count": null,
      "outputs": [
        {
          "output_type": "execute_result",
          "data": {
            "text/plain": [
              "count           100\n",
              "unique           82\n",
              "top       wellsda01\n",
              "freq              2\n",
              "Name: player, dtype: object"
            ]
          },
          "metadata": {
            "tags": []
          },
          "execution_count": 159
        }
      ]
    },
    {
      "cell_type": "markdown",
      "metadata": {
        "id": "yq0wIes83yiw"
      },
      "source": [
        "We can also calculate summary statistics *across* multiple columns, for example, correlation and covariance.\n",
        "\n",
        "$$cov(x,y) = \\sum_i (x_i - \\bar{x})(y_i - \\bar{y})$$"
      ]
    },
    {
      "cell_type": "code",
      "metadata": {
        "id": "ADYx5wWu3yiw",
        "colab": {
          "base_uri": "https://localhost:8080/"
        },
        "outputId": "aaf54be3-71fb-4721-f74e-c33b2b227166"
      },
      "source": [
        "baseball.hr.cov(baseball.X2b)"
      ],
      "execution_count": null,
      "outputs": [
        {
          "output_type": "execute_result",
          "data": {
            "text/plain": [
              "69.07646464646454"
            ]
          },
          "metadata": {
            "tags": []
          },
          "execution_count": 160
        }
      ]
    },
    {
      "cell_type": "markdown",
      "metadata": {
        "id": "MywHZ1pg3yiw"
      },
      "source": [
        "$$corr(x,y) = \\frac{cov(x,y)}{(n-1)s_x s_y} = \\frac{\\sum_i (x_i - \\bar{x})(y_i - \\bar{y})}{\\sqrt{\\sum_i (x_i - \\bar{x})^2 \\sum_i (y_i - \\bar{y})^2}}$$"
      ]
    },
    {
      "cell_type": "code",
      "metadata": {
        "id": "pVzvFFyj3yiw",
        "colab": {
          "base_uri": "https://localhost:8080/"
        },
        "outputId": "1946fa5c-695d-4f73-ea80-94c2f6bd5091"
      },
      "source": [
        "baseball.hr.corr(baseball.X2b)"
      ],
      "execution_count": null,
      "outputs": [
        {
          "output_type": "execute_result",
          "data": {
            "text/plain": [
              "0.7790615182539742"
            ]
          },
          "metadata": {
            "tags": []
          },
          "execution_count": 161
        }
      ]
    },
    {
      "cell_type": "code",
      "metadata": {
        "id": "BrI20q6S3yix",
        "colab": {
          "base_uri": "https://localhost:8080/"
        },
        "outputId": "f2cb3d2b-98a9-4dfc-85c2-d363d24f7ae0"
      },
      "source": [
        "baseball.ab.corr(baseball.h)"
      ],
      "execution_count": null,
      "outputs": [
        {
          "output_type": "execute_result",
          "data": {
            "text/plain": [
              "0.9942174036272377"
            ]
          },
          "metadata": {
            "tags": []
          },
          "execution_count": 162
        }
      ]
    },
    {
      "cell_type": "code",
      "metadata": {
        "id": "wnMsLV1w3yix",
        "colab": {
          "base_uri": "https://localhost:8080/"
        },
        "outputId": "e854db1e-3981-4914-ca5b-887179105d45"
      },
      "source": [
        "baseball.corr()"
      ],
      "execution_count": null,
      "outputs": [
        {
          "output_type": "execute_result",
          "data": {
            "text/plain": [
              "           year     stint         g        ab         r         h       X2b  \\\n",
              "year   1.000000  0.004384 -0.050874 -0.001360 -0.023315  0.001151 -0.052917   \n",
              "stint  0.004384  1.000000 -0.257552 -0.216333 -0.209781 -0.206878 -0.196423   \n",
              "g     -0.050874 -0.257552  1.000000  0.935910  0.910262  0.929292  0.885847   \n",
              "ab    -0.001360 -0.216333  0.935910  1.000000  0.965609  0.994217  0.952249   \n",
              "r     -0.023315 -0.209781  0.910262  0.965609  1.000000  0.970560  0.923508   \n",
              "h      0.001151 -0.206878  0.929292  0.994217  0.970560  1.000000  0.957275   \n",
              "X2b   -0.052917 -0.196423  0.885847  0.952249  0.923508  0.957275  1.000000   \n",
              "X3b   -0.246099 -0.085821  0.518663  0.535986  0.500807  0.514245  0.493267   \n",
              "hr     0.060199 -0.209124  0.802014  0.843308  0.890060  0.855163  0.779062   \n",
              "rbi    0.042812 -0.205688  0.891563  0.947911  0.941483  0.952320  0.901751   \n",
              "sb     0.030480 -0.120837  0.492362  0.533536  0.596343  0.530018  0.413655   \n",
              "cs     0.058296 -0.055425  0.520923  0.577192  0.576454  0.571629  0.477487   \n",
              "bb     0.005626 -0.190301  0.828572  0.850803  0.915010  0.853384  0.780012   \n",
              "so     0.069610 -0.214121  0.866499  0.923926  0.879375  0.906966  0.862149   \n",
              "ibb    0.015868 -0.118580  0.514423  0.506398  0.588882  0.513009  0.453301   \n",
              "hbp   -0.000664 -0.195074  0.730161  0.767210  0.806523  0.767449  0.738226   \n",
              "sh    -0.012184 -0.091527  0.079361  0.094537 -0.001273  0.045533  0.005659   \n",
              "sf    -0.007282 -0.155662  0.767543  0.840361  0.839592  0.839737  0.819361   \n",
              "gidp   0.052131 -0.224173  0.863041  0.926632  0.894724  0.935525  0.906860   \n",
              "\n",
              "            X3b        hr       rbi        sb        cs        bb        so  \\\n",
              "year  -0.246099  0.060199  0.042812  0.030480  0.058296  0.005626  0.069610   \n",
              "stint -0.085821 -0.209124 -0.205688 -0.120837 -0.055425 -0.190301 -0.214121   \n",
              "g      0.518663  0.802014  0.891563  0.492362  0.520923  0.828572  0.866499   \n",
              "ab     0.535986  0.843308  0.947911  0.533536  0.577192  0.850803  0.923926   \n",
              "r      0.500807  0.890060  0.941483  0.596343  0.576454  0.915010  0.879375   \n",
              "h      0.514245  0.855163  0.952320  0.530018  0.571629  0.853384  0.906966   \n",
              "X2b    0.493267  0.779062  0.901751  0.413655  0.477487  0.780012  0.862149   \n",
              "X3b    1.000000  0.210028  0.369890  0.450421  0.384312  0.350682  0.408800   \n",
              "hr     0.210028  1.000000  0.948787  0.364346  0.345187  0.916774  0.865929   \n",
              "rbi    0.369890  0.948787  1.000000  0.394633  0.435011  0.893945  0.929410   \n",
              "sb     0.450421  0.364346  0.394633  1.000000  0.743921  0.491351  0.365841   \n",
              "cs     0.384312  0.345187  0.435011  0.743921  1.000000  0.425352  0.426658   \n",
              "bb     0.350682  0.916774  0.893945  0.491351  0.425352  1.000000  0.795751   \n",
              "so     0.408800  0.865929  0.929410  0.365841  0.426658  0.795751  1.000000   \n",
              "ibb    0.090993  0.673691  0.582982  0.209110  0.106152  0.792057  0.476613   \n",
              "hbp    0.217474  0.767411  0.780899  0.413570  0.337129  0.742118  0.742547   \n",
              "sh     0.187012 -0.145374 -0.054670  0.171910  0.293397 -0.044992  0.073624   \n",
              "sf     0.394987  0.782038  0.855260  0.412947  0.422146  0.760932  0.782314   \n",
              "gidp   0.411577  0.798350  0.906908  0.431198  0.456820  0.823631  0.846629   \n",
              "\n",
              "            ibb       hbp        sh        sf      gidp  \n",
              "year   0.015868 -0.000664 -0.012184 -0.007282  0.052131  \n",
              "stint -0.118580 -0.195074 -0.091527 -0.155662 -0.224173  \n",
              "g      0.514423  0.730161  0.079361  0.767543  0.863041  \n",
              "ab     0.506398  0.767210  0.094537  0.840361  0.926632  \n",
              "r      0.588882  0.806523 -0.001273  0.839592  0.894724  \n",
              "h      0.513009  0.767449  0.045533  0.839737  0.935525  \n",
              "X2b    0.453301  0.738226  0.005659  0.819361  0.906860  \n",
              "X3b    0.090993  0.217474  0.187012  0.394987  0.411577  \n",
              "hr     0.673691  0.767411 -0.145374  0.782038  0.798350  \n",
              "rbi    0.582982  0.780899 -0.054670  0.855260  0.906908  \n",
              "sb     0.209110  0.413570  0.171910  0.412947  0.431198  \n",
              "cs     0.106152  0.337129  0.293397  0.422146  0.456820  \n",
              "bb     0.792057  0.742118 -0.044992  0.760932  0.823631  \n",
              "so     0.476613  0.742547  0.073624  0.782314  0.846629  \n",
              "ibb    1.000000  0.431714 -0.075658  0.451377  0.572355  \n",
              "hbp    0.431714  1.000000 -0.104810  0.648882  0.700380  \n",
              "sh    -0.075658 -0.104810  1.000000 -0.002721  0.028924  \n",
              "sf     0.451377  0.648882 -0.002721  1.000000  0.785489  \n",
              "gidp   0.572355  0.700380  0.028924  0.785489  1.000000  "
            ]
          },
          "metadata": {
            "tags": []
          },
          "execution_count": 163
        }
      ]
    },
    {
      "cell_type": "markdown",
      "metadata": {
        "id": "9klQD3ny3yix"
      },
      "source": [
        "If we have a `DataFrame` with a hierarchical index (or indices), summary statistics can be applied with respect to any of the index levels:"
      ]
    },
    {
      "cell_type": "code",
      "metadata": {
        "id": "8ZSxeMQF3yix",
        "colab": {
          "base_uri": "https://localhost:8080/"
        },
        "outputId": "3d491e65-ecff-4f78-bd89-1cae319d2b59"
      },
      "source": [
        "mb.head()"
      ],
      "execution_count": null,
      "outputs": [
        {
          "output_type": "execute_result",
          "data": {
            "text/plain": [
              "                    Tissue  Stool\n",
              "Taxon      Patient               \n",
              "Firmicutes 1           632    305\n",
              "           2           136   4182\n",
              "           3          1174    703\n",
              "           4           408   3946\n",
              "           5           831   8605"
            ]
          },
          "metadata": {
            "tags": []
          },
          "execution_count": 164
        }
      ]
    },
    {
      "cell_type": "code",
      "metadata": {
        "id": "wLqhmX6y3yiy",
        "colab": {
          "base_uri": "https://localhost:8080/"
        },
        "outputId": "03250ec3-bb61-4e7f-95c6-4bab75fc2f0b"
      },
      "source": [
        "mb.sum(level='Taxon')"
      ],
      "execution_count": null,
      "outputs": [
        {
          "output_type": "execute_result",
          "data": {
            "text/plain": [
              "                Tissue  Stool\n",
              "Taxon                        \n",
              "Firmicutes       10266  30477\n",
              "Proteobacteria   44146  16369\n",
              "Actinobacteria    6736   2263\n",
              "Bacteroidetes     8995   4656\n",
              "Other             2982    519"
            ]
          },
          "metadata": {
            "tags": []
          },
          "execution_count": 165
        }
      ]
    },
    {
      "cell_type": "markdown",
      "metadata": {
        "id": "o1EbqtX53yiy"
      },
      "source": [
        "## Writing Data to Files\n",
        "\n",
        "As well as being able to read several data input formats, Pandas can also export data to a variety of storage formats. We will bring your attention to just a couple of these."
      ]
    },
    {
      "cell_type": "code",
      "metadata": {
        "id": "w8DjFoJ-3yiy"
      },
      "source": [
        "mb.to_csv(\"mb.csv\")"
      ],
      "execution_count": null,
      "outputs": []
    },
    {
      "cell_type": "markdown",
      "metadata": {
        "id": "nT4_1WIY3yiy"
      },
      "source": [
        "The `to_csv` method writes a `DataFrame` to a comma-separated values (csv) file. You can specify custom delimiters (via `sep` argument), how missing values are written (via `na_rep` argument), whether the index is writen (via `index` argument), whether the header is included (via `header` argument), among other options."
      ]
    },
    {
      "cell_type": "markdown",
      "metadata": {
        "id": "0aoLpRm_3yiz"
      },
      "source": [
        "An efficient way of storing data to disk is in binary format. Pandas supports this using Python’s built-in pickle serialization."
      ]
    },
    {
      "cell_type": "code",
      "metadata": {
        "id": "stnQG_t93yiz"
      },
      "source": [
        "baseball.to_pickle(\"baseball_pickle\")"
      ],
      "execution_count": null,
      "outputs": []
    },
    {
      "cell_type": "markdown",
      "metadata": {
        "id": "nVFWHyW93yiz"
      },
      "source": [
        "The complement to `to_pickle` is the `read_pickle` function, which restores the pickle to a `DataFrame` or `Series`:"
      ]
    },
    {
      "cell_type": "code",
      "metadata": {
        "id": "kM_14_J53yiz",
        "colab": {
          "base_uri": "https://localhost:8080/"
        },
        "outputId": "e178d05e-f16f-45c1-a3be-6c96fe54e5d7"
      },
      "source": [
        "pd.read_pickle(\"baseball_pickle\")"
      ],
      "execution_count": null,
      "outputs": [
        {
          "output_type": "execute_result",
          "data": {
            "text/plain": [
              "          player  year  stint team  lg    g   ab   r    h  X2b  X3b  hr   rbi  \\\n",
              "id                                                                              \n",
              "88641  womacto01  2006      2  CHN  NL   19   50   6   14    1    0   1   2.0   \n",
              "88643  schilcu01  2006      1  BOS  AL   31    2   0    1    0    0   0   0.0   \n",
              "88645  myersmi01  2006      1  NYA  AL   62    0   0    0    0    0   0   0.0   \n",
              "88649  helliri01  2006      1  MIL  NL   20    3   0    0    0    0   0   0.0   \n",
              "88650  johnsra05  2006      1  NYA  AL   33    6   0    1    0    0   0   0.0   \n",
              "...          ...   ...    ...  ...  ..  ...  ...  ..  ...  ...  ...  ..   ...   \n",
              "89525  benitar01  2007      2  FLO  NL   34    0   0    0    0    0   0   0.0   \n",
              "89526  benitar01  2007      1  SFN  NL   19    0   0    0    0    0   0   0.0   \n",
              "89530  ausmubr01  2007      1  HOU  NL  117  349  38   82   16    3   3  25.0   \n",
              "89533   aloumo01  2007      1  NYN  NL   87  328  51  112   19    1  13  49.0   \n",
              "89534  alomasa02  2007      1  NYN  NL    8   22   1    3    1    0   0   0.0   \n",
              "\n",
              "        sb   cs  bb    so  ibb  hbp   sh   sf  gidp  \n",
              "id                                                   \n",
              "88641  1.0  1.0   4   4.0  0.0  0.0  3.0  0.0   0.0  \n",
              "88643  0.0  0.0   0   1.0  0.0  0.0  0.0  0.0   0.0  \n",
              "88645  0.0  0.0   0   0.0  0.0  0.0  0.0  0.0   0.0  \n",
              "88649  0.0  0.0   0   2.0  0.0  0.0  0.0  0.0   0.0  \n",
              "88650  0.0  0.0   0   4.0  0.0  0.0  0.0  0.0   0.0  \n",
              "...    ...  ...  ..   ...  ...  ...  ...  ...   ...  \n",
              "89525  0.0  0.0   0   0.0  0.0  0.0  0.0  0.0   0.0  \n",
              "89526  0.0  0.0   0   0.0  0.0  0.0  0.0  0.0   0.0  \n",
              "89530  6.0  1.0  37  74.0  3.0  6.0  4.0  1.0  11.0  \n",
              "89533  3.0  0.0  27  30.0  5.0  2.0  0.0  3.0  13.0  \n",
              "89534  0.0  0.0   0   3.0  0.0  0.0  0.0  0.0   0.0  \n",
              "\n",
              "[100 rows x 22 columns]"
            ]
          },
          "metadata": {
            "tags": []
          },
          "execution_count": 168
        }
      ]
    },
    {
      "cell_type": "markdown",
      "metadata": {
        "id": "SSZ1VmNn3yiz"
      },
      "source": [
        "As Wes warns in his book, it is recommended that binary storage of data via pickle only be used as a temporary storage format, in situations where speed is relevant. This is because there is no guarantee that the pickle format will not change with future versions of Python."
      ]
    }
  ]
}